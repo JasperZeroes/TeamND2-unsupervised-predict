{
 "cells": [
  {
   "cell_type": "markdown",
   "id": "d21d231d",
   "metadata": {
    "ExecuteTime": {
     "end_time": "2021-06-11T09:24:53.643384Z",
     "start_time": "2021-06-11T09:24:53.622385Z"
    }
   },
   "source": [
    "# Unsupervised Learning Predict Solution\n",
    "\n",
    "© Explore Data Science Academy\n",
    "\n",
    "---\n",
    "### Honour Code\n",
    "\n",
    "We, {**TEAM_ND2**}, confirm - by submitting this document - that the solutions in this notebook are a result of our own work as a Team and that we abide by the [EDSA honour code](https://drive.google.com/file/d/1QDCjGZJ8-FmJE3bZdIQNwnJyQKPhHZBn/view?usp=sharing).\n",
    "\n",
    "Non-compliance with the honour code constitutes a material breach of contract.\n"
   ]
  },
  {
   "cell_type": "markdown",
   "id": "4f8c691d",
   "metadata": {},
   "source": [
    "## Executive Summary\n",
    "----\n",
    "\n",
    "The main goal of this project is to predict movie ratings using the MovieLens(10M) dataset, which contains the ratings of several movies given by various users. In this project, we start with importing, followed by cleaning and preparing the data for analysis. Later, we explore the dataset to find any valuable patterns. Next, we test models to try and predict the ratings given by a specific user to a specific movie. The train set is divided into a training set (training) and a testing set (testing). The training set is used to build the model and the testing set is used to perform intermediate evaluations of the model. The validation set is not used to train the algorithm. The validation set is used only for the final RMSE evaluation. The metrics used to evaluate the models is Root Mean Square Error(RMSE) as per project guidelines. We have obtained rmse of apprximately 0.864 for the best model.\n"
   ]
  },
  {
   "cell_type": "markdown",
   "id": "35a16e2e",
   "metadata": {},
   "source": [
    "## Aim of the project\n",
    "----\n",
    "\n",
    "The goal of this project is to train a machine learning algorithm that predicts user ratings (on a scale of 0.5 to 5 stars) using the MovieLens dataset split into training and validation sets to train on and predict movie ratings the validation set.\n",
    "\n",
    "The measure used to evaluate the algorithm’s performance is the Root Mean Square Error or RMSE. RMSE is one of the most used measures of the differences between values predicted by a model and the observed values. RMSE is a measure of correctness; to compare forecasting errors of different models for a particular dataset, a lower RMSE is better than a higher one. The effect of each error on RMSE is proportional to the size of the squared error; Hence, more substantial errors have a disproportionately large effect on RMSE. Consequently, RMSE is sensitive to outliers.\n",
    "\n",
    "The function that computes the RMSE for vectors of ratings and their corresponding predictors will be the following:\n",
    "\n",
    "     \\[ RMSE = \\sqrt{\\frac{1}{N}\\displaystyle\\sum_{u,i} (\\hat{y}_{u,i}-y_{u,i})^{2}} \\]\n",
    "\n",
    "    "
   ]
  },
  {
   "cell_type": "markdown",
   "id": "f33a4703",
   "metadata": {},
   "source": [
    "## Project Introduction\n",
    "----\n",
    "> *Fun-Fact: I started my Explorer journey, after an ad I watched, on YouTube, about ExploreAi Academy. I have, a couple of times in the past, searched about Data related content and coming across that ad, was like a prayer answered. I said \"Wow! Indeed God sees and reads the heart and mind of men.\" \n",
    "Working on this project with my team, I now know better. The \"God\" who read my mind was YouTube's Recommenders system ... (Chima)*\n",
    "\n",
    "\n",
    "Personalization.\n",
    "\n",
    "The Holy Grail of the Internet.\n",
    "\n",
    "Gone are the days when anonymous shoppers browsed generic stock for an elusive item. Today, anyone can serve customers unlimited, personalized offers tailored to their interests.With all the options online, you need a system that narrows down the possibilities. Something that learns what people like. *That’s where recommender systems come into play.*\n",
    "\n",
    "The largest movie libraries in the world are all digitized and transferred to online streaming services, like Netflix, HBO, or YouTube. Enhanced with AI-powered tools, these platforms can now assist us with probably the most difficult chore of all — picking a movie.\n",
    "\n",
    "> Did you know that almost 80% of Netflix users follow the title recommendations offered by its algorithms ?\n",
    "\n",
    " A movie recommendation system, or a movie recommender system, is an ML-based approach to filtering or predicting the users’ film preferences based on their past choices and behavior. It’s an advanced filtration mechanism that predicts the possible movie choices of the concerned user and their preferences towards a domain-specific item. Filtering for Recommenders system can either be Collaborative based, content based or a hybrid which implements both.\n",
    " \n",
    " \n",
    "<img src=\"https://imgs.search.brave.com/6z-A4dgupg9g-pVZkJM2OKR0WLD-AVLxSJgX73_Bf0s/rs:fit:1024:655:1/g:ce/aHR0cHM6Ly9uZW90/ZXJpYy5ldS93cC1j/b250ZW50L3VwbG9h/ZHMvMjAxOS8wOC9O/ZXRmbGl4LVJlY29t/bWVuZGF0aW9ucy0x/MDI0eDY1NS5qcGc\" width=\"700\">\n",
    "\n",
    "\n",
    "With Recommendation systems;\n",
    "* You do not need a market research to find out whether a customer is willing to purchase at a shop where they’re getting maximum help in scouting the right product. They’re also much more likely to return to such a shop in the future.\n",
    "\n",
    "* Customer satisfaction leads to customer retention.\n",
    "When customers leaves a website and come back later, it would help if their browsing data from the previous session was available. This could further help and guide their e-Commerce activities. This type of customer satisfaction leads to customer retention.\n",
    "\n",
    "* We often take recommendations from friends and family because we trust their opinion. They know what we like better than anyone else. This is the sole reason they are good at recommending things and this is what recommendation systems try to model. \n",
    "\n",
    "\n",
    "In this project, we try to implement a Movie Recommendation system, using both collaborative and content based approach. \n",
    "\n",
    "\n",
    "### Data Sources\n",
    "----\n",
    "\n",
    "Datasets used consist of several million 5-star ratings obtained from users of the online MovieLens movie recommendation service. The MovieLens dataset has long been used by industry and academic researchers to improve the performance of explicitly-based recommender systems.\n",
    "\n",
    "For this Predict project, we'll be using a special version of the MovieLens dataset which has been enriched with additional data, and resampled for fair evaluation purposes.\n",
    "\n",
    "The data for the MovieLens dataset is maintained by the GroupLens research group in the Department of Computer Science and Engineering at the University of Minnesota. Additional movie content data was legally scraped from IMDB."
   ]
  },
  {
   "cell_type": "markdown",
   "id": "b2d13fe3",
   "metadata": {},
   "source": [
    "## Problem Statement\n",
    "\n",
    "---\n",
    "The goal of this project is to develop a movies recommendation system for companies to use in order to improve their customer engagement and increase revenue. The system will be based on the data provided by the company, which includes information about movie Ids, user Ids, ratings, genres, timestamps, and movie titles. The system will use this data to generate personalized movie recommendations for users based on their viewing history and preferences.\n",
    "\n",
    "The problem that this project aims to solve is that traditional movie recommendation systems often rely on a fixed set of rules or pre-determined criteria, which may not take into account the individual preferences of the users. This can lead to less accurate or relevant recommendations, which can negatively impact customer engagement and ultimately result in lost revenue for the company. By developing a more personalized and accurate recommendation system, the project aims to improve customer engagement and increase revenue for the company.\n",
    "\n",
    "The objectives of this project are as follows:\n",
    "\n",
    "* To analyze the provided movie data and identify patterns and trends that can be used to generate more accurate and personalized movie recommendations for users.\n",
    "\n",
    "* To develop a recommendation system that takes into account the individual preferences of the users and generates personalized movie recommendations based on the data provided by the company.\n",
    "\n",
    "* To evaluate the performance of the developed recommendation system and make improvements as necessary to ensure that it is accurate and effective in generating relevant recommendations for users.\n",
    "\n",
    "* To make recommendations for the company to improve the effectiveness of their movie recommendations and increase customer engagement and revenue.\n",
    "\n",
    "The proposed solution will involve techniques from data preprocessing, data analysis, and machine learning, such as data cleaning, feature engineering, clustering, and collaborative filtering to build a recommendation system. Additionally, the system will be evaluated using metrics such as accuracy, precision, recall, F1 score and AUC-ROC curve.\n",
    "\n",
    "By successfully completing this project, the company will have a more effective recommendation system that can improve customer engagement and increase revenue. The project will also provide valuable insights and recommendations for the company to improve their movie recommendations and overall customer experience."
   ]
  },
  {
   "cell_type": "markdown",
   "id": "89c3128a",
   "metadata": {},
   "source": [
    "<a id=\"cont\"></a>\n",
    "\n",
    "## Project Pipeline\n",
    "---\n",
    "\n",
    "> The various steps involved in this project are :\n",
    "\n",
    "<a href=#zero>0. Create a connection to comet_ml </a>\n",
    "\n",
    "<a href=#one>1. Import Necessary Dependencies </a>\n",
    "\n",
    "<a href=#two>2. Loading Data </a>\n",
    "\n",
    "<a href=#three>3. Exploratory Data Analysis (EDA)</a>\n",
    "\n",
    "<a href=#four>4. Data Visualization of Target Variables </a>\n",
    "\n",
    "<a href=#five>5. Data Preprocessing and Engineering</a> \n",
    "\n",
    "<a href=#six>6. Transforming Dataset using TF-IDF Vectorizer </a>\n",
    "\n",
    "<a href=#seven>7. Splitting our data into ratings and Test Subset </a>\n",
    "\n",
    "<a href=#eight>8. Model Building </a>\n",
    "\n",
    "<a href=#nine>9. Model Performance</a>\n",
    "\n",
    "<a href=#ten>10. Model Explanations</a>\n",
    "\n",
    "<a href=#eleven>11. Logging Params on Comet </a>\n",
    "\n",
    "<a href=#twelve>12. Pickling of models and vectorizer </a>\n",
    "\n",
    "<a href=#thirteen>13. Conclusion </a>\n",
    "\n",
    "<a href=#fourteen>14. Reference </a>\n"
   ]
  },
  {
   "cell_type": "markdown",
   "id": "efe01b91",
   "metadata": {},
   "source": [
    " <a id=\"zero\"></a>\n",
    "##  0. Create a connection to comet_ml\n",
    "<a class=\"anchor\" id=\"1.1\"></a>\n",
    "<a href=#cont>Back to Project Pipeline</a>"
   ]
  },
  {
   "cell_type": "code",
   "execution_count": 85,
   "id": "b5a3b102",
   "metadata": {
    "execution": {
     "iopub.execute_input": "2023-01-25T04:52:38.459505Z",
     "iopub.status.busy": "2023-01-25T04:52:38.459046Z",
     "iopub.status.idle": "2023-01-25T04:52:41.321876Z",
     "shell.execute_reply": "2023-01-25T04:52:41.320455Z",
     "shell.execute_reply.started": "2023-01-25T04:52:38.459464Z"
    }
   },
   "outputs": [
    {
     "name": "stderr",
     "output_type": "stream",
     "text": [
      "COMET WARNING: As you are running in a Jupyter environment, you will need to call `experiment.end()` when finished to ensure all metrics and code are logged before exiting.\n",
      "COMET INFO: Experiment is live on comet.com https://www.comet.com/jasperzeroes/movie-recommendation-system/85a8a1d0a2774d13b14a6ca1dc1ec578\n",
      "\n"
     ]
    }
   ],
   "source": [
    "# import comet_ml at the top of your file\n",
    "from comet_ml import Experiment\n",
    "\n",
    "# Create an experiment with your api key\n",
    "experiment = Experiment(\n",
    "    api_key=\"AwtbkJsBi9bHzgoEZ5WfBb2AA\",\n",
    "    project_name=\"movie-recommendation-system\",\n",
    "    workspace=\"jasperzeroes\",\n",
    ")"
   ]
  },
  {
   "cell_type": "markdown",
   "id": "04df70e1",
   "metadata": {},
   "source": [
    " <a id=\"one\"></a>\n",
    "## 1. Importing Necessary Dependencies\n",
    "<a class=\"anchor\" id=\"1.1\"></a>\n",
    "<a href=#cont>Back to Project Pipeline</a>"
   ]
  },
  {
   "cell_type": "code",
   "execution_count": 1,
   "id": "cc9bd446",
   "metadata": {
    "ExecuteTime": {
     "end_time": "2021-06-23T10:30:53.800892Z",
     "start_time": "2021-06-23T10:30:50.215449Z"
    },
    "execution": {
     "iopub.execute_input": "2023-01-25T10:04:32.144359Z",
     "iopub.status.busy": "2023-01-25T10:04:32.143855Z",
     "iopub.status.idle": "2023-01-25T10:04:33.554221Z",
     "shell.execute_reply": "2023-01-25T10:04:33.552874Z",
     "shell.execute_reply.started": "2023-01-25T10:04:32.144321Z"
    }
   },
   "outputs": [],
   "source": [
    "# Libraries for data loading, data manipulation and data visualisation\n",
    "import pandas as pd\n",
    "import numpy as np\n",
    "import matplotlib.pyplot as plt\n",
    "%matplotlib inline\n",
    "import seaborn as sns\n",
    "from scipy import stats\n",
    "\n",
    "# Libraries for Natural Language Processing\n",
    "import nltk\n",
    "from nltk.corpus import stopwords\n",
    "\n",
    "# Libraries for data preparation and model building\n",
    "import csv\n",
    "import surprise\n",
    "from surprise import Dataset, Reader\n",
    "from surprise.model_selection import train_test_split\n",
    "from sklearn.feature_extraction.text import CountVectorizer\n",
    "from sklearn.metrics.pairwise import cosine_similarity\n",
    "from sklearn.feature_extraction.text import TfidfVectorizer\n",
    "\n",
    "# Libraries for Model Performance and Evaluation\n",
    "from surprise import Dataset, Reader\n",
    "from surprise.model_selection import KFold, GridSearchCV, cross_validate\n",
    "from surprise import BaselineOnly, NormalPredictor\n",
    "from surprise import KNNBasic, KNNWithMeans, KNNWithZScore\n",
    "from surprise import SVD, SVDpp, accuracy\n",
    "\n",
    "#Library to pickle a model\n",
    "import pickle\n",
    "\n",
    "# Surpress warnings\n",
    "import warnings\n",
    "warnings.filterwarnings('ignore')\n"
   ]
  },
  {
   "cell_type": "markdown",
   "id": "76a2fc68",
   "metadata": {},
   "source": [
    "<a id=\"two\"></a>\n",
    "## 2. Loading the Data\n",
    "<a class=\"anchor\" id=\"1.1\"></a>\n",
    "<a href=#cont>Back to Project Pipeline</a>\n",
    "\n",
    "\n",
    "Load necessary csv files containing data\n",
    "\n",
    "> We are provided with the following datasets namely;\n",
    "\n",
    "\n",
    "* **movies.csv** - Contain movie information such as movieId, movie title and genre.\n",
    "\n",
    "* **ratings.csv** - The ratingsing split of the dataset. Contains user and movie IDs with associated ratings and Timestamps. Ratings are made on a 5-star scale, with half-star increments (0.5 stars - 5.0 stars).Timestamps represent seconds since midnight Coordinated Universal Time (UTC) of January 1, 1970. \n",
    "\n",
    "* **test.csv** - The test split of the dataset. Contains user and movie IDs with no rating data and will be used to make the final prediction, on Kaggle, to see how well the models perform on unseen data.\n",
    "\n",
    "* **imdb_data.csv** -\n",
    "\n",
    "\n",
    "\n",
    "\n",
    "---"
   ]
  },
  {
   "cell_type": "code",
   "execution_count": 2,
   "id": "69e5726a",
   "metadata": {
    "ExecuteTime": {
     "end_time": "2021-06-28T08:49:35.311495Z",
     "start_time": "2021-06-28T08:49:35.295494Z"
    },
    "execution": {
     "iopub.execute_input": "2023-01-25T05:22:47.981102Z",
     "iopub.status.busy": "2023-01-25T05:22:47.980685Z",
     "iopub.status.idle": "2023-01-25T05:22:48.766129Z",
     "shell.execute_reply": "2023-01-25T05:22:48.764882Z",
     "shell.execute_reply.started": "2023-01-25T05:22:47.981062Z"
    }
   },
   "outputs": [],
   "source": [
    "# Load and view structure of the datasets\n",
    "movies = pd.read_csv('resources/data/movies.csv')\n",
    "#ratings_df = pd.read_csv('resources/data/ratings_lit.csv')\n",
    "ratings = pd.read_csv('resources/data/train.csv')\n",
    "imdb = pd.read_csv('resources/data/imdb_data.csv')\n",
    "test = pd.read_csv('resources/data/test.csv')\n",
    "\n",
    "\n",
    "#movies = pd.read_csv('/kaggle/input/edsa-movie-recommendation-predict/movies.csv')\n",
    "#ratings = pd.read_csv('resources/data/ratings_lit.csv')\n",
    "#ratings = pd.read_csv('/kaggle/input/edsa-movie-recommendation-predict/train.csv')\n",
    "#test = pd.read_csv('/kaggle/input/edsa-movie-recommendation-predict/test.csv')"
   ]
  },
  {
   "cell_type": "code",
   "execution_count": 3,
   "id": "6037b5e3",
   "metadata": {},
   "outputs": [
    {
     "data": {
      "text/html": [
       "<div>\n",
       "<style scoped>\n",
       "    .dataframe tbody tr th:only-of-type {\n",
       "        vertical-align: middle;\n",
       "    }\n",
       "\n",
       "    .dataframe tbody tr th {\n",
       "        vertical-align: top;\n",
       "    }\n",
       "\n",
       "    .dataframe thead th {\n",
       "        text-align: right;\n",
       "    }\n",
       "</style>\n",
       "<table border=\"1\" class=\"dataframe\">\n",
       "  <thead>\n",
       "    <tr style=\"text-align: right;\">\n",
       "      <th></th>\n",
       "      <th>movieId</th>\n",
       "      <th>title</th>\n",
       "      <th>genres</th>\n",
       "    </tr>\n",
       "  </thead>\n",
       "  <tbody>\n",
       "    <tr>\n",
       "      <th>0</th>\n",
       "      <td>1</td>\n",
       "      <td>Toy Story (1995)</td>\n",
       "      <td>Adventure|Animation|Children|Comedy|Fantasy</td>\n",
       "    </tr>\n",
       "    <tr>\n",
       "      <th>1</th>\n",
       "      <td>2</td>\n",
       "      <td>Jumanji (1995)</td>\n",
       "      <td>Adventure|Children|Fantasy</td>\n",
       "    </tr>\n",
       "    <tr>\n",
       "      <th>2</th>\n",
       "      <td>3</td>\n",
       "      <td>Grumpier Old Men (1995)</td>\n",
       "      <td>Comedy|Romance</td>\n",
       "    </tr>\n",
       "    <tr>\n",
       "      <th>3</th>\n",
       "      <td>4</td>\n",
       "      <td>Waiting to Exhale (1995)</td>\n",
       "      <td>Comedy|Drama|Romance</td>\n",
       "    </tr>\n",
       "    <tr>\n",
       "      <th>4</th>\n",
       "      <td>5</td>\n",
       "      <td>Father of the Bride Part II (1995)</td>\n",
       "      <td>Comedy</td>\n",
       "    </tr>\n",
       "  </tbody>\n",
       "</table>\n",
       "</div>"
      ],
      "text/plain": [
       "   movieId                               title  \\\n",
       "0        1                    Toy Story (1995)   \n",
       "1        2                      Jumanji (1995)   \n",
       "2        3             Grumpier Old Men (1995)   \n",
       "3        4            Waiting to Exhale (1995)   \n",
       "4        5  Father of the Bride Part II (1995)   \n",
       "\n",
       "                                        genres  \n",
       "0  Adventure|Animation|Children|Comedy|Fantasy  \n",
       "1                   Adventure|Children|Fantasy  \n",
       "2                               Comedy|Romance  \n",
       "3                         Comedy|Drama|Romance  \n",
       "4                                       Comedy  "
      ]
     },
     "execution_count": 3,
     "metadata": {},
     "output_type": "execute_result"
    }
   ],
   "source": [
    "movies.head()"
   ]
  },
  {
   "cell_type": "markdown",
   "id": "69722f8f",
   "metadata": {},
   "source": [
    "* The \"genres column\" of the movies dataset contains special characters (vertical lines). Also, words in the 'title and genres columns' begin with uppercase letters. The objectives will be to remove these special characters that would otherwise consume computational resources as well as converting all our words to lowercase letters in the **Data Preprocessing section** of this notebook."
   ]
  },
  {
   "cell_type": "code",
   "execution_count": 4,
   "id": "c699deed",
   "metadata": {},
   "outputs": [
    {
     "data": {
      "text/html": [
       "<div>\n",
       "<style scoped>\n",
       "    .dataframe tbody tr th:only-of-type {\n",
       "        vertical-align: middle;\n",
       "    }\n",
       "\n",
       "    .dataframe tbody tr th {\n",
       "        vertical-align: top;\n",
       "    }\n",
       "\n",
       "    .dataframe thead th {\n",
       "        text-align: right;\n",
       "    }\n",
       "</style>\n",
       "<table border=\"1\" class=\"dataframe\">\n",
       "  <thead>\n",
       "    <tr style=\"text-align: right;\">\n",
       "      <th></th>\n",
       "      <th>userId</th>\n",
       "      <th>movieId</th>\n",
       "      <th>rating</th>\n",
       "      <th>timestamp</th>\n",
       "    </tr>\n",
       "  </thead>\n",
       "  <tbody>\n",
       "    <tr>\n",
       "      <th>0</th>\n",
       "      <td>5163</td>\n",
       "      <td>57669</td>\n",
       "      <td>4.0</td>\n",
       "      <td>1518349992</td>\n",
       "    </tr>\n",
       "    <tr>\n",
       "      <th>1</th>\n",
       "      <td>106343</td>\n",
       "      <td>5</td>\n",
       "      <td>4.5</td>\n",
       "      <td>1206238739</td>\n",
       "    </tr>\n",
       "    <tr>\n",
       "      <th>2</th>\n",
       "      <td>146790</td>\n",
       "      <td>5459</td>\n",
       "      <td>5.0</td>\n",
       "      <td>1076215539</td>\n",
       "    </tr>\n",
       "    <tr>\n",
       "      <th>3</th>\n",
       "      <td>106362</td>\n",
       "      <td>32296</td>\n",
       "      <td>2.0</td>\n",
       "      <td>1423042565</td>\n",
       "    </tr>\n",
       "    <tr>\n",
       "      <th>4</th>\n",
       "      <td>9041</td>\n",
       "      <td>366</td>\n",
       "      <td>3.0</td>\n",
       "      <td>833375837</td>\n",
       "    </tr>\n",
       "  </tbody>\n",
       "</table>\n",
       "</div>"
      ],
      "text/plain": [
       "   userId  movieId  rating   timestamp\n",
       "0    5163    57669     4.0  1518349992\n",
       "1  106343        5     4.5  1206238739\n",
       "2  146790     5459     5.0  1076215539\n",
       "3  106362    32296     2.0  1423042565\n",
       "4    9041      366     3.0   833375837"
      ]
     },
     "execution_count": 4,
     "metadata": {},
     "output_type": "execute_result"
    }
   ],
   "source": [
    "ratings.head()"
   ]
  },
  {
   "cell_type": "markdown",
   "id": "7e05295c",
   "metadata": {},
   "source": [
    "* The \"timestamp column\" of the ratings dataframe is not represented as datetime datatype. The objectives will be to the appropriate datatype that would help understand the data better."
   ]
  },
  {
   "cell_type": "code",
   "execution_count": 5,
   "id": "75d16761",
   "metadata": {},
   "outputs": [
    {
     "data": {
      "text/html": [
       "<div>\n",
       "<style scoped>\n",
       "    .dataframe tbody tr th:only-of-type {\n",
       "        vertical-align: middle;\n",
       "    }\n",
       "\n",
       "    .dataframe tbody tr th {\n",
       "        vertical-align: top;\n",
       "    }\n",
       "\n",
       "    .dataframe thead th {\n",
       "        text-align: right;\n",
       "    }\n",
       "</style>\n",
       "<table border=\"1\" class=\"dataframe\">\n",
       "  <thead>\n",
       "    <tr style=\"text-align: right;\">\n",
       "      <th></th>\n",
       "      <th>movieId</th>\n",
       "      <th>title_cast</th>\n",
       "      <th>director</th>\n",
       "      <th>runtime</th>\n",
       "      <th>budget</th>\n",
       "      <th>plot_keywords</th>\n",
       "    </tr>\n",
       "  </thead>\n",
       "  <tbody>\n",
       "    <tr>\n",
       "      <th>0</th>\n",
       "      <td>1</td>\n",
       "      <td>Tom Hanks|Tim Allen|Don Rickles|Jim Varney|Wal...</td>\n",
       "      <td>John Lasseter</td>\n",
       "      <td>81.0</td>\n",
       "      <td>$30,000,000</td>\n",
       "      <td>toy|rivalry|cowboy|cgi animation</td>\n",
       "    </tr>\n",
       "    <tr>\n",
       "      <th>1</th>\n",
       "      <td>2</td>\n",
       "      <td>Robin Williams|Jonathan Hyde|Kirsten Dunst|Bra...</td>\n",
       "      <td>Jonathan Hensleigh</td>\n",
       "      <td>104.0</td>\n",
       "      <td>$65,000,000</td>\n",
       "      <td>board game|adventurer|fight|game</td>\n",
       "    </tr>\n",
       "    <tr>\n",
       "      <th>2</th>\n",
       "      <td>3</td>\n",
       "      <td>Walter Matthau|Jack Lemmon|Sophia Loren|Ann-Ma...</td>\n",
       "      <td>Mark Steven Johnson</td>\n",
       "      <td>101.0</td>\n",
       "      <td>$25,000,000</td>\n",
       "      <td>boat|lake|neighbor|rivalry</td>\n",
       "    </tr>\n",
       "    <tr>\n",
       "      <th>3</th>\n",
       "      <td>4</td>\n",
       "      <td>Whitney Houston|Angela Bassett|Loretta Devine|...</td>\n",
       "      <td>Terry McMillan</td>\n",
       "      <td>124.0</td>\n",
       "      <td>$16,000,000</td>\n",
       "      <td>black american|husband wife relationship|betra...</td>\n",
       "    </tr>\n",
       "    <tr>\n",
       "      <th>4</th>\n",
       "      <td>5</td>\n",
       "      <td>Steve Martin|Diane Keaton|Martin Short|Kimberl...</td>\n",
       "      <td>Albert Hackett</td>\n",
       "      <td>106.0</td>\n",
       "      <td>$30,000,000</td>\n",
       "      <td>fatherhood|doberman|dog|mansion</td>\n",
       "    </tr>\n",
       "  </tbody>\n",
       "</table>\n",
       "</div>"
      ],
      "text/plain": [
       "   movieId                                         title_cast  \\\n",
       "0        1  Tom Hanks|Tim Allen|Don Rickles|Jim Varney|Wal...   \n",
       "1        2  Robin Williams|Jonathan Hyde|Kirsten Dunst|Bra...   \n",
       "2        3  Walter Matthau|Jack Lemmon|Sophia Loren|Ann-Ma...   \n",
       "3        4  Whitney Houston|Angela Bassett|Loretta Devine|...   \n",
       "4        5  Steve Martin|Diane Keaton|Martin Short|Kimberl...   \n",
       "\n",
       "              director  runtime       budget  \\\n",
       "0        John Lasseter     81.0  $30,000,000   \n",
       "1   Jonathan Hensleigh    104.0  $65,000,000   \n",
       "2  Mark Steven Johnson    101.0  $25,000,000   \n",
       "3       Terry McMillan    124.0  $16,000,000   \n",
       "4       Albert Hackett    106.0  $30,000,000   \n",
       "\n",
       "                                       plot_keywords  \n",
       "0                   toy|rivalry|cowboy|cgi animation  \n",
       "1                   board game|adventurer|fight|game  \n",
       "2                         boat|lake|neighbor|rivalry  \n",
       "3  black american|husband wife relationship|betra...  \n",
       "4                    fatherhood|doberman|dog|mansion  "
      ]
     },
     "execution_count": 5,
     "metadata": {},
     "output_type": "execute_result"
    }
   ],
   "source": [
    "imdb.head()"
   ]
  },
  {
   "cell_type": "markdown",
   "id": "1aecdcdd",
   "metadata": {},
   "source": [
    "* The \"title_cast and genres column\" of imdb dataset contains special characters (vertical lines). Also, words contain uppercase letters. The objectives will be to remove these special characters that would otherwise consume computational resources as well as converting all our words to lowercase letters in the **Data Preprocessing section** of this notebook."
   ]
  },
  {
   "cell_type": "code",
   "execution_count": 6,
   "id": "490a8757",
   "metadata": {
    "execution": {
     "iopub.execute_input": "2023-01-25T05:14:09.381164Z",
     "iopub.status.busy": "2023-01-25T05:14:09.380778Z",
     "iopub.status.idle": "2023-01-25T05:14:09.393412Z",
     "shell.execute_reply": "2023-01-25T05:14:09.392047Z",
     "shell.execute_reply.started": "2023-01-25T05:14:09.381130Z"
    }
   },
   "outputs": [
    {
     "data": {
      "text/html": [
       "<div>\n",
       "<style scoped>\n",
       "    .dataframe tbody tr th:only-of-type {\n",
       "        vertical-align: middle;\n",
       "    }\n",
       "\n",
       "    .dataframe tbody tr th {\n",
       "        vertical-align: top;\n",
       "    }\n",
       "\n",
       "    .dataframe thead th {\n",
       "        text-align: right;\n",
       "    }\n",
       "</style>\n",
       "<table border=\"1\" class=\"dataframe\">\n",
       "  <thead>\n",
       "    <tr style=\"text-align: right;\">\n",
       "      <th></th>\n",
       "      <th>userId</th>\n",
       "      <th>movieId</th>\n",
       "    </tr>\n",
       "  </thead>\n",
       "  <tbody>\n",
       "    <tr>\n",
       "      <th>0</th>\n",
       "      <td>1</td>\n",
       "      <td>2011</td>\n",
       "    </tr>\n",
       "    <tr>\n",
       "      <th>1</th>\n",
       "      <td>1</td>\n",
       "      <td>4144</td>\n",
       "    </tr>\n",
       "    <tr>\n",
       "      <th>2</th>\n",
       "      <td>1</td>\n",
       "      <td>5767</td>\n",
       "    </tr>\n",
       "    <tr>\n",
       "      <th>3</th>\n",
       "      <td>1</td>\n",
       "      <td>6711</td>\n",
       "    </tr>\n",
       "    <tr>\n",
       "      <th>4</th>\n",
       "      <td>1</td>\n",
       "      <td>7318</td>\n",
       "    </tr>\n",
       "  </tbody>\n",
       "</table>\n",
       "</div>"
      ],
      "text/plain": [
       "   userId  movieId\n",
       "0       1     2011\n",
       "1       1     4144\n",
       "2       1     5767\n",
       "3       1     6711\n",
       "4       1     7318"
      ]
     },
     "execution_count": 6,
     "metadata": {},
     "output_type": "execute_result"
    }
   ],
   "source": [
    "test.head()"
   ]
  },
  {
   "cell_type": "markdown",
   "id": "c5828825",
   "metadata": {},
   "source": [
    "* The test dataset does not contain any ratings. We are to make predicted ratings and recommend movies to users."
   ]
  },
  {
   "cell_type": "markdown",
   "id": "87411503",
   "metadata": {},
   "source": [
    "<a id=\"three\"></a>\n",
    "## 3. Exploratory Data Analysis (EDA)\n",
    "<a class=\"anchor\" id=\"1.1\"></a>\n",
    "<a href=#cont>Back to Project Pipeline</a>\n",
    "\n",
    "\n",
    "<img src=\"https://imgs.search.brave.com/nPNv6ju12upBCEiinjTg9aZQLyPKzZTkpHewmoo0aI8/rs:fit:750:360:1/g:ce/aHR0cHM6Ly93d3cu/YW5hbHl0aWNzc3Rl/cHMuY29tL2JhY2tl/bmQvbWVkaWEvdGh1/bWJuYWlsLzMxNTc5/NzcvODAwNjU1MV8x/NTg3MzI0Njk2X2Rh/dGElMjBhbmFseXNp/cy5qcGc\" width=\"400\">\n",
    "\n",
    "\n",
    "\n",
    "> In this section,  data sets will be analyzed to find patterns, tell insights, and summarize their main characteristics, often with visual methods and an in-depth analysis of all the variables in the DataFrame. This helps for seeing what the data can tell us beyond the formal modeling or hypothesis testing task.\n"
   ]
  },
  {
   "cell_type": "code",
   "execution_count": 7,
   "id": "e60e41ed",
   "metadata": {},
   "outputs": [
    {
     "data": {
      "text/plain": [
       "(62423, 3)"
      ]
     },
     "execution_count": 7,
     "metadata": {},
     "output_type": "execute_result"
    }
   ],
   "source": [
    "# Check dimension\n",
    "# movies\n",
    "movies.shape"
   ]
  },
  {
   "cell_type": "markdown",
   "id": "7b13ea34",
   "metadata": {},
   "source": [
    "* There are about 62,000 row counts and 3 columns in the movie dataset"
   ]
  },
  {
   "cell_type": "code",
   "execution_count": 8,
   "id": "9ca16706",
   "metadata": {},
   "outputs": [
    {
     "data": {
      "text/plain": [
       "movieId    0\n",
       "title      0\n",
       "genres     0\n",
       "dtype: int64"
      ]
     },
     "execution_count": 8,
     "metadata": {},
     "output_type": "execute_result"
    }
   ],
   "source": [
    "# Check for nulls\n",
    "movies.isnull().sum()"
   ]
  },
  {
   "cell_type": "markdown",
   "id": "ba322ac0",
   "metadata": {},
   "source": [
    "* There are no null values in the movie dataset"
   ]
  },
  {
   "cell_type": "code",
   "execution_count": 9,
   "id": "cc715771",
   "metadata": {},
   "outputs": [
    {
     "data": {
      "text/plain": [
       "0"
      ]
     },
     "execution_count": 9,
     "metadata": {},
     "output_type": "execute_result"
    }
   ],
   "source": [
    "# Check for duplicates in each column of the movie dataset\n",
    "# movie Id\n",
    "movies[\"movieId\"].duplicated().sum()"
   ]
  },
  {
   "cell_type": "markdown",
   "id": "af938282",
   "metadata": {},
   "source": [
    "There are no duplicate movieId"
   ]
  },
  {
   "cell_type": "code",
   "execution_count": 10,
   "id": "04397660",
   "metadata": {},
   "outputs": [
    {
     "data": {
      "text/plain": [
       "98"
      ]
     },
     "execution_count": 10,
     "metadata": {},
     "output_type": "execute_result"
    }
   ],
   "source": [
    "# title\n",
    "movies[\"title\"].duplicated().sum()"
   ]
  },
  {
   "cell_type": "markdown",
   "id": "f83e7889",
   "metadata": {},
   "source": [
    "* There exist duplicates in movie titles, we need to drop the duplicate titles with their movieId"
   ]
  },
  {
   "cell_type": "code",
   "execution_count": 11,
   "id": "3fa96b6e",
   "metadata": {},
   "outputs": [
    {
     "data": {
      "text/plain": [
       "(10000038, 4)"
      ]
     },
     "execution_count": 11,
     "metadata": {},
     "output_type": "execute_result"
    }
   ],
   "source": [
    "# ratings\n",
    "ratings.shape"
   ]
  },
  {
   "cell_type": "markdown",
   "id": "df33436a",
   "metadata": {},
   "source": [
    "* There are about 10 million row counts and 4 columns in the ratings dataset"
   ]
  },
  {
   "cell_type": "code",
   "execution_count": 12,
   "id": "5ebf2055",
   "metadata": {},
   "outputs": [
    {
     "data": {
      "text/plain": [
       "userId       0\n",
       "movieId      0\n",
       "rating       0\n",
       "timestamp    0\n",
       "dtype: int64"
      ]
     },
     "execution_count": 12,
     "metadata": {},
     "output_type": "execute_result"
    }
   ],
   "source": [
    "# Check for nulls\n",
    "ratings.isnull().sum()"
   ]
  },
  {
   "cell_type": "markdown",
   "id": "110613ed",
   "metadata": {},
   "source": [
    "* There are no null values in the ratings dataset"
   ]
  },
  {
   "cell_type": "code",
   "execution_count": 15,
   "id": "ed4e2bfe",
   "metadata": {},
   "outputs": [
    {
     "data": {
      "text/plain": [
       "0"
      ]
     },
     "execution_count": 15,
     "metadata": {},
     "output_type": "execute_result"
    }
   ],
   "source": [
    "# Check for duplicates\n",
    "ratings.duplicated().sum()"
   ]
  },
  {
   "cell_type": "markdown",
   "id": "cfaf88c8",
   "metadata": {},
   "source": [
    "* There are no duplicates in the ratings dataset"
   ]
  },
  {
   "cell_type": "code",
   "execution_count": 13,
   "id": "fcefea5f",
   "metadata": {},
   "outputs": [
    {
     "data": {
      "text/plain": [
       "dtype('int64')"
      ]
     },
     "execution_count": 13,
     "metadata": {},
     "output_type": "execute_result"
    }
   ],
   "source": [
    "# Check datatype for timestamp\n",
    "ratings['timestamp'].dtype"
   ]
  },
  {
   "cell_type": "markdown",
   "id": "41690ce3",
   "metadata": {},
   "source": [
    "* Timestamp datatype is given as int64. Convert to datetime datatype in the Data preprocessing section of this notebook"
   ]
  },
  {
   "cell_type": "code",
   "execution_count": 12,
   "id": "54c1a5bb",
   "metadata": {},
   "outputs": [
    {
     "data": {
      "text/plain": [
       "(27278, 6)"
      ]
     },
     "execution_count": 12,
     "metadata": {},
     "output_type": "execute_result"
    }
   ],
   "source": [
    "# imdb\n",
    "imdb.shape"
   ]
  },
  {
   "cell_type": "markdown",
   "id": "11b4845f",
   "metadata": {},
   "source": [
    "* There are about 27000 row counts and 6 columns in the imdb dataset"
   ]
  },
  {
   "cell_type": "code",
   "execution_count": 13,
   "id": "36fbc0a0",
   "metadata": {},
   "outputs": [
    {
     "data": {
      "text/plain": [
       "movieId              0\n",
       "title_cast       10068\n",
       "director          9874\n",
       "runtime          12089\n",
       "budget           19372\n",
       "plot_keywords    11078\n",
       "dtype: int64"
      ]
     },
     "execution_count": 13,
     "metadata": {},
     "output_type": "execute_result"
    }
   ],
   "source": [
    "# check for nulls\n",
    "imdb.isnull().sum()"
   ]
  },
  {
   "cell_type": "markdown",
   "id": "a702dac6",
   "metadata": {},
   "source": [
    "* As can be seen, there are null values present in 5 out of the 6 columns or features. The NaNs will be filled appropriately using either the mean or median of the columns where necessary during data imputation"
   ]
  },
  {
   "cell_type": "code",
   "execution_count": 7,
   "id": "73c0fefb",
   "metadata": {},
   "outputs": [
    {
     "data": {
      "text/plain": [
       "0"
      ]
     },
     "execution_count": 7,
     "metadata": {},
     "output_type": "execute_result"
    }
   ],
   "source": [
    "# Check for duplicates\n",
    "imdb.duplicated().sum()"
   ]
  },
  {
   "cell_type": "markdown",
   "id": "cff2c031",
   "metadata": {},
   "source": [
    "* There are also no duplicates."
   ]
  },
  {
   "cell_type": "markdown",
   "id": "800e3d14",
   "metadata": {},
   "source": [
    "### Merge the 3 datasets together to have a robust view of the dataframes once"
   ]
  },
  {
   "cell_type": "markdown",
   "id": "ab836d13",
   "metadata": {},
   "source": [
    "* The \"how\" parameter specifies the type of join to use. In this case, we used 'inner' join, which will  include only the rows that have matching values in both tables. If you want to include all rows from all tables, you can use 'outer' join."
   ]
  },
  {
   "cell_type": "code",
   "execution_count": 30,
   "id": "3f583f8b",
   "metadata": {},
   "outputs": [],
   "source": [
    "# Merge the three dataframes\n",
    "merged_df = pd.merge(pd.merge(movies, ratings, on='movieId', how='inner'), \n",
    "                     imdb, on='movieId', how='inner')"
   ]
  },
  {
   "cell_type": "code",
   "execution_count": 31,
   "id": "4fe55f28",
   "metadata": {},
   "outputs": [
    {
     "data": {
      "text/html": [
       "<div>\n",
       "<style scoped>\n",
       "    .dataframe tbody tr th:only-of-type {\n",
       "        vertical-align: middle;\n",
       "    }\n",
       "\n",
       "    .dataframe tbody tr th {\n",
       "        vertical-align: top;\n",
       "    }\n",
       "\n",
       "    .dataframe thead th {\n",
       "        text-align: right;\n",
       "    }\n",
       "</style>\n",
       "<table border=\"1\" class=\"dataframe\">\n",
       "  <thead>\n",
       "    <tr style=\"text-align: right;\">\n",
       "      <th></th>\n",
       "      <th>movieId</th>\n",
       "      <th>title</th>\n",
       "      <th>genres</th>\n",
       "      <th>release_year</th>\n",
       "      <th>userId</th>\n",
       "      <th>rating</th>\n",
       "      <th>timestamp</th>\n",
       "      <th>title_cast</th>\n",
       "      <th>director</th>\n",
       "      <th>runtime</th>\n",
       "      <th>budget</th>\n",
       "      <th>plot_keywords</th>\n",
       "    </tr>\n",
       "  </thead>\n",
       "  <tbody>\n",
       "    <tr>\n",
       "      <th>0</th>\n",
       "      <td>1</td>\n",
       "      <td>Toy Story (1995)</td>\n",
       "      <td>Adventure|Animation|Children|Comedy|Fantasy</td>\n",
       "      <td>1995</td>\n",
       "      <td>158849</td>\n",
       "      <td>5.0</td>\n",
       "      <td>994716786</td>\n",
       "      <td>Tom Hanks|Tim Allen|Don Rickles|Jim Varney|Wal...</td>\n",
       "      <td>John Lasseter</td>\n",
       "      <td>81.0</td>\n",
       "      <td>$30,000,000</td>\n",
       "      <td>toy|rivalry|cowboy|cgi animation</td>\n",
       "    </tr>\n",
       "    <tr>\n",
       "      <th>1</th>\n",
       "      <td>1</td>\n",
       "      <td>Toy Story (1995)</td>\n",
       "      <td>Adventure|Animation|Children|Comedy|Fantasy</td>\n",
       "      <td>1995</td>\n",
       "      <td>97203</td>\n",
       "      <td>5.0</td>\n",
       "      <td>942683155</td>\n",
       "      <td>Tom Hanks|Tim Allen|Don Rickles|Jim Varney|Wal...</td>\n",
       "      <td>John Lasseter</td>\n",
       "      <td>81.0</td>\n",
       "      <td>$30,000,000</td>\n",
       "      <td>toy|rivalry|cowboy|cgi animation</td>\n",
       "    </tr>\n",
       "    <tr>\n",
       "      <th>2</th>\n",
       "      <td>1</td>\n",
       "      <td>Toy Story (1995)</td>\n",
       "      <td>Adventure|Animation|Children|Comedy|Fantasy</td>\n",
       "      <td>1995</td>\n",
       "      <td>161871</td>\n",
       "      <td>3.0</td>\n",
       "      <td>833104576</td>\n",
       "      <td>Tom Hanks|Tim Allen|Don Rickles|Jim Varney|Wal...</td>\n",
       "      <td>John Lasseter</td>\n",
       "      <td>81.0</td>\n",
       "      <td>$30,000,000</td>\n",
       "      <td>toy|rivalry|cowboy|cgi animation</td>\n",
       "    </tr>\n",
       "    <tr>\n",
       "      <th>3</th>\n",
       "      <td>1</td>\n",
       "      <td>Toy Story (1995)</td>\n",
       "      <td>Adventure|Animation|Children|Comedy|Fantasy</td>\n",
       "      <td>1995</td>\n",
       "      <td>45117</td>\n",
       "      <td>4.0</td>\n",
       "      <td>1442256969</td>\n",
       "      <td>Tom Hanks|Tim Allen|Don Rickles|Jim Varney|Wal...</td>\n",
       "      <td>John Lasseter</td>\n",
       "      <td>81.0</td>\n",
       "      <td>$30,000,000</td>\n",
       "      <td>toy|rivalry|cowboy|cgi animation</td>\n",
       "    </tr>\n",
       "    <tr>\n",
       "      <th>4</th>\n",
       "      <td>1</td>\n",
       "      <td>Toy Story (1995)</td>\n",
       "      <td>Adventure|Animation|Children|Comedy|Fantasy</td>\n",
       "      <td>1995</td>\n",
       "      <td>27431</td>\n",
       "      <td>5.0</td>\n",
       "      <td>849667827</td>\n",
       "      <td>Tom Hanks|Tim Allen|Don Rickles|Jim Varney|Wal...</td>\n",
       "      <td>John Lasseter</td>\n",
       "      <td>81.0</td>\n",
       "      <td>$30,000,000</td>\n",
       "      <td>toy|rivalry|cowboy|cgi animation</td>\n",
       "    </tr>\n",
       "  </tbody>\n",
       "</table>\n",
       "</div>"
      ],
      "text/plain": [
       "   movieId             title                                       genres  \\\n",
       "0        1  Toy Story (1995)  Adventure|Animation|Children|Comedy|Fantasy   \n",
       "1        1  Toy Story (1995)  Adventure|Animation|Children|Comedy|Fantasy   \n",
       "2        1  Toy Story (1995)  Adventure|Animation|Children|Comedy|Fantasy   \n",
       "3        1  Toy Story (1995)  Adventure|Animation|Children|Comedy|Fantasy   \n",
       "4        1  Toy Story (1995)  Adventure|Animation|Children|Comedy|Fantasy   \n",
       "\n",
       "  release_year  userId  rating   timestamp  \\\n",
       "0        1995   158849     5.0   994716786   \n",
       "1        1995    97203     5.0   942683155   \n",
       "2        1995   161871     3.0   833104576   \n",
       "3        1995    45117     4.0  1442256969   \n",
       "4        1995    27431     5.0   849667827   \n",
       "\n",
       "                                          title_cast       director  runtime  \\\n",
       "0  Tom Hanks|Tim Allen|Don Rickles|Jim Varney|Wal...  John Lasseter     81.0   \n",
       "1  Tom Hanks|Tim Allen|Don Rickles|Jim Varney|Wal...  John Lasseter     81.0   \n",
       "2  Tom Hanks|Tim Allen|Don Rickles|Jim Varney|Wal...  John Lasseter     81.0   \n",
       "3  Tom Hanks|Tim Allen|Don Rickles|Jim Varney|Wal...  John Lasseter     81.0   \n",
       "4  Tom Hanks|Tim Allen|Don Rickles|Jim Varney|Wal...  John Lasseter     81.0   \n",
       "\n",
       "        budget                     plot_keywords  \n",
       "0  $30,000,000  toy|rivalry|cowboy|cgi animation  \n",
       "1  $30,000,000  toy|rivalry|cowboy|cgi animation  \n",
       "2  $30,000,000  toy|rivalry|cowboy|cgi animation  \n",
       "3  $30,000,000  toy|rivalry|cowboy|cgi animation  \n",
       "4  $30,000,000  toy|rivalry|cowboy|cgi animation  "
      ]
     },
     "execution_count": 31,
     "metadata": {},
     "output_type": "execute_result"
    }
   ],
   "source": [
    "# View merged_df\n",
    "merged_df.head()"
   ]
  },
  {
   "cell_type": "code",
   "execution_count": 5,
   "id": "b8e58523",
   "metadata": {},
   "outputs": [
    {
     "data": {
      "text/plain": [
       "Index(['movieId', 'title', 'genres', 'userId', 'rating', 'timestamp',\n",
       "       'title_cast', 'director', 'runtime', 'budget', 'plot_keywords'],\n",
       "      dtype='object')"
      ]
     },
     "execution_count": 5,
     "metadata": {},
     "output_type": "execute_result"
    }
   ],
   "source": [
    "# check feature present in the merged df\n",
    "merged_df.columns"
   ]
  },
  {
   "cell_type": "code",
   "execution_count": 11,
   "id": "ba0af3db",
   "metadata": {},
   "outputs": [
    {
     "data": {
      "text/plain": [
       "movieId                0\n",
       "title                  0\n",
       "genres                 0\n",
       "userId                 0\n",
       "rating                 0\n",
       "timestamp              0\n",
       "title_cast       2604407\n",
       "director         2602688\n",
       "runtime          2653058\n",
       "budget           3152276\n",
       "plot_keywords    2610043\n",
       "dtype: int64"
      ]
     },
     "execution_count": 11,
     "metadata": {},
     "output_type": "execute_result"
    }
   ],
   "source": [
    "# Check for nulls in merged dataframe\n",
    "merged_df.isnull().sum()"
   ]
  },
  {
   "cell_type": "markdown",
   "id": "28fad353",
   "metadata": {},
   "source": [
    "* 5 out of 11 features contain null values"
   ]
  },
  {
   "cell_type": "markdown",
   "id": "9f81f138",
   "metadata": {},
   "source": [
    "## 3.1 Feature Distribution"
   ]
  },
  {
   "cell_type": "markdown",
   "id": "4fa5982c",
   "metadata": {},
   "source": [
    "### 3.1.1. User frequency distribution\n",
    "\n",
    "Let's group the users by their respective ids and see which users have the most and the least ratings."
   ]
  },
  {
   "cell_type": "code",
   "execution_count": 4,
   "id": "f6694e0f",
   "metadata": {
    "execution": {
     "iopub.execute_input": "2023-01-25T04:56:06.079763Z",
     "iopub.status.busy": "2023-01-25T04:56:06.079279Z",
     "iopub.status.idle": "2023-01-25T04:56:06.808539Z",
     "shell.execute_reply": "2023-01-25T04:56:06.807385Z",
     "shell.execute_reply.started": "2023-01-25T04:56:06.079725Z"
    }
   },
   "outputs": [
    {
     "data": {
      "text/html": [
       "<div>\n",
       "<style scoped>\n",
       "    .dataframe tbody tr th:only-of-type {\n",
       "        vertical-align: middle;\n",
       "    }\n",
       "\n",
       "    .dataframe tbody tr th {\n",
       "        vertical-align: top;\n",
       "    }\n",
       "\n",
       "    .dataframe thead th {\n",
       "        text-align: right;\n",
       "    }\n",
       "</style>\n",
       "<table border=\"1\" class=\"dataframe\">\n",
       "  <thead>\n",
       "    <tr style=\"text-align: right;\">\n",
       "      <th></th>\n",
       "      <th>userId</th>\n",
       "      <th>frequency</th>\n",
       "      <th>average_rating</th>\n",
       "    </tr>\n",
       "  </thead>\n",
       "  <tbody>\n",
       "    <tr>\n",
       "      <th>72305</th>\n",
       "      <td>72315</td>\n",
       "      <td>6933</td>\n",
       "      <td>3.176763</td>\n",
       "    </tr>\n",
       "    <tr>\n",
       "      <th>80964</th>\n",
       "      <td>80974</td>\n",
       "      <td>3678</td>\n",
       "      <td>3.277461</td>\n",
       "    </tr>\n",
       "    <tr>\n",
       "      <th>20052</th>\n",
       "      <td>20055</td>\n",
       "      <td>3050</td>\n",
       "      <td>3.179016</td>\n",
       "    </tr>\n",
       "    <tr>\n",
       "      <th>137275</th>\n",
       "      <td>137293</td>\n",
       "      <td>2940</td>\n",
       "      <td>3.223810</td>\n",
       "    </tr>\n",
       "    <tr>\n",
       "      <th>33840</th>\n",
       "      <td>33844</td>\n",
       "      <td>2795</td>\n",
       "      <td>2.624150</td>\n",
       "    </tr>\n",
       "  </tbody>\n",
       "</table>\n",
       "</div>"
      ],
      "text/plain": [
       "        userId  frequency  average_rating\n",
       "72305    72315       6933        3.176763\n",
       "80964    80974       3678        3.277461\n",
       "20052    20055       3050        3.179016\n",
       "137275  137293       2940        3.223810\n",
       "33840    33844       2795        2.624150"
      ]
     },
     "execution_count": 4,
     "metadata": {},
     "output_type": "execute_result"
    }
   ],
   "source": [
    "# Group the data by userId and get the average rating and frequency\n",
    "user_frequency = merged_df.groupby([\"userId\"]).agg({'rating': ['size', 'mean',]})\n",
    "\n",
    "# Rename the columns\n",
    "user_frequency.columns = ['frequency', 'average_rating']\n",
    "\n",
    "# Move the userId column from the index to a column\n",
    "user_frequency = user_frequency.reset_index()\n",
    "\n",
    "# Rename the userId column\n",
    "user_frequency = user_frequency.rename(columns={'userId':'userId'})\n",
    "\n",
    "# sort by descending order\n",
    "user_frequency = user_frequency.sort_values(by='frequency',ascending=False)\n",
    "\n",
    "# View the dataframe\n",
    "user_frequency.head()"
   ]
  },
  {
   "cell_type": "code",
   "execution_count": 7,
   "id": "aa3b432f",
   "metadata": {},
   "outputs": [
    {
     "data": {
      "image/png": "[encoded data removed]",
      "text/plain": [
       "<Figure size 1500x500 with 1 Axes>"
      ]
     },
     "metadata": {},
     "output_type": "display_data"
    }
   ],
   "source": [
    "# You can plot the above table as a histogram showing the distribution\n",
    "user_frequency[:20].plot(fontsize=15,figsize  = (15,5), kind='bar',y='frequency',x='userId')\n",
    "plt.xticks(rotation = 75)\n",
    "plt.tight_layout()\n",
    "plt.grid(False)\n",
    "plt.suptitle('Top 20 users with the highest rating frquency', fontsize=15);"
   ]
  },
  {
   "cell_type": "markdown",
   "id": "72da92d7",
   "metadata": {},
   "source": [
    "* Having a user rate so many movies can lead to several negative consequences such as Overfitting- whereby the model may become too tailored to that user's preferences, leading to poor generalization and inaccurate recommendations for other users. Also, it can be an indication of the user being overzealous or biased in their ratings, this can make the data less reliable."
   ]
  },
  {
   "cell_type": "code",
   "execution_count": 62,
   "id": "cac10fea",
   "metadata": {},
   "outputs": [
    {
     "data": {
      "text/html": [
       "<div>\n",
       "<style scoped>\n",
       "    .dataframe tbody tr th:only-of-type {\n",
       "        vertical-align: middle;\n",
       "    }\n",
       "\n",
       "    .dataframe tbody tr th {\n",
       "        vertical-align: top;\n",
       "    }\n",
       "\n",
       "    .dataframe thead th {\n",
       "        text-align: right;\n",
       "    }\n",
       "</style>\n",
       "<table border=\"1\" class=\"dataframe\">\n",
       "  <thead>\n",
       "    <tr style=\"text-align: right;\">\n",
       "      <th></th>\n",
       "      <th>userId</th>\n",
       "      <th>average_rating</th>\n",
       "      <th>frequency</th>\n",
       "    </tr>\n",
       "  </thead>\n",
       "  <tbody>\n",
       "    <tr>\n",
       "      <th>127082</th>\n",
       "      <td>127098</td>\n",
       "      <td>5.0</td>\n",
       "      <td>1</td>\n",
       "    </tr>\n",
       "    <tr>\n",
       "      <th>22941</th>\n",
       "      <td>22944</td>\n",
       "      <td>5.0</td>\n",
       "      <td>1</td>\n",
       "    </tr>\n",
       "    <tr>\n",
       "      <th>61208</th>\n",
       "      <td>61217</td>\n",
       "      <td>5.0</td>\n",
       "      <td>1</td>\n",
       "    </tr>\n",
       "    <tr>\n",
       "      <th>101102</th>\n",
       "      <td>101117</td>\n",
       "      <td>2.0</td>\n",
       "      <td>1</td>\n",
       "    </tr>\n",
       "    <tr>\n",
       "      <th>19918</th>\n",
       "      <td>19921</td>\n",
       "      <td>3.5</td>\n",
       "      <td>1</td>\n",
       "    </tr>\n",
       "  </tbody>\n",
       "</table>\n",
       "</div>"
      ],
      "text/plain": [
       "        userId  average_rating  frequency\n",
       "127082  127098             5.0          1\n",
       "22941    22944             5.0          1\n",
       "61208    61217             5.0          1\n",
       "101102  101117             2.0          1\n",
       "19918    19921             3.5          1"
      ]
     },
     "execution_count": 62,
     "metadata": {},
     "output_type": "execute_result"
    }
   ],
   "source": [
    "# Less frequent movie raters\n",
    "user_frequency.tail()"
   ]
  },
  {
   "cell_type": "markdown",
   "id": "5b02c7ef",
   "metadata": {},
   "source": [
    "* On the other hand, if a user rates very few movies, it can make it difficult to make accurate recommendations for this user, as there is not enough data to understand their preferences. Additionally, if there are a large number of users who rate very few movies, it can lead to data sparsity issues, making it difficult to find users with similar tastes and make accurate recommendations."
   ]
  },
  {
   "cell_type": "markdown",
   "id": "cf76779b",
   "metadata": {},
   "source": [
    "### 3.1.2. Genre Frequency Distribution\n",
    "\n",
    "Each movie is assigned one or more genres, and the genres are encoded into one field genres.\n",
    "\n",
    "At this stage, our goal is to determine which genres are most prevalent among movies. By understanding the most common genres, we can gain insight into the types of movies that were most frequently produced during the time period represented in the data."
   ]
  },
  {
   "cell_type": "code",
   "execution_count": 71,
   "id": "fec24b74",
   "metadata": {},
   "outputs": [
    {
     "data": {
      "image/png": "[encoded data removed]",
      "text/plain": [
       "<Figure size 1000x500 with 1 Axes>"
      ]
     },
     "metadata": {},
     "output_type": "display_data"
    }
   ],
   "source": [
    "# Create a new dataframe with each genre as a separate row\n",
    "genres_frequency = movies[\"genres\"].str.get_dummies('|').sum().sort_values(ascending=False)\n",
    "\n",
    "#Set the size of the chart, width, height in inches\n",
    "plt.figure(figsize=(10,5))\n",
    "\n",
    "# Plot the distribution using a bar chart\n",
    "genres_frequency.plot(kind='bar')\n",
    "plt.xlabel('Genres')\n",
    "plt.ylabel('Number of Movies')\n",
    "plt.title('Genre Distribution')\n",
    "plt.show()"
   ]
  },
  {
   "cell_type": "markdown",
   "id": "4ec5187c",
   "metadata": {},
   "source": [
    "* We note that the dataset contains 20 different genres and a pseudo-genre called (no genres listed) indicating that the movie has not been assigned any genres.\n",
    "* The Drama genre was by far the most frequently produced genre in the period captured by the data\n",
    "* The IMAX genre is the least produced genre as revealed by the data, this is not surprising, as the name IMAX is not considered by some as a genre, but rather a brand name for a specific type of large-format theater and film technology\n",
    "\n",
    "Clearly this shows there is an imbalance in the frequency of occurrence for each genre. Imbalance occurs when there is an uneven distribution of the various observations.\n",
    "\n",
    "> It's worth noting that, normalizing the ratings is important to avoid any bias towards users or movies with higher rating counts, it makes the ratings comparable across users or movies with different mean ratings."
   ]
  },
  {
   "cell_type": "markdown",
   "id": "6b4a9e38",
   "metadata": {},
   "source": [
    "### 3.1.3. Movie Frequency Distribution\n"
   ]
  },
  {
   "cell_type": "code",
   "execution_count": 32,
   "id": "d82bf1c2",
   "metadata": {
    "execution": {
     "iopub.execute_input": "2023-01-25T04:56:23.609840Z",
     "iopub.status.busy": "2023-01-25T04:56:23.608433Z",
     "iopub.status.idle": "2023-01-25T04:56:24.881349Z",
     "shell.execute_reply": "2023-01-25T04:56:24.880026Z",
     "shell.execute_reply.started": "2023-01-25T04:56:23.609783Z"
    }
   },
   "outputs": [
    {
     "data": {
      "text/html": [
       "<div>\n",
       "<style scoped>\n",
       "    .dataframe tbody tr th:only-of-type {\n",
       "        vertical-align: middle;\n",
       "    }\n",
       "\n",
       "    .dataframe tbody tr th {\n",
       "        vertical-align: top;\n",
       "    }\n",
       "\n",
       "    .dataframe thead th {\n",
       "        text-align: right;\n",
       "    }\n",
       "</style>\n",
       "<table border=\"1\" class=\"dataframe\">\n",
       "  <thead>\n",
       "    <tr style=\"text-align: right;\">\n",
       "      <th></th>\n",
       "      <th>title</th>\n",
       "      <th>frequency</th>\n",
       "      <th>average_rating</th>\n",
       "    </tr>\n",
       "  </thead>\n",
       "  <tbody>\n",
       "    <tr>\n",
       "      <th>18144</th>\n",
       "      <td>Shawshank Redemption, The (1994)</td>\n",
       "      <td>32831</td>\n",
       "      <td>4.417624</td>\n",
       "    </tr>\n",
       "    <tr>\n",
       "      <th>7536</th>\n",
       "      <td>Forrest Gump (1994)</td>\n",
       "      <td>32383</td>\n",
       "      <td>4.047216</td>\n",
       "    </tr>\n",
       "    <tr>\n",
       "      <th>16411</th>\n",
       "      <td>Pulp Fiction (1994)</td>\n",
       "      <td>31697</td>\n",
       "      <td>4.195097</td>\n",
       "    </tr>\n",
       "    <tr>\n",
       "      <th>18339</th>\n",
       "      <td>Silence of the Lambs, The (1991)</td>\n",
       "      <td>29444</td>\n",
       "      <td>4.144172</td>\n",
       "    </tr>\n",
       "    <tr>\n",
       "      <th>13190</th>\n",
       "      <td>Matrix, The (1999)</td>\n",
       "      <td>29014</td>\n",
       "      <td>4.154253</td>\n",
       "    </tr>\n",
       "  </tbody>\n",
       "</table>\n",
       "</div>"
      ],
      "text/plain": [
       "                                  title  frequency  average_rating\n",
       "18144  Shawshank Redemption, The (1994)      32831        4.417624\n",
       "7536                Forrest Gump (1994)      32383        4.047216\n",
       "16411               Pulp Fiction (1994)      31697        4.195097\n",
       "18339  Silence of the Lambs, The (1991)      29444        4.144172\n",
       "13190                Matrix, The (1999)      29014        4.154253"
      ]
     },
     "execution_count": 32,
     "metadata": {},
     "output_type": "execute_result"
    }
   ],
   "source": [
    "# Group the data by genres and get the average rating and frequency\n",
    "movie_frequency = merged_df.groupby([\"title\"]).agg({'rating': ['size', 'mean']})\n",
    "\n",
    "# Rename the columns\n",
    "movie_frequency.columns = ['frequency', 'average_rating']\n",
    "\n",
    "# Move genres from the index to a column\n",
    "movie_frequency = movie_frequency.reset_index()\n",
    "\n",
    "# sort by descending order\n",
    "movie_frequency = movie_frequency.sort_values(by='frequency',ascending=False)\n",
    "\n",
    "# View the top rated movies\n",
    "movie_frequency.head()"
   ]
  },
  {
   "cell_type": "code",
   "execution_count": 33,
   "id": "c5fa17fc",
   "metadata": {},
   "outputs": [
    {
     "data": {
      "text/html": [
       "<div>\n",
       "<style scoped>\n",
       "    .dataframe tbody tr th:only-of-type {\n",
       "        vertical-align: middle;\n",
       "    }\n",
       "\n",
       "    .dataframe tbody tr th {\n",
       "        vertical-align: top;\n",
       "    }\n",
       "\n",
       "    .dataframe thead th {\n",
       "        text-align: right;\n",
       "    }\n",
       "</style>\n",
       "<table border=\"1\" class=\"dataframe\">\n",
       "  <thead>\n",
       "    <tr style=\"text-align: right;\">\n",
       "      <th></th>\n",
       "      <th>title</th>\n",
       "      <th>frequency</th>\n",
       "      <th>average_rating</th>\n",
       "    </tr>\n",
       "  </thead>\n",
       "  <tbody>\n",
       "    <tr>\n",
       "      <th>4101</th>\n",
       "      <td>Christopher Strong (1933)</td>\n",
       "      <td>1</td>\n",
       "      <td>1.0</td>\n",
       "    </tr>\n",
       "    <tr>\n",
       "      <th>17880</th>\n",
       "      <td>Secrets of the Tribe (2010)</td>\n",
       "      <td>1</td>\n",
       "      <td>4.0</td>\n",
       "    </tr>\n",
       "    <tr>\n",
       "      <th>21361</th>\n",
       "      <td>Trails (Veredas) (1978)</td>\n",
       "      <td>1</td>\n",
       "      <td>4.5</td>\n",
       "    </tr>\n",
       "    <tr>\n",
       "      <th>21363</th>\n",
       "      <td>Train Ride to Hollywood (1975)</td>\n",
       "      <td>1</td>\n",
       "      <td>5.0</td>\n",
       "    </tr>\n",
       "    <tr>\n",
       "      <th>17932</th>\n",
       "      <td>Seoul Searching (2015)</td>\n",
       "      <td>1</td>\n",
       "      <td>3.5</td>\n",
       "    </tr>\n",
       "  </tbody>\n",
       "</table>\n",
       "</div>"
      ],
      "text/plain": [
       "                                title  frequency  average_rating\n",
       "4101        Christopher Strong (1933)          1             1.0\n",
       "17880     Secrets of the Tribe (2010)          1             4.0\n",
       "21361         Trails (Veredas) (1978)          1             4.5\n",
       "21363  Train Ride to Hollywood (1975)          1             5.0\n",
       "17932          Seoul Searching (2015)          1             3.5"
      ]
     },
     "execution_count": 33,
     "metadata": {},
     "output_type": "execute_result"
    }
   ],
   "source": [
    "# least viewed and rated movies\n",
    "movie_frequency.tail()"
   ]
  },
  {
   "cell_type": "markdown",
   "id": "94c230a7",
   "metadata": {},
   "source": [
    "We observe that some movies are rated by more users compared to others, while some have very few ratings, and some have only one rating. This fact is important to note as deficient ratings might result in our model not generalizing well, leading to inaccurate estimates for our predictions.\n",
    "\n",
    "So, we consider introducing **Regularization** later. Regularizations are techniques used to reduce the error by fitting a function appropriately on the given training set and avoid overfitting (the production of an analysis that corresponds too closely or exactly to a particular set of data and may, therefore, fail to fit additional data or predict future observations reliably). A penalty term is added to the cost function. The additional term controls the excessively fluctuating function such that the coefficients do not take extreme values. For this reason, Adding Regularisation and a penalty term to the models is expected to lead to better models as it penalizes features."
   ]
  },
  {
   "cell_type": "markdown",
   "id": "d616ea2d",
   "metadata": {},
   "source": [
    "### 3.1.4 Rating distribution"
   ]
  },
  {
   "cell_type": "code",
   "execution_count": 41,
   "id": "6e40115d",
   "metadata": {},
   "outputs": [
    {
     "data": {
      "image/png": "[encoded data removed]",
      "text/plain": [
       "<Figure size 640x480 with 1 Axes>"
      ]
     },
     "metadata": {},
     "output_type": "display_data"
    }
   ],
   "source": [
    "# Create a new dataframe with each genre as a separate row\n",
    "rating_frequency = merged_df[\"rating\"].value_counts()\n",
    "\n",
    "# Plot the frequency distribution as a bar chart\n",
    "rating_frequency.plot(kind='bar')\n",
    "plt.xlabel('Rating')\n",
    "plt.ylabel('Frequency in millions')\n",
    "plt.title('Rating vs Frequency Distribution')\n",
    "plt.show()"
   ]
  },
  {
   "cell_type": "markdown",
   "id": "f2ba6f57",
   "metadata": {},
   "source": [
    "* We note that there are more higher ratings compared to lower ones as seen by the distribution of ratings shown below. This discrepancy may be because people tend to rate movies they love or hate and do not bother to rate the movies they feel are average. Further, We observe that 4 is the most common rating, followed by 3 and 5. 0.5 is the least common rating. In general, half-a-star ratings are less common than whole star ratings."
   ]
  },
  {
   "cell_type": "markdown",
   "id": "df1421d7",
   "metadata": {},
   "source": [
    "### 3.2 Movie production by year"
   ]
  },
  {
   "cell_type": "code",
   "execution_count": 11,
   "id": "c1fdf385",
   "metadata": {},
   "outputs": [
    {
     "data": {
      "text/html": [
       "<div>\n",
       "<style scoped>\n",
       "    .dataframe tbody tr th:only-of-type {\n",
       "        vertical-align: middle;\n",
       "    }\n",
       "\n",
       "    .dataframe tbody tr th {\n",
       "        vertical-align: top;\n",
       "    }\n",
       "\n",
       "    .dataframe thead th {\n",
       "        text-align: right;\n",
       "    }\n",
       "</style>\n",
       "<table border=\"1\" class=\"dataframe\">\n",
       "  <thead>\n",
       "    <tr style=\"text-align: right;\">\n",
       "      <th></th>\n",
       "      <th>movieId</th>\n",
       "      <th>title</th>\n",
       "      <th>genres</th>\n",
       "      <th>release_year</th>\n",
       "    </tr>\n",
       "  </thead>\n",
       "  <tbody>\n",
       "    <tr>\n",
       "      <th>0</th>\n",
       "      <td>1</td>\n",
       "      <td>Toy Story (1995)</td>\n",
       "      <td>Adventure|Animation|Children|Comedy|Fantasy</td>\n",
       "      <td>1995</td>\n",
       "    </tr>\n",
       "    <tr>\n",
       "      <th>1</th>\n",
       "      <td>2</td>\n",
       "      <td>Jumanji (1995)</td>\n",
       "      <td>Adventure|Children|Fantasy</td>\n",
       "      <td>1995</td>\n",
       "    </tr>\n",
       "    <tr>\n",
       "      <th>2</th>\n",
       "      <td>3</td>\n",
       "      <td>Grumpier Old Men (1995)</td>\n",
       "      <td>Comedy|Romance</td>\n",
       "      <td>1995</td>\n",
       "    </tr>\n",
       "    <tr>\n",
       "      <th>3</th>\n",
       "      <td>4</td>\n",
       "      <td>Waiting to Exhale (1995)</td>\n",
       "      <td>Comedy|Drama|Romance</td>\n",
       "      <td>1995</td>\n",
       "    </tr>\n",
       "    <tr>\n",
       "      <th>4</th>\n",
       "      <td>5</td>\n",
       "      <td>Father of the Bride Part II (1995)</td>\n",
       "      <td>Comedy</td>\n",
       "      <td>1995</td>\n",
       "    </tr>\n",
       "  </tbody>\n",
       "</table>\n",
       "</div>"
      ],
      "text/plain": [
       "   movieId                               title  \\\n",
       "0        1                    Toy Story (1995)   \n",
       "1        2                      Jumanji (1995)   \n",
       "2        3             Grumpier Old Men (1995)   \n",
       "3        4            Waiting to Exhale (1995)   \n",
       "4        5  Father of the Bride Part II (1995)   \n",
       "\n",
       "                                        genres release_year  \n",
       "0  Adventure|Animation|Children|Comedy|Fantasy        1995   \n",
       "1                   Adventure|Children|Fantasy        1995   \n",
       "2                               Comedy|Romance        1995   \n",
       "3                         Comedy|Drama|Romance        1995   \n",
       "4                                       Comedy        1995   "
      ]
     },
     "execution_count": 11,
     "metadata": {},
     "output_type": "execute_result"
    }
   ],
   "source": [
    "# Create a movie year column\n",
    "movies[\"release_year\"] = movies[\"title\"].str.replace(r'[a-zA-Z]', '', regex=True)\n",
    "movies[\"release_year\"] = movies[\"release_year\"].str.replace(r' ', '', regex=True)\n",
    "movies[\"release_year\"] = movies[\"release_year\"].str.replace('(', ' ', regex=True) #Remove the '(' from the year column\n",
    "movies[\"release_year\"] = movies[\"release_year\"].str.replace(')', ' ', regex=True) ##Remove the ')' from the year column\n",
    "movies.head()"
   ]
  },
  {
   "cell_type": "code",
   "execution_count": 56,
   "id": "f8519a7a",
   "metadata": {},
   "outputs": [
    {
     "data": {
      "image/png": "[encoded data removed]",
      "text/plain": [
       "<Figure size 1000x500 with 1 Axes>"
      ]
     },
     "metadata": {},
     "output_type": "display_data"
    }
   ],
   "source": [
    "# Create a bar chart to visualize the first 25 years with the highest number of movie releases\n",
    "\n",
    "# Convert the 'year' column to string data type\n",
    "movies[\"year\"] = movies[\"year\"].astype(str)\n",
    "\n",
    "# Count the number of movies released in each year\n",
    "yearly_movie_count = movies[\"year\"].value_counts()\n",
    "\n",
    "# Create a bar chart\n",
    "plt.figure(figsize=(10,5))\n",
    "plt.bar(yearly_movie_count.index[:25], yearly_movie_count.values[:25], alpha=0.65)\n",
    "\n",
    "# Set axis labels and chart title\n",
    "plt.xlabel(\"Year of Production\", fontsize = 15)\n",
    "plt.ylabel(\"Number of Movies Produced\", fontsize = 15)\n",
    "plt.title(\"First 25 Years with the Highest Number of Movie Releases\", fontsize = 15)\n",
    "\n",
    "# Show the chart\n",
    "plt.show()"
   ]
  },
  {
   "cell_type": "markdown",
   "id": "3d5b19b4",
   "metadata": {},
   "source": [
    "# Kazeem please run this cell above. The year on the x-axis isn't showing properly"
   ]
  },
  {
   "cell_type": "markdown",
   "id": "8c556296",
   "metadata": {},
   "source": [
    "#### Observations from first 25 years with the highest number of movie releases\n",
    "\n",
    "The timeline of the highest movies produced showed a progressive increment as the years increase, however there were some disruptions as in this pattern of increment, such as in 2019 there was a sharp decrease when compared with the preceeding year 2018. \n",
    "\n",
    "> A possible cause for such decline, almost by half, could be attributed to the Covid-19 pandemic where the whole world was at lockdown. This would have greatly affected the movie industry since contact between person to person was greatly reduced.\n",
    "\n",
    "The year 2015 posted the highest amount of movies released in a year. However after 2015 the number of movies released began to decline upto 2019. Could this be as a result the World economy dynamics of those years?"
   ]
  },
  {
   "cell_type": "markdown",
   "id": "b33ccd23",
   "metadata": {},
   "source": [
    "# Use Shapiro to test if your data is uniformly distributed or not (CHATGPT)"
   ]
  },
  {
   "cell_type": "markdown",
   "id": "46730ecd",
   "metadata": {},
   "source": [
    "#### Scatter plot for Ratings vs Timestamp \n",
    "\n",
    "A time series analysis provides information about patterns, trends and seasonality in a dataset over time. It can be used to forecast future values based on past behavior and to identify any outliers or anomalies in the data. Additionally, it can help to identify any underlying patterns or dependencies between variables in the dataset, such as the relationship between a particular event and changes in the data. It also helps to identify any cyclical patterns in the data, such as daily, weekly, or yearly patterns. Overall, a time series analysis can provide valuable insights into the behavior of a dataset over time and can help to inform decision-making and forecasting."
   ]
  },
  {
   "cell_type": "code",
   "execution_count": null,
   "id": "60ee0287",
   "metadata": {},
   "outputs": [],
   "source": [
    "# Convert the timestamp column to datetime\n",
    "merged_df['timestamp'] = pd.to_datetime(merged_df['timestamp'])\n",
    "\n",
    "# Set the timestamp column as the index\n",
    "merged_df = merged_df.set_index('timestamp')\n",
    "\n",
    "# Resample the data by month and compute the mean rating\n",
    "monthly_mean = movies['timestamp'].resample('M').mean()\n",
    "\n",
    "# Plot the time series of monthly mean ratings\n",
    "plt.figure(figsize=(12,6))\n",
    "plt.plot(monthly_mean)\n",
    "plt.xlabel(\"Year-Month\")\n",
    "plt.ylabel(\"Mean Rating\")\n",
    "plt.title(\"Time Series of Monthly Mean Ratings\")\n",
    "plt.show()"
   ]
  },
  {
   "cell_type": "markdown",
   "id": "e8cca21e",
   "metadata": {},
   "source": [
    "### Box plot for outliers\n",
    "\n",
    "Outliers are data points that are significantly different from the other data points in a dataset. They can be caused by measurement error, data entry errors, or simply by the presence of unusual observations. These values are not necessarily bad, but they are different from the norm and can skew the results of any analysis. In a univariate data, outliers can be identified by looking at the distribution of the data, or by using techniques such as box plots, IQR or z-scores. \n",
    "\n",
    "> It's important to note that, outliers can be real values and should not always be removed, it's important to investigate and decide if they are valid or if they are errors before removing them."
   ]
  },
  {
   "cell_type": "code",
   "execution_count": 42,
   "id": "5255addd",
   "metadata": {
    "execution": {
     "iopub.execute_input": "2023-01-25T04:56:52.617794Z",
     "iopub.status.busy": "2023-01-25T04:56:52.617401Z",
     "iopub.status.idle": "2023-01-25T04:56:53.717849Z",
     "shell.execute_reply": "2023-01-25T04:56:53.716567Z",
     "shell.execute_reply.started": "2023-01-25T04:56:52.617762Z"
    }
   },
   "outputs": [
    {
     "data": {
      "image/png": "[encoded data removed]",
      "text/plain": [
       "<Figure size 640x480 with 1 Axes>"
      ]
     },
     "metadata": {},
     "output_type": "display_data"
    }
   ],
   "source": [
    "# Check for Outliers in the 'rating column' of the merged_df dataframe\n",
    "# Draw a box plot\n",
    "plt.boxplot(np.array(merged_df[\"rating\"]))\n",
    "\n",
    "# Add a title and labels\n",
    "plt.title(\"Box plot for detection of outliers\")\n",
    "plt.xlabel(\"Data\")\n",
    "plt.ylabel(\"Values\")\n",
    "\n",
    "# Display the plot\n",
    "plt.show()"
   ]
  },
  {
   "cell_type": "markdown",
   "id": "6caefbee",
   "metadata": {},
   "source": [
    "The box in the middle of the plot represents the interquartile range (IQR), which is the range between the first and third quartiles (25th and 75th percentiles). The whiskers extend from the box to the minimum and maximum values, and any data points outside of the whiskers are considered outliers.\n",
    "\n",
    "As can be seen, there are clusters of datapoints that are considered outliers present in the ratings dataset.\n",
    "Applying a regularization technique is also a good option in this case. Regularization helps to prevent overfitting by adding a penalty term to the loss function. This can help to balance the ratings provided by users with a lot of ratings, and those with few ratings.\n",
    "\n",
    "Ultimately, the best approach will depend on the specific goals of the project, and the trade-offs between model performance and computational resources. It would be best to try both approaches and compare the results."
   ]
  },
  {
   "cell_type": "markdown",
   "id": "2f5ca947",
   "metadata": {},
   "source": [
    "### Shapiro test for uniformity of distribution\n",
    "\n",
    "Shapiro-Wilk test can be used to check if a sample of data follows a normal distribution.\n",
    "\n",
    "It's important to keep in mind that, even if a dataset is uniformly distributed, it may still have outliers or other features that can impact the validity of inferences or predictions made from the dataset."
   ]
  },
  {
   "cell_type": "code",
   "execution_count": 55,
   "id": "262c024b",
   "metadata": {},
   "outputs": [
    {
     "name": "stdout",
     "output_type": "stream",
     "text": [
      "Sample looks normal (fail to reject H0)\n"
     ]
    }
   ],
   "source": [
    "from scipy.stats import shapiro\n",
    "\n",
    "# Create a variable named 'ratings'\n",
    "ratings = merged_df['rating']\n",
    "\n",
    "# Perform the Shapiro test\n",
    "stat, p = shapiro(ratings)\n",
    "\n",
    "# Check the p-value\n",
    "if p > 0.05:\n",
    "    print(\"Sample looks normal (fail to reject H0)\")\n",
    "else:\n",
    "    print(\"Sample does not look normal (reject H0)\")"
   ]
  },
  {
   "cell_type": "markdown",
   "id": "9923d75a",
   "metadata": {},
   "source": [
    "* The ratings distribution follows a gaussian distribution. With this information in mind, one can build models using linear regression or decision trees, to predict outcomes."
   ]
  },
  {
   "cell_type": "code",
   "execution_count": null,
   "id": "d89a299e",
   "metadata": {},
   "outputs": [],
   "source": []
  },
  {
   "cell_type": "code",
   "execution_count": null,
   "id": "c11dcf14",
   "metadata": {},
   "outputs": [],
   "source": []
  },
  {
   "cell_type": "markdown",
   "id": "d444a1cd",
   "metadata": {
    "execution": {
     "iopub.execute_input": "2023-01-25T04:57:03.256903Z",
     "iopub.status.busy": "2023-01-25T04:57:03.256487Z",
     "iopub.status.idle": "2023-01-25T04:57:03.464557Z",
     "shell.execute_reply": "2023-01-25T04:57:03.463105Z",
     "shell.execute_reply.started": "2023-01-25T04:57:03.256871Z"
    }
   },
   "source": [
    "# Calculate the z-scores for rating\n",
    "z_scores = np.abs(stats.zscore(np.array(ratings[\"rating\"])))\n",
    "\n",
    "# Create a dataframe of the z_scores\n",
    "z_score_df = pd.DataFrame(z_scores, columns=[\"z_rating\"])\n",
    "z_score_df.head()"
   ]
  },
  {
   "cell_type": "code",
   "execution_count": 11,
   "id": "e3051308",
   "metadata": {
    "execution": {
     "iopub.execute_input": "2023-01-25T04:57:19.141558Z",
     "iopub.status.busy": "2023-01-25T04:57:19.140159Z",
     "iopub.status.idle": "2023-01-25T04:57:19.687820Z",
     "shell.execute_reply": "2023-01-25T04:57:19.686621Z",
     "shell.execute_reply.started": "2023-01-25T04:57:19.141502Z"
    }
   },
   "outputs": [
    {
     "data": {
      "text/html": [
       "<div>\n",
       "<style scoped>\n",
       "    .dataframe tbody tr th:only-of-type {\n",
       "        vertical-align: middle;\n",
       "    }\n",
       "\n",
       "    .dataframe tbody tr th {\n",
       "        vertical-align: top;\n",
       "    }\n",
       "\n",
       "    .dataframe thead th {\n",
       "        text-align: right;\n",
       "    }\n",
       "</style>\n",
       "<table border=\"1\" class=\"dataframe\">\n",
       "  <thead>\n",
       "    <tr style=\"text-align: right;\">\n",
       "      <th></th>\n",
       "      <th>z_rating</th>\n",
       "    </tr>\n",
       "  </thead>\n",
       "  <tbody>\n",
       "    <tr>\n",
       "      <th>count</th>\n",
       "      <td>1.000004e+07</td>\n",
       "    </tr>\n",
       "    <tr>\n",
       "      <th>mean</th>\n",
       "      <td>7.932283e-01</td>\n",
       "    </tr>\n",
       "    <tr>\n",
       "      <th>std</th>\n",
       "      <td>6.089243e-01</td>\n",
       "    </tr>\n",
       "    <tr>\n",
       "      <th>min</th>\n",
       "      <td>3.147151e-02</td>\n",
       "    </tr>\n",
       "    <tr>\n",
       "      <th>25%</th>\n",
       "      <td>4.397269e-01</td>\n",
       "    </tr>\n",
       "    <tr>\n",
       "      <th>50%</th>\n",
       "      <td>5.026700e-01</td>\n",
       "    </tr>\n",
       "    <tr>\n",
       "      <th>75%</th>\n",
       "      <td>1.382124e+00</td>\n",
       "    </tr>\n",
       "    <tr>\n",
       "      <th>max</th>\n",
       "      <td>2.858662e+00</td>\n",
       "    </tr>\n",
       "  </tbody>\n",
       "</table>\n",
       "</div>"
      ],
      "text/plain": [
       "           z_rating\n",
       "count  1.000004e+07\n",
       "mean   7.932283e-01\n",
       "std    6.089243e-01\n",
       "min    3.147151e-02\n",
       "25%    4.397269e-01\n",
       "50%    5.026700e-01\n",
       "75%    1.382124e+00\n",
       "max    2.858662e+00"
      ]
     },
     "execution_count": 11,
     "metadata": {},
     "output_type": "execute_result"
    }
   ],
   "source": [
    "# Get min and max threshold for outliers\n",
    "z_score_df.describe()"
   ]
  },
  {
   "cell_type": "markdown",
   "id": "e483b57f",
   "metadata": {},
   "source": []
  },
  {
   "cell_type": "markdown",
   "id": "7152fd1c",
   "metadata": {},
   "source": [
    "<a id=\"five\"></a>\n",
    "## 5. Data Preprocessing and Engineering\n",
    "<a class=\"anchor\" id=\"1.1\"></a>\n",
    "<a href=#cont>Back to Project Pipeline</a>\n",
    "\n",
    "\n",
    "\n",
    "In data preprocessing and text analytics, removing noise (i.e. unneccesary information) is a key part of getting the data into a usable format.\n",
    "\n",
    "Feature engineering is a non standard field of data modelling / machine learning that tries to transform raw data into features that better represent the underlying problem to the predictive models, resulting in improved model accuracy on unseen data.\n",
    "\n",
    "<img src=\"https://imgs.search.brave.com/sxwy8lWRY4tbRTAWP5AcgKawD8y9mqR67LUK3ICd33A/rs:fit:768:432:1/g:ce/aHR0cHM6Ly9jZG4u/c2xpZGVzaGFyZWNk/bi5jb20vc3NfdGh1/bWJuYWlscy9kYXRh/cHJlcHJvY2Vzc2lu/Zy1zYW5kZWVwcGF0/aWwtMTkwMzA1MDg0/MjI3LXRodW1ibmFp/bC00LmpwZz9jYj0x/NTUxNzc1NjEz\" width=\"400\">\n",
    "\n",
    "For the movies and ratings datasets , the following steps will be carried out:\n",
    "\n",
    "1. filter and drop users (userIds) who rated less than 10 movies\n",
    "2. removing outlier ratings\n",
    "3. removing special character (vertical line)\n",
    "4. converting text to lower case\n",
    "5. Data Imputation or Handling Nulls\n",
    "6. Converting timestamp to datetime datatype\n",
    "7. remove the unit of currency from the budget column\n",
    "8. Engineer new features like year of release from title,"
   ]
  },
  {
   "cell_type": "markdown",
   "id": "8b70d565",
   "metadata": {},
   "source": [
    "# Test these hypothesis and compare result\n",
    "\n",
    "\n",
    "#### 5.1 Filter and Drop users who rated less than 10 movies\n",
    "\n",
    "\n",
    "Filtering out users who have not rated a certain number of movies can help to improve the accuracy of the recommendations by removing users who may not have enough data to provide meaningful recommendations. However, it's important to balance the need for accurate recommendations with the need to include as many users as possible. One approach to this problem is to use a threshold for the minimum number of ratings a user must have in order to be included in the analysis. \n",
    "\n",
    "* For example, one could set a threshold of 10 ratings, meaning that only users who have rated at least 10 movies will be included in the analysis.\n",
    "\n",
    "* An alternative could be Applying a regularization technique is also a good option in this case. Regularization helps to prevent overfitting by adding a penalty term to the loss function. This can help to balance the ratings provided by users with a lot of ratings, and those with few ratings.\n",
    "\n",
    "For this project, both method were used and their respective RMSE were compared. Applying a regularization technique produced a better (lower) RMSE score."
   ]
  },
  {
   "cell_type": "code",
   "execution_count": 53,
   "id": "ae2f9f0c",
   "metadata": {},
   "outputs": [],
   "source": [
    "#1. Group the dataframe by user\n",
    "df_grouped = merged_df.groupby('userId')\n",
    "\n",
    "# Keep only the groups that have more than 10 ratings\n",
    "df_filtered = df_grouped.filter(lambda x: x['rating'].count() > 10)"
   ]
  },
  {
   "cell_type": "markdown",
   "id": "4a20de04",
   "metadata": {},
   "source": [
    "# Also try not to remove them and see their effects on RMSE\n",
    "\n",
    "#### 5.2 Remove outlier ratings\n",
    "\n",
    "A common threshold for detecting outliers is to use the Interquartile Range (IQR) which is the difference between the 75th percentile and the 25th percentile of a dataset. Any data point that falls outside of 1.5 times the IQR from the 25th percentile or 75th percentile is considered an outlier.\n",
    "To get the 75th and 25th percentile on the ratings column of the merged_df, use the .describe method\n",
    "\n",
    "From the table below, the following steps can be followed to set the threshold for outlier detection:\n",
    "\n",
    "1. Calculate the Interquartile Range (IQR) by subtracting the 25th percentile from the 75th percentile: \n",
    "> 4 - 3 = 1\n",
    "\n",
    "2. Multiply the IQR by 1.5: \n",
    "> 1 * 1.5 = 1.5\n",
    "\n",
    "3. Add 1.5 * IQR to the 75th percentile to get the upper bound and subtract 1.5 * IQR from the 25th percentile to get the lower bound:\n",
    "\n",
    "> Upper bound = 1.5 + 4 = 5.5\n",
    "\n",
    "> Lower bound = 3 - 1.5 = 1.5\n",
    "\n",
    "Any data point less than **1.5** or greater than **5.5** is considered an outlier, but of course no rating is greater than 5.5 from our table."
   ]
  },
  {
   "cell_type": "code",
   "execution_count": 56,
   "id": "26464f3d",
   "metadata": {},
   "outputs": [
    {
     "data": {
      "text/plain": [
       "count    9.448373e+06\n",
       "mean     3.531567e+00\n",
       "std      1.058906e+00\n",
       "min      5.000000e-01\n",
       "25%      3.000000e+00\n",
       "50%      3.500000e+00\n",
       "75%      4.000000e+00\n",
       "max      5.000000e+00\n",
       "Name: rating, dtype: float64"
      ]
     },
     "execution_count": 56,
     "metadata": {},
     "output_type": "execute_result"
    }
   ],
   "source": [
    "# get statistics\n",
    "df_filtered[\"rating\"].describe()"
   ]
  },
  {
   "cell_type": "code",
   "execution_count": 80,
   "id": "375974d6",
   "metadata": {},
   "outputs": [
    {
     "name": "stdout",
     "output_type": "stream",
     "text": [
      "Length of dataframe before removing outliers : 9633031\n",
      "Length of ratings dataframe after removing outliers : 9008131\n",
      "There are about 624900 outlier datapoints in the ratings dataset\n"
     ]
    }
   ],
   "source": [
    "#2. Define the min and max threshold\n",
    "min_threshold = 1.5\n",
    "max_threshold = 5.5\n",
    "\n",
    "# Filter the outliers\n",
    "without_outliers = df_filtered[df_filtered[\"rating\"] >= min_threshold]\n",
    "\n",
    "print(\"Length of dataframe before removing outliers :\", len(merged_df))\n",
    "print(\"Length of ratings dataframe after removing outliers :\", len(without_outliers))\n",
    "print(\"There are about\",len(merged_df) - len(without_outliers),\"outlier datapoints in the ratings dataset\")"
   ]
  },
  {
   "cell_type": "markdown",
   "id": "4a1cd6a5",
   "metadata": {},
   "source": [
    "# note .... Do this\n",
    "for outliers, removal min_threshold = 0.03147151 and max_threshold = 2.858662 removed all, however I need to coompute the rmse to know if its favourable. (RMSE = 0.84 on Kaggle)\n",
    "\n",
    "min_threshold = -0.9738691 and max_threshold = 2.7957206 removed just one cluster of the outliers, leaving behind some. (RMSE: 0.90)\n",
    "\n",
    "min_threshold = -3 and max_threshold = 3\n",
    "\n",
    "Later also change the number of users who have rated more than 10 movies\n",
    "\n",
    "Also change the rating scale\n",
    "\n",
    "Normalise the data between -1 and 1"
   ]
  },
  {
   "cell_type": "code",
   "execution_count": 77,
   "id": "0c04b64f",
   "metadata": {},
   "outputs": [
    {
     "data": {
      "image/png": "[encoded data removed]",
      "text/plain": [
       "<Figure size 640x480 with 1 Axes>"
      ]
     },
     "metadata": {},
     "output_type": "display_data"
    }
   ],
   "source": [
    "# Check to see if Outliers were removed successfully\n",
    "plt.boxplot(np.array(without_outliers[\"rating\"]))\n",
    "\n",
    "# Add a title and labels\n",
    "plt.title('Box plot after removing outliers')\n",
    "plt.xlabel('Data')\n",
    "plt.ylabel('Values')\n",
    "\n",
    "# Display the plot\n",
    "plt.show()"
   ]
  },
  {
   "cell_type": "markdown",
   "id": "b68f4978",
   "metadata": {},
   "source": [
    "* As can be seen from the boxplot above, the outliers were removed successfully. There are no more outliers in the dataset"
   ]
  },
  {
   "cell_type": "code",
   "execution_count": 81,
   "id": "f9ed3fe3",
   "metadata": {},
   "outputs": [
    {
     "data": {
      "text/html": [
       "<div>\n",
       "<style scoped>\n",
       "    .dataframe tbody tr th:only-of-type {\n",
       "        vertical-align: middle;\n",
       "    }\n",
       "\n",
       "    .dataframe tbody tr th {\n",
       "        vertical-align: top;\n",
       "    }\n",
       "\n",
       "    .dataframe thead th {\n",
       "        text-align: right;\n",
       "    }\n",
       "</style>\n",
       "<table border=\"1\" class=\"dataframe\">\n",
       "  <thead>\n",
       "    <tr style=\"text-align: right;\">\n",
       "      <th></th>\n",
       "      <th>movieId</th>\n",
       "      <th>title</th>\n",
       "      <th>genres</th>\n",
       "      <th>release_year</th>\n",
       "      <th>userId</th>\n",
       "      <th>rating</th>\n",
       "      <th>title_cast</th>\n",
       "      <th>director</th>\n",
       "      <th>runtime</th>\n",
       "      <th>budget</th>\n",
       "      <th>plot_keywords</th>\n",
       "    </tr>\n",
       "    <tr>\n",
       "      <th>timestamp</th>\n",
       "      <th></th>\n",
       "      <th></th>\n",
       "      <th></th>\n",
       "      <th></th>\n",
       "      <th></th>\n",
       "      <th></th>\n",
       "      <th></th>\n",
       "      <th></th>\n",
       "      <th></th>\n",
       "      <th></th>\n",
       "      <th></th>\n",
       "    </tr>\n",
       "  </thead>\n",
       "  <tbody>\n",
       "    <tr>\n",
       "      <th>1970-01-01 00:00:00.994716786</th>\n",
       "      <td>1</td>\n",
       "      <td>Toy Story (1995)</td>\n",
       "      <td>Adventure|Animation|Children|Comedy|Fantasy</td>\n",
       "      <td>1995</td>\n",
       "      <td>158849</td>\n",
       "      <td>5.0</td>\n",
       "      <td>Tom Hanks|Tim Allen|Don Rickles|Jim Varney|Wal...</td>\n",
       "      <td>John Lasseter</td>\n",
       "      <td>81.0</td>\n",
       "      <td>$30,000,000</td>\n",
       "      <td>toy|rivalry|cowboy|cgi animation</td>\n",
       "    </tr>\n",
       "    <tr>\n",
       "      <th>1970-01-01 00:00:00.942683155</th>\n",
       "      <td>1</td>\n",
       "      <td>Toy Story (1995)</td>\n",
       "      <td>Adventure|Animation|Children|Comedy|Fantasy</td>\n",
       "      <td>1995</td>\n",
       "      <td>97203</td>\n",
       "      <td>5.0</td>\n",
       "      <td>Tom Hanks|Tim Allen|Don Rickles|Jim Varney|Wal...</td>\n",
       "      <td>John Lasseter</td>\n",
       "      <td>81.0</td>\n",
       "      <td>$30,000,000</td>\n",
       "      <td>toy|rivalry|cowboy|cgi animation</td>\n",
       "    </tr>\n",
       "  </tbody>\n",
       "</table>\n",
       "</div>"
      ],
      "text/plain": [
       "                               movieId             title  \\\n",
       "timestamp                                                  \n",
       "1970-01-01 00:00:00.994716786        1  Toy Story (1995)   \n",
       "1970-01-01 00:00:00.942683155        1  Toy Story (1995)   \n",
       "\n",
       "                                                                    genres  \\\n",
       "timestamp                                                                    \n",
       "1970-01-01 00:00:00.994716786  Adventure|Animation|Children|Comedy|Fantasy   \n",
       "1970-01-01 00:00:00.942683155  Adventure|Animation|Children|Comedy|Fantasy   \n",
       "\n",
       "                              release_year  userId  rating  \\\n",
       "timestamp                                                    \n",
       "1970-01-01 00:00:00.994716786        1995   158849     5.0   \n",
       "1970-01-01 00:00:00.942683155        1995    97203     5.0   \n",
       "\n",
       "                                                                      title_cast  \\\n",
       "timestamp                                                                          \n",
       "1970-01-01 00:00:00.994716786  Tom Hanks|Tim Allen|Don Rickles|Jim Varney|Wal...   \n",
       "1970-01-01 00:00:00.942683155  Tom Hanks|Tim Allen|Don Rickles|Jim Varney|Wal...   \n",
       "\n",
       "                                    director  runtime       budget  \\\n",
       "timestamp                                                            \n",
       "1970-01-01 00:00:00.994716786  John Lasseter     81.0  $30,000,000   \n",
       "1970-01-01 00:00:00.942683155  John Lasseter     81.0  $30,000,000   \n",
       "\n",
       "                                                  plot_keywords  \n",
       "timestamp                                                        \n",
       "1970-01-01 00:00:00.994716786  toy|rivalry|cowboy|cgi animation  \n",
       "1970-01-01 00:00:00.942683155  toy|rivalry|cowboy|cgi animation  "
      ]
     },
     "execution_count": 81,
     "metadata": {},
     "output_type": "execute_result"
    }
   ],
   "source": [
    "without_outliers.head(2)"
   ]
  },
  {
   "cell_type": "markdown",
   "id": "a4d7b043",
   "metadata": {},
   "source": [
    "#### 5.3 Removing special characters"
   ]
  },
  {
   "cell_type": "code",
   "execution_count": null,
   "id": "3fd65a91",
   "metadata": {},
   "outputs": [],
   "source": [
    "#3. remove special characters\n",
    "print(\" Movies dataset before Pre-processing ...\")\n",
    "print(\"*\" * 66)\n",
    "display(without_outliers.head())\n",
    "print(\"*\" * 66)\n",
    "without_outliers[\"genres\"] = without_outliers[\"genres\"].str.replace(\"|\", \" \")\n",
    "without_outliers[\"title_cast\"] = without_outliers[\"title_cast\"].str.replace(\"|\", \" \")\n",
    "without_outliers[\"plot_keywords\"] = without_outliers[\"plot_keywords\"].str.replace('|', ' ')"
   ]
  },
  {
   "cell_type": "markdown",
   "id": "94d22ae2",
   "metadata": {},
   "source": [
    "#### 5.4 Converting text to lowercase"
   ]
  },
  {
   "cell_type": "code",
   "execution_count": null,
   "id": "ac4151f7",
   "metadata": {},
   "outputs": [],
   "source": [
    "#4. Convert to lowercase\n",
    "\n",
    "without_outliers[\"genres\"] = without_outliers[\"genres\"].str.lower()\n",
    "without_outliers[\"title_cast\"] = without_outliers[\"title_cast\"].str.lower()\n",
    "without_outliers[\"title\"] = without_outliers[\"title\"].str.lower()\n",
    "\n",
    "#movies[\"genres\"] = movies[\"genres\"].apply(lambda x:x.lower())\n",
    "#movies[\"title\"] = movies[\"title\"].apply(lambda x:x.lower())\n",
    "display(\" Movies dataset after Pre-processing ...\")\n",
    "print(\"*\" * 66)\n",
    "movies.head()"
   ]
  },
  {
   "cell_type": "markdown",
   "id": "d26801ec",
   "metadata": {},
   "source": [
    "#### 5.5 Data Imputation or Handling Nulls\n",
    "\n",
    "\n",
    "Before starting with our analytical thinking, we must evaluate and act against missing values as linear models are no robust against it. We can deal with NA’s with a few approaches and I evaluated 3 of them:\n",
    "\n",
    "Row removal: Remove the lines that have at least one NA\n",
    "\n",
    "Column Removal: Remove columns if they have more NA’s than data\n",
    "\n",
    "Imputation: Use an algorithmic approach to estimate the missing values. We can make this approach using a few techniques, such as median imputation, knn or bagged tree imputation.  I have tested the three proposed methods here. In order not to make this report too long, I evaluated and tested these approaches with this project final model and the Median Imputation was the best one, i.e. the smallest RMSE."
   ]
  },
  {
   "cell_type": "code",
   "execution_count": null,
   "id": "621da3ea",
   "metadata": {},
   "outputs": [],
   "source": []
  },
  {
   "cell_type": "markdown",
   "id": "f4002d02",
   "metadata": {},
   "source": [
    "#### 5.6 Converting timestamp to datetime datatype"
   ]
  },
  {
   "cell_type": "code",
   "execution_count": null,
   "id": "6412f044",
   "metadata": {},
   "outputs": [],
   "source": []
  },
  {
   "cell_type": "markdown",
   "id": "957daec3",
   "metadata": {},
   "source": [
    "#### 5.7  Remove the unit of currency from the budget column and convert to int64"
   ]
  },
  {
   "cell_type": "code",
   "execution_count": null,
   "id": "5d09b04c",
   "metadata": {},
   "outputs": [],
   "source": []
  },
  {
   "cell_type": "markdown",
   "id": "4e1c611f",
   "metadata": {},
   "source": [
    "#### 5.8 Engineer new features"
   ]
  },
  {
   "cell_type": "code",
   "execution_count": null,
   "id": "bf8d873d",
   "metadata": {},
   "outputs": [],
   "source": [
    "# Create a movie year column\n",
    "movies_df[\"year\"] = movies_df[\"title\"].str.replace(r'[a-zA-Z]', '', regex=True)\n",
    "movies_df[\"year\"] = movies_df[\"year\"].str.replace(r' ', '', regex=True)\n",
    "movies_df[\"year\"] = movies_df[\"year\"].str.replace('(', ' ', regex=True) #Remove the '(' from the year column\n",
    "movies_df[\"year\"] = movies_df[\"year\"].str.replace(')', ' ', regex=True) ##Remove the ')' from the year column\n",
    "movies_df.head()"
   ]
  },
  {
   "cell_type": "markdown",
   "id": "bc2ccacf",
   "metadata": {},
   "source": [
    "# Normalising ratings"
   ]
  },
  {
   "cell_type": "code",
   "execution_count": null,
   "id": "07fd1acd",
   "metadata": {},
   "outputs": [],
   "source": [
    "''' import pandas as pd\n",
    "\n",
    "# Load the dataset\n",
    "df = pd.read_csv(\"ratings.csv\")\n",
    "\n",
    "# Normalize the ratings by subtracting the average rating of each movie\n",
    "df[\"rating\"] = df.groupby(\"movieId\")[\"rating\"].transform(lambda x: x - x.mean())\n",
    "\n",
    "# Print the first five rows of the normalized ratings\n",
    "print(df.head())\n",
    "\n",
    "\n",
    "# Load the normalized dataset into a pandas dataframe\n",
    "df = pd.read_csv(\"ratings_normalized.csv\")\n",
    "\n",
    "# Load the dataset into a surprise dataset object\n",
    "reader = Reader(rating_scale=(-1, 1))\n",
    "data = Dataset.load_from_df(df[['userId', 'movieId', 'rating']], reader)\n",
    "\n",
    "# Split the dataset into a training set and a test set\n",
    "from surprise.model_selection import train_test_split\n",
    "trainset, testset = train_test_split(data, test_size=.25)\n",
    "\n",
    "# Build a collaborative filtering model using the SVD algorithm\n",
    "from surprise import SVD\n",
    "algo = SVD()\n",
    "algo.fit(trainset) '''"
   ]
  },
  {
   "cell_type": "markdown",
   "id": "8b24ddd5",
   "metadata": {},
   "source": [
    "# Denormalise "
   ]
  },
  {
   "cell_type": "code",
   "execution_count": 73,
   "id": "7c2c6049",
   "metadata": {},
   "outputs": [
    {
     "data": {
      "text/plain": [
       "'\\n# Denormalise on user and rating \\n# Load the normalized dataset into a pandas dataframe\\ndf = pd.read_csv(\"ratings_normalized.csv\")\\n\\n# Calculate the average rating of each user\\nuser_mean_ratings = df.groupby(\"userId\")[\"rating\"].mean()\\n\\n# Denormalize the predicted ratings\\nfor prediction in predictions:\\n    prediction.est += user_mean_ratings[prediction.uid]\\n    \\n    \\n    \\n# Denormalise on Movie and rating  \\n# Load the normalized dataset into a pandas dataframe\\ndf = pd.read_csv(\"ratings_normalized.csv\")\\n\\n# Calculate the average rating of each movie\\nmovie_mean_ratings = df.groupby(\"movieId\")[\"rating\"].mean()\\n\\n# Denormalize the predicted ratings\\nfor prediction in predictions:\\n    prediction.est += movie_mean_ratings[prediction.iid]\\n    \\n'"
      ]
     },
     "execution_count": 73,
     "metadata": {},
     "output_type": "execute_result"
    }
   ],
   "source": [
    "\"\"\"\n",
    "# Denormalise on user and rating \n",
    "# Load the normalized dataset into a pandas dataframe\n",
    "df = pd.read_csv(\"ratings_normalized.csv\")\n",
    "\n",
    "# Calculate the average rating of each user\n",
    "user_mean_ratings = df.groupby(\"userId\")[\"rating\"].mean()\n",
    "\n",
    "# Denormalize the predicted ratings\n",
    "for prediction in predictions:\n",
    "    prediction.est += user_mean_ratings[prediction.uid]\n",
    "    \n",
    "    \n",
    "    \n",
    "# Denormalise on Movie and rating  \n",
    "# Load the normalized dataset into a pandas dataframe\n",
    "df = pd.read_csv(\"ratings_normalized.csv\")\n",
    "\n",
    "# Calculate the average rating of each movie\n",
    "movie_mean_ratings = df.groupby(\"movieId\")[\"rating\"].mean()\n",
    "\n",
    "# Denormalize the predicted ratings\n",
    "for prediction in predictions:\n",
    "    prediction.est += movie_mean_ratings[prediction.iid]\n",
    "    \n",
    "\"\"\""
   ]
  },
  {
   "cell_type": "code",
   "execution_count": null,
   "id": "1ec185b2",
   "metadata": {},
   "outputs": [],
   "source": []
  },
  {
   "cell_type": "markdown",
   "id": "2fb9196e",
   "metadata": {},
   "source": [
    "# Not done yet"
   ]
  },
  {
   "cell_type": "markdown",
   "id": "1d0bb1a3",
   "metadata": {},
   "source": [
    "<a id=\"six\"></a>\n",
    "## 6. Transforming Dataset using TF-IDF Vectorizer\n",
    "<a class=\"anchor\" id=\"1.1\"></a>\n",
    "<a href=#cont>Back to Project Pipeline</a>\n",
    "\n",
    "TF-IDF is short for Term frequency-Inverse Document Frequency.\n",
    "\n",
    "**TF** is a measure of how often a phrase appears in a document, and **IDF** is about how important that phrase is.\n",
    "The TF-IDF algorithm is used to weigh a keyword in any content and assign importance to that keyword based on the number of times it appears in the document.\n",
    "\n",
    "\n",
    "# Don't forget to normalise too"
   ]
  },
  {
   "cell_type": "code",
   "execution_count": null,
   "id": "7035737f",
   "metadata": {},
   "outputs": [],
   "source": []
  },
  {
   "cell_type": "markdown",
   "id": "1b7979ce",
   "metadata": {},
   "source": [
    "**TF-IDF weighting**"
   ]
  },
  {
   "cell_type": "code",
   "execution_count": null,
   "id": "52db7c65",
   "metadata": {},
   "outputs": [],
   "source": []
  },
  {
   "cell_type": "markdown",
   "id": "68786b99",
   "metadata": {},
   "source": [
    "<a id=\"seven\"></a>\n",
    "## 7. Splitting our data into ratings and Test Subset\n",
    "<a class=\"anchor\" id=\"1.1\"></a>\n",
    "<a href=#cont>Back to Project Pipeline</a>\n",
    "\n",
    "The **Pareto Principle** is also called the 80/20 rule. The general point is that, in most cases, 80% of effects come from 20% of causes. So we'll split our data according to this principle."
   ]
  },
  {
   "cell_type": "code",
   "execution_count": 89,
   "id": "c6c467c6",
   "metadata": {
    "execution": {
     "iopub.execute_input": "2023-01-25T04:59:32.741232Z",
     "iopub.status.busy": "2023-01-25T04:59:32.740801Z",
     "iopub.status.idle": "2023-01-25T05:00:03.539080Z",
     "shell.execute_reply": "2023-01-25T05:00:03.537895Z",
     "shell.execute_reply.started": "2023-01-25T04:59:32.741195Z"
    }
   },
   "outputs": [],
   "source": [
    "# The columns must correspond to user id, movie id and ratings (in that order).\n",
    "#ratings_df = filtered_ratings[['userId','movieId','rating']]\n",
    "ratings_df = ratings_df[['userId','movieId','rating']]\n",
    "\n",
    "# Reader is a class from the surprise library\n",
    "# It is used to specify the format of the data in the DataFrame..\n",
    "reader = Reader(rating_scale=(0.5, 5))\n",
    "\n",
    "# Load the DataFrame into the surprise library's Dataset class.\n",
    "ratings_df = Dataset.load_from_df(ratings_df, reader)\n",
    "\n",
    "# sample random trainset and testset\n",
    "# test set is made of 20% of the ratings.\n",
    "trainset, testset = train_test_split(ratings_df, test_size=0.20, random_state=42)\n",
    "#trainset = ratings_df.build_full_trainset()"
   ]
  },
  {
   "cell_type": "markdown",
   "id": "36dd8b26",
   "metadata": {},
   "source": [
    "<a id=\"eight\"></a>\n",
    "## 8. Model Building\n",
    "<a class=\"anchor\" id=\"1.1\"></a>\n",
    "<a href=#cont>Back to Project Pipeline</a>\n",
    "\n",
    "---\n",
    "\n",
    "This is the place where we create the main juice. This is the place for which all data preparation was done. We have hundreds of algorithms. These algorithms are developed by various researchers and most of them are freely available for our implementation.During model creation, we need to develop different models with different sets of hyperparameters. For model development, we need the following steps.\n",
    "\n",
    "* Select an algorithm and create multiple models with their default hyperparameters.\n",
    "* Establish metrics for model performance. Model performance metrics can be RMSE, MSE, f1_score, etc.\n",
    "* create multiple models with a winning algorithm and fine tune hyperparameters.\n",
    "* Check the model performance on the ratings dataset.\n",
    "\n",
    "<img src=\"https://imgs.search.brave.com/kvRbwXzThu7jN1wyZvQAlCG3OZm2LBm3kEqGkrE5Vo/rs:fit:1024:683:1/g:ce/aHR0cHM6Ly93d3cu/aW50YWNzLmNvbS93/cC1jb250ZW50L3Vw/bG9hZHMvMjAyMC8x/MC9idWlsZC1jdXN0/b20tbW9kZWxzLXdp/dGgtYXp1cmUtbWFj/aGluZS1sZWFybmlu/Zy1kZXNpZ25lci0x/MDI0eDY4My5qcGc\" width=\"500\" >\n",
    "\n",
    " We'll make use of the following models to train and test the dataset;\n",
    "\n",
    "* KNNBasic\n",
    "* KNNMeans\n",
    "* KNNWithZScore\n",
    "* SVD\n",
    "* Baseline\n",
    "* NormalPredictor\n",
    "---"
   ]
  },
  {
   "cell_type": "markdown",
   "id": "f22751fb",
   "metadata": {},
   "source": [
    "#### Create Multiple ML Models"
   ]
  },
  {
   "cell_type": "code",
   "execution_count": 78,
   "id": "c924d968",
   "metadata": {},
   "outputs": [
    {
     "name": "stdout",
     "output_type": "stream",
     "text": [
      "Computing the msd similarity matrix...\n",
      "Done computing similarity matrix.\n"
     ]
    }
   ],
   "source": [
    "#1 Create an object instance of KNNBasic\n",
    "knn_basic_algo = KNNBasic()\n",
    "\n",
    "# train, and test \n",
    "predictions = knn_basic_algo.fit(trainset).test(testset)"
   ]
  },
  {
   "cell_type": "code",
   "execution_count": 90,
   "id": "2f3b5cfb",
   "metadata": {},
   "outputs": [
    {
     "name": "stdout",
     "output_type": "stream",
     "text": [
      "Computing the msd similarity matrix...\n",
      "Done computing similarity matrix.\n"
     ]
    }
   ],
   "source": [
    "#2 Create an object instance of KNNMeans\n",
    "knn_means_algo = KNNWithMeans()\n",
    "\n",
    "# train and test algorithm.\n",
    "predictions = knn_means_algo.fit(trainset).test(testset)"
   ]
  },
  {
   "cell_type": "code",
   "execution_count": 16,
   "id": "b0a130e4",
   "metadata": {},
   "outputs": [
    {
     "name": "stdout",
     "output_type": "stream",
     "text": [
      "Computing the msd similarity matrix...\n",
      "Done computing similarity matrix.\n"
     ]
    }
   ],
   "source": [
    "#3 Create an object instance of KNNWithZScore\n",
    "knn_zscore_algo = KNNWithZScore()\n",
    "\n",
    "# train and test algorithm.\n",
    "predictions = knn_zscore_algo.fit(trainset).test(testset)"
   ]
  },
  {
   "cell_type": "code",
   "execution_count": 18,
   "id": "06aed648",
   "metadata": {},
   "outputs": [],
   "source": [
    "#4 Create an object instance of SVD algo\n",
    "#svd_algo = SVD(n_factors = 200 , lr_all = 0.005 , reg_all = 0.02 , n_epochs = 40 , init_std_dev = 0.05)\n",
    "svd_algo = SVD()\n",
    "\n",
    "# train and test algorithm.\n",
    "predictions = svd_algo.fit(trainset).test(testset)"
   ]
  },
  {
   "cell_type": "code",
   "execution_count": 20,
   "id": "3a7bb6d0",
   "metadata": {},
   "outputs": [
    {
     "name": "stdout",
     "output_type": "stream",
     "text": [
      "Estimating biases using als...\n"
     ]
    }
   ],
   "source": [
    "#5 Create an object instance of baselineOnly\n",
    "baseline_algo = BaselineOnly()\n",
    "\n",
    "# train and test algorithm.\n",
    "predictions = baseline_algo.fit(trainset).test(testset)"
   ]
  },
  {
   "cell_type": "code",
   "execution_count": 22,
   "id": "fedf2762",
   "metadata": {},
   "outputs": [],
   "source": [
    "#6 Create an object instance of NormalPredictor\n",
    "norm_pred_algo = NormalPredictor()\n",
    "\n",
    "# train and test algorithm.\n",
    "predictions = norm_pred_algo.fit(trainset).test(testset)"
   ]
  },
  {
   "cell_type": "markdown",
   "id": "43e5b569",
   "metadata": {},
   "source": [
    "<a id=\"nine\"></a>\n",
    "## 9. Model Performance\n",
    "<a class=\"anchor\" id=\"1.1\"></a>\n",
    "<a href=#cont>Back to Project Pipeline</a>\n",
    "\n",
    "\n",
    "<img src=\"https://imgs.search.brave.com/43umOrkBjx31omvA7djaPP7q95QPROyX4XIcXZreQGM/rs:fit:676:403:1/g:ce/aHR0cHM6Ly9jZG4u/c2hvcGlmeS5jb20v/cy9maWxlcy8xLzA3/MTQvNTA2MS9wcm9k/dWN0cy9UUFRFLTEw/MDMtVFAtTW9kZWxf/em9vbV81ODB4QDJ4/LmpwZz92PTE0MTg2/Mjg3MTM\" width=\"400\">\n",
    "\n",
    "---\n",
    "\n",
    "The metric used to evaluate the performance of the various models is ;\n",
    "\n",
    "* Root Mean Square Error\n",
    "\n",
    "#### Root Mean Squared Error (RMSE)\n",
    "\n",
    "RMSE is commonly used as a performance metric for recommendation systems because it allows for the comparison of predictions to the actual ratings. It is a measure of the difference between the predicted ratings and the actual ratings. In a recommendation system, the goal is to predict the ratings that a user would give to an item, and the RMSE is a way to measure how well the model is doing at making these predictions.\n",
    "\n",
    "While RMSE is commonly used in regression problems, it can also be used in unsupervised learning tasks such as recommendation systems. This is because even though the task is unsupervised, there is still a notion of ground truth or real value, which is the actual rating given by the user. Therefore, using the RMSE allows to evaluate the accuracy of the predicted ratings against the true ratings, regardless of the task being supervised or unsupervised."
   ]
  },
  {
   "cell_type": "markdown",
   "id": "f17f0e39",
   "metadata": {},
   "source": [
    "### 9.1.  Assessing Model Performance using RMSE \n",
    "\n",
    "* Calculate the scores for the 6 models and display on a graph"
   ]
  },
  {
   "cell_type": "code",
   "execution_count": 79,
   "id": "1d8c4c68",
   "metadata": {
    "execution": {
     "iopub.execute_input": "2023-01-25T05:03:06.447151Z",
     "iopub.status.busy": "2023-01-25T05:03:06.446705Z",
     "iopub.status.idle": "2023-01-25T05:03:08.369286Z",
     "shell.execute_reply": "2023-01-25T05:03:08.368019Z",
     "shell.execute_reply.started": "2023-01-25T05:03:06.447115Z"
    }
   },
   "outputs": [
    {
     "name": "stdout",
     "output_type": "stream",
     "text": [
      "RMSE: 0.9672\n"
     ]
    }
   ],
   "source": [
    "# Calculate KNN RMSE\n",
    "knn_rmse = accuracy.rmse(predictions)"
   ]
  },
  {
   "cell_type": "code",
   "execution_count": 91,
   "id": "37321d1d",
   "metadata": {},
   "outputs": [
    {
     "name": "stdout",
     "output_type": "stream",
     "text": [
      "RMSE: 0.9227\n"
     ]
    }
   ],
   "source": [
    "# Calculate KNNMeans RMSE\n",
    "kmeans_rmse = accuracy.rmse(predictions)"
   ]
  },
  {
   "cell_type": "code",
   "execution_count": 17,
   "id": "e4581e0b",
   "metadata": {},
   "outputs": [
    {
     "name": "stdout",
     "output_type": "stream",
     "text": [
      "RMSE: 0.9235\n"
     ]
    }
   ],
   "source": [
    "# Calculate Knn Zscore RMSE\n",
    "knn_zscore_rmse = accuracy.rmse(predictions)"
   ]
  },
  {
   "cell_type": "code",
   "execution_count": 19,
   "id": "1eb4524f",
   "metadata": {},
   "outputs": [
    {
     "name": "stdout",
     "output_type": "stream",
     "text": [
      "RMSE: 0.9026\n"
     ]
    }
   ],
   "source": [
    "# Calculate SVD RMSE\n",
    "svd_rmse = accuracy.rmse(predictions)"
   ]
  },
  {
   "cell_type": "code",
   "execution_count": 21,
   "id": "4fc6d70f",
   "metadata": {},
   "outputs": [
    {
     "name": "stdout",
     "output_type": "stream",
     "text": [
      "RMSE: 0.8989\n"
     ]
    }
   ],
   "source": [
    "# Calculate Baseline RMSE\n",
    "baseline_rmse = accuracy.rmse(predictions)"
   ]
  },
  {
   "cell_type": "code",
   "execution_count": 23,
   "id": "867849cd",
   "metadata": {},
   "outputs": [
    {
     "name": "stdout",
     "output_type": "stream",
     "text": [
      "RMSE: 1.4385\n"
     ]
    }
   ],
   "source": [
    "# Calculate NormalPredictor RMSE\n",
    "norm_rmse = accuracy.rmse(predictions)"
   ]
  },
  {
   "cell_type": "markdown",
   "id": "eb826073",
   "metadata": {},
   "source": [
    "### 9.2. Let's visualize the scores on a bar chart\n",
    "\n",
    "* Specifically, one can use the bar() function to create a bar plot, and the colors parameter can be used to specify different colors for each bar"
   ]
  },
  {
   "cell_type": "code",
   "execution_count": 48,
   "id": "6f78dc94",
   "metadata": {},
   "outputs": [
    {
     "data": {
      "text/html": [
       "<div>\n",
       "<style scoped>\n",
       "    .dataframe tbody tr th:only-of-type {\n",
       "        vertical-align: middle;\n",
       "    }\n",
       "\n",
       "    .dataframe tbody tr th {\n",
       "        vertical-align: top;\n",
       "    }\n",
       "\n",
       "    .dataframe thead th {\n",
       "        text-align: right;\n",
       "    }\n",
       "</style>\n",
       "<table border=\"1\" class=\"dataframe\">\n",
       "  <thead>\n",
       "    <tr style=\"text-align: right;\">\n",
       "      <th></th>\n",
       "      <th>Model</th>\n",
       "      <th>RMSE</th>\n",
       "    </tr>\n",
       "  </thead>\n",
       "  <tbody>\n",
       "    <tr>\n",
       "      <th>0</th>\n",
       "      <td>KNN</td>\n",
       "      <td>0.967152</td>\n",
       "    </tr>\n",
       "    <tr>\n",
       "      <th>1</th>\n",
       "      <td>Kmeans</td>\n",
       "      <td>0.922746</td>\n",
       "    </tr>\n",
       "    <tr>\n",
       "      <th>2</th>\n",
       "      <td>KZScore</td>\n",
       "      <td>0.923505</td>\n",
       "    </tr>\n",
       "    <tr>\n",
       "      <th>3</th>\n",
       "      <td>SVD</td>\n",
       "      <td>0.902605</td>\n",
       "    </tr>\n",
       "    <tr>\n",
       "      <th>4</th>\n",
       "      <td>Baseline</td>\n",
       "      <td>0.898946</td>\n",
       "    </tr>\n",
       "    <tr>\n",
       "      <th>5</th>\n",
       "      <td>NormalPredictor</td>\n",
       "      <td>1.438525</td>\n",
       "    </tr>\n",
       "  </tbody>\n",
       "</table>\n",
       "</div>"
      ],
      "text/plain": [
       "             Model      RMSE\n",
       "0              KNN  0.967152\n",
       "1           Kmeans  0.922746\n",
       "2          KZScore  0.923505\n",
       "3              SVD  0.902605\n",
       "4         Baseline  0.898946\n",
       "5  NormalPredictor  1.438525"
      ]
     },
     "execution_count": 48,
     "metadata": {},
     "output_type": "execute_result"
    }
   ],
   "source": [
    "# Next, create a pandas DataFrame containing the RMSE scores for each model.    \n",
    "  rmse_dict = {\n",
    "    \"Model\": [\"KNN\", \"Kmeans\", \"KZScore\", \"SVD\", \"Baseline\", \"NormalPredictor\"],\n",
    "    \"RMSE\": [knn_rmse, kmeans_rmse, knn_zscore_rmse, svd_rmse, baseline_rmse, norm_rmse]\n",
    "}\n",
    "\n",
    "# Create a dataframe from dictionary\n",
    "rmse_df = pd.DataFrame(rmse_dict)\n",
    "\n",
    "# Show score\n",
    "rmse_df"
   ]
  },
  {
   "cell_type": "code",
   "execution_count": 51,
   "id": "f1d79a1e",
   "metadata": {},
   "outputs": [
    {
     "data": {
      "image/png": "[encoded data removed]",
      "text/plain": [
       "<Figure size 1000x500 with 1 Axes>"
      ]
     },
     "metadata": {},
     "output_type": "display_data"
    }
   ],
   "source": [
    "# Create a histogram\n",
    "fig = plt.figure(figsize=(10, 5))\n",
    "ax = fig.add_subplot(111)\n",
    "\n",
    "ax.bar(rmse_dict.keys(), rmse_dict.values(), color=['r','g','b','c','m','y'])\n",
    "plt.ylabel('RMSE')\n",
    "plt.xlabel('Algorithm')\n",
    "plt.title('RMSE of different algorithms')\n",
    "plt.show()"
   ]
  },
  {
   "cell_type": "markdown",
   "id": "856ca4d8",
   "metadata": {},
   "source": [
    "# Movies Recommendation Functions"
   ]
  },
  {
   "cell_type": "markdown",
   "id": "e9d3ab67",
   "metadata": {},
   "source": [
    "## COLLABORATIVE BASED FILTERING FUNCTIONS"
   ]
  },
  {
   "cell_type": "code",
   "execution_count": 62,
   "id": "8d14849d",
   "metadata": {},
   "outputs": [],
   "source": [
    "def prediction_item(item_id):\n",
    "    \"\"\"Map a given favourite movie to users within the\n",
    "       MovieLens dataset with the same preference.\n",
    "\n",
    "    Parameters\n",
    "    ----------\n",
    "    item_id : int\n",
    "        A MovieLens Movie ID.\n",
    "\n",
    "    Returns\n",
    "    -------\n",
    "    list\n",
    "        User IDs of users with similar high ratings for the given movie.\n",
    "        Predicted high ratings similar for the given movie.\n",
    "\n",
    "    \"\"\"\n",
    "    # Data preprosessing\n",
    "    reader = Reader(rating_scale=(0, 5))\n",
    "    load_df = Dataset.load_from_df(ratings_df,reader)\n",
    "    a_train = load_df.build_full_trainset() \n",
    "\n",
    "    predictions = []\n",
    "    for ui in a_train.all_users():\n",
    "        predictions.append(model.predict(iid=item_id,uid=ui, verbose = False))\n",
    "    return predictions\n"
   ]
  },
  {
   "cell_type": "code",
   "execution_count": 63,
   "id": "aa57fdf5",
   "metadata": {},
   "outputs": [],
   "source": [
    "def pred_movies(movie_list):\n",
    "    \"\"\"Maps the given favourite movies selected within the app to corresponding\n",
    "    users within the MovieLens dataset.\n",
    "\n",
    "    Parameters\n",
    "    ----------\n",
    "    movie_list : list\n",
    "        Three favourite movies selected by the app user.\n",
    "\n",
    "    Returns\n",
    "    -------\n",
    "    list\n",
    "        User-ID's of users with similar high ratings for each movie.\n",
    "\n",
    "    \"\"\"\n",
    "    # Store the id of users\n",
    "    id_store=[]\n",
    "    \n",
    "    # For each movie selected by a user of the app,\n",
    "    # predict a corresponding user within the dataset with the highest rating\n",
    "    for i in movie_list:\n",
    "        predictions = prediction_item(item_id = i)\n",
    "        predictions.sort(key=lambda x: x.est, reverse=True)\n",
    "        \n",
    "        # Take the top 10 user id's from each movie with highest rankings\n",
    "        for pred in predictions[:10]:\n",
    "            id_store.append(pred.uid)\n",
    "            \n",
    "    # Return a list of user id's\n",
    "    return id_store"
   ]
  },
  {
   "cell_type": "code",
   "execution_count": 112,
   "id": "017f6d34",
   "metadata": {},
   "outputs": [],
   "source": [
    "import pickle\n",
    "#with open('cosine_sim_matrix.pkl', 'rb') as f:\n",
    "    #cosine_sim_matrix = pickle.load(f)\n",
    "\n",
    "def collab_model(movie_list,top_n=10):\n",
    "\n",
    "    indices = pd.Series(movies['title'])\n",
    "    movie_ids = pred_movies(movie_list)\n",
    "    df_init_users = ratings_df[ratings_df['userId']==movie_ids[0]]\n",
    "    for i in movie_ids :\n",
    "        df_init_users=df_init_users.append(ratings_df[ratings_df['userId']==i])\n",
    "        \n",
    "    \n",
    "    \n",
    "    # Getting the cosine similarity matrix\n",
    "    cosine_sim = cosine_similarity(np.array(df_init_users), np.array(df_init_users))\n",
    "    \n",
    "    # Getting the index of the movies that match the title\n",
    "    idx_list = [indices[indices == movie].index[0] for movie in movie_list]\n",
    "    \n",
    "    # Creating a Series with the similarity scores in descending order\n",
    "    score_series_list = [pd.Series(cosine_sim[idx]).sort_values(ascending = False) for idx in idx_list]\n",
    "    \n",
    "    # Appending the names of movies\n",
    "    listings = pd.concat(score_series_list).sort_values(ascending = False)\n",
    "    \n",
    "    # Create empty list to store movie names\n",
    "    recommended_movies = []\n",
    "    \n",
    "    # Choose top 50\n",
    "    top_50_indexes = list(listings.iloc[1:50].index)\n",
    "    \n",
    "    # Removing chosen movies\n",
    "    top_indexes = np.setdiff1d(top_50_indexes,[idx_list])  # [idx_1,idx_2,idx_3]\n",
    "    for i in top_indexes[:top_n]:\n",
    "        recommended_movies.append(list(movies['title'])[i])\n",
    "    return recommended_movies\n",
    "\n"
   ]
  },
  {
   "cell_type": "markdown",
   "id": "038b5e2c",
   "metadata": {},
   "source": [
    "### Collaborative using BallTree"
   ]
  },
  {
   "cell_type": "code",
   "execution_count": 109,
   "id": "ebad2492",
   "metadata": {},
   "outputs": [],
   "source": [
    "from sklearn.neighbors import BallTree\n",
    "\n",
    "def collab_model(movie_list, top_n=10):\n",
    "    indices = pd.Series(movies_df['title'])\n",
    "    movie_ids = pred_movies(movie_list)   ## This should be a list of userIds\n",
    "    df_init_users = ratings_df[ratings_df['userId']==movie_ids[0]]\n",
    "    for i in movie_ids :\n",
    "        df_init_users=df_init_users.append(ratings_df[ratings_df['userId']==i])\n",
    "\n",
    "      \n",
    "    # Getting the cosine similarity matrix\n",
    "    cosine_sim = cosine_similarity(np.array(df_init_users), np.array(df_init_users))\n",
    "\n",
    "    # Getting the index of the movies that match the title\n",
    "    idx_list = [indices[indices == movie].index[0] for movie in movie_list]\n",
    "    \n",
    "    # Creating BallTree with cosine_sim matrix\n",
    "    tree = BallTree(cosine_sim)\n",
    "    \n",
    "    # Creating a Series with the similarity scores in descending order\n",
    "    score_series_list = []\n",
    "    for idx in idx_list:\n",
    "        distances, indices = tree.query(cosine_sim[idx].reshape(1,-1), k=50)\n",
    "        scores = cosine_sim[idx][indices[0]]\n",
    "        score_series = pd.Series(scores, index=indices[0]).sort_values(ascending=False)\n",
    "        score_series_list.append(score_series)\n",
    "    \n",
    "    listings = pd.concat(score_series_list).sort_values(ascending = False)\n",
    "\n",
    "    # Create empty list to store movie names\n",
    "    recommended_movies = []\n",
    "\n",
    "    # Removing chosen movies\n",
    "    top_indexes = np.setdiff1d(listings.index,[idx_list])\n",
    "    for i in top_indexes[:top_n]:\n",
    "        recommended_movies.append(list(movies_df['title'])[i])\n",
    "    return recommended_movies\n"
   ]
  },
  {
   "cell_type": "markdown",
   "id": "c5be78af",
   "metadata": {},
   "source": [
    "### Collaborative filtering using KDTree"
   ]
  },
  {
   "cell_type": "code",
   "execution_count": null,
   "id": "ff04a6a1",
   "metadata": {},
   "outputs": [],
   "source": [
    "from sklearn.neighbors import KDTree\n",
    "\n",
    "def collab_model(movie_list,top_n=10):\n",
    "\n",
    "    indices = pd.Series(movies_df['title'])\n",
    "    movie_ids = pred_movies(movie_list)   ## This should be a list of userIds\n",
    "    df_init_users = ratings_df[ratings_df['userId']==movie_ids[0]]\n",
    "    for i in movie_ids :\n",
    "        df_init_users=df_init_users.append(ratings_df[ratings_df['userId']==i])\n",
    "\n",
    "    # Creating the KDTree\n",
    "    kdt = KDTree(np.array(df_init_users), metric='cosine')\n",
    "\n",
    "    # Getting the index of the movies that match the title\n",
    "    idx_list = [indices[indices == movie].index[0] for movie in movie_list]\n",
    "    \n",
    "    # Creating a Series with the similarity scores in descending order\n",
    "    score_series_list = []\n",
    "    for idx in idx_list:\n",
    "        dist, ind = kdt.query(np.array(df_init_users)[idx].reshape(1,-1), k=len(np.array(df_init_users)))\n",
    "        score_series = pd.Series(1 - dist.flatten(), index=ind.flatten()).sort_values(ascending = False)\n",
    "        score_series_list.append(score_series)\n",
    "\n",
    "    # Appending the names of movies\n",
    "    listings = pd.concat(score_series_list).sort_values(ascending = False)\n",
    "\n",
    "    # Create empty list to store movie names\n",
    "    recommended_movies = []\n",
    "\n",
    "    # Choose top 50\n",
    "    top_50_indexes = list(listings.iloc[1:50].index)\n",
    "\n",
    "    # Removing chosen movies\n",
    "    top_indexes = np.setdiff1d(top_50_indexes,[idx_list])\n",
    "    for i in top_indexes[:top_n]:\n",
    "        recommended_movies.append(list(movies_df['title'])[i])\n",
    "    return recommended_movies"
   ]
  },
  {
   "cell_type": "markdown",
   "id": "4c4bb069",
   "metadata": {},
   "source": [
    "# storing cosine similarity scores in a csr matrix"
   ]
  },
  {
   "cell_type": "code",
   "execution_count": 58,
   "id": "fcd0d4f9",
   "metadata": {},
   "outputs": [],
   "source": [
    "\n",
    "# Data Loading\n",
    "ratings = pd.read_csv(\"resources/data/ratings_lit.csv\")\n",
    "ratings = ratings_df.drop(\"timestamp\", axis=1)"
   ]
  },
  {
   "cell_type": "code",
   "execution_count": 61,
   "id": "3ad276a5",
   "metadata": {},
   "outputs": [],
   "source": [
    "from sklearn.metrics.pairwise import cosine_similarity\n",
    "from scipy.sparse import csr_matrix\n",
    "import pickle\n",
    "\n",
    "# Group the dataframe by movieId and calculate the mean rating for each movie\n",
    "movie_ratings = ratings.groupby(['movieId'])['rating'].mean().reset_index()\n",
    "\n",
    "# Merge the mean ratings with the original dataframe\n",
    "merged_df = pd.merge(ratings, movie_ratings, on='movieId')\n",
    "\n",
    "# Create a sparse matrix of user-movie ratings\n",
    "user_movie_matrix = csr_matrix((merged_df['rating_y'], (merged_df['userId'], merged_df['movieId'])))\n",
    "\n",
    "# Calculate the cosine similarity matrix\n",
    "cosine_sim = cosine_similarity(user_movie_matrix)\n",
    "\n",
    "# Store the cosine similarity matrix in a variable\n",
    "cosine_sim_matrix = cosine_sim\n",
    "\n",
    "# Pickle the cosine similarity matrix\n",
    "import pickle\n",
    "with open('cosine_sim_matrix.pkl', 'wb') as f:\n",
    "    pickle.dump(cosine_sim_matrix, f)\n",
    "\n",
    "#import pickle\n",
    "#with open('cosine_sim_matrix.pkl', 'rb') as f:\n",
    "    #cosine_sim_matrix = pickle.load(f)"
   ]
  },
  {
   "cell_type": "code",
   "execution_count": 93,
   "id": "ecf53336",
   "metadata": {},
   "outputs": [
    {
     "data": {
      "text/plain": [
       "100004"
      ]
     },
     "execution_count": 93,
     "metadata": {},
     "output_type": "execute_result"
    }
   ],
   "source": [
    "len(merged_df)"
   ]
  },
  {
   "cell_type": "markdown",
   "id": "66e6a2f2",
   "metadata": {},
   "source": [
    "## CONTENT BASED FILTERING FUNCTIONS"
   ]
  },
  {
   "cell_type": "code",
   "execution_count": 2,
   "id": "b89972fc",
   "metadata": {
    "scrolled": true
   },
   "outputs": [],
   "source": [
    "\n",
    "def data_preprocessing(start,subset_size):\n",
    "    \"\"\"Prepare data for use within Content filtering algorithm.\n",
    "\n",
    "    Parameters\n",
    "    ----------\n",
    "    subset_size : int\n",
    "        Number of movies to use within the algorithm.\n",
    "\n",
    "    Returns\n",
    "    -------\n",
    "    Pandas Dataframe\n",
    "        Subset of movies selected for content-based filtering.\n",
    "\n",
    "    \"\"\"\n",
    "    # Subset of the data\n",
    "    movies_subset = movies.loc[:subset_size]\n",
    "    \n",
    "    # Split genre data into individual words.\n",
    "    movies_subset[\"keyWords\"] = movies_subset[\"genres\"].str.replace(\"|\", \" \")\n",
    "    movies_subset[\"keyWords\"] = movies_subset[\"keyWords\"].str.lower()\n",
    "    \n",
    "    return movies_subset"
   ]
  },
  {
   "cell_type": "code",
   "execution_count": 26,
   "id": "dced95c7",
   "metadata": {},
   "outputs": [],
   "source": [
    "def content_model(movie_list,top_n=10):\n",
    "    \"\"\"Performs Content filtering based upon a list of movies supplied\n",
    "       by the app user.\n",
    "\n",
    "    Parameters\n",
    "    ----------\n",
    "    movie_list : list (str)\n",
    "        Favorite movies chosen by the app user.\n",
    "    top_n : type\n",
    "        Number of top recommendations to return to the user.\n",
    "\n",
    "    Returns\n",
    "    -------\n",
    "    list (str)\n",
    "        Titles of the top-n movie recommendations to the user.\n",
    "\n",
    "    \"\"\"\n",
    "    # process a subset of the dataframe\n",
    "    data = data_preprocessing(1000)\n",
    "    \n",
    "    # Instantiating and generating the count matrix\n",
    "    count_vec = CountVectorizer()\n",
    "    count_matrix = count_vec.fit_transform(data['keyWords'])\n",
    "    cosine_sim = cosine_similarity(count_matrix, count_matrix)\n",
    "    indices = pd.Series(data['title'])\n",
    "    \n",
    "\n",
    "    # Getting the index of the movies that match the title\n",
    "    idx_list = [indices[indices == movie].index[0] for movie in movie_list]\n",
    "    \n",
    "    # Creating a Series with the similarity scores in descending order\n",
    "    score_series_list = [pd.Series(cosine_sim[idx]).sort_values(ascending = False) for idx in idx_list]\n",
    "    \n",
    "    # Appending the names of movies\n",
    "    listings = pd.concat(score_series_list).sort_values(ascending = False)\n",
    "\n",
    "    # Create empty list to store movie names\n",
    "    recommended_movies = []\n",
    "    \n",
    "    # Appending the names of movies\n",
    "    top_50_indexes = list(listings.iloc[1:50].index)\n",
    "\n",
    "    # Removing chosen movies\n",
    "    top_indexes = np.setdiff1d(top_50_indexes,idx_list)\n",
    "\n",
    "    for i in top_indexes[:top_n]:\n",
    "        recommended_movies.append(list(data['title'])[i])\n",
    "    return recommended_movies\n"
   ]
  },
  {
   "cell_type": "code",
   "execution_count": null,
   "id": "f122d614",
   "metadata": {},
   "outputs": [],
   "source": [
    "ratings_df = pd.read_csv(\"resources/data/ratings_lit.csv\")"
   ]
  },
  {
   "cell_type": "markdown",
   "id": "02c7b05e",
   "metadata": {},
   "source": [
    "## MAIN SCRIPT "
   ]
  },
  {
   "cell_type": "code",
   "execution_count": 113,
   "id": "2993101d",
   "metadata": {},
   "outputs": [
    {
     "name": "stdout",
     "output_type": "stream",
     "text": [
      "We think you'll like:\n",
      "1. GoldenEye (1995)\n",
      "2. American President, The (1995)\n",
      "3. Dracula: Dead and Loving It (1995)\n",
      "4. Balto (1995)\n",
      "5. Nixon (1995)\n",
      "6. Cutthroat Island (1995)\n",
      "7. Casino (1995)\n",
      "8. Sense and Sensibility (1995)\n",
      "9. Ace Ventura: When Nature Calls (1995)\n",
      "10. When Night Is Falling (1995)\n"
     ]
    }
   ],
   "source": [
    "import time\n",
    "\n",
    "start = time.time()\n",
    "# Data Loading\n",
    "ratings_df = pd.read_csv(\"resources/data/ratings_lit.csv\")\n",
    "ratings_df = ratings_df.drop(\"timestamp\", axis=1)\n",
    "movies_df = pd.read_csv('resources/data/movies.csv')\n",
    "movies_df = movies_df.dropna()\n",
    "title_list = movies_df['title'].to_list()\n",
    "\n",
    "# Load SVD pickle model trained on a subset of the movies dataset\n",
    "model=pickle.load(open('resources/models/SVD.pkl', 'rb'))\n",
    "\n",
    "# create movies list\n",
    "movie_1 = title_list[40] \n",
    "movie_2 = title_list[50]\n",
    "movie_3 = title_list[17]\n",
    "fav_movies = [movie_1,movie_2,movie_3]\n",
    "\n",
    "#choice = 'Content Based Filtering'\n",
    "choice = 'Collaborative Based Filtering'   #\n",
    "\n",
    "if choice == 'Collaborative Based Filtering':\n",
    "    top_recommendations = collab_model(movie_list=fav_movies, top_n=10)\n",
    "    print(\"We think you'll like:\")\n",
    "    for i,j in enumerate(top_recommendations):\n",
    "        print(str(i+1)+'. '+j)\n",
    "else:\n",
    "    print(\"Oops! Looks like this algorithm does't work.\\We'll need to fix it!\")\n",
    "end = time.time()"
   ]
  },
  {
   "cell_type": "code",
   "execution_count": null,
   "id": "4fb8fd54",
   "metadata": {},
   "outputs": [],
   "source": [
    "We think you'll like:\n",
    "1. Grumpier Old Men (1995)\n",
    "2. Wings of Courage (1995)\n",
    "3. Pocahontas (1995)\n",
    "4. Guardian Angel (1994)\n",
    "5. Bio-Dome (1996)\n",
    "6. Once Upon a Time... When We Were Colored (1995)\n",
    "7. White Squall (1996)\n",
    "8. Beautiful Girls (1996)\n",
    "9. Braveheart (1995)\n",
    "10. Rumble in the Bronx (Hont faan kui) (1995)"
   ]
  },
  {
   "cell_type": "code",
   "execution_count": null,
   "id": "18df036a",
   "metadata": {},
   "outputs": [],
   "source": []
  },
  {
   "cell_type": "code",
   "execution_count": null,
   "id": "31b7999c",
   "metadata": {},
   "outputs": [],
   "source": []
  },
  {
   "cell_type": "code",
   "execution_count": 114,
   "id": "4b6b8572",
   "metadata": {},
   "outputs": [
    {
     "data": {
      "text/plain": [
       "3.5328381061553955"
      ]
     },
     "execution_count": 114,
     "metadata": {},
     "output_type": "execute_result"
    }
   ],
   "source": [
    "end - start"
   ]
  },
  {
   "cell_type": "markdown",
   "id": "0349c7ae",
   "metadata": {},
   "source": [
    "<a id=\"ten\"></a>\n",
    "## 10. Model Explanations\n",
    "<a class=\"anchor\" id=\"1.1\"></a>\n",
    "<a href=#cont>Back to Project Pipeline</a>"
   ]
  },
  {
   "cell_type": "markdown",
   "id": "61ee398f",
   "metadata": {},
   "source": [
    "   **HOW OUR MODEL WORKS!**\n",
    "\n",
    "<img src=\"https://imgs.search.brave.com/ybiWe82h0sdQRbZJEMWV3sNRCvZHHux_rxtkuKNcVLg/rs:fit:900:604:1/g:ce/aHR0cDovL3d3dy5s/aWZlY3ljbGVpbnNp/Z2h0cy5jb20vd3At/Y29udGVudC91cGxv/YWRzLzIwMTYvMDQv/cGFydC1hbmQtZHJh/d2luZy5wbmc\" width=\"400\">\n"
   ]
  },
  {
   "cell_type": "markdown",
   "id": "f0635a61",
   "metadata": {},
   "source": [
    "#### 10.1 KNNBasic \n",
    "\n",
    "KNNMeans stands for k-Nearest Neighbors algorithm. It's a method used to recommend items to users based on their similarity to other users.\n",
    "\n",
    "It works by finding the k-number of users who are most similar to the current user, based on their past ratings of items. These similar users are called \"neighbors\". Once the neighbors are identified, the algorithm will recommend items that the neighbors have rated highly, but the current user has not yet seen.\n",
    "\n",
    "For example, let's say you are a user and you have rated several movies in the past. The algorithm will find users who have rated similar movies as you and use their ratings to recommend new movies that you haven't seen yet.\n",
    "\n",
    "It's important to note that KNNMeans is a memory-based algorithm, which means that it needs to store all the ratings in memory in order to make recommendations. This can be a problem when dealing with large datasets, but it also makes the algorithm very fast at recommending items once the neighbors are identified.\n"
   ]
  },
  {
   "cell_type": "markdown",
   "id": "8c67efff",
   "metadata": {},
   "source": [
    "#### 10.2 KNNZScore\n",
    "\n",
    "\n",
    "KNNZScore is a variation of the K-Nearest Neighbors (KNN) algorithm, which is used in recommendation systems. Like the standard KNN algorithm, KNNZScore finds the \"K\" nearest users or items to a given item or user, and uses their ratings to make a prediction. However, in KNNZScore, the ratings are first normalized using the Z-Score normalization method. This means that the ratings are adjusted so that they have a mean of 0 and a standard deviation of 1. This step is done to ensure that the ratings are on the same scale and that outliers do not have a disproportionate effect on the predictions. After normalizing the ratings, the KNNZScore algorithm finds the \"K\" nearest neighbors and uses their ratings to make a prediction for the given item or user. It's a simple but effective approach for making recommendations."
   ]
  },
  {
   "cell_type": "markdown",
   "id": "0ccbd14b",
   "metadata": {},
   "source": [
    "#### 10.3 Singular Value Decomposition (SVD)\n",
    "\n",
    "SVD is a technique that is used to break down a large matrix into smaller, simpler pieces. The idea behind this is to make it easier to understand and work with the data that is contained within that matrix.\n",
    "\n",
    "Imagine you have a big spreadsheet with a lot of information in it. It might be difficult to understand what is going on in that spreadsheet because there is so much data. With SVD, we can break that spreadsheet down into smaller pieces that are easier to understand.\n",
    "\n",
    "For example, we might take the rows of the spreadsheet and group them into smaller groups based on the information they contain. We might also take the columns of the spreadsheet and group them into smaller groups based on the information they contain. This way, instead of looking at one big spreadsheet, we are looking at multiple smaller spreadsheets that are more manageable.\n",
    "\n",
    "SVD is also used to reduce the dimensionality of the data which can help to improve the efficiency of the algorithm and also help to improve the model's generalization capabilities.\n",
    "\n",
    "In summary, SVD is a mathematical technique that helps to simplify and understand large and complex data sets by breaking them down into smaller and more manageable pieces, making it easier to understand and work with the data.\n"
   ]
  },
  {
   "cell_type": "markdown",
   "id": "91053d93",
   "metadata": {},
   "source": [
    "#### 10.4 BaseLine\n",
    "\n",
    "The Baseline algorithm is a simple method for making recommendations. It works by first figuring out a baseline prediction for what a user's rating for a certain item might be. This baseline prediction is based on the average ratings of similar users or items. Once the baseline prediction is established, the algorithm then adjusts this prediction based on the user's past behavior and the item's characteristics. The final prediction is then made by taking the baseline prediction and adjusting it with any additional information. This method is simple and easy to understand, and it works well in many cases, but it may not be as accurate as other more advanced algorithms."
   ]
  },
  {
   "cell_type": "markdown",
   "id": "6d8684a9",
   "metadata": {},
   "source": [
    "#### 10.5  NormalPredictor\n",
    "\n",
    "NormalPredictor is a very simple algorithm that makes predictions based on the mean of all ratings in the dataset. It doesn't take into account any other information, such as the user who made the rating or the item that was rated. It simply looks at all the ratings in the dataset, calculates the average rating, and then makes that same prediction for all new ratings. This algorithm is often used as a baseline to compare against more complex algorithms, as it gives an idea of how much improvement can be made by using more information. It is also useful in case of datasets with large amount of missing values."
   ]
  },
  {
   "cell_type": "markdown",
   "id": "3b72dd91",
   "metadata": {},
   "source": [
    "## Make Predicted Ratings on Unseen test dataset for Kaggle Challenge"
   ]
  },
  {
   "cell_type": "code",
   "execution_count": 53,
   "id": "fe27974c",
   "metadata": {
    "execution": {
     "iopub.execute_input": "2023-01-25T05:30:11.630077Z",
     "iopub.status.busy": "2023-01-25T05:30:11.629582Z",
     "iopub.status.idle": "2023-01-25T05:31:32.478879Z",
     "shell.execute_reply": "2023-01-25T05:31:32.477406Z",
     "shell.execute_reply.started": "2023-01-25T05:30:11.630042Z"
    }
   },
   "outputs": [],
   "source": [
    "# Load the test dataset \n",
    "#test_data = pd.read_csv(\"resources/data/test.csv\")\n",
    "test = pd.read_csv('/kaggle/input/edsa-movie-recommendation-predict/test.csv')\n",
    "\n",
    "# Fill in a dummy rating of 0\n",
    "test.loc[:, 'ratings'] = 0\n",
    "\n",
    "# use load_from_df to convert the test dataframe to ...\n",
    "# ...the Dataset format required by surprise library\n",
    "test_processed = Dataset.load_from_df(test[['userId','movieId','ratings']], reader)\n",
    "\n",
    "# use train_test_split\n",
    "NA, test_set = train_test_split(test_processed, test_size=1.0, shuffle = False)\n",
    "\n",
    "# Make predictions\n",
    "predictions = svd_algo.test(test_set)\n",
    "\n",
    "# Convert test_processed to a list of tuples and ...\n",
    "# ...retrieve the est from prediction results.\n",
    "est = [round(i.est, 1) for i in predictions] \n",
    "#print(est[:10])\n",
    "\n",
    "# Create a dataframe for predicted ratings\n",
    "rate = pd.DataFrame(est, columns=['ratings'])\n",
    "\n",
    "# Concatenate the userId and movieId columns with '_'\n",
    "rate['Id'] = test['userId'].astype(str) + '_' + test['movieId'].astype(str)\n",
    "rate['rating'] = rate[['ratings']]\n",
    "\n",
    "final_rate = rate[['Id', 'rating']]\n",
    "#final_rate.head()\n",
    "\n",
    "# Export as .csv file for Kaggle submission\n",
    "final_rate.to_csv('svd_rating.csv', index=False)"
   ]
  },
  {
   "cell_type": "markdown",
   "id": "816ab2d0",
   "metadata": {},
   "source": [
    "# Movies Recommendation Functions"
   ]
  },
  {
   "cell_type": "code",
   "execution_count": null,
   "id": "15ad3bbc",
   "metadata": {},
   "outputs": [],
   "source": [
    "# Collaborative\n",
    "\n",
    "from surprise import KNNBasic\n",
    "\n",
    "def recommend_movies(user_id, n_rec):\n",
    "    # Get the top n_rec movies that the user has not yet rated\n",
    "    movies_to_rate = trainset.all_items() - set(user_ratings)\n",
    "    predictions = algo.test([(user_id, movie_id, 0) for movie_id in movies_to_rate])\n",
    "    predictions.sort(key=lambda x: x.est, reverse=True)\n",
    "    recommended_movies = [prediction.iid for prediction in predictions[:n_rec]]\n",
    "    \n",
    "    #Return the recommended movies\n",
    "    return recommended_movies\n"
   ]
  },
  {
   "cell_type": "code",
   "execution_count": 142,
   "id": "266e87f4",
   "metadata": {},
   "outputs": [],
   "source": [
    "# Content based \n",
    "\n",
    "from sklearn.metrics.pairwise import cosine_similarity\n",
    "\n",
    "def recommend_movies(user_id, n_rec):\n",
    "    # Get the movie ratings for the user\n",
    "    user_ratings = df[df[\"userId\"] == user_id][[\"movieId\", \"rating\"]]\n",
    "    # Get the movie features for the movies the user has rated\n",
    "    user_movies = df[df[\"movieId\"].isin(user_ratings[\"movieId\"])][[\"movieId\", \"feature1\", \"feature2\", \"feature3\"]]\n",
    "    # Compute the cosine similarity between the user's movies and all other movies\n",
    "    movie_features = df[[\"movieId\", \"feature1\", \"feature2\", \"feature3\"]].set_index(\"movieId\")\n",
    "    similarity = cosine_similarity(user_movies[[\"feature1\", \"feature2\", \"feature3\"]], movie_features)\n",
    "    # Get the indices of the most similar movies\n",
    "    similar_movie_indices = np.argsort(-similarity, axis=1)[:, 1:n_rec+1]\n",
    "    # Get the movieIds of the most similar movies\n",
    "    similar_movies = movie_features.index[similar_movie_indices.flatten()]\n",
    "    # Return the recommended movies\n",
    "    return similar_movies"
   ]
  },
  {
   "cell_type": "markdown",
   "id": "a62fe5cb",
   "metadata": {},
   "source": [
    "<a id=\"eleven\"></a>\n",
    "## 11. Logging parameters on Comet\n",
    "<a class=\"anchor\" id=\"1.1\"></a>\n",
    "<a href=#cont>Back to Project Pipeline</a>"
   ]
  },
  {
   "cell_type": "markdown",
   "id": "80be78e3",
   "metadata": {},
   "source": [
    "**Create a dictionary for the data we want to log**"
   ]
  },
  {
   "cell_type": "code",
   "execution_count": 81,
   "id": "9053051d",
   "metadata": {
    "execution": {
     "iopub.execute_input": "2023-01-25T05:07:46.437585Z",
     "iopub.status.busy": "2023-01-25T05:07:46.437138Z",
     "iopub.status.idle": "2023-01-25T05:07:46.443954Z",
     "shell.execute_reply": "2023-01-25T05:07:46.442765Z",
     "shell.execute_reply.started": "2023-01-25T05:07:46.437549Z"
    }
   },
   "outputs": [],
   "source": [
    "params = {\"random_state\": 42,\n",
    "         \"model_type\": \"KNNBasic\",\n",
    "          \"stratify\": True\n",
    "         }\n",
    "\n",
    "metrics = {\"RMSE\": knn_rmse,\n",
    "          }"
   ]
  },
  {
   "cell_type": "code",
   "execution_count": 92,
   "id": "e63a0f7a",
   "metadata": {},
   "outputs": [],
   "source": [
    "params_2 = {\"random_state\": 42,\n",
    "         \"model_type\": \"KNNMeans\",\n",
    "          \"stratify\": True\n",
    "         }\n",
    "\n",
    "metrics_2 = {\"RMSE\": kmeans_rmse,\n",
    "          }"
   ]
  },
  {
   "cell_type": "code",
   "execution_count": 61,
   "id": "48447bee",
   "metadata": {},
   "outputs": [],
   "source": [
    "params_3 = {\"random_state\": 42,\n",
    "         \"model_type\": \"KNNZScore\",\n",
    "          \"stratify\": True\n",
    "         }\n",
    "\n",
    "metrics_3 = {\"RMSE\": knn_zscore_rmse,\n",
    "          }"
   ]
  },
  {
   "cell_type": "code",
   "execution_count": 62,
   "id": "256f83ac",
   "metadata": {},
   "outputs": [],
   "source": [
    "params_4 = {\"random_state\": 42,\n",
    "         \"model_type\": \"SVD\",\n",
    "          \"stratify\": True\n",
    "         }\n",
    "\n",
    "metrics_4 = {\"RMSE\": svd_rmse,\n",
    "          }"
   ]
  },
  {
   "cell_type": "code",
   "execution_count": 63,
   "id": "4925ca08",
   "metadata": {},
   "outputs": [],
   "source": [
    "params_5 = {\"random_state\": 42,\n",
    "         \"model_type\": \"SVD\",\n",
    "          \"stratify\": True\n",
    "         }\n",
    "\n",
    "metrics_5 = {\"RMSE\": baseline_rmse,\n",
    "          }"
   ]
  },
  {
   "cell_type": "code",
   "execution_count": 64,
   "id": "a658531e",
   "metadata": {},
   "outputs": [],
   "source": [
    "params_6 = {\"random_state\": 42,\n",
    "         \"model_type\": \"SVD\",\n",
    "          \"stratify\": True\n",
    "         }\n",
    "\n",
    "metrics_6 = {\"RMSE\": norm_rmse,\n",
    "          }"
   ]
  },
  {
   "cell_type": "markdown",
   "id": "c79dbce3",
   "metadata": {},
   "source": [
    "**Log the parameters and result**"
   ]
  },
  {
   "cell_type": "code",
   "execution_count": 82,
   "id": "b8515076",
   "metadata": {
    "execution": {
     "iopub.execute_input": "2023-01-25T05:08:25.477578Z",
     "iopub.status.busy": "2023-01-25T05:08:25.477128Z",
     "iopub.status.idle": "2023-01-25T05:08:25.485648Z",
     "shell.execute_reply": "2023-01-25T05:08:25.484291Z",
     "shell.execute_reply.started": "2023-01-25T05:08:25.477542Z"
    }
   },
   "outputs": [],
   "source": [
    "# Log of parameters for KNNBasic model\n",
    "experiment.log_parameters(params)\n",
    "experiment.log_metrics(metrics)"
   ]
  },
  {
   "cell_type": "code",
   "execution_count": 93,
   "id": "6eb845de",
   "metadata": {},
   "outputs": [],
   "source": [
    "# Log of parameters for KNNMeans model\n",
    "experiment.log_parameters(params_2)\n",
    "experiment.log_metrics(metrics_2)"
   ]
  },
  {
   "cell_type": "code",
   "execution_count": 67,
   "id": "93060804",
   "metadata": {},
   "outputs": [],
   "source": [
    "# Log of parameters for KNNZScore model\n",
    "experiment.log_parameters(params_3)\n",
    "experiment.log_metrics(metrics_3)"
   ]
  },
  {
   "cell_type": "code",
   "execution_count": 68,
   "id": "8ea7651f",
   "metadata": {},
   "outputs": [],
   "source": [
    "# Log of parameters for SVD model\n",
    "experiment.log_parameters(params_4)\n",
    "experiment.log_metrics(metrics_4)"
   ]
  },
  {
   "cell_type": "code",
   "execution_count": 69,
   "id": "74202a92",
   "metadata": {},
   "outputs": [],
   "source": [
    "# Log of parameters for Baseline model\n",
    "experiment.log_parameters(params_5)\n",
    "experiment.log_metrics(metrics_5)"
   ]
  },
  {
   "cell_type": "code",
   "execution_count": 70,
   "id": "e7226ae8",
   "metadata": {},
   "outputs": [],
   "source": [
    "# Log of parameters for NormalPredictor \n",
    "experiment.log_parameters(params_6)\n",
    "experiment.log_metrics(metrics_6)"
   ]
  },
  {
   "cell_type": "markdown",
   "id": "d2185c2f",
   "metadata": {},
   "source": [
    "**End experiment**"
   ]
  },
  {
   "cell_type": "code",
   "execution_count": 98,
   "id": "f6fa7f0f",
   "metadata": {
    "execution": {
     "iopub.execute_input": "2023-01-25T05:09:03.662438Z",
     "iopub.status.busy": "2023-01-25T05:09:03.661990Z",
     "iopub.status.idle": "2023-01-25T05:09:05.512870Z",
     "shell.execute_reply": "2023-01-25T05:09:05.511986Z",
     "shell.execute_reply.started": "2023-01-25T05:09:03.662402Z"
    }
   },
   "outputs": [],
   "source": [
    "# end the expereiment\n",
    "experiment.end()"
   ]
  },
  {
   "cell_type": "markdown",
   "id": "09720b45",
   "metadata": {},
   "source": [
    "**Display experiment**\n",
    "\n",
    "Running experiment.display() will show you your experiments comet.ml page inside your notebook"
   ]
  },
  {
   "cell_type": "code",
   "execution_count": 97,
   "id": "86c77820",
   "metadata": {},
   "outputs": [],
   "source": [
    "# display the experiment\n",
    "experiment.display()"
   ]
  },
  {
   "cell_type": "markdown",
   "id": "e4a14b5a",
   "metadata": {},
   "source": [
    "<a id=\"twelve\"></a>\n",
    "## 12. Pickling of models and vectorizer \n",
    "<a class=\"anchor\" id=\"1.1\"></a>\n",
    "<a href=#cont>Back to Project Pipeline</a>"
   ]
  },
  {
   "cell_type": "markdown",
   "id": "d5a412ca",
   "metadata": {},
   "source": [
    "### Pickle three of the models for use on streamlit"
   ]
  },
  {
   "cell_type": "code",
   "execution_count": null,
   "id": "7a5d3ea9",
   "metadata": {},
   "outputs": [],
   "source": [
    "# Pickle for SVD\n",
    "model_save_path = \"svd2.pkl\"\n",
    "with open(model_save_path,'wb') as file:\n",
    "    pickle.dump(svd_algo,file)\n",
    "\n",
    "\n",
    "# Pickle for LogisticRegressor\n",
    "model_save_path = \"logistics_regression.pkl\"\n",
    "with open(model_save_path,'wb') as file:\n",
    "    pickle.dump(lr,file)\n",
    "    \n",
    "#Pickle for DecisionForest Regressor\n",
    "model_save_path = \"dtc_regression.pkl\"\n",
    "with open(model_save_path,'wb') as file:\n",
    "    pickle.dump(dtc,file)\n",
    "    \n",
    "#Pickle for DecisionForest Regressor\n",
    "model_save_path = \"svm_regression.pkl\"\n",
    "with open(model_save_path,'wb') as file:\n",
    "    pickle.dump(svm,file)"
   ]
  },
  {
   "cell_type": "markdown",
   "id": "77e948bd",
   "metadata": {},
   "source": [
    "### Pickle the Vectorizer for use on streamlit"
   ]
  },
  {
   "cell_type": "code",
   "execution_count": null,
   "id": "da56b27c",
   "metadata": {},
   "outputs": [],
   "source": [
    "#Pickle the TFIDF vectorizer\n",
    "model_save_path = \"TFIDF.pkl\"\n",
    "with open(model_save_path,'wb') as file:\n",
    "    pickle.dump(vectorizer,file)"
   ]
  },
  {
   "cell_type": "markdown",
   "id": "d99fdf42",
   "metadata": {},
   "source": [
    "<a id=\"thirteen\"></a>\n",
    "## 13. Conclusion\n",
    "<a class=\"anchor\" id=\"1.1\"></a>\n",
    "<a href=#cont>Back to Project Pipeline</a>\n",
    "\n",
    "In this project, seven (7) machine learning models were ratingsed for a tweet sentiment task. The performance of the models was evaluated using the f1 score, precisiona and recall and it was found that the **Support Vector Machine** model performed better than the other 6 models. This suggests that the **Support Vector Machine** model may be a good choice for this particular tweet polarity analysis. Further evaluation and testing may be needed to confirm this, but the initial results, based on the classification report given above for all seven (7) models judging by their respective f1 scores, indicate that the **Support Vector Machine** model is a strong performer in this domain.\n",
    "\n",
    "Going by all of the above considerations, our winning model for this project is the **Support Vector Classifier** because it has the highest weighted average for precision, recall and f1 score.\n",
    "\n",
    "With this model,  decision makers can known the prevailing sentiments from a particular area through analysing the statements from respondents living in a particular area. Armed with this knowledge, informed decisons on allocation of resources can be made, and ad and marketing strategies for different product that favours climate change can be put into action. \n",
    "\n",
    "The speech writing industry can also benefit greatly from product developed with this model. Imagine a politician or business executive that wants to bring in a policy about climate change, the executuve or politician can analyse his or her speech before hand to know the sentiment that the speech will arouse in his or her listeners and necessary corrections can be made to suit their agenda. "
   ]
  },
  {
   "cell_type": "markdown",
   "id": "abbf33b5",
   "metadata": {},
   "source": [
    "<a id=\"fourteen\"></a>\n",
    "## 14. References\n",
    "<a class=\"anchor\" id=\"1.1\"></a>\n",
    "<a href=#cont>Back to Project Pipeline</a>\n",
    "\n",
    "1. Wikipedia contributors. (2022, December 5). Exploratory data analysis. In Wikipedia, The Free Encyclopedia. Retrieved 03:31, December 9, 2022, from https://en.wikipedia.org/w/index.php?title=Exploratory_data_analysis&oldid=1125714900\n",
    "\n",
    "2. BoostLabs (2020, June 22). Word Clouds & the Value of Simple Visualizations. https://boostlabs.com/blog/what-are-word-clouds-value-simple-visualizations/\n",
    "\n",
    "3. Lawtomated. (2021, Nov 15). 4 things you need to know about AI: accuracy, precision, recall and F1 scores. https://lawtomated.com/accuracy-precision-recall-and-f1-scores-for-lawyers/\n",
    "\n",
    "4. Analyticsvidhya.com. (2021, March 8). Beginners Guide To Support Vector Machine svm/ https://www.analyticsvidhya.com/blog/2021/03/beginners-guide-to-support-vector-machine-svm/\n",
    "\n",
    "5. George Lawton. (2020, March 27). How to optimize hyperparameter tuning for machine learning models. https://searchenterpriseai.techtarget.com/feature/How-to-optimize-hyperparameter-tuning-for-machine-learning-mo\n",
    "\n",
    "6. Hayley Dorney. (2021, October 10) How to create and use hashtags. Retrieved 12:53, December 11, 2022.\n",
    "https://business.twitter.com/en/blog/how-to-create-and-use-hashtags.html\n",
    "\n",
    "7. ANAMIKA THANDA (2022, February 15) What is Logistic Regression? A Beginner's Guide, UPDATED ON DECEMBER 7, 2022\n",
    "https://careerfoundry.com/en/blog/data-analytics/what-is-logistic-regression/\n",
    "\n",
    "8. Decision Tree - GeeksforGeeks https://www.geeksforgeeks.org/decision-tree/\n",
    "\n",
    "9. Multinomial Naive Bayes Explained: Function, Advantages & Disadvantages, Applications in 2023 | upGrad blog by Shriram Last Updated: Oct 3, 2022 https://www.upgrad.com/blog/multinomial-naive-bayes-explained/\n",
    "\n",
    "10.  Towards Data Science. (Apr 23, 2019) Ensemble methods: bagging, boosting and stacking by Joseph Rocca. \n",
    "https://towardsdatascience.com/ensemble-methods-bagging-boosting-and-stacking-c9214a10a205\n",
    "\n",
    "11. Towards Data Science by Destin Gong. (2022, Feb 23) Top 6 Machine Learning Algorithms for Classification https://towardsdatascience.com/top-machine-learning-algorithms-for-classification-2197870ff501\n",
    "\n",
    "12. Medium by Avinash Navlani. (2020, Aug 16) Support Vector Machine Classification in Scikit-learn https://avinashnavlani.medium.com/support-vector-machine-classification-in-scikit-learn-3800bc4979ce)\n",
    "\n",
    "\n",
    "\n",
    "\n",
    "\n",
    "\n",
    "https://labelyourdata.com/articles/movie-recommendation-with-machine-learning\n",
    "\n",
    "https://www.iteratorshq.com/blog/an-introduction-recommender-systems-9-easy-examples/\n",
    "\n",
    "https://towardsdatascience.com/5-advantages-recommendation-engines-can-offer-to-businesses-10b663977673\n",
    "\n",
    "\n",
    "https://rpubs.com/pradeep_kumar/628843\n",
    "\n",
    "https://rstudio-pubs-static.s3.amazonaws.com/199071_adaee47e94104fb4b00a867cbaf5760b.html\n",
    "\n"
   ]
  },
  {
   "cell_type": "code",
   "execution_count": null,
   "id": "1c27608b",
   "metadata": {},
   "outputs": [],
   "source": []
  }
 ],
 "metadata": {
  "kernelspec": {
   "display_name": "Python 3 (ipykernel)",
   "language": "python",
   "name": "python3"
  },
  "language_info": {
   "codemirror_mode": {
    "name": "ipython",
    "version": 3
   },
   "file_extension": ".py",
   "mimetype": "text/x-python",
   "name": "python",
   "nbconvert_exporter": "python",
   "pygments_lexer": "ipython3",
   "version": "3.8.5"
  },
  "latex_envs": {
   "LaTeX_envs_menu_present": true,
   "autoclose": false,
   "autocomplete": true,
   "bibliofile": "biblio.bib",
   "cite_by": "apalike",
   "current_citInitial": 1,
   "eqLabelWithNumbers": true,
   "eqNumInitial": 1,
   "hotkeys": {
    "equation": "Ctrl-E",
    "itemize": "Ctrl-I"
   },
   "labels_anchors": false,
   "latex_user_defs": false,
   "report_style_numbering": false,
   "user_envs_cfg": false
  },
  "toc": {
   "base_numbering": 1,
   "nav_menu": {},
   "number_sections": true,
   "sideBar": true,
   "skip_h1_title": false,
   "title_cell": "Table of Contents",
   "title_sidebar": "Contents",
   "toc_cell": false,
   "toc_position": {},
   "toc_section_display": true,
   "toc_window_display": false
  },
  "varInspector": {
   "cols": {
    "lenName": 16,
    "lenType": 16,
    "lenVar": 40
   },
   "kernels_config": {
    "python": {
     "delete_cmd_postfix": "",
     "delete_cmd_prefix": "del ",
     "library": "var_list.py",
     "varRefreshCmd": "print(var_dic_list())"
    },
    "r": {
     "delete_cmd_postfix": ") ",
     "delete_cmd_prefix": "rm(",
     "library": "var_list.r",
     "varRefreshCmd": "cat(var_dic_list()) "
    }
   },
   "types_to_exclude": [
    "module",
    "function",
    "builtin_function_or_method",
    "instance",
    "_Feature"
   ],
   "window_display": false
  }
 },
 "nbformat": 4,
 "nbformat_minor": 5
}
