{
 "cells": [
  {
   "cell_type": "markdown",
   "id": "0d90944b",
   "metadata": {
    "ExecuteTime": {
     "end_time": "2021-06-11T09:24:53.643384Z",
     "start_time": "2021-06-11T09:24:53.622385Z"
    }
   },
   "source": [
    "# Unsupervised Learning Predict Solution\n",
    "\n",
    "© Explore Data Science Academy\n",
    "\n",
    "---\n",
    "### Honour Code\n",
    "\n",
    "We, {**TEAM_ND2**}, confirm - by submitting this document - that the solutions in this notebook are a result of our own work as a Team and that we abide by the [EDSA honour code](https://drive.google.com/file/d/1QDCjGZJ8-FmJE3bZdIQNwnJyQKPhHZBn/view?usp=sharing).\n",
    "\n",
    "Non-compliance with the honour code constitutes a material breach of contract.\n"
   ]
  },
  {
   "cell_type": "markdown",
   "id": "0c5d15d7",
   "metadata": {},
   "source": [
    "## PROJECT INTRODUCTION\n",
    "----\n",
    "\n",
    "> Personalization.\n",
    "\n",
    "> The Holy Grail of the Internet.\n",
    "\n",
    "Gone are the days when anonymous shoppers browsed generic stock for an elusive item. Today, anyone can serve customers unlimited, personalized offers tailored to their interests.\n",
    "\n",
    "With all the options online, you need a system that narrows down the possibilities. Something that learns what people like. *That’s where recommender systems come into play.*\n",
    "\n",
    "The largest movie libraries in the world are all digitized and transferred to online streaming services, like Netflix, HBO, or YouTube. Enhanced with AI-powered tools, these platforms can now assist us with probably the most difficult chore of all — picking a movie.\n",
    "\n",
    "> Did you know that almost 80% of Netflix users follow the title recommendations offered by its algorithms ?\n",
    "\n",
    " A movie recommendation system, or a movie recommender system, is an ML-based approach to filtering or predicting the users’ film preferences based on their past choices and behavior. It’s an advanced filtration mechanism that predicts the possible movie choices of the concerned user and their preferences towards a domain-specific item. Filtering for Recommenders system can either be Collaborative based, content based or a hybrid which implements both.\n",
    " \n",
    " \n",
    "<img src=\"https://imgs.search.brave.com/6z-A4dgupg9g-pVZkJM2OKR0WLD-AVLxSJgX73_Bf0s/rs:fit:1024:655:1/g:ce/aHR0cHM6Ly9uZW90/ZXJpYy5ldS93cC1j/b250ZW50L3VwbG9h/ZHMvMjAxOS8wOC9O/ZXRmbGl4LVJlY29t/bWVuZGF0aW9ucy0x/MDI0eDY1NS5qcGc\" width=\"700\">\n",
    "\n",
    "\n",
    "With Recommendation systems;\n",
    "* You do not need a market research to find out whether a customer is willing to purchase at a shop where they’re getting maximum help in scouting the right product. They’re also much more likely to return to such a shop in the future.\n",
    "\n",
    "* Customer satisfaction leads to customer retention.\n",
    "When customers leaves a website and come back later, it would help if their browsing data from the previous session was available. This could further help and guide their e-Commerce activities. This type of customer satisfaction leads to customer retention.\n",
    "\n",
    "* We often take recommendations from friends and family because we trust their opinion. They know what we like better than anyone else. This is the sole reason they are good at recommending things and this is what recommendation systems try to model. \n",
    "\n",
    "\n",
    "In this project, we try to implement a Movie Recommendation system, using both collaborative and content based approach. \n",
    "\n",
    "\n",
    "\n",
    "\n",
    "\n",
    "\n",
    "### Data Sources\n",
    "\n",
    " > Datasets used consist of several million 5-star ratings obtained from users of the online MovieLens movie recommendation service. The MovieLens dataset has long been used by industry and academic researchers to improve the performance of explicitly-based recommender systems.\n",
    "\n",
    "> For this Predict project, we'll be using a special version of the MovieLens dataset which has been enriched with additional data, and resampled for fair evaluation purposes.\n",
    "\n",
    "> The data for the MovieLens dataset is maintained by the GroupLens research group in the Department of Computer Science and Engineering at the University of Minnesota. Additional movie content data was legally scraped from IMDB."
   ]
  },
  {
   "cell_type": "markdown",
   "id": "426f416c",
   "metadata": {},
   "source": [
    "## Problem Statement\n",
    "\n",
    "---\n",
    "> In today’s technology driven world, recommender systems are socially and economically critical for ensuring that individuals can make appropriate choices surrounding the content they engage with on a daily basis. One application where this is especially true surrounds movie content recommendations; where intelligent algorithms can help viewers find great titles from tens of thousands of options.\n",
    "\n",
    "\n",
    "\n",
    "Many companies that offer environmentally friendly products and services would like to determine how people perceive climate change and whether or not they believe it is a real threat. They are seeking a machine learning model that can classify a person's belief in climate change based on their tweet data, in order to increase their market research efforts and inform future marketing strategies."
   ]
  },
  {
   "cell_type": "markdown",
   "id": "3b568b8e",
   "metadata": {},
   "source": [
    "<a id=\"cont\"></a>\n",
    "\n",
    "## Project Pipeline\n",
    "---\n",
    "\n",
    "> The various steps involved in this project are :\n",
    "\n",
    "<a href=#zero>0. Create a connection to comet_ml </a>\n",
    "\n",
    "<a href=#one>1. Import Necessary Dependencies </a>\n",
    "\n",
    "<a href=#two>2. Loading Data </a>\n",
    "\n",
    "<a href=#three>3. Exploratory Data Analysis (EDA)</a>\n",
    "\n",
    "<a href=#four>4. Data Visualization of Target Variables </a>\n",
    "\n",
    "<a href=#five>5. Data Preprocessing </a> \n",
    "\n",
    "<a href=#six>6. Transforming Dataset using TF-IDF Vectorizer </a>\n",
    "\n",
    "<a href=#seven>7. Splitting our data into Train and Test Subset </a>\n",
    "\n",
    "<a href=#eight>8. Model Building </a>\n",
    "\n",
    "<a href=#nine>9. Model Performance</a>\n",
    "\n",
    "<a href=#ten>10. Model Explanations</a>\n",
    "\n",
    "<a href=#eleven>11. Logging Params on Comet </a>\n",
    "\n",
    "<a href=#twelve>12. Pickling of models and vectorizer </a>\n",
    "\n",
    "<a href=#thirteen>13. Conclusion </a>\n",
    "\n",
    "<a href=#fourteen>14. Reference </a>\n"
   ]
  },
  {
   "cell_type": "markdown",
   "id": "8d7b9621",
   "metadata": {},
   "source": [
    " <a id=\"zero\"></a>\n",
    "##  0. Create a connection to comet_ml\n",
    "<a class=\"anchor\" id=\"1.1\"></a>\n",
    "<a href=#cont>Back to Project Pipeline</a>"
   ]
  },
  {
   "cell_type": "code",
   "execution_count": 93,
   "id": "cd952d4d",
   "metadata": {},
   "outputs": [
    {
     "name": "stderr",
     "output_type": "stream",
     "text": [
      "COMET WARNING: As you are running in a Jupyter environment, you will need to call `experiment.end()` when finished to ensure all metrics and code are logged before exiting.\n",
      "COMET WARNING: The given value of the metric sys.load.avg was None; ignoring\n",
      "COMET INFO: Experiment is live on comet.com https://www.comet.com/jasperzeroes/the-cudar-project/9a5cc27854c94d10b491483eef335734\n",
      "\n",
      "COMET WARNING: The given value of the metric sys.load.avg was None; ignoring\n"
     ]
    }
   ],
   "source": [
    "# import comet_ml at the top of your file\n",
    "from comet_ml import Experiment\n",
    "\n",
    "# Create an experiment with your api key\n",
    "experiment = Experiment(\n",
    "    api_key=\"AwtbkJsBi9bHzgoEZ5WfBb2AA\",\n",
    "    project_name=\"the-cudar-project\",\n",
    "    workspace=\"jasperzeroes\",\n",
    ")\n"
   ]
  },
  {
   "cell_type": "markdown",
   "id": "38c1f74e",
   "metadata": {},
   "source": [
    " <a id=\"one\"></a>\n",
    "## 1. Importing Necessary Dependencies\n",
    "<a class=\"anchor\" id=\"1.1\"></a>\n",
    "<a href=#cont>Back to Project Pipeline</a>"
   ]
  },
  {
   "cell_type": "code",
   "execution_count": 2,
   "id": "9f243cab",
   "metadata": {
    "ExecuteTime": {
     "end_time": "2021-06-23T10:30:53.800892Z",
     "start_time": "2021-06-23T10:30:50.215449Z"
    }
   },
   "outputs": [],
   "source": [
    "# Libraries for data loading, data manipulation and data visulisation\n",
    "import pandas as pd\n",
    "import numpy as np\n",
    "import matplotlib.pyplot as plt\n",
    "%matplotlib inline\n",
    "from scipy import stats\n",
    "# Libraries for Natural Language Processing\n",
    "import nltk\n",
    "from nltk.corpus import stopwords\n",
    "# Libraries for data preparation and model building\n",
    "import csv\n",
    "import surprise\n",
    "from surprise import Dataset, Reader\n",
    "from surprise.model_selection import train_test_split\n",
    "from sklearn.feature_extraction.text import TfidfVectorizer\n",
    "# Libraries for Model Performance and Evaluation\n",
    "from surprise.model_selection import KFold, GridSearchCV, cross_validate\n",
    "from surprise import accuracy, SVD, SVDpp, Dataset, NormalPredictor, Reader\n",
    "#Library to pickle a model\n",
    "import pickle\n",
    "\n",
    "import warnings\n",
    "warnings.filterwarnings('ignore')\n"
   ]
  },
  {
   "cell_type": "markdown",
   "id": "555f82f4",
   "metadata": {},
   "source": [
    "<a id=\"two\"></a>\n",
    "## 2. Loading the Data\n",
    "<a class=\"anchor\" id=\"1.1\"></a>\n",
    "<a href=#cont>Back to Project Pipeline</a>\n",
    "\n",
    "\n",
    "Load necessary csv files containing data\n",
    "\n",
    "> We are provided with the following datasets namely;\n",
    "\n",
    "\n",
    "* **movies.csv** - Contain movie information such as movieId, movie title and genre.\n",
    "\n",
    "* **train.csv** - The training split of the dataset. Contains user and movie IDs with associated ratings and Timestamps. Ratings are made on a 5-star scale, with half-star increments (0.5 stars - 5.0 stars).Timestamps represent seconds since midnight Coordinated Universal Time (UTC) of January 1, 1970. \n",
    "\n",
    "* **test.csv** - The test split of the dataset. Contains user and movie IDs with no rating data and will be used to make the final prediction, on Kaggle, to see how well the models perform on unseen data.\n",
    "\n",
    "---"
   ]
  },
  {
   "cell_type": "code",
   "execution_count": 69,
   "id": "af24f980",
   "metadata": {
    "ExecuteTime": {
     "end_time": "2021-06-28T08:49:35.311495Z",
     "start_time": "2021-06-28T08:49:35.295494Z"
    }
   },
   "outputs": [],
   "source": [
    "# Load and view structure of the datasets\n",
    "movies = pd.read_csv('resources/data/movies.csv')\n",
    "#ratings = pd.read_csv('resources/data/ratings_lit.csv')\n",
    "train = pd.read_csv('resources/data/train.csv')\n",
    "test = pd.read_csv('resources/data/test.csv')"
   ]
  },
  {
   "cell_type": "code",
   "execution_count": 9,
   "id": "de410558",
   "metadata": {},
   "outputs": [
    {
     "data": {
      "text/html": [
       "<div>\n",
       "<style scoped>\n",
       "    .dataframe tbody tr th:only-of-type {\n",
       "        vertical-align: middle;\n",
       "    }\n",
       "\n",
       "    .dataframe tbody tr th {\n",
       "        vertical-align: top;\n",
       "    }\n",
       "\n",
       "    .dataframe thead th {\n",
       "        text-align: right;\n",
       "    }\n",
       "</style>\n",
       "<table border=\"1\" class=\"dataframe\">\n",
       "  <thead>\n",
       "    <tr style=\"text-align: right;\">\n",
       "      <th></th>\n",
       "      <th>movieId</th>\n",
       "      <th>title</th>\n",
       "      <th>genres</th>\n",
       "    </tr>\n",
       "  </thead>\n",
       "  <tbody>\n",
       "    <tr>\n",
       "      <th>0</th>\n",
       "      <td>1</td>\n",
       "      <td>Toy Story (1995)</td>\n",
       "      <td>Adventure|Animation|Children|Comedy|Fantasy</td>\n",
       "    </tr>\n",
       "    <tr>\n",
       "      <th>1</th>\n",
       "      <td>2</td>\n",
       "      <td>Jumanji (1995)</td>\n",
       "      <td>Adventure|Children|Fantasy</td>\n",
       "    </tr>\n",
       "    <tr>\n",
       "      <th>2</th>\n",
       "      <td>3</td>\n",
       "      <td>Grumpier Old Men (1995)</td>\n",
       "      <td>Comedy|Romance</td>\n",
       "    </tr>\n",
       "    <tr>\n",
       "      <th>3</th>\n",
       "      <td>4</td>\n",
       "      <td>Waiting to Exhale (1995)</td>\n",
       "      <td>Comedy|Drama|Romance</td>\n",
       "    </tr>\n",
       "    <tr>\n",
       "      <th>4</th>\n",
       "      <td>5</td>\n",
       "      <td>Father of the Bride Part II (1995)</td>\n",
       "      <td>Comedy</td>\n",
       "    </tr>\n",
       "  </tbody>\n",
       "</table>\n",
       "</div>"
      ],
      "text/plain": [
       "   movieId                               title  \\\n",
       "0        1                    Toy Story (1995)   \n",
       "1        2                      Jumanji (1995)   \n",
       "2        3             Grumpier Old Men (1995)   \n",
       "3        4            Waiting to Exhale (1995)   \n",
       "4        5  Father of the Bride Part II (1995)   \n",
       "\n",
       "                                        genres  \n",
       "0  Adventure|Animation|Children|Comedy|Fantasy  \n",
       "1                   Adventure|Children|Fantasy  \n",
       "2                               Comedy|Romance  \n",
       "3                         Comedy|Drama|Romance  \n",
       "4                                       Comedy  "
      ]
     },
     "execution_count": 9,
     "metadata": {},
     "output_type": "execute_result"
    }
   ],
   "source": [
    "movies.head()"
   ]
  },
  {
   "cell_type": "markdown",
   "id": "88de5651",
   "metadata": {},
   "source": [
    "The \"genres column\" of the dataframe contains special characters (vertical lines). Also, words in the 'title and genres columns' begin with uppercase letters. The objectives will be to remove these special characters and that would otherwise consume computational resources as well as converting all our words to lowercase letters in the **Data Preprocessing section** of this notebook."
   ]
  },
  {
   "cell_type": "code",
   "execution_count": 6,
   "id": "e0d9ec63",
   "metadata": {},
   "outputs": [
    {
     "data": {
      "text/html": [
       "<div>\n",
       "<style scoped>\n",
       "    .dataframe tbody tr th:only-of-type {\n",
       "        vertical-align: middle;\n",
       "    }\n",
       "\n",
       "    .dataframe tbody tr th {\n",
       "        vertical-align: top;\n",
       "    }\n",
       "\n",
       "    .dataframe thead th {\n",
       "        text-align: right;\n",
       "    }\n",
       "</style>\n",
       "<table border=\"1\" class=\"dataframe\">\n",
       "  <thead>\n",
       "    <tr style=\"text-align: right;\">\n",
       "      <th></th>\n",
       "      <th>userId</th>\n",
       "      <th>movieId</th>\n",
       "      <th>rating</th>\n",
       "      <th>timestamp</th>\n",
       "    </tr>\n",
       "  </thead>\n",
       "  <tbody>\n",
       "    <tr>\n",
       "      <th>0</th>\n",
       "      <td>5163</td>\n",
       "      <td>57669</td>\n",
       "      <td>4.0</td>\n",
       "      <td>1518349992</td>\n",
       "    </tr>\n",
       "    <tr>\n",
       "      <th>1</th>\n",
       "      <td>106343</td>\n",
       "      <td>5</td>\n",
       "      <td>4.5</td>\n",
       "      <td>1206238739</td>\n",
       "    </tr>\n",
       "    <tr>\n",
       "      <th>2</th>\n",
       "      <td>146790</td>\n",
       "      <td>5459</td>\n",
       "      <td>5.0</td>\n",
       "      <td>1076215539</td>\n",
       "    </tr>\n",
       "    <tr>\n",
       "      <th>3</th>\n",
       "      <td>106362</td>\n",
       "      <td>32296</td>\n",
       "      <td>2.0</td>\n",
       "      <td>1423042565</td>\n",
       "    </tr>\n",
       "    <tr>\n",
       "      <th>4</th>\n",
       "      <td>9041</td>\n",
       "      <td>366</td>\n",
       "      <td>3.0</td>\n",
       "      <td>833375837</td>\n",
       "    </tr>\n",
       "  </tbody>\n",
       "</table>\n",
       "</div>"
      ],
      "text/plain": [
       "   userId  movieId  rating   timestamp\n",
       "0    5163    57669     4.0  1518349992\n",
       "1  106343        5     4.5  1206238739\n",
       "2  146790     5459     5.0  1076215539\n",
       "3  106362    32296     2.0  1423042565\n",
       "4    9041      366     3.0   833375837"
      ]
     },
     "execution_count": 6,
     "metadata": {},
     "output_type": "execute_result"
    }
   ],
   "source": [
    "train.head()"
   ]
  },
  {
   "cell_type": "code",
   "execution_count": 8,
   "id": "4b89543f",
   "metadata": {},
   "outputs": [
    {
     "data": {
      "text/html": [
       "<div>\n",
       "<style scoped>\n",
       "    .dataframe tbody tr th:only-of-type {\n",
       "        vertical-align: middle;\n",
       "    }\n",
       "\n",
       "    .dataframe tbody tr th {\n",
       "        vertical-align: top;\n",
       "    }\n",
       "\n",
       "    .dataframe thead th {\n",
       "        text-align: right;\n",
       "    }\n",
       "</style>\n",
       "<table border=\"1\" class=\"dataframe\">\n",
       "  <thead>\n",
       "    <tr style=\"text-align: right;\">\n",
       "      <th></th>\n",
       "      <th>userId</th>\n",
       "      <th>movieId</th>\n",
       "    </tr>\n",
       "  </thead>\n",
       "  <tbody>\n",
       "    <tr>\n",
       "      <th>0</th>\n",
       "      <td>1</td>\n",
       "      <td>2011</td>\n",
       "    </tr>\n",
       "    <tr>\n",
       "      <th>1</th>\n",
       "      <td>1</td>\n",
       "      <td>4144</td>\n",
       "    </tr>\n",
       "    <tr>\n",
       "      <th>2</th>\n",
       "      <td>1</td>\n",
       "      <td>5767</td>\n",
       "    </tr>\n",
       "    <tr>\n",
       "      <th>3</th>\n",
       "      <td>1</td>\n",
       "      <td>6711</td>\n",
       "    </tr>\n",
       "    <tr>\n",
       "      <th>4</th>\n",
       "      <td>1</td>\n",
       "      <td>7318</td>\n",
       "    </tr>\n",
       "  </tbody>\n",
       "</table>\n",
       "</div>"
      ],
      "text/plain": [
       "   userId  movieId\n",
       "0       1     2011\n",
       "1       1     4144\n",
       "2       1     5767\n",
       "3       1     6711\n",
       "4       1     7318"
      ]
     },
     "execution_count": 8,
     "metadata": {},
     "output_type": "execute_result"
    }
   ],
   "source": [
    "test.head()"
   ]
  },
  {
   "cell_type": "markdown",
   "id": "8dfba8f6",
   "metadata": {},
   "source": [
    "<a id=\"three\"></a>\n",
    "## 3. Exploratory Data Analysis (EDA)\n",
    "<a class=\"anchor\" id=\"1.1\"></a>\n",
    "<a href=#cont>Back to Project Pipeline</a>\n",
    "\n",
    "\n",
    "<img src=\"https://imgs.search.brave.com/nPNv6ju12upBCEiinjTg9aZQLyPKzZTkpHewmoo0aI8/rs:fit:750:360:1/g:ce/aHR0cHM6Ly93d3cu/YW5hbHl0aWNzc3Rl/cHMuY29tL2JhY2tl/bmQvbWVkaWEvdGh1/bWJuYWlsLzMxNTc5/NzcvODAwNjU1MV8x/NTg3MzI0Njk2X2Rh/dGElMjBhbmFseXNp/cy5qcGc\" width=\"400\">\n",
    "\n",
    "\n",
    "\n",
    "> In this section,  data sets will be analyzed to find patterns, tell insights, and summarize their main characteristics, often with visual methods and an in-depth analysis of all the variables in the DataFrame. This helps for seeing what the data can tell us beyond the formal modeling or hypothesis testing task.\n"
   ]
  },
  {
   "cell_type": "code",
   "execution_count": 10,
   "id": "a88d5ec7",
   "metadata": {},
   "outputs": [
    {
     "data": {
      "text/plain": [
       "(62423, 3)"
      ]
     },
     "execution_count": 10,
     "metadata": {},
     "output_type": "execute_result"
    }
   ],
   "source": [
    "# Check dimension\n",
    "# movies\n",
    "movies.shape"
   ]
  },
  {
   "cell_type": "markdown",
   "id": "4dc735d6",
   "metadata": {},
   "source": [
    "There are about 62,000 row counts and 3 columns in the movie dataset"
   ]
  },
  {
   "cell_type": "code",
   "execution_count": 13,
   "id": "d0d2cb18",
   "metadata": {},
   "outputs": [
    {
     "data": {
      "text/plain": [
       "movieId    0\n",
       "title      0\n",
       "genres     0\n",
       "dtype: int64"
      ]
     },
     "execution_count": 13,
     "metadata": {},
     "output_type": "execute_result"
    }
   ],
   "source": [
    "# Check for nulls\n",
    "movies.isnull().sum()"
   ]
  },
  {
   "cell_type": "markdown",
   "id": "7237951f",
   "metadata": {},
   "source": [
    "There are no null values in the movie dataset"
   ]
  },
  {
   "cell_type": "code",
   "execution_count": 18,
   "id": "b69d4acb",
   "metadata": {},
   "outputs": [
    {
     "data": {
      "text/plain": [
       "0"
      ]
     },
     "execution_count": 18,
     "metadata": {},
     "output_type": "execute_result"
    }
   ],
   "source": [
    "# Check for duplicates in each column of the movie dataset\n",
    "# movie Id\n",
    "movies[\"movieId\"].duplicated().sum()"
   ]
  },
  {
   "cell_type": "markdown",
   "id": "5b0c3c6c",
   "metadata": {},
   "source": [
    "There are no duplicate movieId"
   ]
  },
  {
   "cell_type": "code",
   "execution_count": 21,
   "id": "efff0237",
   "metadata": {},
   "outputs": [
    {
     "data": {
      "text/plain": [
       "98"
      ]
     },
     "execution_count": 21,
     "metadata": {},
     "output_type": "execute_result"
    }
   ],
   "source": [
    "# title\n",
    "movies[\"title\"].duplicated().sum()"
   ]
  },
  {
   "cell_type": "markdown",
   "id": "2ec8b348",
   "metadata": {},
   "source": [
    "Since there are no duplicate movieId's but there exist duplicates in movie titles, we need to drop the duplicate titles with their movieId"
   ]
  },
  {
   "cell_type": "code",
   "execution_count": 26,
   "id": "e649901c",
   "metadata": {},
   "outputs": [
    {
     "data": {
      "text/plain": [
       "(10000038, 4)"
      ]
     },
     "execution_count": 26,
     "metadata": {},
     "output_type": "execute_result"
    }
   ],
   "source": [
    "# train\n",
    "train.shape"
   ]
  },
  {
   "cell_type": "markdown",
   "id": "2b18d70d",
   "metadata": {},
   "source": [
    "There are about 10 million row counts and 4 columns in the train dataset"
   ]
  },
  {
   "cell_type": "code",
   "execution_count": 27,
   "id": "e411abd0",
   "metadata": {},
   "outputs": [
    {
     "data": {
      "text/plain": [
       "userId       0\n",
       "movieId      0\n",
       "rating       0\n",
       "timestamp    0\n",
       "dtype: int64"
      ]
     },
     "execution_count": 27,
     "metadata": {},
     "output_type": "execute_result"
    }
   ],
   "source": [
    "# Check for nulls\n",
    "train.isnull().sum()"
   ]
  },
  {
   "cell_type": "markdown",
   "id": "09992c95",
   "metadata": {},
   "source": [
    "There are no null values in the train dataset"
   ]
  },
  {
   "cell_type": "code",
   "execution_count": 128,
   "id": "e819302a",
   "metadata": {},
   "outputs": [
    {
     "data": {
      "text/plain": [
       "dtype('int64')"
      ]
     },
     "execution_count": 128,
     "metadata": {},
     "output_type": "execute_result"
    }
   ],
   "source": [
    "# Check datatype for timestamp\n",
    "train['timestamp'].dtype"
   ]
  },
  {
   "cell_type": "markdown",
   "id": "a4be9e4b",
   "metadata": {},
   "source": [
    "# Take note of this\n",
    "\n",
    "Our timestamp datatype is given int64. Convert to datetime datatype in the Data preprocessing section of this notebook"
   ]
  },
  {
   "cell_type": "code",
   "execution_count": 59,
   "id": "5f241628",
   "metadata": {},
   "outputs": [
    {
     "data": {
      "text/html": [
       "<div>\n",
       "<style scoped>\n",
       "    .dataframe tbody tr th:only-of-type {\n",
       "        vertical-align: middle;\n",
       "    }\n",
       "\n",
       "    .dataframe tbody tr th {\n",
       "        vertical-align: top;\n",
       "    }\n",
       "\n",
       "    .dataframe thead th {\n",
       "        text-align: right;\n",
       "    }\n",
       "</style>\n",
       "<table border=\"1\" class=\"dataframe\">\n",
       "  <thead>\n",
       "    <tr style=\"text-align: right;\">\n",
       "      <th></th>\n",
       "      <th>user_id</th>\n",
       "      <th>average_rating</th>\n",
       "      <th>frequency</th>\n",
       "    </tr>\n",
       "  </thead>\n",
       "  <tbody>\n",
       "    <tr>\n",
       "      <th>72314</th>\n",
       "      <td>72315</td>\n",
       "      <td>3.092380</td>\n",
       "      <td>12952</td>\n",
       "    </tr>\n",
       "    <tr>\n",
       "      <th>80973</th>\n",
       "      <td>80974</td>\n",
       "      <td>3.277582</td>\n",
       "      <td>3680</td>\n",
       "    </tr>\n",
       "    <tr>\n",
       "      <th>137292</th>\n",
       "      <td>137293</td>\n",
       "      <td>3.192168</td>\n",
       "      <td>3588</td>\n",
       "    </tr>\n",
       "    <tr>\n",
       "      <th>33843</th>\n",
       "      <td>33844</td>\n",
       "      <td>2.583853</td>\n",
       "      <td>3208</td>\n",
       "    </tr>\n",
       "    <tr>\n",
       "      <th>20054</th>\n",
       "      <td>20055</td>\n",
       "      <td>3.179016</td>\n",
       "      <td>3050</td>\n",
       "    </tr>\n",
       "  </tbody>\n",
       "</table>\n",
       "</div>"
      ],
      "text/plain": [
       "        user_id  average_rating  frequency\n",
       "72314     72315        3.092380      12952\n",
       "80973     80974        3.277582       3680\n",
       "137292   137293        3.192168       3588\n",
       "33843     33844        2.583853       3208\n",
       "20054     20055        3.179016       3050"
      ]
     },
     "execution_count": 59,
     "metadata": {},
     "output_type": "execute_result"
    }
   ],
   "source": [
    "# Group the data by userId and get the average rating and frequency\n",
    "rating_frequency = train.groupby([\"userId\"]).agg({'rating': ['mean', 'size']})\n",
    "\n",
    "# Rename the columns\n",
    "rating_frequency.columns = ['average_rating', 'frequency']\n",
    "\n",
    "# Move the userId column from the index to a column\n",
    "rating_frequency = rating_frequency.reset_index()\n",
    "\n",
    "# Rename the userId column\n",
    "rating_frequency = rating_frequency.rename(columns={'userId':'user_id'})\n",
    "\n",
    "# sort by descending order\n",
    "rating_frequency = rating_frequency.sort_values(by='frequency',ascending=False)\n",
    "\n",
    "# View the dataframe\n",
    "rating_frequency.head()"
   ]
  },
  {
   "cell_type": "code",
   "execution_count": 67,
   "id": "0c943f01",
   "metadata": {},
   "outputs": [],
   "source": [
    "# You can do the above with this line of code\n",
    "#rating_freq = train.groupby(['userId']).agg({'rating': ['mean', 'size']}).reset_index().rename(columns={'userId':'user_id', 'rating': 'average_rating', 'size':'frequency'})"
   ]
  },
  {
   "cell_type": "code",
   "execution_count": 80,
   "id": "79beaa80",
   "metadata": {},
   "outputs": [
    {
     "data": {
      "text/html": [
       "<div>\n",
       "<style scoped>\n",
       "    .dataframe tbody tr th:only-of-type {\n",
       "        vertical-align: middle;\n",
       "    }\n",
       "\n",
       "    .dataframe tbody tr th {\n",
       "        vertical-align: top;\n",
       "    }\n",
       "\n",
       "    .dataframe thead th {\n",
       "        text-align: right;\n",
       "    }\n",
       "</style>\n",
       "<table border=\"1\" class=\"dataframe\">\n",
       "  <thead>\n",
       "    <tr style=\"text-align: right;\">\n",
       "      <th></th>\n",
       "      <th>user_id</th>\n",
       "      <th>average_rating</th>\n",
       "      <th>frequency</th>\n",
       "    </tr>\n",
       "  </thead>\n",
       "  <tbody>\n",
       "    <tr>\n",
       "      <th>79086</th>\n",
       "      <td>79087</td>\n",
       "      <td>4.5</td>\n",
       "      <td>1</td>\n",
       "    </tr>\n",
       "    <tr>\n",
       "      <th>53639</th>\n",
       "      <td>53640</td>\n",
       "      <td>4.0</td>\n",
       "      <td>1</td>\n",
       "    </tr>\n",
       "    <tr>\n",
       "      <th>105713</th>\n",
       "      <td>105714</td>\n",
       "      <td>2.0</td>\n",
       "      <td>1</td>\n",
       "    </tr>\n",
       "    <tr>\n",
       "      <th>121070</th>\n",
       "      <td>121071</td>\n",
       "      <td>4.0</td>\n",
       "      <td>1</td>\n",
       "    </tr>\n",
       "    <tr>\n",
       "      <th>55361</th>\n",
       "      <td>55362</td>\n",
       "      <td>3.5</td>\n",
       "      <td>1</td>\n",
       "    </tr>\n",
       "  </tbody>\n",
       "</table>\n",
       "</div>"
      ],
      "text/plain": [
       "        user_id  average_rating  frequency\n",
       "79086     79087             4.5          1\n",
       "53639     53640             4.0          1\n",
       "105713   105714             2.0          1\n",
       "121070   121071             4.0          1\n",
       "55361     55362             3.5          1"
      ]
     },
     "execution_count": 80,
     "metadata": {},
     "output_type": "execute_result"
    }
   ],
   "source": [
    "rating_frequency.tail()  # Remember to remove users with less than \n",
    "#20 rating frequency (i.e users who have rated less than 20 movies). Also include a reason for removing them"
   ]
  },
  {
   "cell_type": "code",
   "execution_count": 70,
   "id": "6fc3a89a",
   "metadata": {},
   "outputs": [
    {
     "data": {
      "text/html": [
       "<div>\n",
       "<style scoped>\n",
       "    .dataframe tbody tr th:only-of-type {\n",
       "        vertical-align: middle;\n",
       "    }\n",
       "\n",
       "    .dataframe tbody tr th {\n",
       "        vertical-align: top;\n",
       "    }\n",
       "\n",
       "    .dataframe thead th {\n",
       "        text-align: right;\n",
       "    }\n",
       "</style>\n",
       "<table border=\"1\" class=\"dataframe\">\n",
       "  <thead>\n",
       "    <tr style=\"text-align: right;\">\n",
       "      <th></th>\n",
       "      <th>movieId</th>\n",
       "      <th>title</th>\n",
       "      <th>genres</th>\n",
       "      <th>userId</th>\n",
       "      <th>rating</th>\n",
       "      <th>timestamp</th>\n",
       "    </tr>\n",
       "  </thead>\n",
       "  <tbody>\n",
       "    <tr>\n",
       "      <th>0</th>\n",
       "      <td>1</td>\n",
       "      <td>Toy Story (1995)</td>\n",
       "      <td>Adventure|Animation|Children|Comedy|Fantasy</td>\n",
       "      <td>158849</td>\n",
       "      <td>5.0</td>\n",
       "      <td>994716786</td>\n",
       "    </tr>\n",
       "    <tr>\n",
       "      <th>1</th>\n",
       "      <td>1</td>\n",
       "      <td>Toy Story (1995)</td>\n",
       "      <td>Adventure|Animation|Children|Comedy|Fantasy</td>\n",
       "      <td>97203</td>\n",
       "      <td>5.0</td>\n",
       "      <td>942683155</td>\n",
       "    </tr>\n",
       "    <tr>\n",
       "      <th>2</th>\n",
       "      <td>1</td>\n",
       "      <td>Toy Story (1995)</td>\n",
       "      <td>Adventure|Animation|Children|Comedy|Fantasy</td>\n",
       "      <td>161871</td>\n",
       "      <td>3.0</td>\n",
       "      <td>833104576</td>\n",
       "    </tr>\n",
       "    <tr>\n",
       "      <th>3</th>\n",
       "      <td>1</td>\n",
       "      <td>Toy Story (1995)</td>\n",
       "      <td>Adventure|Animation|Children|Comedy|Fantasy</td>\n",
       "      <td>45117</td>\n",
       "      <td>4.0</td>\n",
       "      <td>1442256969</td>\n",
       "    </tr>\n",
       "    <tr>\n",
       "      <th>4</th>\n",
       "      <td>1</td>\n",
       "      <td>Toy Story (1995)</td>\n",
       "      <td>Adventure|Animation|Children|Comedy|Fantasy</td>\n",
       "      <td>27431</td>\n",
       "      <td>5.0</td>\n",
       "      <td>849667827</td>\n",
       "    </tr>\n",
       "  </tbody>\n",
       "</table>\n",
       "</div>"
      ],
      "text/plain": [
       "   movieId             title                                       genres  \\\n",
       "0        1  Toy Story (1995)  Adventure|Animation|Children|Comedy|Fantasy   \n",
       "1        1  Toy Story (1995)  Adventure|Animation|Children|Comedy|Fantasy   \n",
       "2        1  Toy Story (1995)  Adventure|Animation|Children|Comedy|Fantasy   \n",
       "3        1  Toy Story (1995)  Adventure|Animation|Children|Comedy|Fantasy   \n",
       "4        1  Toy Story (1995)  Adventure|Animation|Children|Comedy|Fantasy   \n",
       "\n",
       "   userId  rating   timestamp  \n",
       "0  158849     5.0   994716786  \n",
       "1   97203     5.0   942683155  \n",
       "2  161871     3.0   833104576  \n",
       "3   45117     4.0  1442256969  \n",
       "4   27431     5.0   849667827  "
      ]
     },
     "execution_count": 70,
     "metadata": {},
     "output_type": "execute_result"
    }
   ],
   "source": [
    "# To check for freq of rating by genres, we need to first merge the two dataframes\n",
    "merged_df = movies.merge(train, on=\"movieId\")\n",
    "\n",
    "# View merged dataframe\n",
    "merged_df.head()"
   ]
  },
  {
   "cell_type": "code",
   "execution_count": 77,
   "id": "9f75a4c1",
   "metadata": {},
   "outputs": [
    {
     "data": {
      "text/html": [
       "<div>\n",
       "<style scoped>\n",
       "    .dataframe tbody tr th:only-of-type {\n",
       "        vertical-align: middle;\n",
       "    }\n",
       "\n",
       "    .dataframe tbody tr th {\n",
       "        vertical-align: top;\n",
       "    }\n",
       "\n",
       "    .dataframe thead th {\n",
       "        text-align: right;\n",
       "    }\n",
       "</style>\n",
       "<table border=\"1\" class=\"dataframe\">\n",
       "  <thead>\n",
       "    <tr style=\"text-align: right;\">\n",
       "      <th></th>\n",
       "      <th>average_rating</th>\n",
       "      <th>frequency</th>\n",
       "    </tr>\n",
       "    <tr>\n",
       "      <th>genres</th>\n",
       "      <th></th>\n",
       "      <th></th>\n",
       "    </tr>\n",
       "  </thead>\n",
       "  <tbody>\n",
       "    <tr>\n",
       "      <th>Drama</th>\n",
       "      <td>3.692465</td>\n",
       "      <td>706335</td>\n",
       "    </tr>\n",
       "    <tr>\n",
       "      <th>Comedy</th>\n",
       "      <td>3.247779</td>\n",
       "      <td>606057</td>\n",
       "    </tr>\n",
       "    <tr>\n",
       "      <th>Comedy|Romance</th>\n",
       "      <td>3.374743</td>\n",
       "      <td>360826</td>\n",
       "    </tr>\n",
       "    <tr>\n",
       "      <th>Drama|Romance</th>\n",
       "      <td>3.668020</td>\n",
       "      <td>318408</td>\n",
       "    </tr>\n",
       "    <tr>\n",
       "      <th>Comedy|Drama</th>\n",
       "      <td>3.567830</td>\n",
       "      <td>288847</td>\n",
       "    </tr>\n",
       "  </tbody>\n",
       "</table>\n",
       "</div>"
      ],
      "text/plain": [
       "                average_rating  frequency\n",
       "genres                                   \n",
       "Drama                 3.692465     706335\n",
       "Comedy                3.247779     606057\n",
       "Comedy|Romance        3.374743     360826\n",
       "Drama|Romance         3.668020     318408\n",
       "Comedy|Drama          3.567830     288847"
      ]
     },
     "execution_count": 77,
     "metadata": {},
     "output_type": "execute_result"
    }
   ],
   "source": [
    "# Group the data by genres and get the average rating and frequency\n",
    "genre_frequency = merged_df.groupby([\"genres\"]).agg({'rating': ['mean', 'size']})\n",
    "\n",
    "# Rename the columns\n",
    "genre_frequency.columns = ['average_rating', 'frequency']\n",
    "\n",
    "# sort by descending order\n",
    "genre_frequency = genre_frequency.sort_values(by='frequency',ascending=False)\n",
    "\n",
    "# View the dataframe\n",
    "genre_frequency.head()"
   ]
  },
  {
   "cell_type": "markdown",
   "id": "b4ec4611",
   "metadata": {},
   "source": [
    "# You can plot the above table as a histogram showing the distribution using \n",
    "\n",
    "hashtags[:50].plot(fontsize=15,figsize  = (15,7), kind='bar',y='occurences',x='hashtag')\n",
    "plt.xticks(rotation = 75)\n",
    "plt.tight_layout()\n",
    "plt.grid(False)\n",
    "plt.suptitle('Top 50 Hashtags for Climate Change Tweets', fontsize=20);\n",
    "\n",
    "Clearly this shows there is an imbalance in the frequency of occurrence for each class. Imbalance occurs when there is an uneven distribution of the various observations. Since the training dataset has more observations for 'pro' and least observation for 'anti', this imbalance will likely produce a model that performs well on predicting 'pro' tweets and performs worse on predicting anti tweets. This shouldn't come as a surprise since our model was fed more with pro tweets and least with anti tweets. Remember, for a dataset with imbalanced classes, something like F1-score is a better choice for model evaluation."
   ]
  },
  {
   "cell_type": "code",
   "execution_count": 78,
   "id": "0373f579",
   "metadata": {},
   "outputs": [
    {
     "data": {
      "text/html": [
       "<div>\n",
       "<style scoped>\n",
       "    .dataframe tbody tr th:only-of-type {\n",
       "        vertical-align: middle;\n",
       "    }\n",
       "\n",
       "    .dataframe tbody tr th {\n",
       "        vertical-align: top;\n",
       "    }\n",
       "\n",
       "    .dataframe thead th {\n",
       "        text-align: right;\n",
       "    }\n",
       "</style>\n",
       "<table border=\"1\" class=\"dataframe\">\n",
       "  <thead>\n",
       "    <tr style=\"text-align: right;\">\n",
       "      <th></th>\n",
       "      <th>average_rating</th>\n",
       "      <th>frequency</th>\n",
       "    </tr>\n",
       "    <tr>\n",
       "      <th>genres</th>\n",
       "      <th></th>\n",
       "      <th></th>\n",
       "    </tr>\n",
       "  </thead>\n",
       "  <tbody>\n",
       "    <tr>\n",
       "      <th>Action|Adventure|Drama|Horror|Sci-Fi</th>\n",
       "      <td>0.5</td>\n",
       "      <td>1</td>\n",
       "    </tr>\n",
       "    <tr>\n",
       "      <th>Crime|Fantasy|Mystery</th>\n",
       "      <td>0.5</td>\n",
       "      <td>1</td>\n",
       "    </tr>\n",
       "    <tr>\n",
       "      <th>Action|Crime|Mystery|Romance|Sci-Fi|Thriller</th>\n",
       "      <td>3.0</td>\n",
       "      <td>1</td>\n",
       "    </tr>\n",
       "    <tr>\n",
       "      <th>Action|Children|Comedy|Drama</th>\n",
       "      <td>3.0</td>\n",
       "      <td>1</td>\n",
       "    </tr>\n",
       "    <tr>\n",
       "      <th>Action|Adventure|Crime|Drama|Fantasy|Horror|Mystery</th>\n",
       "      <td>2.5</td>\n",
       "      <td>1</td>\n",
       "    </tr>\n",
       "  </tbody>\n",
       "</table>\n",
       "</div>"
      ],
      "text/plain": [
       "                                                    average_rating  frequency\n",
       "genres                                                                       \n",
       "Action|Adventure|Drama|Horror|Sci-Fi                           0.5          1\n",
       "Crime|Fantasy|Mystery                                          0.5          1\n",
       "Action|Crime|Mystery|Romance|Sci-Fi|Thriller                   3.0          1\n",
       "Action|Children|Comedy|Drama                                   3.0          1\n",
       "Action|Adventure|Crime|Drama|Fantasy|Horror|Mys...             2.5          1"
      ]
     },
     "execution_count": 78,
     "metadata": {},
     "output_type": "execute_result"
    }
   ],
   "source": [
    "genre_frequency.tail()"
   ]
  },
  {
   "cell_type": "markdown",
   "id": "4de568a7",
   "metadata": {},
   "source": [
    "As can be seen, the 3 highest rated movie genres are \n",
    "\n",
    "* Drama, \n",
    "* Comedy, and \n",
    "* Romance\n",
    "\n",
    "While the 3 least rated movie genres, in no particular order, are \n",
    "\n",
    "* Action|Adventure|Drama|Horror|Sci-Fi, \n",
    "* Crime|Fantasy|Mystery, and \n",
    "* Action|Crime|Mystery|Romance|Sci-Fi|Thrille . \n",
    "\n",
    "Since some movies have more rating frequency than others, we need to normalise our dataset"
   ]
  },
  {
   "cell_type": "code",
   "execution_count": 87,
   "id": "de84ab87",
   "metadata": {},
   "outputs": [
    {
     "data": {
      "image/png": "[encoded data removed]",
      "text/plain": [
       "<Figure size 640x480 with 1 Axes>"
      ]
     },
     "metadata": {},
     "output_type": "display_data"
    }
   ],
   "source": [
    "# Check for Outliers in the 'rating column' of the train dataset\n",
    "# Draw a box plot\n",
    "plt.boxplot(np.array(train[\"rating\"]))\n",
    "\n",
    "# Add a title and labels\n",
    "plt.title('Box plot for detection of outliers')\n",
    "plt.xlabel('Data')\n",
    "plt.ylabel('Values')\n",
    "\n",
    "# Display the plot\n",
    "plt.show()\n"
   ]
  },
  {
   "cell_type": "markdown",
   "id": "f527ad27",
   "metadata": {},
   "source": [
    "As can be seen, there are clusters of datapoints that are considered outliers in the train dataset"
   ]
  },
  {
   "cell_type": "markdown",
   "id": "f4536df2",
   "metadata": {},
   "source": [
    "# Explain in brief the value of the 5 number summary and don't forget to remove the outliers in the Feature engineering and data cleaning"
   ]
  },
  {
   "cell_type": "code",
   "execution_count": 104,
   "id": "5ca3bcdb",
   "metadata": {},
   "outputs": [
    {
     "data": {
      "text/html": [
       "<div>\n",
       "<style scoped>\n",
       "    .dataframe tbody tr th:only-of-type {\n",
       "        vertical-align: middle;\n",
       "    }\n",
       "\n",
       "    .dataframe tbody tr th {\n",
       "        vertical-align: top;\n",
       "    }\n",
       "\n",
       "    .dataframe thead th {\n",
       "        text-align: right;\n",
       "    }\n",
       "</style>\n",
       "<table border=\"1\" class=\"dataframe\">\n",
       "  <thead>\n",
       "    <tr style=\"text-align: right;\">\n",
       "      <th></th>\n",
       "      <th>z_rating</th>\n",
       "    </tr>\n",
       "  </thead>\n",
       "  <tbody>\n",
       "    <tr>\n",
       "      <th>0</th>\n",
       "      <td>0.439727</td>\n",
       "    </tr>\n",
       "    <tr>\n",
       "      <th>1</th>\n",
       "      <td>0.910925</td>\n",
       "    </tr>\n",
       "    <tr>\n",
       "      <th>2</th>\n",
       "      <td>1.382124</td>\n",
       "    </tr>\n",
       "    <tr>\n",
       "      <th>3</th>\n",
       "      <td>1.445067</td>\n",
       "    </tr>\n",
       "    <tr>\n",
       "      <th>4</th>\n",
       "      <td>0.502670</td>\n",
       "    </tr>\n",
       "  </tbody>\n",
       "</table>\n",
       "</div>"
      ],
      "text/plain": [
       "   z_rating\n",
       "0  0.439727\n",
       "1  0.910925\n",
       "2  1.382124\n",
       "3  1.445067\n",
       "4  0.502670"
      ]
     },
     "execution_count": 104,
     "metadata": {},
     "output_type": "execute_result"
    }
   ],
   "source": [
    "# Calculate the z-scores\n",
    "z_scores = np.abs(stats.zscore(np.array(train[\"rating\"])))\n",
    "\n",
    "# Create a dataframe of the z_scores\n",
    "z_score_df = pd.DataFrame(z_scores, columns=[\"z_rating\"])\n",
    "z_score_df.head()"
   ]
  },
  {
   "cell_type": "code",
   "execution_count": 121,
   "id": "97e82bc1",
   "metadata": {},
   "outputs": [
    {
     "data": {
      "text/html": [
       "<div>\n",
       "<style scoped>\n",
       "    .dataframe tbody tr th:only-of-type {\n",
       "        vertical-align: middle;\n",
       "    }\n",
       "\n",
       "    .dataframe tbody tr th {\n",
       "        vertical-align: top;\n",
       "    }\n",
       "\n",
       "    .dataframe thead th {\n",
       "        text-align: right;\n",
       "    }\n",
       "</style>\n",
       "<table border=\"1\" class=\"dataframe\">\n",
       "  <thead>\n",
       "    <tr style=\"text-align: right;\">\n",
       "      <th></th>\n",
       "      <th>z_rating</th>\n",
       "    </tr>\n",
       "  </thead>\n",
       "  <tbody>\n",
       "    <tr>\n",
       "      <th>count</th>\n",
       "      <td>1.000004e+07</td>\n",
       "    </tr>\n",
       "    <tr>\n",
       "      <th>mean</th>\n",
       "      <td>7.932283e-01</td>\n",
       "    </tr>\n",
       "    <tr>\n",
       "      <th>std</th>\n",
       "      <td>6.089243e-01</td>\n",
       "    </tr>\n",
       "    <tr>\n",
       "      <th>min</th>\n",
       "      <td>3.147151e-02</td>\n",
       "    </tr>\n",
       "    <tr>\n",
       "      <th>25%</th>\n",
       "      <td>4.397269e-01</td>\n",
       "    </tr>\n",
       "    <tr>\n",
       "      <th>50%</th>\n",
       "      <td>5.026700e-01</td>\n",
       "    </tr>\n",
       "    <tr>\n",
       "      <th>75%</th>\n",
       "      <td>1.382124e+00</td>\n",
       "    </tr>\n",
       "    <tr>\n",
       "      <th>max</th>\n",
       "      <td>2.858662e+00</td>\n",
       "    </tr>\n",
       "  </tbody>\n",
       "</table>\n",
       "</div>"
      ],
      "text/plain": [
       "           z_rating\n",
       "count  1.000004e+07\n",
       "mean   7.932283e-01\n",
       "std    6.089243e-01\n",
       "min    3.147151e-02\n",
       "25%    4.397269e-01\n",
       "50%    5.026700e-01\n",
       "75%    1.382124e+00\n",
       "max    2.858662e+00"
      ]
     },
     "execution_count": 121,
     "metadata": {},
     "output_type": "execute_result"
    }
   ],
   "source": [
    "# Get min and max threshold for outliers\n",
    "z_score_df.describe()"
   ]
  },
  {
   "cell_type": "markdown",
   "id": "c58be88c",
   "metadata": {},
   "source": [
    "The min and max threshold corresponds to the min and max zscores from the dataframe above. Define a threshold - min and max threshold, to detect and remove outliers.\n",
    "\n",
    "Any data point with a z-score greater than the max threshold or lesser than the min threshold, is considered an outlier."
   ]
  },
  {
   "cell_type": "markdown",
   "id": "a4132ac4",
   "metadata": {},
   "source": [
    "# Don't forget this is Data Manipulation, Data cleaning and Data Engineering section "
   ]
  },
  {
   "cell_type": "code",
   "execution_count": 123,
   "id": "5cb9ac85",
   "metadata": {},
   "outputs": [],
   "source": [
    "# Define the min and max threshold\n",
    "min_threshold = 0.03147151\n",
    "max_threshold = 2.858662\n",
    "\n",
    "# Find the outliers\n",
    "min_outliers = np.where(z_score < min_threshold)\n",
    "max_outliers = np.where(z_score > max_threshold)\n",
    "\n",
    "# Store the index of the outliers in a list\n",
    "min_outlier_indexes = min_outliers[0]\n",
    "max_outlier_indexes = max_outliers[0]\n",
    "#print(outlier_indexes)\n",
    "\n",
    "# drop the outliers from the dataframe\n",
    "train_without_outliers = train.drop(min_outlier_indexes)\n",
    "train_without_outliers = train_without_outliers.drop(max_outlier_indexes)"
   ]
  },
  {
   "cell_type": "code",
   "execution_count": 124,
   "id": "f943c75b",
   "metadata": {},
   "outputs": [
    {
     "name": "stdout",
     "output_type": "stream",
     "text": [
      "Length of train dataframe before removing outliers : 10000038\n",
      "Length of train dataframe after removing outliers : 8571825\n",
      "There are about 1428213 outlier datapoints in the train dataset\n"
     ]
    }
   ],
   "source": [
    "print(\"Length of train dataframe before removing outliers :\", len(train))\n",
    "print(\"Length of train dataframe after removing outliers :\", len(train_without_outliers))\n",
    "print(\"There are about\",len(train) - len(train_without_outliers),\"outlier datapoints in the train dataset\")"
   ]
  },
  {
   "cell_type": "code",
   "execution_count": 125,
   "id": "d7c53495",
   "metadata": {},
   "outputs": [
    {
     "data": {
      "text/html": [
       "<div>\n",
       "<style scoped>\n",
       "    .dataframe tbody tr th:only-of-type {\n",
       "        vertical-align: middle;\n",
       "    }\n",
       "\n",
       "    .dataframe tbody tr th {\n",
       "        vertical-align: top;\n",
       "    }\n",
       "\n",
       "    .dataframe thead th {\n",
       "        text-align: right;\n",
       "    }\n",
       "</style>\n",
       "<table border=\"1\" class=\"dataframe\">\n",
       "  <thead>\n",
       "    <tr style=\"text-align: right;\">\n",
       "      <th></th>\n",
       "      <th>userId</th>\n",
       "      <th>movieId</th>\n",
       "      <th>rating</th>\n",
       "      <th>timestamp</th>\n",
       "    </tr>\n",
       "  </thead>\n",
       "  <tbody>\n",
       "    <tr>\n",
       "      <th>0</th>\n",
       "      <td>5163</td>\n",
       "      <td>57669</td>\n",
       "      <td>4.0</td>\n",
       "      <td>1518349992</td>\n",
       "    </tr>\n",
       "    <tr>\n",
       "      <th>1</th>\n",
       "      <td>106343</td>\n",
       "      <td>5</td>\n",
       "      <td>4.5</td>\n",
       "      <td>1206238739</td>\n",
       "    </tr>\n",
       "    <tr>\n",
       "      <th>2</th>\n",
       "      <td>146790</td>\n",
       "      <td>5459</td>\n",
       "      <td>5.0</td>\n",
       "      <td>1076215539</td>\n",
       "    </tr>\n",
       "    <tr>\n",
       "      <th>3</th>\n",
       "      <td>106362</td>\n",
       "      <td>32296</td>\n",
       "      <td>2.0</td>\n",
       "      <td>1423042565</td>\n",
       "    </tr>\n",
       "    <tr>\n",
       "      <th>4</th>\n",
       "      <td>9041</td>\n",
       "      <td>366</td>\n",
       "      <td>3.0</td>\n",
       "      <td>833375837</td>\n",
       "    </tr>\n",
       "  </tbody>\n",
       "</table>\n",
       "</div>"
      ],
      "text/plain": [
       "   userId  movieId  rating   timestamp\n",
       "0    5163    57669     4.0  1518349992\n",
       "1  106343        5     4.5  1206238739\n",
       "2  146790     5459     5.0  1076215539\n",
       "3  106362    32296     2.0  1423042565\n",
       "4    9041      366     3.0   833375837"
      ]
     },
     "execution_count": 125,
     "metadata": {},
     "output_type": "execute_result"
    }
   ],
   "source": [
    "train_without_outliers.head()"
   ]
  },
  {
   "cell_type": "code",
   "execution_count": 126,
   "id": "ba6976af",
   "metadata": {},
   "outputs": [
    {
     "data": {
      "image/png": "[encoded data removed]",
      "text/plain": [
       "<Figure size 640x480 with 1 Axes>"
      ]
     },
     "metadata": {},
     "output_type": "display_data"
    }
   ],
   "source": [
    "# Check to see if Outliers were removed successfully\n",
    "# Draw a box plot\n",
    "plt.boxplot(np.array(train_without_outliers[\"rating\"]))\n",
    "\n",
    "# Add a title and labels\n",
    "plt.title('Box plot after removing outliers')\n",
    "plt.xlabel('Data')\n",
    "plt.ylabel('Values')\n",
    "\n",
    "# Display the plot\n",
    "plt.show()"
   ]
  },
  {
   "cell_type": "markdown",
   "id": "dfac28a0",
   "metadata": {},
   "source": [
    " As can be seen from the boxplot above, the outliers were removed successfully. There are no more outliers in the train dataset"
   ]
  },
  {
   "cell_type": "markdown",
   "id": "ce557ee7",
   "metadata": {},
   "source": [
    "# Scatter plot for Ratings and Timestamp \n",
    "\n",
    "The scatter plot can display the relationship between the ratings and the timestamp, then see if there is any correlation between the two variables."
   ]
  },
  {
   "cell_type": "code",
   "execution_count": 137,
   "id": "22c8e0ad",
   "metadata": {},
   "outputs": [
    {
     "data": {
      "text/plain": [
       "dtype('<M8[ns]')"
      ]
     },
     "execution_count": 137,
     "metadata": {},
     "output_type": "execute_result"
    }
   ],
   "source": [
    "# Convert the timestamp column to datetime\n",
    "train['timestamp'] = pd.to_datetime(train['timestamp'], unit='s')\n",
    "\n",
    "# Check if timestamp conversion was successful\n",
    "train['timestamp'].dtype"
   ]
  },
  {
   "cell_type": "markdown",
   "id": "6ad16921",
   "metadata": {},
   "source": [
    "The datatype for \"timestamp\"has been converted from int64 to datetime"
   ]
  },
  {
   "cell_type": "code",
   "execution_count": 134,
   "id": "ee20285e",
   "metadata": {},
   "outputs": [
    {
     "data": {
      "image/png": "[encoded data removed]",
      "text/plain": [
       "<Figure size 640x480 with 1 Axes>"
      ]
     },
     "metadata": {},
     "output_type": "display_data"
    }
   ],
   "source": [
    "# Scatter plot of ratings vs timestamp\n",
    "plt.scatter(train['timestamp'], train['rating'])\n",
    "plt.xlabel('Timestamp')\n",
    "plt.ylabel('Ratings')\n",
    "plt.show()\n"
   ]
  },
  {
   "cell_type": "code",
   "execution_count": 136,
   "id": "db21a825",
   "metadata": {},
   "outputs": [
    {
     "data": {
      "text/plain": [
       "<AxesSubplot: xlabel='timestamp', ylabel='rating'>"
      ]
     },
     "execution_count": 136,
     "metadata": {},
     "output_type": "execute_result"
    },
    {
     "data": {
      "image/png": "[encoded data removed]",
      "text/plain": [
       "<Figure size 640x480 with 1 Axes>"
      ]
     },
     "metadata": {},
     "output_type": "display_data"
    }
   ],
   "source": [
    "\n",
    "import seaborn as sns\n",
    "\n",
    "# Scatter plot of ratings vs timestamp\n",
    "sns.scatterplot(x='timestamp', y='rating', data=train)"
   ]
  },
  {
   "cell_type": "code",
   "execution_count": null,
   "id": "ef6f64cb",
   "metadata": {},
   "outputs": [],
   "source": []
  },
  {
   "cell_type": "code",
   "execution_count": 132,
   "id": "a0c8a6b8",
   "metadata": {},
   "outputs": [],
   "source": []
  },
  {
   "cell_type": "code",
   "execution_count": null,
   "id": "d975664f",
   "metadata": {},
   "outputs": [],
   "source": []
  },
  {
   "cell_type": "code",
   "execution_count": null,
   "id": "06ba6df1",
   "metadata": {},
   "outputs": [],
   "source": []
  },
  {
   "cell_type": "code",
   "execution_count": null,
   "id": "687cbbc3",
   "metadata": {},
   "outputs": [],
   "source": []
  },
  {
   "cell_type": "code",
   "execution_count": null,
   "id": "7a656846",
   "metadata": {},
   "outputs": [],
   "source": []
  },
  {
   "cell_type": "code",
   "execution_count": null,
   "id": "df5c27a9",
   "metadata": {},
   "outputs": [],
   "source": []
  },
  {
   "cell_type": "markdown",
   "id": "d42e1336",
   "metadata": {},
   "source": [
    "<a id=\"four\"></a>\n",
    "## 4. Data Visualization of Target Variables\n",
    "<a class=\"anchor\" id=\"1.1\"></a>\n",
    "<a href=#cont>Back to Project Pipeline</a>"
   ]
  },
  {
   "cell_type": "markdown",
   "id": "c38aef88",
   "metadata": {},
   "source": [
    "### Word Cloud\n",
    "\n",
    "\n",
    "Use word cloud for genres after splitting them up and see the most prominent genre word."
   ]
  },
  {
   "cell_type": "markdown",
   "id": "d31272e3",
   "metadata": {},
   "source": [
    "Word clouds (also known as text clouds or tag clouds) work in a simple way: the more a specific word appears in a source of textual data (such as a speech, blog post, or database), the bigger and bolder it appears in the word cloud.\n",
    "\n",
    "A word cloud is a collection, or cluster, of words depicted in different sizes. The bigger and bolder the word appears, the more often it’s mentioned within a given text and the more important it is.\n"
   ]
  },
  {
   "cell_type": "code",
   "execution_count": 28,
   "id": "33209dcb",
   "metadata": {},
   "outputs": [],
   "source": [
    "# Start with one review:\n",
    "#classifying the tweets into it's category class\n",
    "pro = df_train[df_train['sentiment']==1]\n",
    "neutral = df_train[df_train['sentiment']==0]\n",
    "news = df_train[df_train['sentiment']==2]\n",
    "anti = df_train[df_train['sentiment']==-1]"
   ]
  },
  {
   "cell_type": "code",
   "execution_count": 29,
   "id": "8b01ecab",
   "metadata": {},
   "outputs": [],
   "source": [
    "#looping through each category of the tweet and joining it as a string\n",
    "all_tweets = \" \".join(word for word in df_train.message)\n",
    "pro_tweets = \" \".join(word for word in pro.message)\n",
    "neutral_tweets = \" \".join(word for word in neutral.message)\n",
    "news_tweets = \" \".join(word for word in news.message)\n",
    "anti_tweets = \" \".join(word for word in anti.message)"
   ]
  },
  {
   "cell_type": "code",
   "execution_count": 30,
   "id": "2727f96b",
   "metadata": {},
   "outputs": [
    {
     "data": {
      "image/png": "[encoded data removed]",
      "text/plain": [
       "<Figure size 720x720 with 1 Axes>"
      ]
     },
     "metadata": {},
     "output_type": "display_data"
    }
   ],
   "source": [
    "fig, ax = plt.subplots(1, 1, figsize  = (10,10))\n",
    "# Create and generate a word cloud image:\n",
    "wordcloud_all = WordCloud(max_font_size=50, max_words=100, background_color=\"black\").generate(all_tweets)\n",
    "# Display the generated image:\n",
    "ax.imshow(wordcloud_all, interpolation='bilinear')\n",
    "ax.set_title('All Tweets', fontsize=50)\n",
    "ax.axis('off');"
   ]
  },
  {
   "cell_type": "markdown",
   "id": "bd0e1908",
   "metadata": {},
   "source": [
    "- Words like \"climate change\" and \"global warming\" that are general terms connected to discussions about climate change appear in all categories.\n",
    "- The performance of the classification model is likely to be unaffected by the removal of such stopwords and words that appear in all categories.\n",
    "- Because the objective is to determine whether there is a positive sentiment or not, it is imperative to reduce the categories in the sentiment feature."
   ]
  },
  {
   "cell_type": "markdown",
   "id": "2555b02d",
   "metadata": {},
   "source": [
    "<a id=\"five\"></a>\n",
    "## 5. Data Preprocessing\n",
    "<a class=\"anchor\" id=\"1.1\"></a>\n",
    "<a href=#cont>Back to Project Pipeline</a>\n",
    "\n",
    "\n",
    "In this section of text analytics, removing noise (i.e. unneccesary information) is a key part of getting the data into a usable format.\n",
    "\n",
    "<img src=\"https://imgs.search.brave.com/sxwy8lWRY4tbRTAWP5AcgKawD8y9mqR67LUK3ICd33A/rs:fit:768:432:1/g:ce/aHR0cHM6Ly9jZG4u/c2xpZGVzaGFyZWNk/bi5jb20vc3NfdGh1/bWJuYWlscy9kYXRh/cHJlcHJvY2Vzc2lu/Zy1zYW5kZWVwcGF0/aWwtMTkwMzA1MDg0/MjI3LXRodW1ibmFp/bC00LmpwZz9jYj0x/NTUxNzc1NjEz\" width=\"400\">\n",
    "\n",
    "For the train and movies datasets, the following steps will be carried out:\n",
    "\n",
    "* removing special character\n",
    "* removing numbers\n",
    "* convert text to lower case\n"
   ]
  },
  {
   "cell_type": "markdown",
   "id": "ebd07eab",
   "metadata": {},
   "source": [
    "The ***text_preproc*** function changes all the contradictions (*e.g don't **to** do not **and** there's **to** there is*), and removes extra whitespaces"
   ]
  },
  {
   "cell_type": "markdown",
   "id": "1453b697",
   "metadata": {},
   "source": [
    "* After thorough cleaning and engineering new feature, the dataframe now has an extra columns containing texts to be used for modelling and making predictions.\n",
    "\n",
    "The dataframe looks cleaned, pruned and proper. \n",
    "\n",
    "Next, convert the texts into tokens through a process called **tokenization**, remove stop words, **stemmatize** and **lemmatize** the tokens\n",
    "\n",
    "* Tokenization is a way of separating a piece of text into smaller units called tokens, which can be either words, characters, or subwords.\n",
    "* Stemmatization works by cutting off the end or the beginning of the word, taking into account a list of common prefixes and suffixes that can be found in an inflected word.\n",
    "\n",
    "* Lemmatization, on the other hand, takes into consideration the contextual meaning of the words.\n",
    "\n",
    "\n",
    "Instead of doing all the above named processes manually and one after the other, one can use a TFIDF vectorizer to do it once."
   ]
  },
  {
   "cell_type": "markdown",
   "id": "b9b03944",
   "metadata": {},
   "source": [
    "<a id=\"six\"></a>\n",
    "## 6. Transforming Dataset using TF-IDF Vectorizer\n",
    "<a class=\"anchor\" id=\"1.1\"></a>\n",
    "<a href=#cont>Back to Project Pipeline</a>\n",
    "\n",
    "TF-IDF is short for Term frequency-Inverse Document Frequency.\n",
    "\n",
    "**TF** is a measure of how often a phrase appears in a document, and **IDF** is about how important that phrase is.\n",
    "The TF-IDF algorithm is used to weigh a keyword in any content and assign importance to that keyword based on the number of times it appears in the document.\n",
    "\n",
    "\n",
    "# Don't forget to normalise too"
   ]
  },
  {
   "cell_type": "code",
   "execution_count": 40,
   "id": "791c96ec",
   "metadata": {},
   "outputs": [],
   "source": [
    "# create features and target dataset\n",
    "x = np.array(df_train['clean_message'])\n",
    "y = np.array(df_train['sentiment'])"
   ]
  },
  {
   "cell_type": "markdown",
   "id": "24eb38c9",
   "metadata": {},
   "source": [
    "**TF-IDF weighting**"
   ]
  },
  {
   "cell_type": "code",
   "execution_count": 41,
   "id": "ae25be5d",
   "metadata": {},
   "outputs": [],
   "source": [
    "#Create a TF-IDF object instance\n",
    "vectorizer = TfidfVectorizer()\n",
    "X = vectorizer.fit_transform(x)"
   ]
  },
  {
   "cell_type": "markdown",
   "id": "49c43578",
   "metadata": {},
   "source": [
    "**Create features and target variable**"
   ]
  },
  {
   "cell_type": "markdown",
   "id": "46ac89c2",
   "metadata": {},
   "source": [
    "<a id=\"seven\"></a>\n",
    "## 7. Splitting our data into Train and Test Subset\n",
    "<a class=\"anchor\" id=\"1.1\"></a>\n",
    "<a href=#cont>Back to Project Pipeline</a>\n",
    "\n",
    "The **Pareto Principle** is also called the 80/20 rule. The general point is that, in most cases, 80% of effects come from 20% of causes. So we'll split our data according to this principle."
   ]
  },
  {
   "cell_type": "code",
   "execution_count": 42,
   "id": "f0dd4087",
   "metadata": {},
   "outputs": [],
   "source": [
    "#Pareto Principle Split\n",
    "X_train, X_test, y_train, y_test = train_test_split(X, y,\n",
    "                                                    test_size= 0.2,\n",
    "                                                    random_state= 42)"
   ]
  },
  {
   "cell_type": "markdown",
   "id": "87e94ef0",
   "metadata": {},
   "source": [
    "<a id=\"eight\"></a>\n",
    "## 8. Model Building\n",
    "<a class=\"anchor\" id=\"1.1\"></a>\n",
    "<a href=#cont>Back to Project Pipeline</a>\n",
    "\n",
    "---\n",
    "\n",
    "This is the place where we create the main juice. This is the place for which all data preparation was done. We have hundreds of algorithms. These algorithms are developed by various researchers and most of them are freely available for our implementation.During model creation, we need to develop different models with different sets of hyperparameters. For model development, we need the following steps.\n",
    "\n",
    "* Select an algorithm and create multiple models with their default hyperparameters.\n",
    "* Establish metrics for model performance. Model performance metrics can be f1_score, accuracy, recall, precision, roc-auc, etc.\n",
    "* create multiple models with a winning algorithm and fine tune hyperparameters.\n",
    "* Check the model performance on the train dataset.\n",
    "\n",
    "\n",
    "\n",
    "<img src=\"https://imgs.search.brave.com/kvRbwXzThu7-jN1wyZvQAlCG3OZm2LBm3kEqGkrE5Vo/rs:fit:1024:683:1/g:ce/aHR0cHM6Ly93d3cu/aW50YWNzLmNvbS93/cC1jb250ZW50L3Vw/bG9hZHMvMjAyMC8x/MC9idWlsZC1jdXN0/b20tbW9kZWxzLXdp/dGgtYXp1cmUtbWFj/aGluZS1sZWFybmlu/Zy1kZXNpZ25lci0x/MDI0eDY4My5qcGc\" width=\"500\" >\n",
    "\n",
    " We'll make use of the following models to classify the polarity of tweets present in our dataset;\n",
    "\n",
    "* Naive Bayes\n",
    "* LogisticsRegression Classifier\n",
    "* DecisionTree Classifier\n",
    "* RandomForest Classifier\n",
    "* Support Vector Machine Classifier\n",
    "* Linear Support Vector Machine Classifier\n",
    "* Ridge Classifier\n",
    "\n",
    "---"
   ]
  },
  {
   "cell_type": "markdown",
   "id": "b918da59",
   "metadata": {},
   "source": [
    "#### Create Multiple Models"
   ]
  },
  {
   "cell_type": "code",
   "execution_count": 43,
   "id": "b0024ca5",
   "metadata": {},
   "outputs": [],
   "source": [
    "# NaiveBayes classifier\n",
    "nby = MultinomialNB()\n",
    "# Train model\n",
    "nby.fit(X_train, y_train)\n",
    "# Make predictions\n",
    "nby_pred = nby.predict(X_test)"
   ]
  },
  {
   "cell_type": "code",
   "execution_count": 44,
   "id": "05326483",
   "metadata": {},
   "outputs": [],
   "source": [
    "#LogisticRegression classifier\n",
    "lr = LogisticRegression()\n",
    "# Train model\n",
    "lr.fit(X_train, y_train)\n",
    "# Make predictions\n",
    "lr_pred = lr.predict(X_test)"
   ]
  },
  {
   "cell_type": "code",
   "execution_count": 45,
   "id": "16e55a2b",
   "metadata": {},
   "outputs": [],
   "source": [
    "#DecisionTree classifier\n",
    "dtc = DecisionTreeClassifier()\n",
    "# Train model\n",
    "dtc.fit(X_train, y_train)\n",
    "# Make predictions\n",
    "dtc_pred = dtc.predict(X_test)"
   ]
  },
  {
   "cell_type": "code",
   "execution_count": 46,
   "id": "204c4cb8",
   "metadata": {},
   "outputs": [
    {
     "name": "stderr",
     "output_type": "stream",
     "text": [
      "COMET WARNING: The given value of the metric sys.load.avg was None; ignoring\n",
      "COMET WARNING: The given value of the metric sys.load.avg was None; ignoring\n"
     ]
    }
   ],
   "source": [
    "#RandomForest classifier\n",
    "rf = RandomForestClassifier()\n",
    "# Train model\n",
    "rf.fit(X_train, y_train)\n",
    "# Make predictions\n",
    "rf_pred = dtc.predict(X_test)"
   ]
  },
  {
   "cell_type": "code",
   "execution_count": 47,
   "id": "df25801b",
   "metadata": {},
   "outputs": [
    {
     "name": "stderr",
     "output_type": "stream",
     "text": [
      "COMET WARNING: The given value of the metric sys.load.avg was None; ignoring\n",
      "COMET WARNING: The given value of the metric sys.load.avg was None; ignoring\n",
      "COMET WARNING: The given value of the metric sys.load.avg was None; ignoring\n"
     ]
    }
   ],
   "source": [
    "#Support Vector Machine\n",
    "svc = SVC(C=5)\n",
    "# Train model\n",
    "svc.fit(X_train, y_train)\n",
    "# Make predictions\n",
    "svc_pred = svc.predict(X_test)"
   ]
  },
  {
   "cell_type": "code",
   "execution_count": 48,
   "id": "5d0aaba4",
   "metadata": {},
   "outputs": [],
   "source": [
    "#Linear Support Vector Machine\n",
    "svm = LinearSVC(C=0.7)\n",
    "# Train model\n",
    "svm.fit(X_train, y_train)\n",
    "# Make predictions\n",
    "svm_pred = svm.predict(X_test)"
   ]
  },
  {
   "cell_type": "code",
   "execution_count": 49,
   "id": "71929e1f",
   "metadata": {},
   "outputs": [],
   "source": [
    "#Ridge Classifier\n",
    "rc = RidgeClassifier(alpha=2.5)\n",
    "# Train model\n",
    "rc.fit(X_train, y_train)\n",
    "# Make predictions\n",
    "rc_pred = rc.predict(X_test)"
   ]
  },
  {
   "cell_type": "markdown",
   "id": "38a30a3c",
   "metadata": {},
   "source": [
    "<a id=\"nine\"></a>\n",
    "## 9. Model Performance\n",
    "<a class=\"anchor\" id=\"1.1\"></a>\n",
    "<a href=#cont>Back to Project Pipeline</a>\n",
    "\n",
    "\n",
    "<img src=\"https://imgs.search.brave.com/43umOrkBjx31omvA7djaPP7q95QPROyX4XIcXZreQGM/rs:fit:676:403:1/g:ce/aHR0cHM6Ly9jZG4u/c2hvcGlmeS5jb20v/cy9maWxlcy8xLzA3/MTQvNTA2MS9wcm9k/dWN0cy9UUFRFLTEw/MDMtVFAtTW9kZWxf/em9vbV81ODB4QDJ4/LmpwZz92PTE0MTg2/Mjg3MTM\" width=\"400\">\n",
    "\n",
    "---\n",
    "\n",
    "The metrics used to evaluate the performance of the various models are ;\n",
    "\n",
    "1. Accuracy , Precision , Recall and F1 scores              \n",
    "2. Confusion Matrix\n",
    "3. Classification Report\n",
    "\n",
    "\n",
    "**Accuracy** is the ratio of the correctly predicted classifications (both True Positives + True Negatives) to the total Test Dataset.\n",
    "\n",
    "> In other words, accuracy answers the following question:\n",
    "How many tweets did the model correctly classify out of all the tweets?\n",
    "\n",
    " **Precision** is the ratio of correctly predicted positive observations (True Positives) to the model’s total predicted positive observations, both correct (True Positives) and incorrect (False Positives).\n",
    "\n",
    "> In other words, precision answers the following question:\n",
    "How many of those tweets labelled by the model as 'Pro' are actually 'Pro' ?\n",
    "\n",
    " **Recall** is the ratio of correctly predicted positive observations (True Positives) to all observations in the actual class (Actual Positives).\n",
    "\n",
    "> In other words, recall answers the following question:\n",
    "Of all the tweets that are 'Pro', how many of those did the model correctly classify as 'Pro' ?\n",
    "\n",
    " \n",
    " **F1 score** is the weighted average of Precision and Recall. Therefore, this score takes both False Positives and False Negatives into account to strike a balance between precision and Recall. \n",
    "> F1 Score is a better measure to use if we need to seek a balance between Precision and Recall _and_ there is an uneven class distribution (remember our dataset contains large number of 'Pro' tweets compared to the rest class ).\n"
   ]
  },
  {
   "cell_type": "markdown",
   "id": "a4c4ba58",
   "metadata": {},
   "source": [
    "### 9.1.  Assessing Model Performance using F1, Recall and Precision Scores\n",
    "\n",
    "* Calculate the scores for the 7 models and display on a graph"
   ]
  },
  {
   "cell_type": "code",
   "execution_count": 50,
   "id": "1490a3ec",
   "metadata": {},
   "outputs": [
    {
     "name": "stdout",
     "output_type": "stream",
     "text": [
      "     Performance metrics for Naive Bayes model\n",
      "**************************************************\n",
      "F1 score:  0.6946902654867256\n",
      "Recall score:  0.6946902654867256\n",
      "Precison score:  0.6946902654867256\n",
      "**************************************************\n"
     ]
    }
   ],
   "source": [
    "print('     Performance metrics for Naive Bayes model')\n",
    "print('*' * 50)\n",
    "print('F1 score: ',f1_score(y_test, nby_pred, average=\"micro\"))\n",
    "print('Recall score: ', recall_score(y_test, nby_pred, average=\"micro\"))\n",
    "print('Precison score: ', precision_score(y_test, nby_pred, average=\"micro\"))\n",
    "print('*' * 50)"
   ]
  },
  {
   "cell_type": "code",
   "execution_count": 51,
   "id": "8dbd4282",
   "metadata": {},
   "outputs": [
    {
     "name": "stdout",
     "output_type": "stream",
     "text": [
      "     Performance metrics for Logistics model\n",
      "**************************************************\n",
      "F1 score:  0.7487357774968394\n",
      "Recall score:  0.7487357774968394\n",
      "Precison score:  0.7487357774968394\n",
      "**************************************************\n"
     ]
    }
   ],
   "source": [
    "print('     Performance metrics for Logistics model')\n",
    "print('*' * 50)\n",
    "print('F1 score: ',f1_score(y_test, lr_pred, average=\"micro\"))\n",
    "print('Recall score: ', recall_score(y_test, lr_pred, average=\"micro\"))\n",
    "print('Precison score: ', precision_score(y_test, lr_pred, average=\"micro\"))\n",
    "print('*' * 50)"
   ]
  },
  {
   "cell_type": "code",
   "execution_count": 52,
   "id": "09d4ac33",
   "metadata": {},
   "outputs": [
    {
     "name": "stdout",
     "output_type": "stream",
     "text": [
      "     Performance metrics for Decision Tree model\n",
      "**************************************************\n",
      "F1 score:  0.618204804045512\n",
      "Recall score:  0.618204804045512\n",
      "Precison score:  0.618204804045512\n",
      "**************************************************\n"
     ]
    }
   ],
   "source": [
    "print('     Performance metrics for Decision Tree model')\n",
    "print('*' * 50)\n",
    "print('F1 score: ',f1_score(y_test, dtc_pred, average=\"micro\"))\n",
    "print('Recall score: ', recall_score(y_test, dtc_pred, average=\"micro\"))\n",
    "print('Precison score: ', precision_score(y_test, dtc_pred, average=\"micro\"))\n",
    "print('*' * 50)"
   ]
  },
  {
   "cell_type": "code",
   "execution_count": 53,
   "id": "92080c1f",
   "metadata": {},
   "outputs": [
    {
     "name": "stdout",
     "output_type": "stream",
     "text": [
      "     Performance metrics for Random Forest model\n",
      "**************************************************\n",
      "F1 score:  0.618204804045512\n",
      "Recall score:  0.618204804045512\n",
      "Precison score:  0.618204804045512\n",
      "**************************************************\n"
     ]
    }
   ],
   "source": [
    "print('     Performance metrics for Random Forest model')\n",
    "print('*' * 50)\n",
    "print('F1 score: ',f1_score(y_test, rf_pred, average=\"micro\"))\n",
    "print('Recall score: ', recall_score(y_test, rf_pred, average=\"micro\"))\n",
    "print('Precison score: ', precision_score(y_test, rf_pred, average=\"micro\"))\n",
    "print('*' * 50)"
   ]
  },
  {
   "cell_type": "code",
   "execution_count": 54,
   "id": "b1e2c788",
   "metadata": {},
   "outputs": [
    {
     "name": "stdout",
     "output_type": "stream",
     "text": [
      "     Performance metrics for Support Vector Machine model\n",
      "************************************************************\n",
      "F1 score:  0.7664348925410872\n",
      "Recall score:  0.7664348925410872\n",
      "Precison score:  0.7664348925410872\n",
      "************************************************************\n"
     ]
    }
   ],
   "source": [
    "print('     Performance metrics for Support Vector Machine model')\n",
    "print('*' * 60)\n",
    "print('F1 score: ',f1_score(y_test, svc_pred, average=\"micro\"))\n",
    "print('Recall score: ', recall_score(y_test, svc_pred, average=\"micro\"))\n",
    "print('Precison score: ', precision_score(y_test, svc_pred, average=\"micro\"))\n",
    "print('*' * 60)"
   ]
  },
  {
   "cell_type": "code",
   "execution_count": 55,
   "id": "53af87de",
   "metadata": {},
   "outputs": [
    {
     "name": "stdout",
     "output_type": "stream",
     "text": [
      " Performance metrics for Linear Support Vector Machine model\n",
      "************************************************************\n",
      "F1 score:  0.7462073324905182\n",
      "Recall score:  0.7462073324905183\n",
      "Precison score:  0.7462073324905183\n",
      "************************************************************\n"
     ]
    }
   ],
   "source": [
    "print(' Performance metrics for Linear Support Vector Machine model')\n",
    "print('*' * 60)\n",
    "print('F1 score: ',f1_score(y_test, svm_pred, average=\"micro\"))\n",
    "print('Recall score: ', recall_score(y_test, svm_pred, average=\"micro\"))\n",
    "print('Precison score: ', precision_score(y_test, svm_pred, average=\"micro\"))\n",
    "print('*' * 60)"
   ]
  },
  {
   "cell_type": "code",
   "execution_count": 56,
   "id": "e4b558ce",
   "metadata": {},
   "outputs": [
    {
     "name": "stdout",
     "output_type": "stream",
     "text": [
      "     Performance metrics for Ridge model\n",
      "**************************************************\n",
      "F1 score:  0.7493678887484196\n",
      "Recall score:  0.7493678887484198\n",
      "Precison score:  0.7493678887484198\n",
      "**************************************************\n"
     ]
    },
    {
     "name": "stderr",
     "output_type": "stream",
     "text": [
      "COMET WARNING: The given value of the metric sys.load.avg was None; ignoring\n"
     ]
    }
   ],
   "source": [
    "print('     Performance metrics for Ridge model')\n",
    "print('*' * 50)\n",
    "print('F1 score: ',f1_score(y_test, rc_pred, average=\"micro\"))\n",
    "print('Recall score: ', recall_score(y_test, rc_pred, average=\"micro\"))\n",
    "print('Precison score: ', precision_score(y_test, rc_pred, average=\"micro\"))\n",
    "print('*' * 50)"
   ]
  },
  {
   "cell_type": "markdown",
   "id": "7549b8c9",
   "metadata": {},
   "source": [
    "### Let's visualize the scores on a bar chart\n",
    "\n",
    "---\n",
    "\n",
    "From the metrics above, the scores are the same so let's visualize the f1 score since it measures the weighted average of both recall and precision.\n",
    "\n",
    "---"
   ]
  },
  {
   "cell_type": "code",
   "execution_count": 58,
   "id": "97f1e130",
   "metadata": {},
   "outputs": [
    {
     "data": {
      "image/png": "[encoded data removed]",
      "text/plain": [
       "<Figure size 432x288 with 1 Axes>"
      ]
     },
     "metadata": {},
     "output_type": "display_data"
    }
   ],
   "source": [
    "# Next, create a pandas DataFrame containing the precision, recall, and F1 scores for each model.    \n",
    "    \n",
    "scores = {\n",
    "    \"Model\": [\"Naive Bayes\", \"Logistic\", \"Decision Tree\", \"Random Forest\", \"SVM\", \"Linear SVM\", \"Ridge\"],\n",
    "    \"F1\": [f1_score(y_test, nby_pred, average=\"micro\"), f1_score(y_test, lr_pred, average=\"micro\"),\n",
    "           f1_score(y_test, dtc_pred, average=\"micro\"), f1_score(y_test, rf_pred, average=\"micro\"), \n",
    "           f1_score(y_test, svc_pred, average=\"micro\"), f1_score(y_test, svm_pred, average=\"micro\"),\n",
    "           f1_score(y_test, rc_pred, average=\"micro\")],\n",
    "}\n",
    "\n",
    "\n",
    "df_scores = pd.DataFrame(scores)\n",
    "\n",
    "# Use the DataFrame.plot.bar method to create the bar chart. \n",
    "# This method takes a few optional parameters that you can use to customize the chart, \n",
    "# such as the x, y, and title parameters to specify the data to plot, the labels for the axes,\n",
    "# and the title for the chart, respectively.\n",
    "\n",
    "ax = df_scores.plot.bar(x=\"Model\", y=[\"F1\"], title=\"Model Scores\")\n",
    "\n",
    "plt.show()"
   ]
  },
  {
   "cell_type": "markdown",
   "id": "7dd4816c",
   "metadata": {},
   "source": [
    "### 9.2. Assessing Model Performance using Confusion Matrix"
   ]
  },
  {
   "cell_type": "markdown",
   "id": "bc11af61",
   "metadata": {},
   "source": [
    "A confusion matrix is a table that is used to evaluate the performance of a classification model. The number of rows and columns depend on the number of classes present in our dataset.\n",
    "\n",
    "A few notes on the matrix:\n",
    "\n",
    "* The matrix orders the rows and columns in a sorted fashion according to the labels. Our labels are -1, 0, 1 and 2, so the first row/column is -1, and the 2nd row/column is 0 and so on. Let's give it the appropriate labels.\n",
    "\n",
    "* Each row represents the ground truth totals for Anti, Neutral, Pro, and News tweets. In other words, the sum of all the values in the first row is the total number of observations in our test dataset labelled 'Anti'.\n",
    "\n",
    "* Each column represents the totals for the predictions in each class of Anti, Neutral, Pro and News tweets. In other words, the sum of all the values in the first column is the total number of predicted observations by the model as 'Anti'\n",
    "\n",
    "* The intersection of each row/column gives the number of correctly predicted observation for that class.\n",
    "\n",
    "\n",
    "Confusion matrices are useful for understanding how well a classification model is performing, as they provide a detailed breakdown of the model's predictions. They can be used to calculate a variety of evaluation metrics, such as precision, recall, and accuracy, which can help you understand the strengths and weaknesses of a model."
   ]
  },
  {
   "cell_type": "code",
   "execution_count": 59,
   "id": "b861c139",
   "metadata": {},
   "outputs": [],
   "source": [
    "# Create categorical labels for -1, 0, 1 and 2\n",
    "labels = ['-1: Anti', '0: Neutral', '1: Pro', '2: News']"
   ]
  },
  {
   "cell_type": "code",
   "execution_count": 60,
   "id": "227d2de3",
   "metadata": {},
   "outputs": [
    {
     "data": {
      "text/html": [
       "<div>\n",
       "<style scoped>\n",
       "    .dataframe tbody tr th:only-of-type {\n",
       "        vertical-align: middle;\n",
       "    }\n",
       "\n",
       "    .dataframe tbody tr th {\n",
       "        vertical-align: top;\n",
       "    }\n",
       "\n",
       "    .dataframe thead th {\n",
       "        text-align: right;\n",
       "    }\n",
       "</style>\n",
       "<table border=\"1\" class=\"dataframe\">\n",
       "  <thead>\n",
       "    <tr style=\"text-align: right;\">\n",
       "      <th></th>\n",
       "      <th>-1: Anti</th>\n",
       "      <th>0: Neutral</th>\n",
       "      <th>1: Pro</th>\n",
       "      <th>2: News</th>\n",
       "    </tr>\n",
       "  </thead>\n",
       "  <tbody>\n",
       "    <tr>\n",
       "      <th>-1: Anti</th>\n",
       "      <td>25</td>\n",
       "      <td>7</td>\n",
       "      <td>235</td>\n",
       "      <td>11</td>\n",
       "    </tr>\n",
       "    <tr>\n",
       "      <th>0: Neutral</th>\n",
       "      <td>0</td>\n",
       "      <td>53</td>\n",
       "      <td>354</td>\n",
       "      <td>18</td>\n",
       "    </tr>\n",
       "    <tr>\n",
       "      <th>1: Pro</th>\n",
       "      <td>0</td>\n",
       "      <td>9</td>\n",
       "      <td>1671</td>\n",
       "      <td>75</td>\n",
       "    </tr>\n",
       "    <tr>\n",
       "      <th>2: News</th>\n",
       "      <td>1</td>\n",
       "      <td>2</td>\n",
       "      <td>254</td>\n",
       "      <td>449</td>\n",
       "    </tr>\n",
       "  </tbody>\n",
       "</table>\n",
       "</div>"
      ],
      "text/plain": [
       "            -1: Anti  0: Neutral  1: Pro  2: News\n",
       "-1: Anti          25           7     235       11\n",
       "0: Neutral         0          53     354       18\n",
       "1: Pro             0           9    1671       75\n",
       "2: News            1           2     254      449"
      ]
     },
     "execution_count": 60,
     "metadata": {},
     "output_type": "execute_result"
    },
    {
     "name": "stderr",
     "output_type": "stream",
     "text": [
      "COMET WARNING: The given value of the metric sys.load.avg was None; ignoring\n"
     ]
    }
   ],
   "source": [
    "#Confusion matrix for Naive Bayes\n",
    "naive_matrix = pd.DataFrame(data=confusion_matrix(y_test, nby_pred), index=labels, columns=labels)\n",
    "naive_matrix"
   ]
  },
  {
   "cell_type": "markdown",
   "id": "0d222174",
   "metadata": {},
   "source": [
    "* From the matrix above, there are a total of 25+7+235+11 = 278 Anti tweets present i.e total from first row. Naive bayes model predicted a total of 25+1 = 26 Anti tweets i.e total from first column and only 25 of those predictions are correct. Similar explanations for the other class labels.\n"
   ]
  },
  {
   "cell_type": "code",
   "execution_count": 61,
   "id": "0d88105b",
   "metadata": {},
   "outputs": [
    {
     "data": {
      "text/html": [
       "<div>\n",
       "<style scoped>\n",
       "    .dataframe tbody tr th:only-of-type {\n",
       "        vertical-align: middle;\n",
       "    }\n",
       "\n",
       "    .dataframe tbody tr th {\n",
       "        vertical-align: top;\n",
       "    }\n",
       "\n",
       "    .dataframe thead th {\n",
       "        text-align: right;\n",
       "    }\n",
       "</style>\n",
       "<table border=\"1\" class=\"dataframe\">\n",
       "  <thead>\n",
       "    <tr style=\"text-align: right;\">\n",
       "      <th></th>\n",
       "      <th>-1: Anti</th>\n",
       "      <th>0: Neutral</th>\n",
       "      <th>1: Pro</th>\n",
       "      <th>2: News</th>\n",
       "    </tr>\n",
       "  </thead>\n",
       "  <tbody>\n",
       "    <tr>\n",
       "      <th>-1: Anti</th>\n",
       "      <td>91</td>\n",
       "      <td>39</td>\n",
       "      <td>137</td>\n",
       "      <td>11</td>\n",
       "    </tr>\n",
       "    <tr>\n",
       "      <th>0: Neutral</th>\n",
       "      <td>8</td>\n",
       "      <td>166</td>\n",
       "      <td>227</td>\n",
       "      <td>24</td>\n",
       "    </tr>\n",
       "    <tr>\n",
       "      <th>1: Pro</th>\n",
       "      <td>12</td>\n",
       "      <td>58</td>\n",
       "      <td>1566</td>\n",
       "      <td>119</td>\n",
       "    </tr>\n",
       "    <tr>\n",
       "      <th>2: News</th>\n",
       "      <td>4</td>\n",
       "      <td>10</td>\n",
       "      <td>146</td>\n",
       "      <td>546</td>\n",
       "    </tr>\n",
       "  </tbody>\n",
       "</table>\n",
       "</div>"
      ],
      "text/plain": [
       "            -1: Anti  0: Neutral  1: Pro  2: News\n",
       "-1: Anti          91          39     137       11\n",
       "0: Neutral         8         166     227       24\n",
       "1: Pro            12          58    1566      119\n",
       "2: News            4          10     146      546"
      ]
     },
     "execution_count": 61,
     "metadata": {},
     "output_type": "execute_result"
    }
   ],
   "source": [
    "#Confusion matrix for LogisticsRegressor\n",
    "logistics_matrix = pd.DataFrame(data=confusion_matrix(y_test, lr_pred), index=labels, columns=labels)\n",
    "logistics_matrix"
   ]
  },
  {
   "cell_type": "markdown",
   "id": "cc56e3ac",
   "metadata": {},
   "source": [
    "* From the matrix above, there are a total of 91+39+137+11 = 278 Anti tweets present i.e total from first row. Logistic model predicted a total of 91+8+12+4 = 115 Anti tweets i.e total from first column and only 91 of those predictions are correct. Similar explanations for the other class labels.\n"
   ]
  },
  {
   "cell_type": "code",
   "execution_count": 62,
   "id": "19a87e92",
   "metadata": {},
   "outputs": [
    {
     "data": {
      "text/html": [
       "<div>\n",
       "<style scoped>\n",
       "    .dataframe tbody tr th:only-of-type {\n",
       "        vertical-align: middle;\n",
       "    }\n",
       "\n",
       "    .dataframe tbody tr th {\n",
       "        vertical-align: top;\n",
       "    }\n",
       "\n",
       "    .dataframe thead th {\n",
       "        text-align: right;\n",
       "    }\n",
       "</style>\n",
       "<table border=\"1\" class=\"dataframe\">\n",
       "  <thead>\n",
       "    <tr style=\"text-align: right;\">\n",
       "      <th></th>\n",
       "      <th>-1: Anti</th>\n",
       "      <th>0: Neutral</th>\n",
       "      <th>1: Pro</th>\n",
       "      <th>2: News</th>\n",
       "    </tr>\n",
       "  </thead>\n",
       "  <tbody>\n",
       "    <tr>\n",
       "      <th>-1: Anti</th>\n",
       "      <td>77</td>\n",
       "      <td>41</td>\n",
       "      <td>133</td>\n",
       "      <td>27</td>\n",
       "    </tr>\n",
       "    <tr>\n",
       "      <th>0: Neutral</th>\n",
       "      <td>21</td>\n",
       "      <td>160</td>\n",
       "      <td>201</td>\n",
       "      <td>43</td>\n",
       "    </tr>\n",
       "    <tr>\n",
       "      <th>1: Pro</th>\n",
       "      <td>74</td>\n",
       "      <td>171</td>\n",
       "      <td>1260</td>\n",
       "      <td>250</td>\n",
       "    </tr>\n",
       "    <tr>\n",
       "      <th>2: News</th>\n",
       "      <td>9</td>\n",
       "      <td>43</td>\n",
       "      <td>195</td>\n",
       "      <td>459</td>\n",
       "    </tr>\n",
       "  </tbody>\n",
       "</table>\n",
       "</div>"
      ],
      "text/plain": [
       "            -1: Anti  0: Neutral  1: Pro  2: News\n",
       "-1: Anti          77          41     133       27\n",
       "0: Neutral        21         160     201       43\n",
       "1: Pro            74         171    1260      250\n",
       "2: News            9          43     195      459"
      ]
     },
     "execution_count": 62,
     "metadata": {},
     "output_type": "execute_result"
    }
   ],
   "source": [
    "#Confusion matrix for DecisionTree \n",
    "dtc_matrix = pd.DataFrame(data=confusion_matrix(y_test, dtc_pred), index=labels, columns=labels)\n",
    "dtc_matrix\n"
   ]
  },
  {
   "cell_type": "markdown",
   "id": "9a8db040",
   "metadata": {},
   "source": [
    "* Out of a total of 278 Anti tweets present i.e total from first row, Decision Tree model predicted a total of 159 Anti tweets  and only 68 of those predictions are correct. "
   ]
  },
  {
   "cell_type": "code",
   "execution_count": 63,
   "id": "b745cf82",
   "metadata": {},
   "outputs": [
    {
     "data": {
      "text/html": [
       "<div>\n",
       "<style scoped>\n",
       "    .dataframe tbody tr th:only-of-type {\n",
       "        vertical-align: middle;\n",
       "    }\n",
       "\n",
       "    .dataframe tbody tr th {\n",
       "        vertical-align: top;\n",
       "    }\n",
       "\n",
       "    .dataframe thead th {\n",
       "        text-align: right;\n",
       "    }\n",
       "</style>\n",
       "<table border=\"1\" class=\"dataframe\">\n",
       "  <thead>\n",
       "    <tr style=\"text-align: right;\">\n",
       "      <th></th>\n",
       "      <th>-1: Anti</th>\n",
       "      <th>0: Neutral</th>\n",
       "      <th>1: Pro</th>\n",
       "      <th>2: News</th>\n",
       "    </tr>\n",
       "  </thead>\n",
       "  <tbody>\n",
       "    <tr>\n",
       "      <th>-1: Anti</th>\n",
       "      <td>77</td>\n",
       "      <td>41</td>\n",
       "      <td>133</td>\n",
       "      <td>27</td>\n",
       "    </tr>\n",
       "    <tr>\n",
       "      <th>0: Neutral</th>\n",
       "      <td>21</td>\n",
       "      <td>160</td>\n",
       "      <td>201</td>\n",
       "      <td>43</td>\n",
       "    </tr>\n",
       "    <tr>\n",
       "      <th>1: Pro</th>\n",
       "      <td>74</td>\n",
       "      <td>171</td>\n",
       "      <td>1260</td>\n",
       "      <td>250</td>\n",
       "    </tr>\n",
       "    <tr>\n",
       "      <th>2: News</th>\n",
       "      <td>9</td>\n",
       "      <td>43</td>\n",
       "      <td>195</td>\n",
       "      <td>459</td>\n",
       "    </tr>\n",
       "  </tbody>\n",
       "</table>\n",
       "</div>"
      ],
      "text/plain": [
       "            -1: Anti  0: Neutral  1: Pro  2: News\n",
       "-1: Anti          77          41     133       27\n",
       "0: Neutral        21         160     201       43\n",
       "1: Pro            74         171    1260      250\n",
       "2: News            9          43     195      459"
      ]
     },
     "execution_count": 63,
     "metadata": {},
     "output_type": "execute_result"
    }
   ],
   "source": [
    "#Confusion matrix for RandomForest \n",
    "rf_matrix = pd.DataFrame(data=confusion_matrix(y_test,rf_pred), index=labels, columns=labels)\n",
    "rf_matrix"
   ]
  },
  {
   "cell_type": "markdown",
   "id": "597b5b01",
   "metadata": {},
   "source": [
    "* Out of a total of 278 Anti tweets present i.e total from first row, Random forest model predicted a total of 159 Anti tweets and only 68 of those predictions are correct. Similar explanations for the other class labels."
   ]
  },
  {
   "cell_type": "code",
   "execution_count": 64,
   "id": "eb3a57e9",
   "metadata": {},
   "outputs": [
    {
     "data": {
      "text/html": [
       "<div>\n",
       "<style scoped>\n",
       "    .dataframe tbody tr th:only-of-type {\n",
       "        vertical-align: middle;\n",
       "    }\n",
       "\n",
       "    .dataframe tbody tr th {\n",
       "        vertical-align: top;\n",
       "    }\n",
       "\n",
       "    .dataframe thead th {\n",
       "        text-align: right;\n",
       "    }\n",
       "</style>\n",
       "<table border=\"1\" class=\"dataframe\">\n",
       "  <thead>\n",
       "    <tr style=\"text-align: right;\">\n",
       "      <th></th>\n",
       "      <th>-1: Anti</th>\n",
       "      <th>0: Neutral</th>\n",
       "      <th>1: Pro</th>\n",
       "      <th>2: News</th>\n",
       "    </tr>\n",
       "  </thead>\n",
       "  <tbody>\n",
       "    <tr>\n",
       "      <th>-1: Anti</th>\n",
       "      <td>118</td>\n",
       "      <td>32</td>\n",
       "      <td>120</td>\n",
       "      <td>8</td>\n",
       "    </tr>\n",
       "    <tr>\n",
       "      <th>0: Neutral</th>\n",
       "      <td>12</td>\n",
       "      <td>172</td>\n",
       "      <td>219</td>\n",
       "      <td>22</td>\n",
       "    </tr>\n",
       "    <tr>\n",
       "      <th>1: Pro</th>\n",
       "      <td>9</td>\n",
       "      <td>64</td>\n",
       "      <td>1574</td>\n",
       "      <td>108</td>\n",
       "    </tr>\n",
       "    <tr>\n",
       "      <th>2: News</th>\n",
       "      <td>2</td>\n",
       "      <td>10</td>\n",
       "      <td>133</td>\n",
       "      <td>561</td>\n",
       "    </tr>\n",
       "  </tbody>\n",
       "</table>\n",
       "</div>"
      ],
      "text/plain": [
       "            -1: Anti  0: Neutral  1: Pro  2: News\n",
       "-1: Anti         118          32     120        8\n",
       "0: Neutral        12         172     219       22\n",
       "1: Pro             9          64    1574      108\n",
       "2: News            2          10     133      561"
      ]
     },
     "execution_count": 64,
     "metadata": {},
     "output_type": "execute_result"
    }
   ],
   "source": [
    "#Confusion matrix for Support Vector Machine \n",
    "svc_matrix = pd.DataFrame(data=confusion_matrix(y_test,svc_pred), index=labels, columns=labels)\n",
    "svc_matrix"
   ]
  },
  {
   "cell_type": "markdown",
   "id": "a073dcb8",
   "metadata": {},
   "source": [
    "* Out of a total of 278 Anti tweets present in the testing data set, SVM model predicted a total of 141 Anti tweets and only 118 of those predictions are correct. Similar explanations for the other class labels."
   ]
  },
  {
   "cell_type": "code",
   "execution_count": 65,
   "id": "fdc310a5",
   "metadata": {},
   "outputs": [
    {
     "data": {
      "text/html": [
       "<div>\n",
       "<style scoped>\n",
       "    .dataframe tbody tr th:only-of-type {\n",
       "        vertical-align: middle;\n",
       "    }\n",
       "\n",
       "    .dataframe tbody tr th {\n",
       "        vertical-align: top;\n",
       "    }\n",
       "\n",
       "    .dataframe thead th {\n",
       "        text-align: right;\n",
       "    }\n",
       "</style>\n",
       "<table border=\"1\" class=\"dataframe\">\n",
       "  <thead>\n",
       "    <tr style=\"text-align: right;\">\n",
       "      <th></th>\n",
       "      <th>-1: Anti</th>\n",
       "      <th>0: Neutral</th>\n",
       "      <th>1: Pro</th>\n",
       "      <th>2: News</th>\n",
       "    </tr>\n",
       "  </thead>\n",
       "  <tbody>\n",
       "    <tr>\n",
       "      <th>-1: Anti</th>\n",
       "      <td>127</td>\n",
       "      <td>41</td>\n",
       "      <td>98</td>\n",
       "      <td>12</td>\n",
       "    </tr>\n",
       "    <tr>\n",
       "      <th>0: Neutral</th>\n",
       "      <td>17</td>\n",
       "      <td>188</td>\n",
       "      <td>190</td>\n",
       "      <td>30</td>\n",
       "    </tr>\n",
       "    <tr>\n",
       "      <th>1: Pro</th>\n",
       "      <td>27</td>\n",
       "      <td>104</td>\n",
       "      <td>1494</td>\n",
       "      <td>130</td>\n",
       "    </tr>\n",
       "    <tr>\n",
       "      <th>2: News</th>\n",
       "      <td>4</td>\n",
       "      <td>19</td>\n",
       "      <td>131</td>\n",
       "      <td>552</td>\n",
       "    </tr>\n",
       "  </tbody>\n",
       "</table>\n",
       "</div>"
      ],
      "text/plain": [
       "            -1: Anti  0: Neutral  1: Pro  2: News\n",
       "-1: Anti         127          41      98       12\n",
       "0: Neutral        17         188     190       30\n",
       "1: Pro            27         104    1494      130\n",
       "2: News            4          19     131      552"
      ]
     },
     "execution_count": 65,
     "metadata": {},
     "output_type": "execute_result"
    }
   ],
   "source": [
    "#Confusion matrix for Linear Support Vector Machine \n",
    "svm_matrix = pd.DataFrame(data=confusion_matrix(y_test,svm_pred), index=labels, columns=labels)\n",
    "svm_matrix"
   ]
  },
  {
   "cell_type": "markdown",
   "id": "4f2dfd2f",
   "metadata": {},
   "source": [
    "* Out of a total of 278 Anti tweets present in the testing data set, Linear SVM model predicted a total of 175 Anti tweets and only 127~ of those predictions are correct. Similar explanations for the other class labels."
   ]
  },
  {
   "cell_type": "code",
   "execution_count": 66,
   "id": "4f7c4349",
   "metadata": {},
   "outputs": [
    {
     "data": {
      "text/html": [
       "<div>\n",
       "<style scoped>\n",
       "    .dataframe tbody tr th:only-of-type {\n",
       "        vertical-align: middle;\n",
       "    }\n",
       "\n",
       "    .dataframe tbody tr th {\n",
       "        vertical-align: top;\n",
       "    }\n",
       "\n",
       "    .dataframe thead th {\n",
       "        text-align: right;\n",
       "    }\n",
       "</style>\n",
       "<table border=\"1\" class=\"dataframe\">\n",
       "  <thead>\n",
       "    <tr style=\"text-align: right;\">\n",
       "      <th></th>\n",
       "      <th>-1: Anti</th>\n",
       "      <th>0: Neutral</th>\n",
       "      <th>1: Pro</th>\n",
       "      <th>2: News</th>\n",
       "    </tr>\n",
       "  </thead>\n",
       "  <tbody>\n",
       "    <tr>\n",
       "      <th>-1: Anti</th>\n",
       "      <td>99</td>\n",
       "      <td>42</td>\n",
       "      <td>123</td>\n",
       "      <td>14</td>\n",
       "    </tr>\n",
       "    <tr>\n",
       "      <th>0: Neutral</th>\n",
       "      <td>5</td>\n",
       "      <td>160</td>\n",
       "      <td>229</td>\n",
       "      <td>31</td>\n",
       "    </tr>\n",
       "    <tr>\n",
       "      <th>1: Pro</th>\n",
       "      <td>8</td>\n",
       "      <td>56</td>\n",
       "      <td>1551</td>\n",
       "      <td>140</td>\n",
       "    </tr>\n",
       "    <tr>\n",
       "      <th>2: News</th>\n",
       "      <td>3</td>\n",
       "      <td>8</td>\n",
       "      <td>134</td>\n",
       "      <td>561</td>\n",
       "    </tr>\n",
       "  </tbody>\n",
       "</table>\n",
       "</div>"
      ],
      "text/plain": [
       "            -1: Anti  0: Neutral  1: Pro  2: News\n",
       "-1: Anti          99          42     123       14\n",
       "0: Neutral         5         160     229       31\n",
       "1: Pro             8          56    1551      140\n",
       "2: News            3           8     134      561"
      ]
     },
     "execution_count": 66,
     "metadata": {},
     "output_type": "execute_result"
    }
   ],
   "source": [
    "#Confusion matrix for Ridge \n",
    "rc_matrix = pd.DataFrame(data=confusion_matrix(y_test,rc_pred), index=labels, columns=labels)\n",
    "rc_matrix"
   ]
  },
  {
   "cell_type": "markdown",
   "id": "1211dd56",
   "metadata": {},
   "source": [
    "* Out of a total of 278 Anti tweets present in the testing data set, ridge classifier model predicted a total of 114 Anti tweets and only 98 of those predictions are correct. Similar explanations for the other class labels.\n",
    "\n",
    "* The number of correct predictions for the Pro class is higher in all 7 models, and this has to do with the class imbalance we referred to earlier in the EDA. There are more observations with the Pro label, so the model gets better at classifiying those ones because it has more evidence of them.\n",
    "\n",
    "* The corresponding values in the other classes are lower for the same reason"
   ]
  },
  {
   "cell_type": "markdown",
   "id": "ff5a6f5e",
   "metadata": {},
   "source": [
    "#### Explanation of Overall Accuracy from Confusion Matrix\n",
    "\n",
    "The results shown above lead us to our first classification metric: **overall accuracy**, which we calculate according to the following formula:\n",
    "\n",
    "$$ Accuracy =  \\frac{Correct\\space predictions\\space in\\space all\\space classes}{Total\\space predictions} $$\n",
    "\n",
    "\n",
    "$$ Naive-Accuracy =   \\frac{ 25 + 53 + 1671 + 449 }{ 3164 } = 0.6946903 $$\n",
    "\n",
    "$$ Logistics-Accuracy =   \\frac{ 91 + 166 + 1566 + 546 }{ 3164 } = 0.7487358 $$\n",
    "\n",
    "$$ DecisionTree-Accuracy =   \\frac{ 68 + 160 + 1248 + 468 }{ 3164 } = 0.6144121 $$\n",
    "\n",
    "$$ RandomForest-Accuracy =   \\frac{  68 + 160 + 1248 + 468 }{ 3164 } = 0.6144121 $$\n",
    "\n",
    "$$ SVM-Accuracy =   \\frac{ 118 + 172 + 1574 + 561 }{ 3164} = 0.7664349 $$\n",
    "\n",
    "$$ Linear-SVM-Accuracy =   \\frac{ 127 + 188 + 1494 + 552 }{ 3164 } = 0.7462073 $$\n",
    "\n",
    "$$ Ridge-Accuracy =   \\frac{ 98 + 160 + 1553 + 561 }{ 3164 } = 0.7496839 $$\n",
    "\n",
    "\n",
    "At first glance this appears to be a useful, catch-all metric which tells us everything we need to know about our model. The problem is that it lacks detail. It only tells us the overall accuracy but tells nothing about the accuracy of each particular class."
   ]
  },
  {
   "cell_type": "markdown",
   "id": "9b039bc4",
   "metadata": {},
   "source": [
    "### 9.3. Assessing Model Performance, for 3 models, using the Classification Report "
   ]
  },
  {
   "cell_type": "code",
   "execution_count": 67,
   "id": "69159e13",
   "metadata": {},
   "outputs": [
    {
     "name": "stdout",
     "output_type": "stream",
     "text": [
      "Classification Report For Naive Bayes\n",
      "              precision    recall  f1-score   support\n",
      "\n",
      "        Anti       0.96      0.09      0.16       278\n",
      "     Neutral       0.75      0.12      0.21       425\n",
      "         Pro       0.66      0.95      0.78      1755\n",
      "        News       0.81      0.64      0.71       706\n",
      "\n",
      "    accuracy                           0.69      3164\n",
      "   macro avg       0.80      0.45      0.47      3164\n",
      "weighted avg       0.73      0.69      0.64      3164\n",
      "\n"
     ]
    }
   ],
   "source": [
    "print('Classification Report For Naive Bayes')\n",
    "print(classification_report(y_test, nby_pred, target_names=['Anti', 'Neutral', 'Pro', 'News']))"
   ]
  },
  {
   "cell_type": "code",
   "execution_count": 68,
   "id": "bbe90ced",
   "metadata": {},
   "outputs": [
    {
     "name": "stdout",
     "output_type": "stream",
     "text": [
      "Classification Report For Logistic Model\n",
      "              precision    recall  f1-score   support\n",
      "\n",
      "        Anti       0.79      0.33      0.46       278\n",
      "     Neutral       0.61      0.39      0.48       425\n",
      "         Pro       0.75      0.89      0.82      1755\n",
      "        News       0.78      0.77      0.78       706\n",
      "\n",
      "    accuracy                           0.75      3164\n",
      "   macro avg       0.73      0.60      0.63      3164\n",
      "weighted avg       0.74      0.75      0.73      3164\n",
      "\n"
     ]
    }
   ],
   "source": [
    "print('Classification Report For Logistic Model')\n",
    "print(classification_report(y_test, lr_pred, target_names=['Anti', 'Neutral', 'Pro', 'News']))"
   ]
  },
  {
   "cell_type": "code",
   "execution_count": 69,
   "id": "d6b36b45",
   "metadata": {},
   "outputs": [
    {
     "name": "stdout",
     "output_type": "stream",
     "text": [
      "Classification Report For Support Vector Machine\n",
      "              precision    recall  f1-score   support\n",
      "\n",
      "        Anti       0.84      0.42      0.56       278\n",
      "     Neutral       0.62      0.40      0.49       425\n",
      "         Pro       0.77      0.90      0.83      1755\n",
      "        News       0.80      0.79      0.80       706\n",
      "\n",
      "    accuracy                           0.77      3164\n",
      "   macro avg       0.76      0.63      0.67      3164\n",
      "weighted avg       0.76      0.77      0.75      3164\n",
      "\n"
     ]
    },
    {
     "name": "stderr",
     "output_type": "stream",
     "text": [
      "COMET WARNING: The given value of the metric sys.load.avg was None; ignoring\n"
     ]
    }
   ],
   "source": [
    "print('Classification Report For Support Vector Machine')\n",
    "print(classification_report(y_test, svc_pred, target_names=['Anti', 'Neutral', 'Pro', 'News']))"
   ]
  },
  {
   "cell_type": "markdown",
   "id": "a929ad1b",
   "metadata": {},
   "source": [
    "#### Interpretation\n",
    "\n",
    "We now have a far more comprehensive view of the performance of our model.\n",
    "\n",
    "- Clearly, the precision, recall and f1-score values for the Pro class are higher, and this has to do with the class imbalance we referred to earlier in the EDA. There are more observations with the Pro label, so the model gets _better_ at classifiying those ones because it has more evidence of them.\n",
    "\n",
    "- The corresponding values in the other classes are lower for the same reason.\n",
    "\n",
    "- The weighted f1-score here gives us a good indication using a single value of how well the model is performed. It is somewhere between the accuracies that the model achieved for each of class , but slightly in favour of class Pro, of which there were more examples.\n",
    "\n",
    "- Perhaps the most important information in the above table is in the last row, indicating the weighted average. unlike the values in the `macro avg` row which are computed using: $\\frac{class\\_0\\_metric \\quad + \\quad class\\_1\\_metric + \\quad class\\_2\\_metric + \\quad class\\_-1\\_metric}{4}$ , the `weighted avg` values are computed using: $\\frac{class\\_0\\_metric \\, \\times \\, \\%\\_class\\_0\\_labels  \\quad + \\quad class\\_1\\_metric \\, \\times \\, \\%\\_class\\_1\\_labels + \\quad class\\_2\\_metric \\, \\times \\, \\%\\_class\\_2\\_labels + \\quad class\\_-1\\_metric \\, \\times \\, \\%\\_class\\_-1\\_labels}{4}$ , which takes into account the proportions of each class fed into the model (as indicated in the support column)."
   ]
  },
  {
   "cell_type": "markdown",
   "id": "1f114798",
   "metadata": {},
   "source": []
  },
  {
   "cell_type": "markdown",
   "id": "f3ffef6e",
   "metadata": {},
   "source": [
    "<a id=\"ten\"></a>\n",
    "## 10. Model Explanations\n",
    "<a class=\"anchor\" id=\"1.1\"></a>\n",
    "<a href=#cont>Back to Project Pipeline</a>"
   ]
  },
  {
   "cell_type": "markdown",
   "id": "0c051364",
   "metadata": {},
   "source": [
    "**HOW OUR MODEL WORKS!**\n",
    "\n",
    "<img src=\"https://imgs.search.brave.com/ybiWe82h0sdQRbZJEMWV3sNRCvZHHux_rxtkuKNcVLg/rs:fit:900:604:1/g:ce/aHR0cDovL3d3dy5s/aWZlY3ljbGVpbnNp/Z2h0cy5jb20vd3At/Y29udGVudC91cGxv/YWRzLzIwMTYvMDQv/cGFydC1hbmQtZHJh/d2luZy5wbmc\" width=\"400\">\n"
   ]
  },
  {
   "cell_type": "markdown",
   "id": "7fe6c12d",
   "metadata": {},
   "source": [
    "#### 10.1 Multinomial Naive Bayes\n",
    "\n",
    "> _Non-technical summary_:\n",
    "Naive Bayes is a way of using math to make predictions about data. It is called \"naive\" because it assumes that the different factors that can affect the outcome of a situation are independent of each other. This assumption might not always be true, but the algorithm is often still very accurate. It is often used to classify things into different groups.\n",
    "\n",
    "> _Technical summary_:\n",
    "Naive Bayes is a supervised learning algorithm that is commonly used for classification tasks. It uses Bayes' theorem, which is a way of calculating the probability of an event based on prior knowledge of conditions that might be related to the event. In the context of the algorithm, this means that we can use the observed features of a data point to calculate the probability that it belongs to a certain class. The \"naive\" part of the algorithm comes from the assumption that all of the features are independent of each other, which allows us to simplify the calculations. Despite this assumption, the algorithm often performs well in practice."
   ]
  },
  {
   "cell_type": "markdown",
   "id": "d3e20b35",
   "metadata": {},
   "source": [
    "#### 10.2 Logistic Regression\n",
    "\n",
    "> _Non-technical summary_:\n",
    "Logistic regression is a way of using math to make predictions about data. It is often used to classify things into different groups, such as \"spam\" or \"not spam\" for emails, or \"malignant\" or \"benign\" for tumors. It works by taking some information about an input, and using it to calculate the probability that the input belongs to a certain group. It then uses a threshold value to decide which group the input should belong to.\n",
    "\n",
    "> _Technical summary_:\n",
    "Logistic regression is a supervised learning algorithm that is commonly used for classification tasks. It works by using a linear model to predict the probability that an input belongs to a certain class. This probability is calculated using a logistic function, which maps the input values to a value between 0 and 1. The class that the input is assigned to is then determined using a threshold value; for example, if the probability is greater than 0.5, the input might be classified as belonging to the \"positive\" class, and if it is less than 0.5, it might be classified as belonging to the \"negative\" class. The model is trained using a set of labeled examples, and can then be applied to new, unseen data to make predictions."
   ]
  },
  {
   "cell_type": "markdown",
   "id": "52ba213f",
   "metadata": {},
   "source": [
    "#### 10.3 Decision Tree\n",
    "\n",
    "> _Non-technical summary_:\n",
    "A decision tree is a tool that can help us make predictions about data. It does this by breaking the data into smaller and smaller groups, and then using those groups to make predictions. This lets us see how different factors might affect the outcome of a situation, and helps us make more accurate predictions.\n",
    "\n",
    "> _Technical summary_:\n",
    "A decision tree is a supervised learning algorithm that can be used for both classification and regression tasks. It works by constructing a tree-like model from an input dataset, where each internal node represents a \"test\" on an attribute, each branch represents the outcome of the test, and each leaf node represents a class label or a predicted value. The algorithm uses a top-down, greedy search approach to find the optimal decision tree that maximizes a given criterion, such as information gain or Gini impurity."
   ]
  },
  {
   "cell_type": "markdown",
   "id": "592f298b",
   "metadata": {},
   "source": [
    "#### 10.4 Random Forest\n",
    "\n",
    "> Non-technical summary: A random forest model can be thought of as a group of individual decision trees that work together to make predictions. Each tree makes its own prediction, and the final prediction is made by combining the predictions of all of the trees. This approach helps to improve the accuracy of the model by reducing overfitting and using a variety of different perspectives to make a prediction.\n",
    "\n",
    "> _Technical summary_: The working principle of a random forest model can be explained as follows:\n",
    "1.The dataset is split into multiple subsets, and a decision tree is trained on each subset.\n",
    "2.The features in the data are also randomly subsampled for each tree. This means that each tree is trained on a different subset of the features in the data.\n",
    "3.During training, each decision tree is constructed using a greedy algorithm, where at each step the best split is chosen based on some metric (e.g., Gini impurity or entropy).\n",
    "4.The final prediction for a new sample is made by averaging the predictions of all of the individual decision trees (for regression tasks) or by taking a majority vote (for classification tasks).\n",
    "\n",
    "* The randomness in the subsampling of the data and the features helps to improve the generalization performance of the model by reducing overfitting.\n",
    "\n",
    "\n",
    "\n"
   ]
  },
  {
   "cell_type": "markdown",
   "id": "56870887",
   "metadata": {},
   "source": [
    "#### 10.5  Support Vector Machine\n",
    "\n",
    "> _Non-technical summary_:\n",
    "Imagine you have a dataset with two classes of points, \"A\" and \"B.\" An SVM will find the line that best separates these points into classes \"A\" and \"B.\" Points on one side of the line will be classified as \"A,\" and points on the other side will be classified as \"B.\"\n",
    "\n",
    "* Technical summary:\n",
    "\n",
    "Our model works by finding an optimal boundary/line that successfully classifies the data points into their respective classes.\n",
    "To better understand this, we'll quickly explain two terms; _hyperplane_ and _support vectors_ .\n",
    "\n",
    "* **Hyper-Plane** : A hyperplane is a decision boundary that differentiates classes in SVM. A data point falling on either side of the hyperplane can be attributed to different classes. \n",
    "\n",
    "* **Support-Vectors** : Support vectors are the data points that are nearest to the hyper-plane. We have to select a hyperplane, for which the margin, i.e the distance between support vectors and hyper-plane is maximum.\n",
    "<img src=\"https://cdn.analyticsvidhya.com/wp-content/uploads/2021/03/support-vector.png\" width=\"300\">\n",
    "\n",
    "Let's say we have a classification problem where we have to separate the red data points from the blue ones using a hyperplane. As shown in the image below, we have multiple lines separating the data points successfully. But our objective is to look for the **best line** that separate these datapoints equally.\n",
    "<img src=\"https://cdn.analyticsvidhya.com/wp-content/uploads/2021/03/Screenshot-from-2021-03-08-13-18-50.png\" width=\"300\">\n",
    "\n",
    "1. The **best line** must be able to successfully divide all the data points into the respective classes. In our example, we can clearly see lines E and D are miss classifying a red data point, so we drop them. \n",
    "\n",
    "2. The **best line** must perfectly separate the data points in such a way that both classes are at equidistant from the line. \n",
    "<img src=\"https://cdn.analyticsvidhya.com/wp-content/uploads/2021/03/Screenshot-from-2021-03-08-13-34-04.png\" width=\"300\">\n",
    "\n",
    "> This is what Support Vector Classifier looks for. It aims for the maximum margin and creates a line that is equidistant from both sides, which is line C in our case. So we can say C represents the Support Vector Machine classifier with the maximum margin. This way our model is able to correctly classifier the tweets. \n",
    "\n",
    "---"
   ]
  },
  {
   "cell_type": "markdown",
   "id": "5b127939",
   "metadata": {},
   "source": [
    "#### 10.6 Linear Support Vector Machine\n",
    "\n",
    "> _Non-technical summary_:\n",
    "A linear SVM is an algorithm that finds the best line (in two dimensions) or hyperplane (in multiple dimensions) to separate the data points in a dataset into their respective classes. This line or hyperplane is known as the \"decision boundary,\" and it is used to classify new data points.\n",
    "\n",
    "> _Technical summary_:\n",
    "A linear SVM finds the decision boundary by constructing a hyperplane that maximally separates the data points in the dataset. This is done by finding the hyperplane that has the largest margin, or the maximum distance between the hyperplane and any data point in the dataset. The points that are closest to the hyperplane are called \"support vectors,\" and they define the position and orientation of the hyperplane. Because a linear SVM uses a linear kernel function, the decision boundary will always be a straight line or hyperplane. Once the decision boundary has been found, new data points can be easily classified by determining on which side of the hyperplane they lie."
   ]
  },
  {
   "cell_type": "markdown",
   "id": "17f69484",
   "metadata": {},
   "source": [
    "#### 10.7 Ridge Classifier\n",
    "\n",
    "> _Non-technical summary_:\n",
    "A ridge classifier is an algorithm that helps to prevent overfitting by adding a regularization term to the model. This regularization term reduces the complexity of the model and can improve the accuracy of the classifier on new data.\n",
    "\n",
    "> _Technical summary_:\n",
    "A ridge classifier is a linear model that uses a regularization term in the cost function to prevent overfitting. This regularization term is a hyperparameter that is multiplied by the squared magnitude of the model weights, which penalizes large weights and encourages the model to use only the most relevant features in the data. During training, the model seeks to minimize the cost function, which balances the fit of the model on the training data and the regularization term. The regularization term helps to prevent overfitting by limiting the complexity of the model, which can improve the generalizability of the classifier."
   ]
  },
  {
   "cell_type": "markdown",
   "id": "49209ba8",
   "metadata": {},
   "source": [
    "<a id=\"eleven\"></a>\n",
    "## 11. Logging parameters on Comet\n",
    "<a class=\"anchor\" id=\"1.1\"></a>\n",
    "<a href=#cont>Back to Project Pipeline</a>"
   ]
  },
  {
   "cell_type": "markdown",
   "id": "91896ca7",
   "metadata": {},
   "source": [
    "**Create a dictionary for the data we want to log**"
   ]
  },
  {
   "cell_type": "code",
   "execution_count": 70,
   "id": "61bd7d20",
   "metadata": {},
   "outputs": [],
   "source": [
    "params = {\"random_state\": 42,\n",
    "         \"model_type\": \"naive_bayes\",\n",
    "          \"vectorizer\": \"tfidf\",\n",
    "          \"stratify\": True\n",
    "         }\n",
    "\n",
    "metrics = {\"f1\": f1_score(y_test, nby_pred, average=\"micro\"),\n",
    "          \"recall\": recall_score(y_test, nby_pred, average=\"micro\"),\n",
    "          \"precision\": precision_score(y_test, nby_pred, average=\"micro\")\n",
    "          }"
   ]
  },
  {
   "cell_type": "code",
   "execution_count": 74,
   "id": "a8444b7e",
   "metadata": {},
   "outputs": [],
   "source": [
    "params_1 = {\"random_state\": 42,\n",
    "         \"model_type\": \"logistic\",\n",
    "          \"vectorizer\": \"tfidf\",\n",
    "          \"stratify\": True\n",
    "         }\n",
    "\n",
    "metrics_1 = {\"f1\": f1_score(y_test, lr_pred, average=\"micro\"),\n",
    "          \"recall\": recall_score(y_test, lr_pred, average=\"micro\"),\n",
    "          \"precision\": precision_score(y_test, lr_pred, average=\"micro\")\n",
    "          }"
   ]
  },
  {
   "cell_type": "code",
   "execution_count": 78,
   "id": "3abde5cd",
   "metadata": {},
   "outputs": [],
   "source": [
    "params_2 = {\"random_state\": 42,\n",
    "         \"model_type\": \"decision tree\",\n",
    "          \"vectorizer\": \"tfidf\",\n",
    "          \"stratify\": True\n",
    "         }\n",
    "\n",
    "metrics_2 = {\"f1\": f1_score(y_test, dtc_pred, average=\"micro\"),\n",
    "          \"recall\": recall_score(y_test, dtc_pred, average=\"micro\"),\n",
    "          \"precision\": precision_score(y_test, dtc_pred, average=\"micro\")\n",
    "          }"
   ]
  },
  {
   "cell_type": "code",
   "execution_count": 82,
   "id": "e72b9b92",
   "metadata": {},
   "outputs": [],
   "source": [
    "params_3 = {\"random_state\": 42,\n",
    "         \"model_type\": \"random forest\",\n",
    "          \"vectorizer\": \"tfidf\",\n",
    "          \"stratify\": True\n",
    "         }\n",
    "\n",
    "metrics_3 = {\"f1\": f1_score(y_test, rf_pred, average=\"micro\"),\n",
    "          \"recall\": recall_score(y_test, rf_pred, average=\"micro\"),\n",
    "          \"precision\": precision_score(y_test, rf_pred, average=\"micro\")\n",
    "          }"
   ]
  },
  {
   "cell_type": "code",
   "execution_count": 86,
   "id": "66b20707",
   "metadata": {},
   "outputs": [],
   "source": [
    "params_4 = {\"random_state\": 42,\n",
    "         \"model_type\": \"svm\",\n",
    "          \"vectorizer\": \"tfidf\",\n",
    "          \"stratify\": True\n",
    "         }\n",
    "\n",
    "metrics_4 = {\"f1\": f1_score(y_test, svc_pred, average=\"micro\"),\n",
    "          \"recall\": recall_score(y_test, svc_pred, average=\"micro\"),\n",
    "          \"precision\": precision_score(y_test, svc_pred, average=\"micro\")\n",
    "          }"
   ]
  },
  {
   "cell_type": "code",
   "execution_count": 90,
   "id": "a33fe10a",
   "metadata": {},
   "outputs": [],
   "source": [
    "params_5 = {\"random_state\": 42,\n",
    "         \"model_type\": \"linear svm\",\n",
    "          \"vectorizer\": \"tfidf\",\n",
    "          \"stratify\": True\n",
    "         }\n",
    "\n",
    "metrics_5 = {\"f1\": f1_score(y_test, svm_pred, average=\"micro\"),\n",
    "          \"recall\": recall_score(y_test, svm_pred, average=\"micro\"),\n",
    "          \"precision\": precision_score(y_test, svm_pred, average=\"micro\")\n",
    "          }"
   ]
  },
  {
   "cell_type": "code",
   "execution_count": 94,
   "id": "d70232a6",
   "metadata": {},
   "outputs": [],
   "source": [
    "params_6 = {\"random_state\": 42,\n",
    "         \"model_type\": \"ridge\",\n",
    "          \"vectorizer\": \"tfidf\",\n",
    "          \"stratify\": True\n",
    "         }\n",
    "\n",
    "metrics_6 = {\"f1\": f1_score(y_test, rc_pred, average=\"micro\"),\n",
    "          \"recall\": recall_score(y_test, rc_pred, average=\"micro\"),\n",
    "          \"precision\": precision_score(y_test, rc_pred, average=\"micro\")\n",
    "          }"
   ]
  },
  {
   "cell_type": "markdown",
   "id": "87974f21",
   "metadata": {},
   "source": [
    "**Log the parameters and result**"
   ]
  },
  {
   "cell_type": "code",
   "execution_count": 71,
   "id": "6b03ebc8",
   "metadata": {},
   "outputs": [
    {
     "data": {
      "text/plain": [
       "{'web': 'https://www.comet.com/api/asset/download?assetId=026bd24666f44a6a848ae39bd560771b&experimentKey=f7a997fa77b44e4486efbed46a78d149',\n",
       " 'api': 'https://www.comet.com/api/rest/v2/experiment/asset/get-asset?assetId=026bd24666f44a6a848ae39bd560771b&experimentKey=f7a997fa77b44e4486efbed46a78d149',\n",
       " 'assetId': '026bd24666f44a6a848ae39bd560771b'}"
      ]
     },
     "execution_count": 71,
     "metadata": {},
     "output_type": "execute_result"
    }
   ],
   "source": [
    "# Log of parameters for naive bayes\n",
    "experiment.log_parameters(params)\n",
    "experiment.log_metrics(metrics)\n",
    "experiment.log_confusion_matrix(y_test, nby_pred)"
   ]
  },
  {
   "cell_type": "code",
   "execution_count": 75,
   "id": "0a292271",
   "metadata": {},
   "outputs": [
    {
     "data": {
      "text/plain": [
       "{'web': 'https://www.comet.com/api/asset/download?assetId=c161ab81f5d64ca0a648993dd93827a9&experimentKey=376d4cf2b74947eaa6cde8491dd9ec34',\n",
       " 'api': 'https://www.comet.com/api/rest/v2/experiment/asset/get-asset?assetId=c161ab81f5d64ca0a648993dd93827a9&experimentKey=376d4cf2b74947eaa6cde8491dd9ec34',\n",
       " 'assetId': 'c161ab81f5d64ca0a648993dd93827a9'}"
      ]
     },
     "execution_count": 75,
     "metadata": {},
     "output_type": "execute_result"
    }
   ],
   "source": [
    "# Log of parameters for logistic\n",
    "experiment.log_parameters(params_1)\n",
    "experiment.log_metrics(metrics_1)\n",
    "experiment.log_confusion_matrix(y_test, lr_pred)"
   ]
  },
  {
   "cell_type": "code",
   "execution_count": 79,
   "id": "644c707b",
   "metadata": {},
   "outputs": [
    {
     "data": {
      "text/plain": [
       "{'web': 'https://www.comet.com/api/asset/download?assetId=072503e4bb4b413481f32377ed895380&experimentKey=17ca726f55d54bedb8eaf0f17b5b3794',\n",
       " 'api': 'https://www.comet.com/api/rest/v2/experiment/asset/get-asset?assetId=072503e4bb4b413481f32377ed895380&experimentKey=17ca726f55d54bedb8eaf0f17b5b3794',\n",
       " 'assetId': '072503e4bb4b413481f32377ed895380'}"
      ]
     },
     "execution_count": 79,
     "metadata": {},
     "output_type": "execute_result"
    }
   ],
   "source": [
    "# Log of parameters for decision tree\n",
    "experiment.log_parameters(params_2)\n",
    "experiment.log_metrics(metrics_2)\n",
    "experiment.log_confusion_matrix(y_test, dtc_pred)"
   ]
  },
  {
   "cell_type": "code",
   "execution_count": 83,
   "id": "20c164be",
   "metadata": {},
   "outputs": [
    {
     "data": {
      "text/plain": [
       "{'web': 'https://www.comet.com/api/asset/download?assetId=cccc7d2d03c044eeb8acfc9d380353a1&experimentKey=146b1c14de8847d0bd430e95c9e038b9',\n",
       " 'api': 'https://www.comet.com/api/rest/v2/experiment/asset/get-asset?assetId=cccc7d2d03c044eeb8acfc9d380353a1&experimentKey=146b1c14de8847d0bd430e95c9e038b9',\n",
       " 'assetId': 'cccc7d2d03c044eeb8acfc9d380353a1'}"
      ]
     },
     "execution_count": 83,
     "metadata": {},
     "output_type": "execute_result"
    }
   ],
   "source": [
    "# Log of parameters for random forest\n",
    "experiment.log_parameters(params_3)\n",
    "experiment.log_metrics(metrics_3)\n",
    "experiment.log_confusion_matrix(y_test, rf_pred)"
   ]
  },
  {
   "cell_type": "code",
   "execution_count": 87,
   "id": "7a2e3da3",
   "metadata": {},
   "outputs": [
    {
     "data": {
      "text/plain": [
       "{'web': 'https://www.comet.com/api/asset/download?assetId=d008b5a94bbc4693a982a075b737e627&experimentKey=738a4661b74b42c6a9c062acaf9333bf',\n",
       " 'api': 'https://www.comet.com/api/rest/v2/experiment/asset/get-asset?assetId=d008b5a94bbc4693a982a075b737e627&experimentKey=738a4661b74b42c6a9c062acaf9333bf',\n",
       " 'assetId': 'd008b5a94bbc4693a982a075b737e627'}"
      ]
     },
     "execution_count": 87,
     "metadata": {},
     "output_type": "execute_result"
    }
   ],
   "source": [
    "# Log of parameters for svc\n",
    "experiment.log_parameters(params_4)\n",
    "experiment.log_metrics(metrics_4)\n",
    "experiment.log_confusion_matrix(y_test, svc_pred)"
   ]
  },
  {
   "cell_type": "code",
   "execution_count": 91,
   "id": "4967e8df",
   "metadata": {},
   "outputs": [
    {
     "data": {
      "text/plain": [
       "{'web': 'https://www.comet.com/api/asset/download?assetId=e63117f60bb44f50a0751c4a5288a88b&experimentKey=d0ebbe182d8f4559a05b4f0d8ac9cbaa',\n",
       " 'api': 'https://www.comet.com/api/rest/v2/experiment/asset/get-asset?assetId=e63117f60bb44f50a0751c4a5288a88b&experimentKey=d0ebbe182d8f4559a05b4f0d8ac9cbaa',\n",
       " 'assetId': 'e63117f60bb44f50a0751c4a5288a88b'}"
      ]
     },
     "execution_count": 91,
     "metadata": {},
     "output_type": "execute_result"
    }
   ],
   "source": [
    "# Log of parameters for linear svm\n",
    "experiment.log_parameters(params_5)\n",
    "experiment.log_metrics(metrics_5)\n",
    "experiment.log_confusion_matrix(y_test, svm_pred)"
   ]
  },
  {
   "cell_type": "code",
   "execution_count": 95,
   "id": "016bacac",
   "metadata": {},
   "outputs": [
    {
     "data": {
      "text/plain": [
       "{'web': 'https://www.comet.com/api/asset/download?assetId=237d1c01e36643119bf8bc4074b82880&experimentKey=9a5cc27854c94d10b491483eef335734',\n",
       " 'api': 'https://www.comet.com/api/rest/v2/experiment/asset/get-asset?assetId=237d1c01e36643119bf8bc4074b82880&experimentKey=9a5cc27854c94d10b491483eef335734',\n",
       " 'assetId': '237d1c01e36643119bf8bc4074b82880'}"
      ]
     },
     "execution_count": 95,
     "metadata": {},
     "output_type": "execute_result"
    }
   ],
   "source": [
    "# Log of parameters for ridge\n",
    "experiment.log_parameters(params_6)\n",
    "experiment.log_metrics(metrics_6)\n",
    "experiment.log_confusion_matrix(y_test, rc_pred)"
   ]
  },
  {
   "cell_type": "markdown",
   "id": "4af382fa",
   "metadata": {},
   "source": [
    "**End experiment**"
   ]
  },
  {
   "cell_type": "code",
   "execution_count": 97,
   "id": "f40d73e7",
   "metadata": {},
   "outputs": [],
   "source": [
    "# end the expereiment\n",
    "experiment.end()"
   ]
  },
  {
   "cell_type": "markdown",
   "id": "bdd4d3c0",
   "metadata": {},
   "source": [
    "**Display experiment**\n",
    "\n",
    "Running experiment.display() will show you your experiments comet.ml page inside your notebook"
   ]
  },
  {
   "cell_type": "code",
   "execution_count": 98,
   "id": "ae5aba4f",
   "metadata": {},
   "outputs": [
    {
     "data": {
      "text/html": [
       "\n",
       "        <iframe\n",
       "            width=\"100%\"\n",
       "            height=\"800px\"\n",
       "            src=\"https://www.comet.com/jasperzeroes/the-cudar-project/9a5cc27854c94d10b491483eef335734\"\n",
       "            frameborder=\"0\"\n",
       "            allowfullscreen\n",
       "        ></iframe>\n",
       "        "
      ],
      "text/plain": [
       "<IPython.lib.display.IFrame at 0x2559584dbb0>"
      ]
     },
     "metadata": {},
     "output_type": "display_data"
    }
   ],
   "source": [
    "# display the experiment\n",
    "experiment.display()"
   ]
  },
  {
   "cell_type": "markdown",
   "id": "fa77d529",
   "metadata": {},
   "source": [
    "<a id=\"twelve\"></a>\n",
    "## 12. Pickling of models and vectorizer \n",
    "<a class=\"anchor\" id=\"1.1\"></a>\n",
    "<a href=#cont>Back to Project Pipeline</a>"
   ]
  },
  {
   "cell_type": "markdown",
   "id": "ca819338",
   "metadata": {},
   "source": [
    "### Pickle three of the models for use on streamlit"
   ]
  },
  {
   "cell_type": "code",
   "execution_count": 106,
   "id": "993a28f6",
   "metadata": {},
   "outputs": [],
   "source": [
    "# Pickle for LogisticRegressor\n",
    "model_save_path = \"logistics_regression.pkl\"\n",
    "with open(model_save_path,'wb') as file:\n",
    "    pickle.dump(lr,file)\n",
    "    \n",
    "#Pickle for DecisionForest Regressor\n",
    "model_save_path = \"dtc_regression.pkl\"\n",
    "with open(model_save_path,'wb') as file:\n",
    "    pickle.dump(dtc,file)\n",
    "    \n",
    "#Pickle for DecisionForest Regressor\n",
    "model_save_path = \"svm_regression.pkl\"\n",
    "with open(model_save_path,'wb') as file:\n",
    "    pickle.dump(svm,file)"
   ]
  },
  {
   "cell_type": "markdown",
   "id": "7d71fe68",
   "metadata": {},
   "source": [
    "### Pickle the Vectorizer for use on streamlit"
   ]
  },
  {
   "cell_type": "code",
   "execution_count": 107,
   "id": "937b822c",
   "metadata": {},
   "outputs": [],
   "source": [
    "#Pickle the TFIDF vectorizer\n",
    "model_save_path = \"TFIDF.pkl\"\n",
    "with open(model_save_path,'wb') as file:\n",
    "    pickle.dump(vectorizer,file)"
   ]
  },
  {
   "cell_type": "markdown",
   "id": "9178d7de",
   "metadata": {},
   "source": [
    "<a id=\"thirteen\"></a>\n",
    "## 13. Conclusion\n",
    "<a class=\"anchor\" id=\"1.1\"></a>\n",
    "<a href=#cont>Back to Project Pipeline</a>\n",
    "\n",
    "In this project, seven (7) machine learning models were trained for a tweet sentiment task. The performance of the models was evaluated using the f1 score, precisiona and recall and it was found that the **Support Vector Machine** model performed better than the other 6 models. This suggests that the **Support Vector Machine** model may be a good choice for this particular tweet polarity analysis. Further evaluation and testing may be needed to confirm this, but the initial results, based on the classification report given above for all seven (7) models judging by their respective f1 scores, indicate that the **Support Vector Machine** model is a strong performer in this domain.\n",
    "\n",
    "Going by all of the above considerations, our winning model for this project is the **Support Vector Classifier** because it has the highest weighted average for precision, recall and f1 score.\n",
    "\n",
    "With this model,  decision makers can known the prevailing sentiments from a particular area through analysing the statements from respondents living in a particular area. Armed with this knowledge, informed decisons on allocation of resources can be made, and ad and marketing strategies for different product that favours climate change can be put into action. \n",
    "\n",
    "The speech writing industry can also benefit greatly from product developed with this model. Imagine a politician or business executive that wants to bring in a policy about climate change, the executuve or politician can analyse his or her speech before hand to know the sentiment that the speech will arouse in his or her listeners and necessary corrections can be made to suit their agenda. "
   ]
  },
  {
   "cell_type": "markdown",
   "id": "7ea13d53",
   "metadata": {},
   "source": [
    "## Test on Unseen Dataset for Kaggle submission"
   ]
  },
  {
   "cell_type": "code",
   "execution_count": 108,
   "id": "4dfa6c71",
   "metadata": {},
   "outputs": [
    {
     "name": "stdout",
     "output_type": "stream",
     "text": [
      "(10546, 6103)\n"
     ]
    }
   ],
   "source": [
    "X_tests = vectorizer.transform(df_test['clean_message']).toarray()\n",
    "test_new = pd.DataFrame(X_tests, columns=vectorizer.get_feature_names())\n",
    "print(test_new.shape)"
   ]
  },
  {
   "cell_type": "code",
   "execution_count": 109,
   "id": "58fccec0",
   "metadata": {},
   "outputs": [],
   "source": [
    "X_test = test_new.values\n",
    "svc_pred = svc.predict(X_test)"
   ]
  },
  {
   "cell_type": "code",
   "execution_count": 110,
   "id": "8eeb7717",
   "metadata": {},
   "outputs": [],
   "source": [
    "# Preparing csv file for Kaggle submission \n",
    "submission = pd.DataFrame()\n",
    "submission['tweetid'] = df_test['tweetid']\n",
    "submission['sentiment'] = svc_pred\n",
    "submission.to_csv('tweet_submission.csv', index=False)\n",
    "\n",
    "# Validate\n",
    "submission = pd.read_csv('tweet_submission.csv')"
   ]
  },
  {
   "cell_type": "markdown",
   "id": "7d065e66",
   "metadata": {},
   "source": [
    "<a id=\"fourteen\"></a>\n",
    "## 14. References\n",
    "<a class=\"anchor\" id=\"1.1\"></a>\n",
    "<a href=#cont>Back to Project Pipeline</a>\n",
    "\n",
    "1. Wikipedia contributors. (2022, December 5). Exploratory data analysis. In Wikipedia, The Free Encyclopedia. Retrieved 03:31, December 9, 2022, from https://en.wikipedia.org/w/index.php?title=Exploratory_data_analysis&oldid=1125714900\n",
    "\n",
    "2. BoostLabs (2020, June 22). Word Clouds & the Value of Simple Visualizations. https://boostlabs.com/blog/what-are-word-clouds-value-simple-visualizations/\n",
    "\n",
    "3. Lawtomated. (2021, Nov 15). 4 things you need to know about AI: accuracy, precision, recall and F1 scores. https://lawtomated.com/accuracy-precision-recall-and-f1-scores-for-lawyers/\n",
    "\n",
    "4. Analyticsvidhya.com. (2021, March 8). Beginners Guide To Support Vector Machine svm/ https://www.analyticsvidhya.com/blog/2021/03/beginners-guide-to-support-vector-machine-svm/\n",
    "\n",
    "5. George Lawton. (2020, March 27). How to optimize hyperparameter tuning for machine learning models. https://searchenterpriseai.techtarget.com/feature/How-to-optimize-hyperparameter-tuning-for-machine-learning-mo\n",
    "\n",
    "6. Hayley Dorney. (2021, October 10) How to create and use hashtags. Retrieved 12:53, December 11, 2022.\n",
    "https://business.twitter.com/en/blog/how-to-create-and-use-hashtags.html\n",
    "\n",
    "7. ANAMIKA THANDA (2022, February 15) What is Logistic Regression? A Beginner's Guide, UPDATED ON DECEMBER 7, 2022\n",
    "https://careerfoundry.com/en/blog/data-analytics/what-is-logistic-regression/\n",
    "\n",
    "8. Decision Tree - GeeksforGeeks https://www.geeksforgeeks.org/decision-tree/\n",
    "\n",
    "9. Multinomial Naive Bayes Explained: Function, Advantages & Disadvantages, Applications in 2023 | upGrad blog by Shriram Last Updated: Oct 3, 2022 https://www.upgrad.com/blog/multinomial-naive-bayes-explained/\n",
    "\n",
    "10.  Towards Data Science. (Apr 23, 2019) Ensemble methods: bagging, boosting and stacking by Joseph Rocca. \n",
    "https://towardsdatascience.com/ensemble-methods-bagging-boosting-and-stacking-c9214a10a205\n",
    "\n",
    "11. Towards Data Science by Destin Gong. (2022, Feb 23) Top 6 Machine Learning Algorithms for Classification https://towardsdatascience.com/top-machine-learning-algorithms-for-classification-2197870ff501\n",
    "\n",
    "12. Medium by Avinash Navlani. (2020, Aug 16) Support Vector Machine Classification in Scikit-learn https://avinashnavlani.medium.com/support-vector-machine-classification-in-scikit-learn-3800bc4979ce)\n",
    "\n"
   ]
  }
 ],
 "metadata": {
  "kernelspec": {
   "display_name": "Python 3 (ipykernel)",
   "language": "python",
   "name": "python3"
  },
  "language_info": {
   "codemirror_mode": {
    "name": "ipython",
    "version": 3
   },
   "file_extension": ".py",
   "mimetype": "text/x-python",
   "name": "python",
   "nbconvert_exporter": "python",
   "pygments_lexer": "ipython3",
   "version": "3.8.5"
  },
  "latex_envs": {
   "LaTeX_envs_menu_present": true,
   "autoclose": false,
   "autocomplete": true,
   "bibliofile": "biblio.bib",
   "cite_by": "apalike",
   "current_citInitial": 1,
   "eqLabelWithNumbers": true,
   "eqNumInitial": 1,
   "hotkeys": {
    "equation": "Ctrl-E",
    "itemize": "Ctrl-I"
   },
   "labels_anchors": false,
   "latex_user_defs": false,
   "report_style_numbering": false,
   "user_envs_cfg": false
  },
  "toc": {
   "base_numbering": 1,
   "nav_menu": {},
   "number_sections": true,
   "sideBar": true,
   "skip_h1_title": false,
   "title_cell": "Table of Contents",
   "title_sidebar": "Contents",
   "toc_cell": false,
   "toc_position": {},
   "toc_section_display": true,
   "toc_window_display": false
  },
  "varInspector": {
   "cols": {
    "lenName": 16,
    "lenType": 16,
    "lenVar": 40
   },
   "kernels_config": {
    "python": {
     "delete_cmd_postfix": "",
     "delete_cmd_prefix": "del ",
     "library": "var_list.py",
     "varRefreshCmd": "print(var_dic_list())"
    },
    "r": {
     "delete_cmd_postfix": ") ",
     "delete_cmd_prefix": "rm(",
     "library": "var_list.r",
     "varRefreshCmd": "cat(var_dic_list()) "
    }
   },
   "types_to_exclude": [
    "module",
    "function",
    "builtin_function_or_method",
    "instance",
    "_Feature"
   ],
   "window_display": false
  }
 },
 "nbformat": 4,
 "nbformat_minor": 5
}
