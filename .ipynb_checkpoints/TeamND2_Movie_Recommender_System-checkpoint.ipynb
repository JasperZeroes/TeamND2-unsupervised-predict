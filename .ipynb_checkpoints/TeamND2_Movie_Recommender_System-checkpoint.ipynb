{
 "cells": [
  {
   "cell_type": "markdown",
   "id": "f3cc33ba",
   "metadata": {},
   "source": [
    "# Movie Recommendation System"
   ]
  },
  {
   "cell_type": "markdown",
   "id": "8f9b8273",
   "metadata": {},
   "source": [
    "## Introduction.\n",
    "\n",
    "\n",
    "### About us\n",
    "\n",
    "\n",
    "\n",
    "\n",
    "\n",
    "\n",
    "\n",
    "\n",
    "**ND2** is a medium size data science consultancy company based in Capetown. We provide data science solutions ranging from Data collection, data cleaning, analysis and model building and model deployment. We pride ourselves in quality delivery and offer services to financial I, government entities and government entities.\n",
    "\n",
    "\n",
    "> ### Problem Statement\n",
    " \n",
    "\n",
    ">A movie recommender system is a tool that suggests movies to users based on their viewing history and preferences. The goal of a movie recommender system is to provide personalized recommendations to users, by predicting the movies they are most likely to enjoy. This is typically done by analyzing large amounts of data on users and movies, such as ratings, reviews, and viewing history, and using machine learning algorithms to identify patterns and make predictions. Some popular techniques used in movie recommender systems include collaborative filtering, content-based filtering and hybrid approach which combines both the above techniques.\n",
    "\n",
    ">In today’s technology driven world, recommender systems are socially and economically critical for ensuring that individuals can make appropriate choices surrounding the content they engage with on a daily basis. One application where this is especially true surrounds movie content recommendations; where intelligent algorithms can help viewers find great titles from tens of thousands of options.\n",
    "\n",
    ">Recommender systems are needed because they can help users find relevant and interesting items among a large and growing collection of options. Without a recommender system, users may have a hard time discovering new items that match their interests, and may rely on simple, less effective methods such as browsing through lists or searching with keywords.\n",
    "\n",
    "### Possible Features of a Movie Recommender System:\n",
    "\n",
    "- **User Profiling**: This feature allows the system to create a profile for each user, which includes information such as their viewing history, ratings, and preferences.\n",
    "- **Content-Based Filtering:** This feature recommends movies to users based on the attributes of the movies they have previously watched or liked.\n",
    "- **Collaborative Filtering:** This feature recommends movies to users based on the viewing history and preferences of similar users.\n",
    "- **Hybrid Approach:** This feature combines the above two techniques to provide more accurate recommendations.\n",
    "- **Real-Time Recommendations:** This feature makes recommendations in real-time, so that the user doesn't have to wait for the system to process their request.\n",
    "- **Scalability:** This feature allows the system to handle large amounts of data and make accurate recommendations for a large number of users.\n",
    "- **Continual Learning:** This feature allows the system to continuously learn and improve its recommendations over time.\n",
    "- **Handling New Movies and Users:** This feature allows the system to handle new movies and users, and make recommendations for them as well.\n",
    "- **User-Friendly Interface:** This feature provides an easy to use interface to interact with the system, and make it accessible to a wide range of users.\n",
    "\n",
    "### Data Source\n",
    "For the purpose of this project; MovieLens dataset has been used. The data for the MovieLens dataset is maintained by the GroupLens research group in the Department of Computer Science and Engineering at the University of Minnesota. Additional movie content data was legally scraped from IMDB\n"
   ]
  },
  {
   "cell_type": "markdown",
   "id": "a23306ed",
   "metadata": {},
   "source": [
    "### Table of Contents\n",
    "\n",
    "1. Connecting to comet_ml\n",
    "\n",
    "2. Importing Packages\n",
    "\n",
    "3. Loading Data\n",
    "\n",
    "4. Exploratory Data Analysis (EDA)\n",
    "\n",
    "5. Feature Engineering\n",
    "\n",
    "6. Model Training\n",
    "\n",
    "7. Model Evaluation\n",
    "\n",
    "8. Model Deployment\n",
    "9. Conclusion"
   ]
  },
  {
   "cell_type": "markdown",
   "id": "07eba2f3",
   "metadata": {},
   "source": [
    "###   Create a connection to comet_ml"
   ]
  },
  {
   "cell_type": "markdown",
   "id": "6e8e4e59",
   "metadata": {},
   "source": [
    "### Importing Relevant Libraries"
   ]
  },
  {
   "cell_type": "code",
   "execution_count": 3,
   "id": "7c6fb341",
   "metadata": {},
   "outputs": [],
   "source": [
    "# Import our regular old heroes \n",
    "import numpy as np\n",
    "import pandas as pd\n",
    "import scipy as sp # <-- The sister of Numpy, used in our code for numerical efficientcy. \n",
    "import matplotlib.pyplot as plt\n",
    "import seaborn as sns\n",
    "\n",
    "# Entity featurization and similarity computation\n",
    "from sklearn.metrics.pairwise import cosine_similarity \n",
    "from sklearn.feature_extraction.text import TfidfVectorizer\n",
    "from surprise import Reader, Dataset, SVD\n",
    "from surprise.model_selection import cross_validate\n",
    "\n",
    "# Libraries used during sorting procedures.\n",
    "import operator # <-- Convienient item retrieval during iteration \n",
    "import heapq # <-- Efficient sorting of large lists\n",
    "\n",
    "# Imported for our sanity\n",
    "import warnings\n",
    "warnings.filterwarnings('ignore')"
   ]
  },
  {
   "cell_type": "markdown",
   "id": "e382bac6",
   "metadata": {},
   "source": [
    "### Loading Data"
   ]
  },
  {
   "cell_type": "code",
   "execution_count": null,
   "id": "d650a6cd",
   "metadata": {},
   "outputs": [],
   "source": [
    "#Import available csv files\n",
    "genome_score_df = pd.read_csv('genome_scores.csv')\n",
    "genome_tags_df = pd.read_csv('genome_tags.csv')\n",
    "imdb_df = pd.read_csv('imdb_data.csv')\n",
    "links_df = pd.read_csv('links.csv')\n",
    "movies_df = pd.read_csv('movies.csv')\n",
    "tags_df = pd.read_csv('tags.csv')\n",
    "train_df = pd.read_csv('train.csv')"
   ]
  },
  {
   "cell_type": "markdown",
   "id": "ff87e747",
   "metadata": {},
   "source": [
    "### Data Preprocessing"
   ]
  },
  {
   "cell_type": "code",
   "execution_count": null,
   "id": "a1510f1a",
   "metadata": {},
   "outputs": [],
   "source": [
    "# Cleaning and transforming the data in the input files to a format that can be used for building the model."
   ]
  },
  {
   "cell_type": "markdown",
   "id": "55fbdb92",
   "metadata": {},
   "source": [
    "### Exploratory Data Analysis (EDA)"
   ]
  },
  {
   "cell_type": "code",
   "execution_count": null,
   "id": "1b307d93",
   "metadata": {},
   "outputs": [],
   "source": [
    "# Understanding the characteristics of the data and identifying patterns or trends"
   ]
  },
  {
   "cell_type": "markdown",
   "id": "d482b0f1",
   "metadata": {},
   "source": [
    "### Feature Engineering"
   ]
  },
  {
   "cell_type": "code",
   "execution_count": null,
   "id": "a757c34b",
   "metadata": {},
   "outputs": [],
   "source": [
    "# Extracting relevant features from the data that can be used to train the model"
   ]
  },
  {
   "cell_type": "markdown",
   "id": "e3fb3f88",
   "metadata": {},
   "source": [
    "### Model Training "
   ]
  },
  {
   "cell_type": "code",
   "execution_count": null,
   "id": "7e5e1b2d",
   "metadata": {},
   "outputs": [],
   "source": [
    "# Discussion on the model architecture\n",
    "#Train a recommendation model using the engineered features, "
   ]
  },
  {
   "cell_type": "markdown",
   "id": "14a31d26",
   "metadata": {},
   "source": [
    "### Model evaluation"
   ]
  },
  {
   "cell_type": "code",
   "execution_count": null,
   "id": "6dd4757b",
   "metadata": {},
   "outputs": [],
   "source": [
    "# Evaluating the performance of the trained model using a suitable evaluation metric such as RMSE."
   ]
  },
  {
   "cell_type": "markdown",
   "id": "6f53663f",
   "metadata": {},
   "source": [
    "### Model deployment "
   ]
  },
  {
   "cell_type": "code",
   "execution_count": null,
   "id": "cd90eccf",
   "metadata": {},
   "outputs": [],
   "source": [
    "# Deploying the trained model in a production environment to make recommendations to users using streamlit."
   ]
  },
  {
   "cell_type": "code",
   "execution_count": 2,
   "id": "ce809520",
   "metadata": {},
   "outputs": [],
   "source": [
    "#End Comet experiment\n",
    "#experiment.end()"
   ]
  },
  {
   "cell_type": "markdown",
   "id": "90de8a0d",
   "metadata": {},
   "source": [
    "### Conclusion"
   ]
  },
  {
   "cell_type": "code",
   "execution_count": null,
   "id": "e42cf3ca",
   "metadata": {},
   "outputs": [],
   "source": [
    "# Summary of the key findings of the project and areas for future work."
   ]
  },
  {
   "cell_type": "markdown",
   "id": "8dae558c",
   "metadata": {},
   "source": [
    "### REFERENCE"
   ]
  },
  {
   "cell_type": "code",
   "execution_count": null,
   "id": "adbf1777",
   "metadata": {},
   "outputs": [],
   "source": []
  }
 ],
 "metadata": {
  "kernelspec": {
   "display_name": "Python 3 (ipykernel)",
   "language": "python",
   "name": "python3"
  },
  "language_info": {
   "codemirror_mode": {
    "name": "ipython",
    "version": 3
   },
   "file_extension": ".py",
   "mimetype": "text/x-python",
   "name": "python",
   "nbconvert_exporter": "python",
   "pygments_lexer": "ipython3",
   "version": "3.9.12"
  }
 },
 "nbformat": 4,
 "nbformat_minor": 5
}
