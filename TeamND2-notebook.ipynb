{
 "cells": [
  {
   "cell_type": "markdown",
   "id": "e41d87d5",
   "metadata": {
    "ExecuteTime": {
     "end_time": "2021-06-11T09:24:53.643384Z",
     "start_time": "2021-06-11T09:24:53.622385Z"
    }
   },
   "source": [
    "# Unsupervised Learning Predict Solution\n",
    "\n",
    "© Explore Data Science Academy\n",
    "\n",
    "---\n",
    "### Honour Code\n",
    "\n",
    "We, {**TEAM_ND2**}, confirm - by submitting this document - that the solutions in this notebook are a result of our own work as a Team and that we abide by the [EDSA honour code](https://drive.google.com/file/d/1QDCjGZJ8-FmJE3bZdIQNwnJyQKPhHZBn/view?usp=sharing).\n",
    "\n",
    "Non-compliance with the honour code constitutes a material breach of contract.\n"
   ]
  },
  {
   "cell_type": "markdown",
   "id": "cb17b3aa",
   "metadata": {},
   "source": [
    "## Executive Summary\n",
    "----\n",
    "\n",
    "The main goal of this project is to predict movie ratings and make personalised recommendations using the MovieLens(10M) dataset, which contains the ratings of several movies given by various users. In this project, we start with importing, followed by cleaning and preparing the data for analysis. Later, we explore the dataset to find any valuable patterns. Next, we test models to try and predict the ratings given by a specific user to a specific movie. The train set is divided into a training set (training) and a testing set (testing). The training set is used to build the model and the testing set is used to perform intermediate evaluations of the model. The validation set is not used to train the algorithm. The validation set is used only for the final RMSE evaluation. \n",
    "\n",
    "The measure used to evaluate the algorithm’s performance is the Root Mean Square Error or RMSE. RMSE is one of the most used measures of the differences between values predicted by a model and the observed values. RMSE is a measure of correctness; to compare forecasting errors of different models for a particular dataset, a lower RMSE is better than a higher one. The effect of each error on RMSE is proportional to the size of the squared error; Hence, more substantial errors have a disproportionately large effect on RMSE. Consequently, RMSE is sensitive to outliers.\n",
    "\n",
    "The function that computes the RMSE for vectors of ratings and their corresponding predictors will be the following:\n",
    "\n",
    "   \\begin{align}\n",
    "RMSE & = \\sqrt{MSE} \\\\\n",
    "     & = \\sqrt{\\frac{1}{N}\\sum^{N} (\\hat{y_i} - y_i)^{2}}\n",
    "\\end{align}\n",
    "\n",
    "Where $y_i$ are the actual target values for a dataset with $N$ datapoints, and $\\hat{y_i}$ represent our corresponding predictions.\n",
    "\n",
    "We have obtained rmse of apprximately 0.864 for the best model. We then used the best performing model to make recommendations."
   ]
  },
  {
   "cell_type": "markdown",
   "id": "ab24f6a4",
   "metadata": {},
   "source": [
    "## Project Introduction\n",
    "----\n",
    "> *Fun-Fact: I started my Explorer journey, after an ad I watched, on YouTube, about ExploreAi Academy. I have, a couple of times in the past, searched about Data related content and coming across that ad, was like a prayer answered. I said \"Wow! Indeed God sees and reads the heart and mind of men.\" \n",
    "Working on this project with my team, I now know better. The \"God\" who read my mind was YouTube's Recommenders system ... (Chima Enyeribe)*\n",
    "\n",
    "\n",
    "Personalization.\n",
    "\n",
    "The Holy Grail of the Internet.\n",
    "\n",
    "Gone are the days when anonymous shoppers browsed generic stock for an elusive item. Today, anyone can serve customers unlimited, personalized offers tailored to their interests.With all the options online, you need a system that narrows down the possibilities. Something that learns what people like. *That’s where recommender systems come into play.*\n",
    "\n",
    "The largest movie libraries in the world are all digitized and transferred to online streaming services, like Netflix, HBO, or YouTube. Enhanced with AI-powered tools, these platforms can now assist us with probably the most difficult chore of all — picking a movie.\n",
    "\n",
    "> Did you know that almost 80% of Netflix users follow the title recommendations offered by its algorithms ?\n",
    "\n",
    " A movie recommendation system, or a movie recommender system, is an ML-based approach to filtering or predicting the users’ film preferences based on their past choices and behavior. It’s an advanced filtration mechanism that predicts the possible movie choices of the concerned user and their preferences towards a domain-specific item. Filtering for Recommenders system can either be Collaborative based, content based or a hybrid which implements both.\n",
    " \n",
    " \n",
    "<img src=\"https://imgs.search.brave.com/6z-A4dgupg9g-pVZkJM2OKR0WLD-AVLxSJgX73_Bf0s/rs:fit:1024:655:1/g:ce/aHR0cHM6Ly9uZW90/ZXJpYy5ldS93cC1j/b250ZW50L3VwbG9h/ZHMvMjAxOS8wOC9O/ZXRmbGl4LVJlY29t/bWVuZGF0aW9ucy0x/MDI0eDY1NS5qcGc\" width=\"700\">\n",
    "\n",
    "\n",
    "With Recommendation systems;\n",
    "* You do not need a market research to find out whether a customer is willing to purchase at a shop where they’re getting maximum help in scouting the right product. They’re also much more likely to return to such a shop in the future.\n",
    "\n",
    "* Customer satisfaction leads to customer retention.\n",
    "When customers leaves a website and come back later, it would help if their browsing data from the previous session was available. This could further help and guide their e-Commerce activities. This type of customer satisfaction leads to customer retention.\n",
    "\n",
    "* We often take recommendations from friends and family because we trust their opinion. They know what we like better than anyone else. This is the sole reason they are good at recommending things and this is what recommendation systems try to model. \n",
    "\n",
    "\n",
    "In this project, we try to implement a Movie Recommendation system, using both collaborative and content based approach. \n",
    "\n",
    "\n",
    "### Data Sources\n",
    "----\n",
    "\n",
    "Datasets used consist of several million 5-star ratings obtained from users of the online MovieLens movie recommendation service. The MovieLens dataset has long been used by industry and academic researchers to improve the performance of explicitly-based recommender systems.\n",
    "\n",
    "For this Predict project, we'll be using a special version of the MovieLens dataset which has been enriched with additional data, and resampled for fair evaluation purposes.\n",
    "\n",
    "The data for the MovieLens dataset is maintained by the GroupLens research group in the Department of Computer Science and Engineering at the University of Minnesota. Additional movie content data was legally scraped from IMDB."
   ]
  },
  {
   "cell_type": "markdown",
   "id": "7929086b",
   "metadata": {},
   "source": [
    "## Problem Statement\n",
    "\n",
    "---\n",
    "The goal of this project is to develop a movies recommendation system for companies to use in order to improve their customer engagement and increase revenue. The system will be based on the data provided by the company, which includes information about movie Ids, user Ids, ratings, genres, timestamps, and movie titles. The system will use this data to generate personalized movie recommendations for users based on their viewing history and preferences.\n",
    "\n",
    "The problem that this project aims to solve is that traditional movie recommendation systems often rely on a fixed set of rules or pre-determined criteria, which may not take into account the individual preferences of the users. This can lead to less accurate or relevant recommendations, which can negatively impact customer engagement and ultimately result in lost revenue for the company. By developing a more personalized and accurate recommendation system, the project aims to improve customer engagement and increase revenue for the company.\n",
    "\n",
    "The objectives of this project are as follows:\n",
    "\n",
    "* To analyze the provided movie data and identify patterns and trends that can be used to generate more accurate and personalized movie recommendations for users.\n",
    "\n",
    "* To develop a recommendation system that takes into account the individual preferences of the users and generates personalized movie recommendations based on the data provided by the company.\n",
    "\n",
    "* To evaluate the performance of the developed recommendation system and make improvements as necessary to ensure that it is accurate and effective in generating relevant recommendations for users.\n",
    "\n",
    "* To make recommendations for the company to improve the effectiveness of their movie recommendations and increase customer engagement and revenue.\n",
    "\n",
    "The proposed solution will involve techniques from data preprocessing, data analysis, and machine learning, such as data cleaning, feature engineering, clustering, and collaborative filtering to build a recommendation system. Additionally, the system will be evaluated using metrics such as accuracy, precision, recall, F1 score and AUC-ROC curve.\n",
    "\n",
    "By successfully completing this project, the company will have a more effective recommendation system that can improve customer engagement and increase revenue. The project will also provide valuable insights and recommendations for the company to improve their movie recommendations and overall customer experience.\n",
    "\n",
    "\n",
    "To develop a personalized recommendation system for [insert industry/market] that utilizes [insert data sources and/or algorithms] to accurately predict and suggest items (such as products, movies, songs, etc.) to users, based on their individual preferences and behavior.\" The goal of the recommendation system is to enhance the user experience by providing relevant and personalized suggestions, and ultimately increase customer satisfaction and loyalty."
   ]
  },
  {
   "cell_type": "markdown",
   "id": "41a0e691",
   "metadata": {},
   "source": [
    "<a id=\"cont\"></a>\n",
    "\n",
    "## Project Pipeline\n",
    "---\n",
    "\n",
    "> The various steps involved in this project are :\n",
    "\n",
    "<a href=#zero>0. Create a connection to comet_ml </a>\n",
    "\n",
    "<a href=#one>1. Import Necessary Dependencies </a>\n",
    "\n",
    "<a href=#two>2. Loading Data </a>\n",
    "\n",
    "<a href=#three>3. Exploratory Data Analysis (EDA)</a>\n",
    "\n",
    "<a href=#four>4. Data Preprocessing and Engineering</a> \n",
    "\n",
    "<a href=#six>6. Splitting our data into train and test subsets </a>\n",
    "\n",
    "<a href=#seven>7. Model Building </a>\n",
    "\n",
    "<a href=#eight>8. Model Performance</a>\n",
    "\n",
    "<a href=#nine>9. Model Explanations</a>\n",
    "\n",
    "<a href=#ten>10. Movie Recommendation Functions </a>\n",
    "\n",
    "<a href=#eleven>11. Logging Params on Comet </a>\n",
    "\n",
    "<a href=#twelve>12. Conclusion </a>\n",
    "\n",
    "<a href=#thirteen>13. Reference </a>\n"
   ]
  },
  {
   "cell_type": "markdown",
   "id": "f7432e79",
   "metadata": {},
   "source": [
    " <a id=\"zero\"></a>\n",
    "##  0. Create a connection to comet_ml\n",
    "<a class=\"anchor\" id=\"1.1\"></a>\n",
    "<a href=#cont>Back to Project Pipeline</a>"
   ]
  },
  {
   "cell_type": "code",
   "execution_count": 5,
   "id": "b1f3d1ea",
   "metadata": {
    "execution": {
     "iopub.execute_input": "2023-01-31T06:25:22.309169Z",
     "iopub.status.busy": "2023-01-31T06:25:22.308792Z",
     "iopub.status.idle": "2023-01-31T06:25:27.400205Z",
     "shell.execute_reply": "2023-01-31T06:25:27.399267Z",
     "shell.execute_reply.started": "2023-01-31T06:25:22.309124Z"
    }
   },
   "outputs": [
    {
     "name": "stderr",
     "output_type": "stream",
     "text": [
      "COMET WARNING: As you are running in a Jupyter environment, you will need to call `experiment.end()` when finished to ensure all metrics and code are logged before exiting.\n",
      "COMET INFO: Couldn't find a Git repository in '/kaggle/working' nor in any parent directory. You can override where Comet is looking for a Git Patch by setting the configuration `COMET_GIT_DIRECTORY`\n",
      "COMET INFO: Experiment is live on comet.com https://www.comet.com/jasperzeroes/movie-recommendation-system/ae4f2834b2e042338a6d205954c8e348\n",
      "\n"
     ]
    }
   ],
   "source": [
    "# import comet_ml at the top of your file\n",
    "from comet_ml import Experiment\n",
    "\n",
    "# Create an experiment with your api key\n",
    "experiment = Experiment(\n",
    "    api_key=\"AwtbkJsBi9bHzgoEZ5WfBb2AA\",\n",
    "    project_name=\"movie-recommendation-system\",\n",
    "    workspace=\"jasperzeroes\",\n",
    ")"
   ]
  },
  {
   "cell_type": "markdown",
   "id": "9f18448a",
   "metadata": {},
   "source": [
    " <a id=\"one\"></a>\n",
    "## 1. Importing Necessary Dependencies\n",
    "<a class=\"anchor\" id=\"1.1\"></a>\n",
    "<a href=#cont>Back to Project Pipeline</a>"
   ]
  },
  {
   "cell_type": "code",
   "execution_count": 3,
   "id": "6ee67634",
   "metadata": {
    "ExecuteTime": {
     "end_time": "2021-06-23T10:30:53.800892Z",
     "start_time": "2021-06-23T10:30:50.215449Z"
    },
    "execution": {
     "iopub.execute_input": "2023-01-31T23:02:42.737335Z",
     "iopub.status.busy": "2023-01-31T23:02:42.736878Z",
     "iopub.status.idle": "2023-01-31T23:02:43.893701Z",
     "shell.execute_reply": "2023-01-31T23:02:43.892481Z",
     "shell.execute_reply.started": "2023-01-31T23:02:42.737297Z"
    }
   },
   "outputs": [],
   "source": [
    "# Libraries for data loading, data manipulation and data visualisation\n",
    "import pandas as pd\n",
    "import numpy as np\n",
    "import matplotlib.pyplot as plt\n",
    "%matplotlib inline\n",
    "import seaborn as sns\n",
    "from scipy import stats\n",
    "\n",
    "# Libraries for Natural Language Processing\n",
    "import nltk\n",
    "from nltk.corpus import stopwords\n",
    "\n",
    "# Libraries for data preparation and model building\n",
    "import csv\n",
    "import surprise\n",
    "from surprise import Dataset, Reader\n",
    "from surprise.model_selection import train_test_split\n",
    "from sklearn.feature_extraction.text import CountVectorizer\n",
    "from sklearn.metrics.pairwise import cosine_similarity\n",
    "\n",
    "# Libraries for Model Performance and Evaluation\n",
    "from surprise import Dataset, Reader\n",
    "from surprise.model_selection import KFold, GridSearchCV, cross_validate\n",
    "from surprise import BaselineOnly, NormalPredictor\n",
    "from surprise import KNNBasic, KNNWithMeans, KNNWithZScore\n",
    "from surprise import SVD, SVDpp, accuracy\n",
    "\n",
    "#Library to pickle a model\n",
    "import pickle\n",
    "\n",
    "# Surpress warnings\n",
    "import warnings\n",
    "warnings.filterwarnings('ignore')\n"
   ]
  },
  {
   "cell_type": "markdown",
   "id": "58260459",
   "metadata": {},
   "source": [
    "<a id=\"two\"></a>\n",
    "## 2. Load the Data\n",
    "<a class=\"anchor\" id=\"1.1\"></a>\n",
    "<a href=#cont>Back to Project Pipeline</a>\n",
    "\n",
    "\n",
    "Load necessary csv files containing data\n",
    "\n",
    "> We are provided with the following datasets namely;\n",
    "\n",
    "\n",
    "* **movies.csv** - Contain movie information such as movieId, movie title and genre.\n",
    "\n",
    "* **ratings.csv** - The ratingsing split of the dataset. Contains user and movie IDs with associated ratings and Timestamps. Ratings are made on a 5-star scale, with half-star increments (0.5 stars - 5.0 stars).Timestamps represent seconds since midnight Coordinated Universal Time (UTC) of January 1, 1970. \n",
    "\n",
    "* **test.csv** - The test split of the dataset. Contains user and movie IDs with no rating data and will be used to make the final prediction, on Kaggle, to see how well the models perform on unseen data.\n",
    "\n",
    "* **imdb_data.csv** -\n",
    "\n",
    "\n",
    "\n",
    "\n",
    "---"
   ]
  },
  {
   "cell_type": "code",
   "execution_count": 4,
   "id": "855d40e9",
   "metadata": {
    "ExecuteTime": {
     "end_time": "2021-06-28T08:49:35.311495Z",
     "start_time": "2021-06-28T08:49:35.295494Z"
    },
    "execution": {
     "iopub.execute_input": "2023-01-31T23:02:50.772763Z",
     "iopub.status.busy": "2023-01-31T23:02:50.772391Z",
     "iopub.status.idle": "2023-01-31T23:02:57.932168Z",
     "shell.execute_reply": "2023-01-31T23:02:57.931363Z",
     "shell.execute_reply.started": "2023-01-31T23:02:50.772735Z"
    }
   },
   "outputs": [],
   "source": [
    "# Load and view structure of the datasets\n",
    "movies = pd.read_csv('resources/data/movies.csv')\n",
    "#ratings_df = pd.read_csv('resources/data/ratings_lit.csv') # for streamlit\n",
    "ratings = pd.read_csv('resources/data/train.csv')\n",
    "imdb = pd.read_csv('resources/data/imdb_data.csv')\n",
    "test = pd.read_csv('resources/data/test.csv')"
   ]
  },
  {
   "cell_type": "code",
   "execution_count": 24,
   "id": "f76b0a9d",
   "metadata": {
    "execution": {
     "iopub.execute_input": "2023-01-30T23:11:16.227774Z",
     "iopub.status.busy": "2023-01-30T23:11:16.226827Z",
     "iopub.status.idle": "2023-01-30T23:11:16.241657Z",
     "shell.execute_reply": "2023-01-30T23:11:16.240607Z",
     "shell.execute_reply.started": "2023-01-30T23:11:16.227732Z"
    }
   },
   "outputs": [
    {
     "data": {
      "text/html": [
       "<div>\n",
       "<style scoped>\n",
       "    .dataframe tbody tr th:only-of-type {\n",
       "        vertical-align: middle;\n",
       "    }\n",
       "\n",
       "    .dataframe tbody tr th {\n",
       "        vertical-align: top;\n",
       "    }\n",
       "\n",
       "    .dataframe thead th {\n",
       "        text-align: right;\n",
       "    }\n",
       "</style>\n",
       "<table border=\"1\" class=\"dataframe\">\n",
       "  <thead>\n",
       "    <tr style=\"text-align: right;\">\n",
       "      <th></th>\n",
       "      <th>movieId</th>\n",
       "      <th>title</th>\n",
       "      <th>genres</th>\n",
       "    </tr>\n",
       "  </thead>\n",
       "  <tbody>\n",
       "    <tr>\n",
       "      <th>0</th>\n",
       "      <td>1</td>\n",
       "      <td>Toy Story (1995)</td>\n",
       "      <td>Adventure|Animation|Children|Comedy|Fantasy</td>\n",
       "    </tr>\n",
       "    <tr>\n",
       "      <th>1</th>\n",
       "      <td>2</td>\n",
       "      <td>Jumanji (1995)</td>\n",
       "      <td>Adventure|Children|Fantasy</td>\n",
       "    </tr>\n",
       "    <tr>\n",
       "      <th>2</th>\n",
       "      <td>3</td>\n",
       "      <td>Grumpier Old Men (1995)</td>\n",
       "      <td>Comedy|Romance</td>\n",
       "    </tr>\n",
       "    <tr>\n",
       "      <th>3</th>\n",
       "      <td>4</td>\n",
       "      <td>Waiting to Exhale (1995)</td>\n",
       "      <td>Comedy|Drama|Romance</td>\n",
       "    </tr>\n",
       "    <tr>\n",
       "      <th>4</th>\n",
       "      <td>5</td>\n",
       "      <td>Father of the Bride Part II (1995)</td>\n",
       "      <td>Comedy</td>\n",
       "    </tr>\n",
       "  </tbody>\n",
       "</table>\n",
       "</div>"
      ],
      "text/plain": [
       "   movieId                               title  \\\n",
       "0        1                    Toy Story (1995)   \n",
       "1        2                      Jumanji (1995)   \n",
       "2        3             Grumpier Old Men (1995)   \n",
       "3        4            Waiting to Exhale (1995)   \n",
       "4        5  Father of the Bride Part II (1995)   \n",
       "\n",
       "                                        genres  \n",
       "0  Adventure|Animation|Children|Comedy|Fantasy  \n",
       "1                   Adventure|Children|Fantasy  \n",
       "2                               Comedy|Romance  \n",
       "3                         Comedy|Drama|Romance  \n",
       "4                                       Comedy  "
      ]
     },
     "execution_count": 24,
     "metadata": {},
     "output_type": "execute_result"
    }
   ],
   "source": [
    "movies.head()"
   ]
  },
  {
   "cell_type": "markdown",
   "id": "bd501f74",
   "metadata": {},
   "source": [
    "* The \"genres column\" of the movies dataset contains special characters (vertical lines). Also, words in the 'title and genres columns' begin with uppercase letters. The objectives will be to remove these special characters that would otherwise consume computational resources as well as converting all our words to lowercase letters in the **Data Preprocessing section** of this notebook."
   ]
  },
  {
   "cell_type": "code",
   "execution_count": 7,
   "id": "a2b1d349",
   "metadata": {
    "execution": {
     "iopub.execute_input": "2023-01-30T22:47:49.192301Z",
     "iopub.status.busy": "2023-01-30T22:47:49.191863Z",
     "iopub.status.idle": "2023-01-30T22:47:49.219754Z",
     "shell.execute_reply": "2023-01-30T22:47:49.218333Z",
     "shell.execute_reply.started": "2023-01-30T22:47:49.192265Z"
    }
   },
   "outputs": [
    {
     "data": {
      "text/html": [
       "<div>\n",
       "<style scoped>\n",
       "    .dataframe tbody tr th:only-of-type {\n",
       "        vertical-align: middle;\n",
       "    }\n",
       "\n",
       "    .dataframe tbody tr th {\n",
       "        vertical-align: top;\n",
       "    }\n",
       "\n",
       "    .dataframe thead th {\n",
       "        text-align: right;\n",
       "    }\n",
       "</style>\n",
       "<table border=\"1\" class=\"dataframe\">\n",
       "  <thead>\n",
       "    <tr style=\"text-align: right;\">\n",
       "      <th></th>\n",
       "      <th>userId</th>\n",
       "      <th>movieId</th>\n",
       "      <th>rating</th>\n",
       "      <th>timestamp</th>\n",
       "    </tr>\n",
       "  </thead>\n",
       "  <tbody>\n",
       "    <tr>\n",
       "      <th>0</th>\n",
       "      <td>5163</td>\n",
       "      <td>57669</td>\n",
       "      <td>4.0</td>\n",
       "      <td>1518349992</td>\n",
       "    </tr>\n",
       "    <tr>\n",
       "      <th>1</th>\n",
       "      <td>106343</td>\n",
       "      <td>5</td>\n",
       "      <td>4.5</td>\n",
       "      <td>1206238739</td>\n",
       "    </tr>\n",
       "    <tr>\n",
       "      <th>2</th>\n",
       "      <td>146790</td>\n",
       "      <td>5459</td>\n",
       "      <td>5.0</td>\n",
       "      <td>1076215539</td>\n",
       "    </tr>\n",
       "    <tr>\n",
       "      <th>3</th>\n",
       "      <td>106362</td>\n",
       "      <td>32296</td>\n",
       "      <td>2.0</td>\n",
       "      <td>1423042565</td>\n",
       "    </tr>\n",
       "    <tr>\n",
       "      <th>4</th>\n",
       "      <td>9041</td>\n",
       "      <td>366</td>\n",
       "      <td>3.0</td>\n",
       "      <td>833375837</td>\n",
       "    </tr>\n",
       "  </tbody>\n",
       "</table>\n",
       "</div>"
      ],
      "text/plain": [
       "   userId  movieId  rating   timestamp\n",
       "0    5163    57669     4.0  1518349992\n",
       "1  106343        5     4.5  1206238739\n",
       "2  146790     5459     5.0  1076215539\n",
       "3  106362    32296     2.0  1423042565\n",
       "4    9041      366     3.0   833375837"
      ]
     },
     "execution_count": 7,
     "metadata": {},
     "output_type": "execute_result"
    }
   ],
   "source": [
    "ratings.head()"
   ]
  },
  {
   "cell_type": "markdown",
   "id": "11fb3657",
   "metadata": {},
   "source": [
    "* The \"timestamp column\" of the ratings dataframe is not represented as datetime datatype. The objectives will be to the appropriate datatype that would help understand the data better."
   ]
  },
  {
   "cell_type": "code",
   "execution_count": 8,
   "id": "6824b057",
   "metadata": {
    "execution": {
     "iopub.execute_input": "2023-01-30T22:48:09.303376Z",
     "iopub.status.busy": "2023-01-30T22:48:09.302977Z",
     "iopub.status.idle": "2023-01-30T22:48:09.319423Z",
     "shell.execute_reply": "2023-01-30T22:48:09.318082Z",
     "shell.execute_reply.started": "2023-01-30T22:48:09.303344Z"
    }
   },
   "outputs": [
    {
     "data": {
      "text/html": [
       "<div>\n",
       "<style scoped>\n",
       "    .dataframe tbody tr th:only-of-type {\n",
       "        vertical-align: middle;\n",
       "    }\n",
       "\n",
       "    .dataframe tbody tr th {\n",
       "        vertical-align: top;\n",
       "    }\n",
       "\n",
       "    .dataframe thead th {\n",
       "        text-align: right;\n",
       "    }\n",
       "</style>\n",
       "<table border=\"1\" class=\"dataframe\">\n",
       "  <thead>\n",
       "    <tr style=\"text-align: right;\">\n",
       "      <th></th>\n",
       "      <th>movieId</th>\n",
       "      <th>title_cast</th>\n",
       "      <th>director</th>\n",
       "      <th>runtime</th>\n",
       "      <th>budget</th>\n",
       "      <th>plot_keywords</th>\n",
       "    </tr>\n",
       "  </thead>\n",
       "  <tbody>\n",
       "    <tr>\n",
       "      <th>0</th>\n",
       "      <td>1</td>\n",
       "      <td>Tom Hanks|Tim Allen|Don Rickles|Jim Varney|Wal...</td>\n",
       "      <td>John Lasseter</td>\n",
       "      <td>81.0</td>\n",
       "      <td>$30,000,000</td>\n",
       "      <td>toy|rivalry|cowboy|cgi animation</td>\n",
       "    </tr>\n",
       "    <tr>\n",
       "      <th>1</th>\n",
       "      <td>2</td>\n",
       "      <td>Robin Williams|Jonathan Hyde|Kirsten Dunst|Bra...</td>\n",
       "      <td>Jonathan Hensleigh</td>\n",
       "      <td>104.0</td>\n",
       "      <td>$65,000,000</td>\n",
       "      <td>board game|adventurer|fight|game</td>\n",
       "    </tr>\n",
       "    <tr>\n",
       "      <th>2</th>\n",
       "      <td>3</td>\n",
       "      <td>Walter Matthau|Jack Lemmon|Sophia Loren|Ann-Ma...</td>\n",
       "      <td>Mark Steven Johnson</td>\n",
       "      <td>101.0</td>\n",
       "      <td>$25,000,000</td>\n",
       "      <td>boat|lake|neighbor|rivalry</td>\n",
       "    </tr>\n",
       "    <tr>\n",
       "      <th>3</th>\n",
       "      <td>4</td>\n",
       "      <td>Whitney Houston|Angela Bassett|Loretta Devine|...</td>\n",
       "      <td>Terry McMillan</td>\n",
       "      <td>124.0</td>\n",
       "      <td>$16,000,000</td>\n",
       "      <td>black american|husband wife relationship|betra...</td>\n",
       "    </tr>\n",
       "    <tr>\n",
       "      <th>4</th>\n",
       "      <td>5</td>\n",
       "      <td>Steve Martin|Diane Keaton|Martin Short|Kimberl...</td>\n",
       "      <td>Albert Hackett</td>\n",
       "      <td>106.0</td>\n",
       "      <td>$30,000,000</td>\n",
       "      <td>fatherhood|doberman|dog|mansion</td>\n",
       "    </tr>\n",
       "  </tbody>\n",
       "</table>\n",
       "</div>"
      ],
      "text/plain": [
       "   movieId                                         title_cast  \\\n",
       "0        1  Tom Hanks|Tim Allen|Don Rickles|Jim Varney|Wal...   \n",
       "1        2  Robin Williams|Jonathan Hyde|Kirsten Dunst|Bra...   \n",
       "2        3  Walter Matthau|Jack Lemmon|Sophia Loren|Ann-Ma...   \n",
       "3        4  Whitney Houston|Angela Bassett|Loretta Devine|...   \n",
       "4        5  Steve Martin|Diane Keaton|Martin Short|Kimberl...   \n",
       "\n",
       "              director  runtime       budget  \\\n",
       "0        John Lasseter     81.0  $30,000,000   \n",
       "1   Jonathan Hensleigh    104.0  $65,000,000   \n",
       "2  Mark Steven Johnson    101.0  $25,000,000   \n",
       "3       Terry McMillan    124.0  $16,000,000   \n",
       "4       Albert Hackett    106.0  $30,000,000   \n",
       "\n",
       "                                       plot_keywords  \n",
       "0                   toy|rivalry|cowboy|cgi animation  \n",
       "1                   board game|adventurer|fight|game  \n",
       "2                         boat|lake|neighbor|rivalry  \n",
       "3  black american|husband wife relationship|betra...  \n",
       "4                    fatherhood|doberman|dog|mansion  "
      ]
     },
     "execution_count": 8,
     "metadata": {},
     "output_type": "execute_result"
    }
   ],
   "source": [
    "imdb.head()"
   ]
  },
  {
   "cell_type": "markdown",
   "id": "34baabd9",
   "metadata": {},
   "source": [
    "* The \"title_cast and genres column\" of imdb dataset contains special characters (vertical lines). Also, words contain uppercase letters. The objectives will be to remove these special characters that would otherwise consume computational resources as well as converting all our words to lowercase letters in the **Data Preprocessing section** of this notebook."
   ]
  },
  {
   "cell_type": "code",
   "execution_count": 7,
   "id": "32d5ae98",
   "metadata": {
    "execution": {
     "iopub.execute_input": "2023-01-29T08:54:00.054940Z",
     "iopub.status.busy": "2023-01-29T08:54:00.054573Z",
     "iopub.status.idle": "2023-01-29T08:54:00.063366Z",
     "shell.execute_reply": "2023-01-29T08:54:00.062428Z",
     "shell.execute_reply.started": "2023-01-29T08:54:00.054910Z"
    }
   },
   "outputs": [
    {
     "data": {
      "text/html": [
       "<div>\n",
       "<style scoped>\n",
       "    .dataframe tbody tr th:only-of-type {\n",
       "        vertical-align: middle;\n",
       "    }\n",
       "\n",
       "    .dataframe tbody tr th {\n",
       "        vertical-align: top;\n",
       "    }\n",
       "\n",
       "    .dataframe thead th {\n",
       "        text-align: right;\n",
       "    }\n",
       "</style>\n",
       "<table border=\"1\" class=\"dataframe\">\n",
       "  <thead>\n",
       "    <tr style=\"text-align: right;\">\n",
       "      <th></th>\n",
       "      <th>userId</th>\n",
       "      <th>movieId</th>\n",
       "    </tr>\n",
       "  </thead>\n",
       "  <tbody>\n",
       "    <tr>\n",
       "      <th>0</th>\n",
       "      <td>1</td>\n",
       "      <td>2011</td>\n",
       "    </tr>\n",
       "    <tr>\n",
       "      <th>1</th>\n",
       "      <td>1</td>\n",
       "      <td>4144</td>\n",
       "    </tr>\n",
       "    <tr>\n",
       "      <th>2</th>\n",
       "      <td>1</td>\n",
       "      <td>5767</td>\n",
       "    </tr>\n",
       "    <tr>\n",
       "      <th>3</th>\n",
       "      <td>1</td>\n",
       "      <td>6711</td>\n",
       "    </tr>\n",
       "    <tr>\n",
       "      <th>4</th>\n",
       "      <td>1</td>\n",
       "      <td>7318</td>\n",
       "    </tr>\n",
       "  </tbody>\n",
       "</table>\n",
       "</div>"
      ],
      "text/plain": [
       "   userId  movieId\n",
       "0       1     2011\n",
       "1       1     4144\n",
       "2       1     5767\n",
       "3       1     6711\n",
       "4       1     7318"
      ]
     },
     "execution_count": 7,
     "metadata": {},
     "output_type": "execute_result"
    }
   ],
   "source": [
    "test.head()"
   ]
  },
  {
   "cell_type": "markdown",
   "id": "825274f1",
   "metadata": {},
   "source": [
    "* The test dataset does not contain any ratings. We are to make predicted ratings and recommend movies to users."
   ]
  },
  {
   "cell_type": "markdown",
   "id": "11505b99",
   "metadata": {},
   "source": [
    "<a id=\"three\"></a>\n",
    "## 3. Exploratory Data Analysis (EDA)\n",
    "<a class=\"anchor\" id=\"1.1\"></a>\n",
    "<a href=#cont>Back to Project Pipeline</a>\n",
    "\n",
    "<img src=\"https://imgs.search.brave.com/nPNv6ju12upBCEiinjTg9aZQLyPKzZTkpHewmoo0aI8/rs:fit:750:360:1/g:ce/aHR0cHM6Ly93d3cu/YW5hbHl0aWNzc3Rl/cHMuY29tL2JhY2tl/bmQvbWVkaWEvdGh1/bWJuYWlsLzMxNTc5/NzcvODAwNjU1MV8x/NTg3MzI0Njk2X2Rh/dGElMjBhbmFseXNp/cy5qcGc\" width=\"400\">\n",
    "\n",
    "\n",
    "\n",
    "> In this section,  data sets will be analyzed to find patterns, tell insights, and summarize their main characteristics, often with visual methods and an in-depth analysis of all the variables in the DataFrame. This helps for seeing what the data can tell us beyond the formal modeling or hypothesis testing task.\n"
   ]
  },
  {
   "cell_type": "code",
   "execution_count": 7,
   "id": "cc487a01",
   "metadata": {},
   "outputs": [
    {
     "data": {
      "text/plain": [
       "(62423, 3)"
      ]
     },
     "execution_count": 7,
     "metadata": {},
     "output_type": "execute_result"
    }
   ],
   "source": [
    "# Check dimension\n",
    "# movies\n",
    "movies.shape"
   ]
  },
  {
   "cell_type": "markdown",
   "id": "ad13ef6f",
   "metadata": {},
   "source": [
    "* There are about 62,000 row counts and 3 columns in the movie dataset"
   ]
  },
  {
   "cell_type": "code",
   "execution_count": 8,
   "id": "d32ad4ab",
   "metadata": {},
   "outputs": [
    {
     "data": {
      "text/plain": [
       "movieId    0\n",
       "title      0\n",
       "genres     0\n",
       "dtype: int64"
      ]
     },
     "execution_count": 8,
     "metadata": {},
     "output_type": "execute_result"
    }
   ],
   "source": [
    "# Check for nulls\n",
    "movies.isnull().sum()"
   ]
  },
  {
   "cell_type": "markdown",
   "id": "39e23784",
   "metadata": {},
   "source": [
    "* There are no null values in the movie dataset"
   ]
  },
  {
   "cell_type": "code",
   "execution_count": 9,
   "id": "70ed5343",
   "metadata": {},
   "outputs": [
    {
     "data": {
      "text/plain": [
       "0"
      ]
     },
     "execution_count": 9,
     "metadata": {},
     "output_type": "execute_result"
    }
   ],
   "source": [
    "# Check for duplicates in each column of the movie dataset\n",
    "# movie Id\n",
    "movies[\"movieId\"].duplicated().sum()"
   ]
  },
  {
   "cell_type": "markdown",
   "id": "2e14472f",
   "metadata": {},
   "source": [
    "There are no duplicate movieId"
   ]
  },
  {
   "cell_type": "code",
   "execution_count": 10,
   "id": "97f64ddd",
   "metadata": {},
   "outputs": [
    {
     "data": {
      "text/plain": [
       "98"
      ]
     },
     "execution_count": 10,
     "metadata": {},
     "output_type": "execute_result"
    }
   ],
   "source": [
    "# title\n",
    "movies[\"title\"].duplicated().sum()"
   ]
  },
  {
   "cell_type": "markdown",
   "id": "b4aab868",
   "metadata": {},
   "source": [
    "* There exist duplicates in movie titles, we need to drop the duplicate titles with their movieId"
   ]
  },
  {
   "cell_type": "code",
   "execution_count": 11,
   "id": "c4998901",
   "metadata": {},
   "outputs": [
    {
     "data": {
      "text/plain": [
       "(10000038, 4)"
      ]
     },
     "execution_count": 11,
     "metadata": {},
     "output_type": "execute_result"
    }
   ],
   "source": [
    "# ratings\n",
    "ratings.shape"
   ]
  },
  {
   "cell_type": "markdown",
   "id": "4309c93e",
   "metadata": {},
   "source": [
    "* There are about 10 million row counts and 4 columns in the ratings dataset"
   ]
  },
  {
   "cell_type": "code",
   "execution_count": 12,
   "id": "8c55d766",
   "metadata": {},
   "outputs": [
    {
     "data": {
      "text/plain": [
       "userId       0\n",
       "movieId      0\n",
       "rating       0\n",
       "timestamp    0\n",
       "dtype: int64"
      ]
     },
     "execution_count": 12,
     "metadata": {},
     "output_type": "execute_result"
    }
   ],
   "source": [
    "# Check for nulls\n",
    "ratings.isnull().sum()"
   ]
  },
  {
   "cell_type": "markdown",
   "id": "eb96a239",
   "metadata": {},
   "source": [
    "* There are no null values in the ratings dataset"
   ]
  },
  {
   "cell_type": "code",
   "execution_count": 15,
   "id": "64281e24",
   "metadata": {},
   "outputs": [
    {
     "data": {
      "text/plain": [
       "0"
      ]
     },
     "execution_count": 15,
     "metadata": {},
     "output_type": "execute_result"
    }
   ],
   "source": [
    "# Check for duplicates\n",
    "ratings.duplicated().sum()"
   ]
  },
  {
   "cell_type": "markdown",
   "id": "75275f33",
   "metadata": {},
   "source": [
    "* There are no duplicates in the ratings dataset"
   ]
  },
  {
   "cell_type": "code",
   "execution_count": 13,
   "id": "66720465",
   "metadata": {},
   "outputs": [
    {
     "data": {
      "text/plain": [
       "dtype('int64')"
      ]
     },
     "execution_count": 13,
     "metadata": {},
     "output_type": "execute_result"
    }
   ],
   "source": [
    "# Check datatype for timestamp\n",
    "ratings['timestamp'].dtype"
   ]
  },
  {
   "cell_type": "markdown",
   "id": "8ad1b0ec",
   "metadata": {},
   "source": [
    "* Timestamp datatype is given as int64. Convert to datetime datatype in the Data preprocessing section of this notebook"
   ]
  },
  {
   "cell_type": "code",
   "execution_count": 12,
   "id": "7f878802",
   "metadata": {},
   "outputs": [
    {
     "data": {
      "text/plain": [
       "(27278, 6)"
      ]
     },
     "execution_count": 12,
     "metadata": {},
     "output_type": "execute_result"
    }
   ],
   "source": [
    "# imdb\n",
    "imdb.shape"
   ]
  },
  {
   "cell_type": "markdown",
   "id": "e0a8563a",
   "metadata": {},
   "source": [
    "* There are about 27000 row counts and 6 columns in the imdb dataset"
   ]
  },
  {
   "cell_type": "code",
   "execution_count": 13,
   "id": "10636119",
   "metadata": {},
   "outputs": [
    {
     "data": {
      "text/plain": [
       "movieId              0\n",
       "title_cast       10068\n",
       "director          9874\n",
       "runtime          12089\n",
       "budget           19372\n",
       "plot_keywords    11078\n",
       "dtype: int64"
      ]
     },
     "execution_count": 13,
     "metadata": {},
     "output_type": "execute_result"
    }
   ],
   "source": [
    "# check for nulls\n",
    "imdb.isnull().sum()"
   ]
  },
  {
   "cell_type": "markdown",
   "id": "562b2165",
   "metadata": {},
   "source": [
    "* As can be seen, there are null values present in 5 out of the 6 columns or features. The NaNs will be filled appropriately using either the mean or median of the columns where necessary during data imputation"
   ]
  },
  {
   "cell_type": "code",
   "execution_count": 7,
   "id": "d9efd3ed",
   "metadata": {},
   "outputs": [
    {
     "data": {
      "text/plain": [
       "0"
      ]
     },
     "execution_count": 7,
     "metadata": {},
     "output_type": "execute_result"
    }
   ],
   "source": [
    "# Check for duplicates\n",
    "imdb.duplicated().sum()"
   ]
  },
  {
   "cell_type": "markdown",
   "id": "02e76e5e",
   "metadata": {},
   "source": [
    "* There are also no duplicates."
   ]
  },
  {
   "cell_type": "markdown",
   "id": "786ab082",
   "metadata": {},
   "source": [
    "### Merge the 3 datasets together to have a robust view of the dataframes once"
   ]
  },
  {
   "cell_type": "markdown",
   "id": "14c1da03",
   "metadata": {},
   "source": [
    "* The \"how\" parameter specifies the type of join to use. In this case, we used 'inner' join, which will  include only the rows that have matching values in both tables. To include all rows from all tables, use 'outer' join."
   ]
  },
  {
   "cell_type": "code",
   "execution_count": 8,
   "id": "33ec3aa7",
   "metadata": {
    "execution": {
     "iopub.execute_input": "2023-01-31T06:26:03.098874Z",
     "iopub.status.busy": "2023-01-31T06:26:03.098281Z",
     "iopub.status.idle": "2023-01-31T06:26:09.068996Z",
     "shell.execute_reply": "2023-01-31T06:26:09.067762Z",
     "shell.execute_reply.started": "2023-01-31T06:26:03.098832Z"
    }
   },
   "outputs": [
    {
     "data": {
      "text/html": [
       "<div>\n",
       "<style scoped>\n",
       "    .dataframe tbody tr th:only-of-type {\n",
       "        vertical-align: middle;\n",
       "    }\n",
       "\n",
       "    .dataframe tbody tr th {\n",
       "        vertical-align: top;\n",
       "    }\n",
       "\n",
       "    .dataframe thead th {\n",
       "        text-align: right;\n",
       "    }\n",
       "</style>\n",
       "<table border=\"1\" class=\"dataframe\">\n",
       "  <thead>\n",
       "    <tr style=\"text-align: right;\">\n",
       "      <th></th>\n",
       "      <th>movieId</th>\n",
       "      <th>title</th>\n",
       "      <th>genres</th>\n",
       "      <th>userId</th>\n",
       "      <th>rating</th>\n",
       "      <th>timestamp</th>\n",
       "      <th>title_cast</th>\n",
       "      <th>director</th>\n",
       "      <th>runtime</th>\n",
       "      <th>budget</th>\n",
       "      <th>plot_keywords</th>\n",
       "    </tr>\n",
       "  </thead>\n",
       "  <tbody>\n",
       "    <tr>\n",
       "      <th>0</th>\n",
       "      <td>1</td>\n",
       "      <td>Toy Story (1995)</td>\n",
       "      <td>Adventure|Animation|Children|Comedy|Fantasy</td>\n",
       "      <td>158849</td>\n",
       "      <td>5.0</td>\n",
       "      <td>994716786</td>\n",
       "      <td>Tom Hanks|Tim Allen|Don Rickles|Jim Varney|Wal...</td>\n",
       "      <td>John Lasseter</td>\n",
       "      <td>81.0</td>\n",
       "      <td>$30,000,000</td>\n",
       "      <td>toy|rivalry|cowboy|cgi animation</td>\n",
       "    </tr>\n",
       "    <tr>\n",
       "      <th>1</th>\n",
       "      <td>1</td>\n",
       "      <td>Toy Story (1995)</td>\n",
       "      <td>Adventure|Animation|Children|Comedy|Fantasy</td>\n",
       "      <td>97203</td>\n",
       "      <td>5.0</td>\n",
       "      <td>942683155</td>\n",
       "      <td>Tom Hanks|Tim Allen|Don Rickles|Jim Varney|Wal...</td>\n",
       "      <td>John Lasseter</td>\n",
       "      <td>81.0</td>\n",
       "      <td>$30,000,000</td>\n",
       "      <td>toy|rivalry|cowboy|cgi animation</td>\n",
       "    </tr>\n",
       "    <tr>\n",
       "      <th>2</th>\n",
       "      <td>1</td>\n",
       "      <td>Toy Story (1995)</td>\n",
       "      <td>Adventure|Animation|Children|Comedy|Fantasy</td>\n",
       "      <td>161871</td>\n",
       "      <td>3.0</td>\n",
       "      <td>833104576</td>\n",
       "      <td>Tom Hanks|Tim Allen|Don Rickles|Jim Varney|Wal...</td>\n",
       "      <td>John Lasseter</td>\n",
       "      <td>81.0</td>\n",
       "      <td>$30,000,000</td>\n",
       "      <td>toy|rivalry|cowboy|cgi animation</td>\n",
       "    </tr>\n",
       "    <tr>\n",
       "      <th>3</th>\n",
       "      <td>1</td>\n",
       "      <td>Toy Story (1995)</td>\n",
       "      <td>Adventure|Animation|Children|Comedy|Fantasy</td>\n",
       "      <td>45117</td>\n",
       "      <td>4.0</td>\n",
       "      <td>1442256969</td>\n",
       "      <td>Tom Hanks|Tim Allen|Don Rickles|Jim Varney|Wal...</td>\n",
       "      <td>John Lasseter</td>\n",
       "      <td>81.0</td>\n",
       "      <td>$30,000,000</td>\n",
       "      <td>toy|rivalry|cowboy|cgi animation</td>\n",
       "    </tr>\n",
       "    <tr>\n",
       "      <th>4</th>\n",
       "      <td>1</td>\n",
       "      <td>Toy Story (1995)</td>\n",
       "      <td>Adventure|Animation|Children|Comedy|Fantasy</td>\n",
       "      <td>27431</td>\n",
       "      <td>5.0</td>\n",
       "      <td>849667827</td>\n",
       "      <td>Tom Hanks|Tim Allen|Don Rickles|Jim Varney|Wal...</td>\n",
       "      <td>John Lasseter</td>\n",
       "      <td>81.0</td>\n",
       "      <td>$30,000,000</td>\n",
       "      <td>toy|rivalry|cowboy|cgi animation</td>\n",
       "    </tr>\n",
       "  </tbody>\n",
       "</table>\n",
       "</div>"
      ],
      "text/plain": [
       "   movieId             title                                       genres  \\\n",
       "0        1  Toy Story (1995)  Adventure|Animation|Children|Comedy|Fantasy   \n",
       "1        1  Toy Story (1995)  Adventure|Animation|Children|Comedy|Fantasy   \n",
       "2        1  Toy Story (1995)  Adventure|Animation|Children|Comedy|Fantasy   \n",
       "3        1  Toy Story (1995)  Adventure|Animation|Children|Comedy|Fantasy   \n",
       "4        1  Toy Story (1995)  Adventure|Animation|Children|Comedy|Fantasy   \n",
       "\n",
       "   userId  rating   timestamp  \\\n",
       "0  158849     5.0   994716786   \n",
       "1   97203     5.0   942683155   \n",
       "2  161871     3.0   833104576   \n",
       "3   45117     4.0  1442256969   \n",
       "4   27431     5.0   849667827   \n",
       "\n",
       "                                          title_cast       director  runtime  \\\n",
       "0  Tom Hanks|Tim Allen|Don Rickles|Jim Varney|Wal...  John Lasseter     81.0   \n",
       "1  Tom Hanks|Tim Allen|Don Rickles|Jim Varney|Wal...  John Lasseter     81.0   \n",
       "2  Tom Hanks|Tim Allen|Don Rickles|Jim Varney|Wal...  John Lasseter     81.0   \n",
       "3  Tom Hanks|Tim Allen|Don Rickles|Jim Varney|Wal...  John Lasseter     81.0   \n",
       "4  Tom Hanks|Tim Allen|Don Rickles|Jim Varney|Wal...  John Lasseter     81.0   \n",
       "\n",
       "        budget                     plot_keywords  \n",
       "0  $30,000,000  toy|rivalry|cowboy|cgi animation  \n",
       "1  $30,000,000  toy|rivalry|cowboy|cgi animation  \n",
       "2  $30,000,000  toy|rivalry|cowboy|cgi animation  \n",
       "3  $30,000,000  toy|rivalry|cowboy|cgi animation  \n",
       "4  $30,000,000  toy|rivalry|cowboy|cgi animation  "
      ]
     },
     "execution_count": 8,
     "metadata": {},
     "output_type": "execute_result"
    }
   ],
   "source": [
    "# Merge the three dataframes\n",
    "merged_df = pd.merge(pd.merge(movies, ratings, on='movieId', how='inner'), \n",
    "                     imdb, on='movieId', how='inner')\n",
    "\n",
    "# View merged_df\n",
    "merged_df.head()"
   ]
  },
  {
   "cell_type": "code",
   "execution_count": 5,
   "id": "816f0bf8",
   "metadata": {},
   "outputs": [
    {
     "data": {
      "text/plain": [
       "Index(['movieId', 'title', 'genres', 'userId', 'rating', 'timestamp',\n",
       "       'title_cast', 'director', 'runtime', 'budget', 'plot_keywords'],\n",
       "      dtype='object')"
      ]
     },
     "execution_count": 5,
     "metadata": {},
     "output_type": "execute_result"
    }
   ],
   "source": [
    "# check feature present in the merged df\n",
    "merged_df.columns"
   ]
  },
  {
   "cell_type": "code",
   "execution_count": 11,
   "id": "7cf65a3e",
   "metadata": {},
   "outputs": [
    {
     "data": {
      "text/plain": [
       "movieId                0\n",
       "title                  0\n",
       "genres                 0\n",
       "userId                 0\n",
       "rating                 0\n",
       "timestamp              0\n",
       "title_cast       2604407\n",
       "director         2602688\n",
       "runtime          2653058\n",
       "budget           3152276\n",
       "plot_keywords    2610043\n",
       "dtype: int64"
      ]
     },
     "execution_count": 11,
     "metadata": {},
     "output_type": "execute_result"
    }
   ],
   "source": [
    "# Check for nulls in merged dataframe\n",
    "merged_df.isnull().sum()"
   ]
  },
  {
   "cell_type": "markdown",
   "id": "c2bb8323",
   "metadata": {},
   "source": [
    "* 5 out of 11 features contain null values"
   ]
  },
  {
   "cell_type": "markdown",
   "id": "afb92be6",
   "metadata": {},
   "source": [
    "## 3.1 Feature Distribution"
   ]
  },
  {
   "cell_type": "markdown",
   "id": "de1235f7",
   "metadata": {},
   "source": [
    "### 3.1.1. User frequency distribution\n",
    "\n",
    "Let's group the users by their respective ids and see which users have the most and the least ratings."
   ]
  },
  {
   "cell_type": "code",
   "execution_count": 10,
   "id": "ee7e7e42",
   "metadata": {
    "execution": {
     "iopub.execute_input": "2023-01-30T22:49:55.721166Z",
     "iopub.status.busy": "2023-01-30T22:49:55.720732Z",
     "iopub.status.idle": "2023-01-30T22:49:56.443908Z",
     "shell.execute_reply": "2023-01-30T22:49:56.442672Z",
     "shell.execute_reply.started": "2023-01-30T22:49:55.721131Z"
    }
   },
   "outputs": [
    {
     "data": {
      "text/html": [
       "<div>\n",
       "<style scoped>\n",
       "    .dataframe tbody tr th:only-of-type {\n",
       "        vertical-align: middle;\n",
       "    }\n",
       "\n",
       "    .dataframe tbody tr th {\n",
       "        vertical-align: top;\n",
       "    }\n",
       "\n",
       "    .dataframe thead th {\n",
       "        text-align: right;\n",
       "    }\n",
       "</style>\n",
       "<table border=\"1\" class=\"dataframe\">\n",
       "  <thead>\n",
       "    <tr style=\"text-align: right;\">\n",
       "      <th></th>\n",
       "      <th>userId</th>\n",
       "      <th>frequency</th>\n",
       "      <th>average_rating</th>\n",
       "    </tr>\n",
       "  </thead>\n",
       "  <tbody>\n",
       "    <tr>\n",
       "      <th>72314</th>\n",
       "      <td>72315</td>\n",
       "      <td>12952</td>\n",
       "      <td>3.092380</td>\n",
       "    </tr>\n",
       "    <tr>\n",
       "      <th>80973</th>\n",
       "      <td>80974</td>\n",
       "      <td>3680</td>\n",
       "      <td>3.277582</td>\n",
       "    </tr>\n",
       "    <tr>\n",
       "      <th>137292</th>\n",
       "      <td>137293</td>\n",
       "      <td>3588</td>\n",
       "      <td>3.192168</td>\n",
       "    </tr>\n",
       "    <tr>\n",
       "      <th>33843</th>\n",
       "      <td>33844</td>\n",
       "      <td>3208</td>\n",
       "      <td>2.583853</td>\n",
       "    </tr>\n",
       "    <tr>\n",
       "      <th>20054</th>\n",
       "      <td>20055</td>\n",
       "      <td>3050</td>\n",
       "      <td>3.179016</td>\n",
       "    </tr>\n",
       "  </tbody>\n",
       "</table>\n",
       "</div>"
      ],
      "text/plain": [
       "        userId  frequency  average_rating\n",
       "72314    72315      12952        3.092380\n",
       "80973    80974       3680        3.277582\n",
       "137292  137293       3588        3.192168\n",
       "33843    33844       3208        2.583853\n",
       "20054    20055       3050        3.179016"
      ]
     },
     "execution_count": 10,
     "metadata": {},
     "output_type": "execute_result"
    }
   ],
   "source": [
    "# Group the data by userId and get the average rating and frequency\n",
    "user_frequency = ratings.groupby([\"userId\"]).agg({'rating': ['size', 'mean',]})\n",
    "\n",
    "# Rename the columns\n",
    "user_frequency.columns = ['frequency', 'average_rating']\n",
    "\n",
    "# Move the userId column from the index to a column\n",
    "user_frequency = user_frequency.reset_index()\n",
    "\n",
    "# Rename the userId column\n",
    "user_frequency = user_frequency.rename(columns={'userId':'userId'})\n",
    "\n",
    "# sort by descending order\n",
    "user_frequency = user_frequency.sort_values(by='frequency',ascending=False)\n",
    "\n",
    "# View the dataframe\n",
    "user_frequency.head()"
   ]
  },
  {
   "cell_type": "code",
   "execution_count": 20,
   "id": "b04e2d33",
   "metadata": {
    "execution": {
     "iopub.execute_input": "2023-01-29T23:31:24.435507Z",
     "iopub.status.busy": "2023-01-29T23:31:24.435126Z",
     "iopub.status.idle": "2023-01-29T23:31:24.872150Z",
     "shell.execute_reply": "2023-01-29T23:31:24.871324Z",
     "shell.execute_reply.started": "2023-01-29T23:31:24.435478Z"
    }
   },
   "outputs": [
    {
     "data": {
      "image/png": "[encoded data removed]",
      "text/plain": [
       "<Figure size 1080x504 with 1 Axes>"
      ]
     },
     "metadata": {
      "needs_background": "light"
     },
     "output_type": "display_data"
    }
   ],
   "source": [
    "# You can plot the above table as a histogram showing the distribution\n",
    "user_frequency[:20].plot(fontsize=15,figsize  = (15,7), kind='bar',y='frequency',x='userId')\n",
    "plt.xticks(rotation = 75)\n",
    "plt.tight_layout()\n",
    "plt.grid(False)\n",
    "plt.suptitle('Top 20 users with the highest rating frquency', fontsize=15);"
   ]
  },
  {
   "cell_type": "markdown",
   "id": "7e5f3701",
   "metadata": {},
   "source": [
    "Having a user rate so many movies can lead to several negative consequences such as;\n",
    "* Overfitting- whereby the model may become too tailored to that user's preferences, leading to poor generalization and inaccurate recommendations for other users. \n",
    "* Also, it can be an indication of the user being overzealous or biased in their ratings, this can make the data less reliable.\n",
    "* UserId 72315 has 4 times the rating frequency of the next highest rated user. Looks like a rating performed by a bot."
   ]
  },
  {
   "cell_type": "code",
   "execution_count": 21,
   "id": "5dadda16",
   "metadata": {
    "execution": {
     "iopub.execute_input": "2023-01-29T23:34:48.373799Z",
     "iopub.status.busy": "2023-01-29T23:34:48.373437Z",
     "iopub.status.idle": "2023-01-29T23:34:48.384364Z",
     "shell.execute_reply": "2023-01-29T23:34:48.383209Z",
     "shell.execute_reply.started": "2023-01-29T23:34:48.373771Z"
    }
   },
   "outputs": [
    {
     "data": {
      "text/html": [
       "<div>\n",
       "<style scoped>\n",
       "    .dataframe tbody tr th:only-of-type {\n",
       "        vertical-align: middle;\n",
       "    }\n",
       "\n",
       "    .dataframe tbody tr th {\n",
       "        vertical-align: top;\n",
       "    }\n",
       "\n",
       "    .dataframe thead th {\n",
       "        text-align: right;\n",
       "    }\n",
       "</style>\n",
       "<table border=\"1\" class=\"dataframe\">\n",
       "  <thead>\n",
       "    <tr style=\"text-align: right;\">\n",
       "      <th></th>\n",
       "      <th>userId</th>\n",
       "      <th>frequency</th>\n",
       "      <th>average_rating</th>\n",
       "    </tr>\n",
       "  </thead>\n",
       "  <tbody>\n",
       "    <tr>\n",
       "      <th>79086</th>\n",
       "      <td>79087</td>\n",
       "      <td>1</td>\n",
       "      <td>4.5</td>\n",
       "    </tr>\n",
       "    <tr>\n",
       "      <th>53639</th>\n",
       "      <td>53640</td>\n",
       "      <td>1</td>\n",
       "      <td>4.0</td>\n",
       "    </tr>\n",
       "    <tr>\n",
       "      <th>105713</th>\n",
       "      <td>105714</td>\n",
       "      <td>1</td>\n",
       "      <td>2.0</td>\n",
       "    </tr>\n",
       "    <tr>\n",
       "      <th>121070</th>\n",
       "      <td>121071</td>\n",
       "      <td>1</td>\n",
       "      <td>4.0</td>\n",
       "    </tr>\n",
       "    <tr>\n",
       "      <th>55361</th>\n",
       "      <td>55362</td>\n",
       "      <td>1</td>\n",
       "      <td>3.5</td>\n",
       "    </tr>\n",
       "  </tbody>\n",
       "</table>\n",
       "</div>"
      ],
      "text/plain": [
       "        userId  frequency  average_rating\n",
       "79086    79087          1             4.5\n",
       "53639    53640          1             4.0\n",
       "105713  105714          1             2.0\n",
       "121070  121071          1             4.0\n",
       "55361    55362          1             3.5"
      ]
     },
     "execution_count": 21,
     "metadata": {},
     "output_type": "execute_result"
    }
   ],
   "source": [
    "# Less frequent movie raters\n",
    "user_frequency.tail()"
   ]
  },
  {
   "cell_type": "markdown",
   "id": "fd786fc7",
   "metadata": {},
   "source": [
    "* On the other hand, if a user rates very few movies, it can make it difficult to make accurate recommendations for this user, as there is not enough data to understand their preferences. Additionally, if there are a large number of users who rate very few movies, it can lead to data sparsity issues, making it difficult to find users with similar tastes and make accurate recommendations."
   ]
  },
  {
   "cell_type": "markdown",
   "id": "7fea4608",
   "metadata": {},
   "source": [
    "### 3.1.2. Genre Frequency Distribution\n",
    "\n",
    "Each movie is assigned one or more genres, and the genres are encoded into one field genres.\n",
    "\n",
    "At this stage, our goal is to determine which genres are most prevalent among movies. By understanding the most common genres, we can gain insight into the types of movies that were most frequently produced during the time period represented in the data."
   ]
  },
  {
   "cell_type": "code",
   "execution_count": 13,
   "id": "cded56b4",
   "metadata": {
    "execution": {
     "iopub.execute_input": "2023-01-29T08:55:38.948237Z",
     "iopub.status.busy": "2023-01-29T08:55:38.947843Z",
     "iopub.status.idle": "2023-01-29T08:55:39.485621Z",
     "shell.execute_reply": "2023-01-29T08:55:39.483980Z",
     "shell.execute_reply.started": "2023-01-29T08:55:38.948203Z"
    }
   },
   "outputs": [
    {
     "data": {
      "image/png": "[encoded data removed]",
      "text/plain": [
       "<Figure size 864x504 with 1 Axes>"
      ]
     },
     "metadata": {
      "needs_background": "light"
     },
     "output_type": "display_data"
    }
   ],
   "source": [
    "# Create a new dataframe with each genre as a separate row\n",
    "genres_frequency = movies[\"genres\"].str.get_dummies('|').sum().sort_values(ascending=False)\n",
    "\n",
    "#Set the size of the chart, width, height in inches\n",
    "plt.figure(figsize=(12,7))\n",
    "\n",
    "# Plot the distribution using a bar chart\n",
    "genres_frequency.plot(kind='bar')\n",
    "plt.xlabel('Genres')\n",
    "plt.ylabel('Number of Movies')\n",
    "plt.title('Genre Distribution')\n",
    "plt.show()"
   ]
  },
  {
   "cell_type": "markdown",
   "id": "1f6c5bc6",
   "metadata": {},
   "source": [
    "* We note that the dataset contains 20 different genres and a pseudo-genre called (no genres listed) indicating that the movie has not been assigned any genres.\n",
    "* The Drama genre was by far the most frequently produced genre in the period captured by the data\n",
    "* The IMAX genre is the least produced genre as revealed by the data, this is not surprising, as the name IMAX is not considered by some as a genre, but rather a brand name for a specific type of large-format theater and film technology\n",
    "\n",
    "Clearly this shows there is an imbalance in the frequency of occurrence for each genre. Imbalance occurs when there is an uneven distribution of the various observations.\n",
    "\n",
    "> It's worth noting that, normalizing the ratings is important to avoid any bias towards users or movies with higher rating counts, it makes the ratings comparable across users or movies with different mean ratings."
   ]
  },
  {
   "cell_type": "markdown",
   "id": "d721e44f",
   "metadata": {},
   "source": [
    "### 3.1.3. Movie Frequency Distribution\n",
    "Here, we take a look at the most rated movies which corresponds to the most viewed movie with the highest number of ratings from users.This analysis can also provide useful information to movie production companies, as it can give them an idea of which type of movies are popular and well received by the audience. \n",
    "\n",
    "This information can guide their content creation and production decisions.By examining the distribution of ratings for each movie, we can determine what types of movies are preferred by different users. For example, a movie with a lot of high ratings may be preferred by users who enjoy action movies, while a movie with a lot of low ratings may be preferred by users who enjoy romantic comedies."
   ]
  },
  {
   "cell_type": "code",
   "execution_count": 24,
   "id": "c13a8ad3",
   "metadata": {
    "execution": {
     "iopub.execute_input": "2023-01-29T23:37:03.279552Z",
     "iopub.status.busy": "2023-01-29T23:37:03.279209Z",
     "iopub.status.idle": "2023-01-29T23:37:04.267843Z",
     "shell.execute_reply": "2023-01-29T23:37:04.266698Z",
     "shell.execute_reply.started": "2023-01-29T23:37:03.279525Z"
    }
   },
   "outputs": [
    {
     "data": {
      "text/html": [
       "<div>\n",
       "<style scoped>\n",
       "    .dataframe tbody tr th:only-of-type {\n",
       "        vertical-align: middle;\n",
       "    }\n",
       "\n",
       "    .dataframe tbody tr th {\n",
       "        vertical-align: top;\n",
       "    }\n",
       "\n",
       "    .dataframe thead th {\n",
       "        text-align: right;\n",
       "    }\n",
       "</style>\n",
       "<table border=\"1\" class=\"dataframe\">\n",
       "  <thead>\n",
       "    <tr style=\"text-align: right;\">\n",
       "      <th></th>\n",
       "      <th>title</th>\n",
       "      <th>frequency</th>\n",
       "      <th>average_rating</th>\n",
       "    </tr>\n",
       "  </thead>\n",
       "  <tbody>\n",
       "    <tr>\n",
       "      <th>18144</th>\n",
       "      <td>Shawshank Redemption, The (1994)</td>\n",
       "      <td>32831</td>\n",
       "      <td>4.417624</td>\n",
       "    </tr>\n",
       "    <tr>\n",
       "      <th>7536</th>\n",
       "      <td>Forrest Gump (1994)</td>\n",
       "      <td>32383</td>\n",
       "      <td>4.047216</td>\n",
       "    </tr>\n",
       "    <tr>\n",
       "      <th>16411</th>\n",
       "      <td>Pulp Fiction (1994)</td>\n",
       "      <td>31697</td>\n",
       "      <td>4.195097</td>\n",
       "    </tr>\n",
       "    <tr>\n",
       "      <th>18339</th>\n",
       "      <td>Silence of the Lambs, The (1991)</td>\n",
       "      <td>29444</td>\n",
       "      <td>4.144172</td>\n",
       "    </tr>\n",
       "    <tr>\n",
       "      <th>13190</th>\n",
       "      <td>Matrix, The (1999)</td>\n",
       "      <td>29014</td>\n",
       "      <td>4.154253</td>\n",
       "    </tr>\n",
       "  </tbody>\n",
       "</table>\n",
       "</div>"
      ],
      "text/plain": [
       "                                  title  frequency  average_rating\n",
       "18144  Shawshank Redemption, The (1994)      32831        4.417624\n",
       "7536                Forrest Gump (1994)      32383        4.047216\n",
       "16411               Pulp Fiction (1994)      31697        4.195097\n",
       "18339  Silence of the Lambs, The (1991)      29444        4.144172\n",
       "13190                Matrix, The (1999)      29014        4.154253"
      ]
     },
     "execution_count": 24,
     "metadata": {},
     "output_type": "execute_result"
    }
   ],
   "source": [
    "# Group the data by genres and get the average rating and frequency\n",
    "movie_frequency = merged_df.groupby([\"title\"]).agg({'rating': ['size', 'mean']})\n",
    "\n",
    "# Rename the columns\n",
    "movie_frequency.columns = ['frequency', 'average_rating']\n",
    "\n",
    "# Move genres from the index to a column\n",
    "movie_frequency = movie_frequency.reset_index()\n",
    "\n",
    "# sort by descending order\n",
    "movie_frequency = movie_frequency.sort_values(by='frequency',ascending=False)\n",
    "\n",
    "# View the top rated movies\n",
    "movie_frequency.head()"
   ]
  },
  {
   "cell_type": "code",
   "execution_count": 33,
   "id": "22902e14",
   "metadata": {},
   "outputs": [
    {
     "data": {
      "text/html": [
       "<div>\n",
       "<style scoped>\n",
       "    .dataframe tbody tr th:only-of-type {\n",
       "        vertical-align: middle;\n",
       "    }\n",
       "\n",
       "    .dataframe tbody tr th {\n",
       "        vertical-align: top;\n",
       "    }\n",
       "\n",
       "    .dataframe thead th {\n",
       "        text-align: right;\n",
       "    }\n",
       "</style>\n",
       "<table border=\"1\" class=\"dataframe\">\n",
       "  <thead>\n",
       "    <tr style=\"text-align: right;\">\n",
       "      <th></th>\n",
       "      <th>title</th>\n",
       "      <th>frequency</th>\n",
       "      <th>average_rating</th>\n",
       "    </tr>\n",
       "  </thead>\n",
       "  <tbody>\n",
       "    <tr>\n",
       "      <th>4101</th>\n",
       "      <td>Christopher Strong (1933)</td>\n",
       "      <td>1</td>\n",
       "      <td>1.0</td>\n",
       "    </tr>\n",
       "    <tr>\n",
       "      <th>17880</th>\n",
       "      <td>Secrets of the Tribe (2010)</td>\n",
       "      <td>1</td>\n",
       "      <td>4.0</td>\n",
       "    </tr>\n",
       "    <tr>\n",
       "      <th>21361</th>\n",
       "      <td>Trails (Veredas) (1978)</td>\n",
       "      <td>1</td>\n",
       "      <td>4.5</td>\n",
       "    </tr>\n",
       "    <tr>\n",
       "      <th>21363</th>\n",
       "      <td>Train Ride to Hollywood (1975)</td>\n",
       "      <td>1</td>\n",
       "      <td>5.0</td>\n",
       "    </tr>\n",
       "    <tr>\n",
       "      <th>17932</th>\n",
       "      <td>Seoul Searching (2015)</td>\n",
       "      <td>1</td>\n",
       "      <td>3.5</td>\n",
       "    </tr>\n",
       "  </tbody>\n",
       "</table>\n",
       "</div>"
      ],
      "text/plain": [
       "                                title  frequency  average_rating\n",
       "4101        Christopher Strong (1933)          1             1.0\n",
       "17880     Secrets of the Tribe (2010)          1             4.0\n",
       "21361         Trails (Veredas) (1978)          1             4.5\n",
       "21363  Train Ride to Hollywood (1975)          1             5.0\n",
       "17932          Seoul Searching (2015)          1             3.5"
      ]
     },
     "execution_count": 33,
     "metadata": {},
     "output_type": "execute_result"
    }
   ],
   "source": [
    "# least viewed and rated movies\n",
    "movie_frequency.tail()"
   ]
  },
  {
   "cell_type": "markdown",
   "id": "eb784dc7",
   "metadata": {},
   "source": [
    "We observe that some movies are rated by more users compared to others, while some have very few ratings, and some have only one rating. This fact is important to note as imbalanced ratings might result in our model not generalizing well, leading to inaccurate estimates for our predictions. \n",
    "\n",
    "Also, for this project, removing users who rated less movies improved the accuracy of the model leading to a decrease in RMSE score compared to when those users weren't removed."
   ]
  },
  {
   "cell_type": "markdown",
   "id": "6897bb6f",
   "metadata": {},
   "source": [
    "### 3.1.4 Rating distribution"
   ]
  },
  {
   "cell_type": "code",
   "execution_count": 35,
   "id": "3a63cafe",
   "metadata": {
    "execution": {
     "iopub.execute_input": "2023-01-29T23:47:30.175438Z",
     "iopub.status.busy": "2023-01-29T23:47:30.175084Z",
     "iopub.status.idle": "2023-01-29T23:47:30.445007Z",
     "shell.execute_reply": "2023-01-29T23:47:30.444164Z",
     "shell.execute_reply.started": "2023-01-29T23:47:30.175410Z"
    }
   },
   "outputs": [
    {
     "data": {
      "image/png": "[encoded data removed]",
      "text/plain": [
       "<Figure size 432x288 with 1 Axes>"
      ]
     },
     "metadata": {
      "needs_background": "light"
     },
     "output_type": "display_data"
    }
   ],
   "source": [
    "# Create a new dataframe with each rating class as a separate row\n",
    "rating_frequency = merged_df[\"rating\"].value_counts()\n",
    "\n",
    "# Plot the frequency distribution as a bar chart\n",
    "rating_frequency.plot(kind='bar')\n",
    "plt.xlabel('Rating')\n",
    "plt.ylabel('Frequency in millions')\n",
    "plt.title('Rating vs Frequency Distribution')\n",
    "plt.show()"
   ]
  },
  {
   "cell_type": "markdown",
   "id": "2fb3e004",
   "metadata": {},
   "source": [
    "* We note that there are more higher ratings compared to lower ones as seen by the distribution of ratings shown below. This discrepancy may be because people tend to rate movies they love or hate and do not bother to rate the movies they feel are average. \n",
    "* Further, We observe that 4 is the most common rating, followed by 3 and 5. 0.5 is the least common rating. In general, half-a-star ratings are less common than whole star ratings."
   ]
  },
  {
   "cell_type": "markdown",
   "id": "6be7d659",
   "metadata": {},
   "source": [
    "### 3.1.5. Movie production by year\n",
    "\n",
    "When we categorize movies by their release year, we can gain insight into the trend of movie production over time. For example, we can observe the number of movies produced each year and see if there has been a trend of increasing or decreasing movie production over time. This information can also be used to identify popular movie production eras and how they have changed over time."
   ]
  },
  {
   "cell_type": "code",
   "execution_count": 6,
   "id": "806346c8",
   "metadata": {
    "execution": {
     "iopub.execute_input": "2023-01-31T23:04:17.412162Z",
     "iopub.status.busy": "2023-01-31T23:04:17.411787Z",
     "iopub.status.idle": "2023-01-31T23:04:17.550503Z",
     "shell.execute_reply": "2023-01-31T23:04:17.549290Z",
     "shell.execute_reply.started": "2023-01-31T23:04:17.412133Z"
    }
   },
   "outputs": [
    {
     "data": {
      "text/html": [
       "<div>\n",
       "<style scoped>\n",
       "    .dataframe tbody tr th:only-of-type {\n",
       "        vertical-align: middle;\n",
       "    }\n",
       "\n",
       "    .dataframe tbody tr th {\n",
       "        vertical-align: top;\n",
       "    }\n",
       "\n",
       "    .dataframe thead th {\n",
       "        text-align: right;\n",
       "    }\n",
       "</style>\n",
       "<table border=\"1\" class=\"dataframe\">\n",
       "  <thead>\n",
       "    <tr style=\"text-align: right;\">\n",
       "      <th></th>\n",
       "      <th>movieId</th>\n",
       "      <th>title</th>\n",
       "      <th>genres</th>\n",
       "      <th>release_year</th>\n",
       "    </tr>\n",
       "  </thead>\n",
       "  <tbody>\n",
       "    <tr>\n",
       "      <th>0</th>\n",
       "      <td>1</td>\n",
       "      <td>Toy Story (1995)</td>\n",
       "      <td>Adventure|Animation|Children|Comedy|Fantasy</td>\n",
       "      <td>1995</td>\n",
       "    </tr>\n",
       "    <tr>\n",
       "      <th>1</th>\n",
       "      <td>2</td>\n",
       "      <td>Jumanji (1995)</td>\n",
       "      <td>Adventure|Children|Fantasy</td>\n",
       "      <td>1995</td>\n",
       "    </tr>\n",
       "    <tr>\n",
       "      <th>2</th>\n",
       "      <td>3</td>\n",
       "      <td>Grumpier Old Men (1995)</td>\n",
       "      <td>Comedy|Romance</td>\n",
       "      <td>1995</td>\n",
       "    </tr>\n",
       "    <tr>\n",
       "      <th>3</th>\n",
       "      <td>4</td>\n",
       "      <td>Waiting to Exhale (1995)</td>\n",
       "      <td>Comedy|Drama|Romance</td>\n",
       "      <td>1995</td>\n",
       "    </tr>\n",
       "    <tr>\n",
       "      <th>4</th>\n",
       "      <td>5</td>\n",
       "      <td>Father of the Bride Part II (1995)</td>\n",
       "      <td>Comedy</td>\n",
       "      <td>1995</td>\n",
       "    </tr>\n",
       "  </tbody>\n",
       "</table>\n",
       "</div>"
      ],
      "text/plain": [
       "   movieId                               title  \\\n",
       "0        1                    Toy Story (1995)   \n",
       "1        2                      Jumanji (1995)   \n",
       "2        3             Grumpier Old Men (1995)   \n",
       "3        4            Waiting to Exhale (1995)   \n",
       "4        5  Father of the Bride Part II (1995)   \n",
       "\n",
       "                                        genres release_year  \n",
       "0  Adventure|Animation|Children|Comedy|Fantasy         1995  \n",
       "1                   Adventure|Children|Fantasy         1995  \n",
       "2                               Comedy|Romance         1995  \n",
       "3                         Comedy|Drama|Romance         1995  \n",
       "4                                       Comedy         1995  "
      ]
     },
     "execution_count": 6,
     "metadata": {},
     "output_type": "execute_result"
    }
   ],
   "source": [
    "# Create a movie year column from the year column\n",
    "movies[\"release_year\"] = movies['title'].str.extract(r'(\\d{4})').astype(str)\n",
    "movies.head()"
   ]
  },
  {
   "cell_type": "code",
   "execution_count": 29,
   "id": "0cde6745",
   "metadata": {
    "execution": {
     "iopub.execute_input": "2023-01-29T23:41:31.346046Z",
     "iopub.status.busy": "2023-01-29T23:41:31.344805Z",
     "iopub.status.idle": "2023-01-29T23:41:31.606431Z",
     "shell.execute_reply": "2023-01-29T23:41:31.605058Z",
     "shell.execute_reply.started": "2023-01-29T23:41:31.346014Z"
    }
   },
   "outputs": [
    {
     "data": {
      "image/png": "[encoded data removed]",
      "text/plain": [
       "<Figure size 1080x720 with 1 Axes>"
      ]
     },
     "metadata": {
      "needs_background": "light"
     },
     "output_type": "display_data"
    }
   ],
   "source": [
    "# Create a bar chart to visualize the first 25 years with the highest number of movie releases\n",
    "# Count the number of movies released in each year\n",
    "yearly_movie_count = movies[\"release_year\"].value_counts()\n",
    "\n",
    "# Create a bar chart\n",
    "plt.figure(figsize=(15,10))\n",
    "plt.bar(yearly_movie_count.index[:25], yearly_movie_count.values[:25], alpha=0.65)\n",
    "\n",
    "# Set axis labels and chart title\n",
    "plt.xlabel(\"Year of Production\", fontsize = 15)\n",
    "plt.ylabel(\"Number of Movies Produced (Millions)\", fontsize = 15)\n",
    "plt.title(\"First 25 Years with the Highest Number of Movie Releases\", fontsize = 15)\n",
    "\n",
    "# Show the chart\n",
    "plt.show()\n"
   ]
  },
  {
   "cell_type": "markdown",
   "id": "da4842e9",
   "metadata": {},
   "source": [
    "#### Observations from first 25 years with the highest number of movie releases\n",
    "\n",
    "The timeline of the highest movies produced showed a progressive increment as the years increase, however there were some disruptions as in this pattern of increment. 2019 witnessed a sharp deccline when compared with the preceeding year, 2018. \n",
    "\n",
    "* A possible cause for such decline, almost by half, could be attributed to the Covid-19 pandemic where the whole world was at lockdown. This would have greatly affected the movie industry since contact between person to person was greatly reduced.\n",
    "\n",
    "The year 2015 posted the highest amount of movies released in a year. However after 2015 the number of movies released began to decline upto 2019. Could this be as a result the World economy dynamics of those years?"
   ]
  },
  {
   "cell_type": "markdown",
   "id": "b93828ad",
   "metadata": {},
   "source": [
    "### 3.1.6 Genres distribution by Year\n",
    "\n",
    "A frequency table of movie genre distribution per time can give insights into the popularity of different movie genres over time. One can see which movie genres are more popular at which times, and how their popularity has changed over time. This information can help understand the preferences of movie audiences and the trends in the movie industry. Additionally, one can use this information to inform your movie recommendations and to guide in the decision-making process when selecting movies to add to library or to promote to customers. For example, if a particular genre is particularly popular during a certain time period, one may consider acquiring or promoting more movies from that genre during that time period to better meet the needs of the audience."
   ]
  },
  {
   "cell_type": "code",
   "execution_count": 20,
   "id": "f920fb97",
   "metadata": {
    "execution": {
     "iopub.execute_input": "2023-01-31T23:11:52.927460Z",
     "iopub.status.busy": "2023-01-31T23:11:52.927091Z",
     "iopub.status.idle": "2023-01-31T23:12:01.774911Z",
     "shell.execute_reply": "2023-01-31T23:12:01.773811Z",
     "shell.execute_reply.started": "2023-01-31T23:11:52.927426Z"
    }
   },
   "outputs": [
    {
     "data": {
      "image/png": "[encoded data removed]",
      "text/plain": [
       "<Figure size 1440x1080 with 1 Axes>"
      ]
     },
     "metadata": {
      "needs_background": "light"
     },
     "output_type": "display_data"
    }
   ],
   "source": [
    "# Split the genres column into separate genres and store in a new dataframe\n",
    "df_genres = movies.genres.str.get_dummies(sep='|')\n",
    "df_genres['year'] = movies['release_year']\n",
    "\n",
    "# Group the new dataframe by year and sum the number of movies for each genre\n",
    "df_genres_grouped = df_genres.groupby('year').sum()\n",
    "\n",
    "# Plot the frequency distribution of movie genres by year\n",
    "#plt.figure(figsize=(15,15))\n",
    "fig, ax = plt.subplots(figsize=(20, 15))\n",
    "df_genres_grouped.plot(kind='bar', stacked=True, ax=ax)\n",
    "plt.xlabel('Year')\n",
    "plt.ylabel('Number of Movies')\n",
    "plt.title('Frequency Distribution of Movie Genres by Year')\n",
    "plt.show()"
   ]
  },
  {
   "cell_type": "markdown",
   "id": "3966abf0",
   "metadata": {},
   "source": [
    "From the colour palette distribution given on the graph, it is very clear that the genres,Drama and War, have witnessed a consistent increase over the years.  "
   ]
  },
  {
   "cell_type": "markdown",
   "id": "488b0bdf",
   "metadata": {},
   "source": [
    "## 3.2. Test for outliers using a Box plot\n",
    "\n",
    "Outliers are data points that are significantly different from the other data points in a dataset. They can be caused by measurement error, data entry errors, or simply by the presence of unusual observations. These values are not necessarily bad, but they are different from the norm and can skew the results of any analysis. In a univariate data, outliers can be identified by looking at the distribution of the data, or by using techniques such as box plots, IQR or z-scores. \n",
    "> It's important to note that, outliers can be real values and should not always be removed, it's important to investigate and decide if they are valid or if they are errors before removing them."
   ]
  },
  {
   "cell_type": "code",
   "execution_count": 20,
   "id": "fad19fe2",
   "metadata": {
    "execution": {
     "iopub.execute_input": "2023-01-29T09:01:38.555969Z",
     "iopub.status.busy": "2023-01-29T09:01:38.555580Z",
     "iopub.status.idle": "2023-01-29T09:01:39.253407Z",
     "shell.execute_reply": "2023-01-29T09:01:39.252311Z",
     "shell.execute_reply.started": "2023-01-29T09:01:38.555937Z"
    }
   },
   "outputs": [
    {
     "data": {
      "image/png": "[encoded data removed]",
      "text/plain": [
       "<Figure size 432x288 with 1 Axes>"
      ]
     },
     "metadata": {
      "needs_background": "light"
     },
     "output_type": "display_data"
    }
   ],
   "source": [
    "# Check for Outliers in the 'rating column' of the merged_df dataframe\n",
    "# Draw a box plot\n",
    "plt.boxplot(np.array(merged_df[\"rating\"]))\n",
    "\n",
    "# Add a title and labels\n",
    "plt.title(\"Box plot for detection of outliers\")\n",
    "plt.xlabel(\"Data\")\n",
    "plt.ylabel(\"Values\")\n",
    "\n",
    "# Display the plot\n",
    "plt.show()"
   ]
  },
  {
   "cell_type": "markdown",
   "id": "87dc4c12",
   "metadata": {},
   "source": [
    "The box in the middle of the plot represents the interquartile range (IQR), which is the range between the first and third quartiles (25th and 75th percentiles). The whiskers extend from the box to the minimum and maximum values, and any data points outside of the whiskers are considered outliers.\n",
    "\n",
    "As can be seen, there are clusters of datapoints that are considered outliers present in the ratings dataset. During this project, removing the outliers impacted our RMSE negatively."
   ]
  },
  {
   "cell_type": "markdown",
   "id": "f6b88725",
   "metadata": {},
   "source": [
    "## 3.3 Shapiro's test for uniformity of distribution\n",
    "\n",
    "Shapiro-Wilk's test is a statistical test used to determine if a sample of data is drawn from a normally distributed population. It tests the null hypothesis that the sample data is normally distributed. The test statistic is calculated as the ratio of the mean of the sample to the standard deviation of the sample, which is compared to critical values from a standard normal distribution. \n",
    "* The p-value from the test is used to determine the significance of the test statistic, with a low p-value indicating that the sample is not from a normally distributed population. In other words, the Shapiro test is used to determine if the data is close to a normal distribution or not.\n",
    "\n",
    "It's important to keep in mind that, even if a dataset is uniformly distributed, it may still have outliers or other features that can impact the validity of inferences or predictions made from the dataset."
   ]
  },
  {
   "cell_type": "code",
   "execution_count": 55,
   "id": "8c3fa619",
   "metadata": {},
   "outputs": [
    {
     "name": "stdout",
     "output_type": "stream",
     "text": [
      "Sample looks normal (fail to reject H0)\n"
     ]
    }
   ],
   "source": [
    "from scipy.stats import shapiro\n",
    "\n",
    "# Create a variable named 'ratings'\n",
    "ratings = merged_df['rating']\n",
    "\n",
    "# Perform the Shapiro test\n",
    "stat, p = shapiro(ratings)\n",
    "\n",
    "# Check the p-value\n",
    "if p > 0.05:\n",
    "    print(\"Sample looks normal (fail to reject H0)\")\n",
    "else:\n",
    "    print(\"Sample does not look normal (reject H0)\")"
   ]
  },
  {
   "cell_type": "markdown",
   "id": "deda0a1a",
   "metadata": {},
   "source": [
    "* The ratings distribution follows a gaussian distribution. With this information in mind, one can build models using linear regression or decision trees, to predict outcomes."
   ]
  },
  {
   "cell_type": "markdown",
   "id": "b1d18432",
   "metadata": {},
   "source": [
    "<a id=\"four\"></a>\n",
    "## 4. Data Preprocessing and Engineering\n",
    "<a class=\"anchor\" id=\"1.1\"></a>\n",
    "<a href=#cont>Back to Project Pipeline</a>\n",
    "\n",
    "\n",
    "\n",
    "In data preprocessing and text analytics, removing noise (i.e. unneccesary information) is a key part of getting the data into a usable format.\n",
    "\n",
    "Feature engineering is a non standard field of data modelling / machine learning that tries to transform raw data into features that better represent the underlying problem to the predictive models, resulting in improved model accuracy on unseen data.\n",
    "\n",
    "<img src=\"https://imgs.search.brave.com/sxwy8lWRY4tbRTAWP5AcgKawD8y9mqR67LUK3ICd33A/rs:fit:768:432:1/g:ce/aHR0cHM6Ly9jZG4u/c2xpZGVzaGFyZWNk/bi5jb20vc3NfdGh1/bWJuYWlscy9kYXRh/cHJlcHJvY2Vzc2lu/Zy1zYW5kZWVwcGF0/aWwtMTkwMzA1MDg0/MjI3LXRodW1ibmFp/bC00LmpwZz9jYj0x/NTUxNzc1NjEz\" width=\"400\">\n",
    "\n",
    "For the movies and ratings datasets , the following steps will be carried out:\n",
    "\n",
    "1. filter and drop users (userIds) who rated less than 20 movies\n",
    "2. removing outlier ratings\n",
    "3. removing special character (vertical line)\n",
    "4. data Imputation or Handling Nulls\n",
    "5. converting text to lower case\n",
    "6. remove the unit of currency from the budget column\n",
    "7. Engineer new features like year of release from title,"
   ]
  },
  {
   "cell_type": "markdown",
   "id": "9249a9ea",
   "metadata": {},
   "source": [
    "# Test these hypothesis and compare result\n",
    "\n",
    "\n",
    "#### 5.1 Filter and Drop users who rated less than 10 movies\n",
    "\n",
    "\n",
    "Filtering out users who have not rated a certain number of movies can help to improve the accuracy of the recommendations by removing users who may not have enough data to provide meaningful recommendations. However, it's important to balance the need for accurate recommendations with the need to include as many users as possible. One approach to this problem is to use a threshold for the minimum number of ratings a user must have in order to be included in the analysis. \n",
    "\n",
    "* For example, one could set a threshold of 10 ratings, meaning that only users who have rated at least 10 movies will be included in the analysis.\n",
    "\n",
    "* An alternative could be Applying a regularization technique is also a good option in this case. Regularization helps to prevent overfitting by adding a penalty term to the loss function. This can help to balance the ratings provided by users with a lot of ratings, and those with few ratings.\n",
    "\n",
    "For this project, both method were used and their respective RMSE were compared. Applying a regularization technique produced a better (lower) RMSE score."
   ]
  },
  {
   "cell_type": "code",
   "execution_count": 9,
   "id": "dff5d5d8",
   "metadata": {
    "execution": {
     "iopub.execute_input": "2023-01-31T06:27:08.425317Z",
     "iopub.status.busy": "2023-01-31T06:27:08.423640Z",
     "iopub.status.idle": "2023-01-31T06:27:40.850112Z",
     "shell.execute_reply": "2023-01-31T06:27:40.848760Z",
     "shell.execute_reply.started": "2023-01-31T06:27:08.425230Z"
    }
   },
   "outputs": [
    {
     "data": {
      "text/plain": [
       "7303572"
      ]
     },
     "execution_count": 9,
     "metadata": {},
     "output_type": "execute_result"
    }
   ],
   "source": [
    "#. Group the dataframe by user\n",
    "df_grouped = merged_df.groupby('userId')\n",
    "\n",
    "# Keep only the groups that have more than 10 ratings\n",
    "df_filtered = df_grouped.filter(lambda x: x['rating'].count() >= 20)\n",
    "len(df_filtered)"
   ]
  },
  {
   "cell_type": "markdown",
   "id": "a29163b6",
   "metadata": {},
   "source": [
    "#### 5.2 Remove outlier ratings\n",
    "\n",
    "A common threshold for detecting outliers is to use the Interquartile Range (IQR) which is the difference between the 75th percentile and the 25th percentile of a dataset. Any data point that falls outside of 1.5 times the IQR from the 25th percentile or 75th percentile is considered an outlier.\n",
    "To get the 75th and 25th percentile on the ratings column of the merged_df, use the .describe method\n",
    "\n",
    "From the table below, the following steps can be followed to set the threshold for outlier detection:\n",
    "\n",
    "1. Calculate the Interquartile Range (IQR) by subtracting the 25th percentile from the 75th percentile: \n",
    "> 4 - 3 = 1\n",
    "\n",
    "2. Multiply the IQR by 1.5: \n",
    "> 1 * 1.5 = 1.5\n",
    "\n",
    "3. Add 1.5 * IQR to the 75th percentile to get the upper bound and subtract 1.5 * IQR from the 25th percentile to get the lower bound:\n",
    "\n",
    "> Upper bound = 1.5 + 4 = 5.5\n",
    "\n",
    "> Lower bound = 3 - 1.5 = 1.5\n",
    "\n",
    "Any data point less than **1.5** or greater than **5.5** is considered an outlier, but of course no rating is greater than 5.5 from our table."
   ]
  },
  {
   "cell_type": "code",
   "execution_count": 23,
   "id": "4376e425",
   "metadata": {
    "execution": {
     "iopub.execute_input": "2023-01-29T09:06:55.406993Z",
     "iopub.status.busy": "2023-01-29T09:06:55.406618Z",
     "iopub.status.idle": "2023-01-29T09:06:55.691290Z",
     "shell.execute_reply": "2023-01-29T09:06:55.690106Z",
     "shell.execute_reply.started": "2023-01-29T09:06:55.406963Z"
    }
   },
   "outputs": [
    {
     "data": {
      "text/plain": [
       "count    9.448373e+06\n",
       "mean     3.531567e+00\n",
       "std      1.058906e+00\n",
       "min      5.000000e-01\n",
       "25%      3.000000e+00\n",
       "50%      3.500000e+00\n",
       "75%      4.000000e+00\n",
       "max      5.000000e+00\n",
       "Name: rating, dtype: float64"
      ]
     },
     "execution_count": 23,
     "metadata": {},
     "output_type": "execute_result"
    }
   ],
   "source": [
    "# get statistics\n",
    "df_filtered[\"rating\"].describe()"
   ]
  },
  {
   "cell_type": "code",
   "execution_count": 10,
   "id": "79c44ab9",
   "metadata": {
    "execution": {
     "iopub.execute_input": "2023-01-31T06:27:40.853023Z",
     "iopub.status.busy": "2023-01-31T06:27:40.852441Z",
     "iopub.status.idle": "2023-01-31T06:27:41.737861Z",
     "shell.execute_reply": "2023-01-31T06:27:41.736779Z",
     "shell.execute_reply.started": "2023-01-31T06:27:40.852977Z"
    }
   },
   "outputs": [
    {
     "name": "stdout",
     "output_type": "stream",
     "text": [
      "Length of dataframe before removing outliers : 9633031\n",
      "Length of ratings dataframe after removing outliers : 6949445\n",
      "There are about 2683586 outlier datapoints in the ratings dataset\n"
     ]
    }
   ],
   "source": [
    "# Define the min and max threshold\n",
    "min_threshold = 1.5\n",
    "\n",
    "# Filter the outliers\n",
    "without_outliers = df_filtered[df_filtered[\"rating\"] >= min_threshold]\n",
    "\n",
    "print(\"Length of dataframe before removing outliers :\", len(merged_df))\n",
    "print(\"Length of ratings dataframe after removing outliers :\", len(without_outliers))\n",
    "print(\"There are about\",len(merged_df) - len(without_outliers),\"outlier datapoints in the ratings dataset\")"
   ]
  },
  {
   "cell_type": "code",
   "execution_count": 45,
   "id": "2085c2bf",
   "metadata": {
    "execution": {
     "iopub.execute_input": "2023-01-30T00:16:59.001994Z",
     "iopub.status.busy": "2023-01-30T00:16:59.001598Z",
     "iopub.status.idle": "2023-01-30T00:16:59.305446Z",
     "shell.execute_reply": "2023-01-30T00:16:59.304696Z",
     "shell.execute_reply.started": "2023-01-30T00:16:59.001963Z"
    }
   },
   "outputs": [
    {
     "data": {
      "image/png": "[encoded data removed]",
      "text/plain": [
       "<Figure size 432x288 with 1 Axes>"
      ]
     },
     "metadata": {
      "needs_background": "light"
     },
     "output_type": "display_data"
    }
   ],
   "source": [
    "# Check to see if Outliers were removed successfully\n",
    "plt.boxplot(np.array(without_outliers[\"rating\"]))\n",
    "\n",
    "# Add a title and labels\n",
    "plt.title('Box plot after removing outliers')\n",
    "plt.xlabel('Data')\n",
    "plt.ylabel('Values')\n",
    "\n",
    "# Display the plot\n",
    "plt.show()"
   ]
  },
  {
   "cell_type": "markdown",
   "id": "1f09521d",
   "metadata": {},
   "source": [
    "* As can be seen from the boxplot above, the outliers were removed successfully. There are no more outliers in the dataset"
   ]
  },
  {
   "cell_type": "markdown",
   "id": "e646e8d4",
   "metadata": {},
   "source": [
    "#### 5.3 Removing special characters"
   ]
  },
  {
   "cell_type": "code",
   "execution_count": 11,
   "id": "8c60264a",
   "metadata": {
    "execution": {
     "iopub.execute_input": "2023-01-31T06:27:48.195971Z",
     "iopub.status.busy": "2023-01-31T06:27:48.195475Z",
     "iopub.status.idle": "2023-01-31T06:28:00.931483Z",
     "shell.execute_reply": "2023-01-31T06:28:00.930622Z",
     "shell.execute_reply.started": "2023-01-31T06:27:48.195928Z"
    }
   },
   "outputs": [
    {
     "data": {
      "text/plain": [
       "' Movies dataset after Pre-processing ...'"
      ]
     },
     "metadata": {},
     "output_type": "display_data"
    },
    {
     "name": "stdout",
     "output_type": "stream",
     "text": [
      "******************************************************************\n"
     ]
    },
    {
     "data": {
      "text/html": [
       "<div>\n",
       "<style scoped>\n",
       "    .dataframe tbody tr th:only-of-type {\n",
       "        vertical-align: middle;\n",
       "    }\n",
       "\n",
       "    .dataframe tbody tr th {\n",
       "        vertical-align: top;\n",
       "    }\n",
       "\n",
       "    .dataframe thead th {\n",
       "        text-align: right;\n",
       "    }\n",
       "</style>\n",
       "<table border=\"1\" class=\"dataframe\">\n",
       "  <thead>\n",
       "    <tr style=\"text-align: right;\">\n",
       "      <th></th>\n",
       "      <th>movieId</th>\n",
       "      <th>title</th>\n",
       "      <th>genres</th>\n",
       "      <th>userId</th>\n",
       "      <th>rating</th>\n",
       "      <th>timestamp</th>\n",
       "      <th>title_cast</th>\n",
       "      <th>director</th>\n",
       "      <th>runtime</th>\n",
       "      <th>budget</th>\n",
       "      <th>plot_keywords</th>\n",
       "    </tr>\n",
       "  </thead>\n",
       "  <tbody>\n",
       "    <tr>\n",
       "      <th>0</th>\n",
       "      <td>1</td>\n",
       "      <td>Toy Story (1995)</td>\n",
       "      <td>Adventure Animation Children Comedy Fantasy</td>\n",
       "      <td>158849</td>\n",
       "      <td>5.0</td>\n",
       "      <td>994716786</td>\n",
       "      <td>Tom Hanks Tim Allen Don Rickles Jim Varney Wal...</td>\n",
       "      <td>John Lasseter</td>\n",
       "      <td>81.0</td>\n",
       "      <td>$30,000,000</td>\n",
       "      <td>toy rivalry cowboy cgi animation</td>\n",
       "    </tr>\n",
       "    <tr>\n",
       "      <th>3</th>\n",
       "      <td>1</td>\n",
       "      <td>Toy Story (1995)</td>\n",
       "      <td>Adventure Animation Children Comedy Fantasy</td>\n",
       "      <td>45117</td>\n",
       "      <td>4.0</td>\n",
       "      <td>1442256969</td>\n",
       "      <td>Tom Hanks Tim Allen Don Rickles Jim Varney Wal...</td>\n",
       "      <td>John Lasseter</td>\n",
       "      <td>81.0</td>\n",
       "      <td>$30,000,000</td>\n",
       "      <td>toy rivalry cowboy cgi animation</td>\n",
       "    </tr>\n",
       "    <tr>\n",
       "      <th>4</th>\n",
       "      <td>1</td>\n",
       "      <td>Toy Story (1995)</td>\n",
       "      <td>Adventure Animation Children Comedy Fantasy</td>\n",
       "      <td>27431</td>\n",
       "      <td>5.0</td>\n",
       "      <td>849667827</td>\n",
       "      <td>Tom Hanks Tim Allen Don Rickles Jim Varney Wal...</td>\n",
       "      <td>John Lasseter</td>\n",
       "      <td>81.0</td>\n",
       "      <td>$30,000,000</td>\n",
       "      <td>toy rivalry cowboy cgi animation</td>\n",
       "    </tr>\n",
       "    <tr>\n",
       "      <th>5</th>\n",
       "      <td>1</td>\n",
       "      <td>Toy Story (1995)</td>\n",
       "      <td>Adventure Animation Children Comedy Fantasy</td>\n",
       "      <td>36833</td>\n",
       "      <td>4.0</td>\n",
       "      <td>976416003</td>\n",
       "      <td>Tom Hanks Tim Allen Don Rickles Jim Varney Wal...</td>\n",
       "      <td>John Lasseter</td>\n",
       "      <td>81.0</td>\n",
       "      <td>$30,000,000</td>\n",
       "      <td>toy rivalry cowboy cgi animation</td>\n",
       "    </tr>\n",
       "    <tr>\n",
       "      <th>7</th>\n",
       "      <td>1</td>\n",
       "      <td>Toy Story (1995)</td>\n",
       "      <td>Adventure Animation Children Comedy Fantasy</td>\n",
       "      <td>101542</td>\n",
       "      <td>4.0</td>\n",
       "      <td>1039367241</td>\n",
       "      <td>Tom Hanks Tim Allen Don Rickles Jim Varney Wal...</td>\n",
       "      <td>John Lasseter</td>\n",
       "      <td>81.0</td>\n",
       "      <td>$30,000,000</td>\n",
       "      <td>toy rivalry cowboy cgi animation</td>\n",
       "    </tr>\n",
       "  </tbody>\n",
       "</table>\n",
       "</div>"
      ],
      "text/plain": [
       "   movieId             title                                       genres  \\\n",
       "0        1  Toy Story (1995)  Adventure Animation Children Comedy Fantasy   \n",
       "3        1  Toy Story (1995)  Adventure Animation Children Comedy Fantasy   \n",
       "4        1  Toy Story (1995)  Adventure Animation Children Comedy Fantasy   \n",
       "5        1  Toy Story (1995)  Adventure Animation Children Comedy Fantasy   \n",
       "7        1  Toy Story (1995)  Adventure Animation Children Comedy Fantasy   \n",
       "\n",
       "   userId  rating   timestamp  \\\n",
       "0  158849     5.0   994716786   \n",
       "3   45117     4.0  1442256969   \n",
       "4   27431     5.0   849667827   \n",
       "5   36833     4.0   976416003   \n",
       "7  101542     4.0  1039367241   \n",
       "\n",
       "                                          title_cast       director  runtime  \\\n",
       "0  Tom Hanks Tim Allen Don Rickles Jim Varney Wal...  John Lasseter     81.0   \n",
       "3  Tom Hanks Tim Allen Don Rickles Jim Varney Wal...  John Lasseter     81.0   \n",
       "4  Tom Hanks Tim Allen Don Rickles Jim Varney Wal...  John Lasseter     81.0   \n",
       "5  Tom Hanks Tim Allen Don Rickles Jim Varney Wal...  John Lasseter     81.0   \n",
       "7  Tom Hanks Tim Allen Don Rickles Jim Varney Wal...  John Lasseter     81.0   \n",
       "\n",
       "        budget                     plot_keywords  \n",
       "0  $30,000,000  toy rivalry cowboy cgi animation  \n",
       "3  $30,000,000  toy rivalry cowboy cgi animation  \n",
       "4  $30,000,000  toy rivalry cowboy cgi animation  \n",
       "5  $30,000,000  toy rivalry cowboy cgi animation  \n",
       "7  $30,000,000  toy rivalry cowboy cgi animation  "
      ]
     },
     "execution_count": 11,
     "metadata": {},
     "output_type": "execute_result"
    }
   ],
   "source": [
    "#. remove special characters\n",
    "without_outliers[\"genres\"] = without_outliers[\"genres\"].str.replace(\"|\", \" \")\n",
    "without_outliers[\"title_cast\"] = without_outliers[\"title_cast\"].str.replace(\"|\", \" \")\n",
    "without_outliers[\"plot_keywords\"] = without_outliers[\"plot_keywords\"].str.replace(\"|\", \" \")\n",
    "display(\" Movies dataset after Pre-processing ...\")\n",
    "print(\"*\" * 66)\n",
    "without_outliers.head()"
   ]
  },
  {
   "cell_type": "code",
   "execution_count": 12,
   "id": "621d0dc2",
   "metadata": {
    "execution": {
     "iopub.execute_input": "2023-01-31T06:28:00.933532Z",
     "iopub.status.busy": "2023-01-31T06:28:00.933023Z",
     "iopub.status.idle": "2023-01-31T06:28:00.939910Z",
     "shell.execute_reply": "2023-01-31T06:28:00.938575Z",
     "shell.execute_reply.started": "2023-01-31T06:28:00.933499Z"
    }
   },
   "outputs": [
    {
     "data": {
      "text/plain": [
       "6949445"
      ]
     },
     "execution_count": 12,
     "metadata": {},
     "output_type": "execute_result"
    }
   ],
   "source": [
    "len(without_outliers)"
   ]
  },
  {
   "cell_type": "markdown",
   "id": "1fe91695",
   "metadata": {},
   "source": [
    "#### 5.4 Data Imputation or Handling Nulls\n",
    "\n",
    "\n",
    "Before starting with our analytical thinking, we must evaluate and act against missing values as linear models are no robust against it. We can deal with NA’s with a few approaches and I evaluated 3 of them:\n",
    "\n",
    "Row removal: Remove the lines that have at least one NA\n",
    "\n",
    "Column Removal: Remove columns if they have more NA’s than data\n",
    "\n",
    "Imputation: Use an algorithmic approach to estimate the missing values. We can make this approach using a few techniques, such as median imputation, knn or bagged tree imputation."
   ]
  },
  {
   "cell_type": "code",
   "execution_count": null,
   "id": "fa3d502f",
   "metadata": {},
   "outputs": [],
   "source": [
    "# Fill na using imputation\n",
    "without_outliers[\"title_cast\"] = without_outliers[\"title_cast\"].fillna(\"No cast\")\n",
    "without_outliers[\"director\"] = without_outliers[\"director\"].fillna(\"No director\")\n",
    "without_outliers[\"plot_keywords\"] = without_outliers[\"plot_keywords\"].fillna(\"No plot_keywords\")\n",
    "without_outliers[\"runtime\"] = without_outliers[\"runtime\"].fillna(without_outliers[\"runtime\"].mean())\n",
    "without_outliers[\"budget\"] = without_outliers[\"budget\"].fillna(without_outliers[\"runtime\"].median())\n",
    "\n",
    "# Check to see if there are still nulls\n",
    "without_outliers.isnull().sum()"
   ]
  },
  {
   "cell_type": "markdown",
   "id": "63d070b2",
   "metadata": {},
   "source": [
    "#### 5.5 Converting text to lowercase"
   ]
  },
  {
   "cell_type": "code",
   "execution_count": 13,
   "id": "c0af9bb4",
   "metadata": {
    "execution": {
     "iopub.execute_input": "2023-01-31T06:28:01.975649Z",
     "iopub.status.busy": "2023-01-31T06:28:01.974990Z",
     "iopub.status.idle": "2023-01-31T06:28:12.246388Z",
     "shell.execute_reply": "2023-01-31T06:28:12.245231Z",
     "shell.execute_reply.started": "2023-01-31T06:28:01.975603Z"
    }
   },
   "outputs": [
    {
     "data": {
      "text/plain": [
       "' Movies dataset after Pre-processing ...'"
      ]
     },
     "metadata": {},
     "output_type": "display_data"
    },
    {
     "name": "stdout",
     "output_type": "stream",
     "text": [
      "******************************************************************\n"
     ]
    },
    {
     "data": {
      "text/html": [
       "<div>\n",
       "<style scoped>\n",
       "    .dataframe tbody tr th:only-of-type {\n",
       "        vertical-align: middle;\n",
       "    }\n",
       "\n",
       "    .dataframe tbody tr th {\n",
       "        vertical-align: top;\n",
       "    }\n",
       "\n",
       "    .dataframe thead th {\n",
       "        text-align: right;\n",
       "    }\n",
       "</style>\n",
       "<table border=\"1\" class=\"dataframe\">\n",
       "  <thead>\n",
       "    <tr style=\"text-align: right;\">\n",
       "      <th></th>\n",
       "      <th>movieId</th>\n",
       "      <th>title</th>\n",
       "      <th>genres</th>\n",
       "      <th>userId</th>\n",
       "      <th>rating</th>\n",
       "      <th>timestamp</th>\n",
       "      <th>title_cast</th>\n",
       "      <th>director</th>\n",
       "      <th>runtime</th>\n",
       "      <th>budget</th>\n",
       "      <th>plot_keywords</th>\n",
       "    </tr>\n",
       "  </thead>\n",
       "  <tbody>\n",
       "    <tr>\n",
       "      <th>0</th>\n",
       "      <td>1</td>\n",
       "      <td>toy story (1995)</td>\n",
       "      <td>adventure animation children comedy fantasy</td>\n",
       "      <td>158849</td>\n",
       "      <td>5.0</td>\n",
       "      <td>994716786</td>\n",
       "      <td>tom hanks tim allen don rickles jim varney wal...</td>\n",
       "      <td>John Lasseter</td>\n",
       "      <td>81.0</td>\n",
       "      <td>$30,000,000</td>\n",
       "      <td>toy rivalry cowboy cgi animation</td>\n",
       "    </tr>\n",
       "    <tr>\n",
       "      <th>3</th>\n",
       "      <td>1</td>\n",
       "      <td>toy story (1995)</td>\n",
       "      <td>adventure animation children comedy fantasy</td>\n",
       "      <td>45117</td>\n",
       "      <td>4.0</td>\n",
       "      <td>1442256969</td>\n",
       "      <td>tom hanks tim allen don rickles jim varney wal...</td>\n",
       "      <td>John Lasseter</td>\n",
       "      <td>81.0</td>\n",
       "      <td>$30,000,000</td>\n",
       "      <td>toy rivalry cowboy cgi animation</td>\n",
       "    </tr>\n",
       "    <tr>\n",
       "      <th>4</th>\n",
       "      <td>1</td>\n",
       "      <td>toy story (1995)</td>\n",
       "      <td>adventure animation children comedy fantasy</td>\n",
       "      <td>27431</td>\n",
       "      <td>5.0</td>\n",
       "      <td>849667827</td>\n",
       "      <td>tom hanks tim allen don rickles jim varney wal...</td>\n",
       "      <td>John Lasseter</td>\n",
       "      <td>81.0</td>\n",
       "      <td>$30,000,000</td>\n",
       "      <td>toy rivalry cowboy cgi animation</td>\n",
       "    </tr>\n",
       "    <tr>\n",
       "      <th>5</th>\n",
       "      <td>1</td>\n",
       "      <td>toy story (1995)</td>\n",
       "      <td>adventure animation children comedy fantasy</td>\n",
       "      <td>36833</td>\n",
       "      <td>4.0</td>\n",
       "      <td>976416003</td>\n",
       "      <td>tom hanks tim allen don rickles jim varney wal...</td>\n",
       "      <td>John Lasseter</td>\n",
       "      <td>81.0</td>\n",
       "      <td>$30,000,000</td>\n",
       "      <td>toy rivalry cowboy cgi animation</td>\n",
       "    </tr>\n",
       "    <tr>\n",
       "      <th>7</th>\n",
       "      <td>1</td>\n",
       "      <td>toy story (1995)</td>\n",
       "      <td>adventure animation children comedy fantasy</td>\n",
       "      <td>101542</td>\n",
       "      <td>4.0</td>\n",
       "      <td>1039367241</td>\n",
       "      <td>tom hanks tim allen don rickles jim varney wal...</td>\n",
       "      <td>John Lasseter</td>\n",
       "      <td>81.0</td>\n",
       "      <td>$30,000,000</td>\n",
       "      <td>toy rivalry cowboy cgi animation</td>\n",
       "    </tr>\n",
       "  </tbody>\n",
       "</table>\n",
       "</div>"
      ],
      "text/plain": [
       "   movieId             title                                       genres  \\\n",
       "0        1  toy story (1995)  adventure animation children comedy fantasy   \n",
       "3        1  toy story (1995)  adventure animation children comedy fantasy   \n",
       "4        1  toy story (1995)  adventure animation children comedy fantasy   \n",
       "5        1  toy story (1995)  adventure animation children comedy fantasy   \n",
       "7        1  toy story (1995)  adventure animation children comedy fantasy   \n",
       "\n",
       "   userId  rating   timestamp  \\\n",
       "0  158849     5.0   994716786   \n",
       "3   45117     4.0  1442256969   \n",
       "4   27431     5.0   849667827   \n",
       "5   36833     4.0   976416003   \n",
       "7  101542     4.0  1039367241   \n",
       "\n",
       "                                          title_cast       director  runtime  \\\n",
       "0  tom hanks tim allen don rickles jim varney wal...  John Lasseter     81.0   \n",
       "3  tom hanks tim allen don rickles jim varney wal...  John Lasseter     81.0   \n",
       "4  tom hanks tim allen don rickles jim varney wal...  John Lasseter     81.0   \n",
       "5  tom hanks tim allen don rickles jim varney wal...  John Lasseter     81.0   \n",
       "7  tom hanks tim allen don rickles jim varney wal...  John Lasseter     81.0   \n",
       "\n",
       "        budget                     plot_keywords  \n",
       "0  $30,000,000  toy rivalry cowboy cgi animation  \n",
       "3  $30,000,000  toy rivalry cowboy cgi animation  \n",
       "4  $30,000,000  toy rivalry cowboy cgi animation  \n",
       "5  $30,000,000  toy rivalry cowboy cgi animation  \n",
       "7  $30,000,000  toy rivalry cowboy cgi animation  "
      ]
     },
     "execution_count": 13,
     "metadata": {},
     "output_type": "execute_result"
    }
   ],
   "source": [
    "# Convert to lowercase\n",
    "without_outliers[\"genres\"] = without_outliers[\"genres\"].str.lower()\n",
    "without_outliers[\"title_cast\"] = without_outliers[\"title_cast\"].str.lower()\n",
    "without_outliers[\"title\"] = without_outliers[\"title\"].str.lower()\n",
    "\n",
    "display(\" Movies dataset after Pre-processing ...\")\n",
    "print(\"*\" * 66)\n",
    "without_outliers.head()"
   ]
  },
  {
   "cell_type": "markdown",
   "id": "6a8f15cd",
   "metadata": {},
   "source": []
  },
  {
   "cell_type": "code",
   "execution_count": 15,
   "id": "57623a63",
   "metadata": {
    "execution": {
     "iopub.execute_input": "2023-01-31T06:28:36.177929Z",
     "iopub.status.busy": "2023-01-31T06:28:36.177515Z",
     "iopub.status.idle": "2023-01-31T06:28:41.851169Z",
     "shell.execute_reply": "2023-01-31T06:28:41.850037Z",
     "shell.execute_reply.started": "2023-01-31T06:28:36.177896Z"
    }
   },
   "outputs": [
    {
     "data": {
      "text/html": [
       "<div>\n",
       "<style scoped>\n",
       "    .dataframe tbody tr th:only-of-type {\n",
       "        vertical-align: middle;\n",
       "    }\n",
       "\n",
       "    .dataframe tbody tr th {\n",
       "        vertical-align: top;\n",
       "    }\n",
       "\n",
       "    .dataframe thead th {\n",
       "        text-align: right;\n",
       "    }\n",
       "</style>\n",
       "<table border=\"1\" class=\"dataframe\">\n",
       "  <thead>\n",
       "    <tr style=\"text-align: right;\">\n",
       "      <th></th>\n",
       "      <th>movieId</th>\n",
       "      <th>title</th>\n",
       "      <th>genres</th>\n",
       "      <th>userId</th>\n",
       "      <th>rating</th>\n",
       "      <th>timestamp</th>\n",
       "      <th>title_cast</th>\n",
       "      <th>director</th>\n",
       "      <th>runtime</th>\n",
       "      <th>budget</th>\n",
       "      <th>plot_keywords</th>\n",
       "    </tr>\n",
       "  </thead>\n",
       "  <tbody>\n",
       "    <tr>\n",
       "      <th>0</th>\n",
       "      <td>1</td>\n",
       "      <td>toy story (1995)</td>\n",
       "      <td>adventure animation children comedy fantasy</td>\n",
       "      <td>158849</td>\n",
       "      <td>5.0</td>\n",
       "      <td>994716786</td>\n",
       "      <td>tom hanks tim allen don rickles jim varney wal...</td>\n",
       "      <td>John Lasseter</td>\n",
       "      <td>81.0</td>\n",
       "      <td>30,000,000</td>\n",
       "      <td>toy rivalry cowboy cgi animation</td>\n",
       "    </tr>\n",
       "    <tr>\n",
       "      <th>3</th>\n",
       "      <td>1</td>\n",
       "      <td>toy story (1995)</td>\n",
       "      <td>adventure animation children comedy fantasy</td>\n",
       "      <td>45117</td>\n",
       "      <td>4.0</td>\n",
       "      <td>1442256969</td>\n",
       "      <td>tom hanks tim allen don rickles jim varney wal...</td>\n",
       "      <td>John Lasseter</td>\n",
       "      <td>81.0</td>\n",
       "      <td>30,000,000</td>\n",
       "      <td>toy rivalry cowboy cgi animation</td>\n",
       "    </tr>\n",
       "    <tr>\n",
       "      <th>4</th>\n",
       "      <td>1</td>\n",
       "      <td>toy story (1995)</td>\n",
       "      <td>adventure animation children comedy fantasy</td>\n",
       "      <td>27431</td>\n",
       "      <td>5.0</td>\n",
       "      <td>849667827</td>\n",
       "      <td>tom hanks tim allen don rickles jim varney wal...</td>\n",
       "      <td>John Lasseter</td>\n",
       "      <td>81.0</td>\n",
       "      <td>30,000,000</td>\n",
       "      <td>toy rivalry cowboy cgi animation</td>\n",
       "    </tr>\n",
       "    <tr>\n",
       "      <th>5</th>\n",
       "      <td>1</td>\n",
       "      <td>toy story (1995)</td>\n",
       "      <td>adventure animation children comedy fantasy</td>\n",
       "      <td>36833</td>\n",
       "      <td>4.0</td>\n",
       "      <td>976416003</td>\n",
       "      <td>tom hanks tim allen don rickles jim varney wal...</td>\n",
       "      <td>John Lasseter</td>\n",
       "      <td>81.0</td>\n",
       "      <td>30,000,000</td>\n",
       "      <td>toy rivalry cowboy cgi animation</td>\n",
       "    </tr>\n",
       "    <tr>\n",
       "      <th>7</th>\n",
       "      <td>1</td>\n",
       "      <td>toy story (1995)</td>\n",
       "      <td>adventure animation children comedy fantasy</td>\n",
       "      <td>101542</td>\n",
       "      <td>4.0</td>\n",
       "      <td>1039367241</td>\n",
       "      <td>tom hanks tim allen don rickles jim varney wal...</td>\n",
       "      <td>John Lasseter</td>\n",
       "      <td>81.0</td>\n",
       "      <td>30,000,000</td>\n",
       "      <td>toy rivalry cowboy cgi animation</td>\n",
       "    </tr>\n",
       "  </tbody>\n",
       "</table>\n",
       "</div>"
      ],
      "text/plain": [
       "   movieId             title                                       genres  \\\n",
       "0        1  toy story (1995)  adventure animation children comedy fantasy   \n",
       "3        1  toy story (1995)  adventure animation children comedy fantasy   \n",
       "4        1  toy story (1995)  adventure animation children comedy fantasy   \n",
       "5        1  toy story (1995)  adventure animation children comedy fantasy   \n",
       "7        1  toy story (1995)  adventure animation children comedy fantasy   \n",
       "\n",
       "   userId  rating   timestamp  \\\n",
       "0  158849     5.0   994716786   \n",
       "3   45117     4.0  1442256969   \n",
       "4   27431     5.0   849667827   \n",
       "5   36833     4.0   976416003   \n",
       "7  101542     4.0  1039367241   \n",
       "\n",
       "                                          title_cast       director  runtime  \\\n",
       "0  tom hanks tim allen don rickles jim varney wal...  John Lasseter     81.0   \n",
       "3  tom hanks tim allen don rickles jim varney wal...  John Lasseter     81.0   \n",
       "4  tom hanks tim allen don rickles jim varney wal...  John Lasseter     81.0   \n",
       "5  tom hanks tim allen don rickles jim varney wal...  John Lasseter     81.0   \n",
       "7  tom hanks tim allen don rickles jim varney wal...  John Lasseter     81.0   \n",
       "\n",
       "       budget                     plot_keywords  \n",
       "0  30,000,000  toy rivalry cowboy cgi animation  \n",
       "3  30,000,000  toy rivalry cowboy cgi animation  \n",
       "4  30,000,000  toy rivalry cowboy cgi animation  \n",
       "5  30,000,000  toy rivalry cowboy cgi animation  \n",
       "7  30,000,000  toy rivalry cowboy cgi animation  "
      ]
     },
     "execution_count": 15,
     "metadata": {},
     "output_type": "execute_result"
    }
   ],
   "source": [
    "# Use str.extract to extract only the numeric characters\n",
    "#without_outliers['budget'] = without_outliers['budget'].str.extract('(\\d+)')\n",
    "without_outliers['budget'] = without_outliers['budget'].str.replace('$', '')\n",
    "\n",
    "# View the budget column\n",
    "without_outliers.head()"
   ]
  },
  {
   "cell_type": "markdown",
   "id": "f2287aa3",
   "metadata": {},
   "source": [
    "#### 5.8 Engineer new features"
   ]
  },
  {
   "cell_type": "code",
   "execution_count": 16,
   "id": "eb5d0b31",
   "metadata": {
    "execution": {
     "iopub.execute_input": "2023-01-31T06:28:46.914165Z",
     "iopub.status.busy": "2023-01-31T06:28:46.913709Z",
     "iopub.status.idle": "2023-01-31T06:29:10.260126Z",
     "shell.execute_reply": "2023-01-31T06:29:10.258820Z",
     "shell.execute_reply.started": "2023-01-31T06:28:46.914126Z"
    }
   },
   "outputs": [
    {
     "data": {
      "text/html": [
       "<div>\n",
       "<style scoped>\n",
       "    .dataframe tbody tr th:only-of-type {\n",
       "        vertical-align: middle;\n",
       "    }\n",
       "\n",
       "    .dataframe tbody tr th {\n",
       "        vertical-align: top;\n",
       "    }\n",
       "\n",
       "    .dataframe thead th {\n",
       "        text-align: right;\n",
       "    }\n",
       "</style>\n",
       "<table border=\"1\" class=\"dataframe\">\n",
       "  <thead>\n",
       "    <tr style=\"text-align: right;\">\n",
       "      <th></th>\n",
       "      <th>userId</th>\n",
       "      <th>movieId</th>\n",
       "      <th>title</th>\n",
       "      <th>rating</th>\n",
       "      <th>genres</th>\n",
       "      <th>release_year</th>\n",
       "      <th>keyWord</th>\n",
       "      <th>director</th>\n",
       "      <th>title_cast</th>\n",
       "      <th>budget</th>\n",
       "      <th>runtime</th>\n",
       "      <th>timestamp</th>\n",
       "    </tr>\n",
       "  </thead>\n",
       "  <tbody>\n",
       "    <tr>\n",
       "      <th>0</th>\n",
       "      <td>158849</td>\n",
       "      <td>1</td>\n",
       "      <td>toy story (1995)</td>\n",
       "      <td>5.0</td>\n",
       "      <td>adventure animation children comedy fantasy</td>\n",
       "      <td>1995</td>\n",
       "      <td>adventure animation children comedy fantasytoy...</td>\n",
       "      <td>John Lasseter</td>\n",
       "      <td>tom hanks tim allen don rickles jim varney wal...</td>\n",
       "      <td>30,000,000</td>\n",
       "      <td>81.0</td>\n",
       "      <td>994716786</td>\n",
       "    </tr>\n",
       "    <tr>\n",
       "      <th>3</th>\n",
       "      <td>45117</td>\n",
       "      <td>1</td>\n",
       "      <td>toy story (1995)</td>\n",
       "      <td>4.0</td>\n",
       "      <td>adventure animation children comedy fantasy</td>\n",
       "      <td>1995</td>\n",
       "      <td>adventure animation children comedy fantasytoy...</td>\n",
       "      <td>John Lasseter</td>\n",
       "      <td>tom hanks tim allen don rickles jim varney wal...</td>\n",
       "      <td>30,000,000</td>\n",
       "      <td>81.0</td>\n",
       "      <td>1442256969</td>\n",
       "    </tr>\n",
       "    <tr>\n",
       "      <th>4</th>\n",
       "      <td>27431</td>\n",
       "      <td>1</td>\n",
       "      <td>toy story (1995)</td>\n",
       "      <td>5.0</td>\n",
       "      <td>adventure animation children comedy fantasy</td>\n",
       "      <td>1995</td>\n",
       "      <td>adventure animation children comedy fantasytoy...</td>\n",
       "      <td>John Lasseter</td>\n",
       "      <td>tom hanks tim allen don rickles jim varney wal...</td>\n",
       "      <td>30,000,000</td>\n",
       "      <td>81.0</td>\n",
       "      <td>849667827</td>\n",
       "    </tr>\n",
       "    <tr>\n",
       "      <th>5</th>\n",
       "      <td>36833</td>\n",
       "      <td>1</td>\n",
       "      <td>toy story (1995)</td>\n",
       "      <td>4.0</td>\n",
       "      <td>adventure animation children comedy fantasy</td>\n",
       "      <td>1995</td>\n",
       "      <td>adventure animation children comedy fantasytoy...</td>\n",
       "      <td>John Lasseter</td>\n",
       "      <td>tom hanks tim allen don rickles jim varney wal...</td>\n",
       "      <td>30,000,000</td>\n",
       "      <td>81.0</td>\n",
       "      <td>976416003</td>\n",
       "    </tr>\n",
       "    <tr>\n",
       "      <th>7</th>\n",
       "      <td>101542</td>\n",
       "      <td>1</td>\n",
       "      <td>toy story (1995)</td>\n",
       "      <td>4.0</td>\n",
       "      <td>adventure animation children comedy fantasy</td>\n",
       "      <td>1995</td>\n",
       "      <td>adventure animation children comedy fantasytoy...</td>\n",
       "      <td>John Lasseter</td>\n",
       "      <td>tom hanks tim allen don rickles jim varney wal...</td>\n",
       "      <td>30,000,000</td>\n",
       "      <td>81.0</td>\n",
       "      <td>1039367241</td>\n",
       "    </tr>\n",
       "  </tbody>\n",
       "</table>\n",
       "</div>"
      ],
      "text/plain": [
       "   userId  movieId             title  rating  \\\n",
       "0  158849        1  toy story (1995)     5.0   \n",
       "3   45117        1  toy story (1995)     4.0   \n",
       "4   27431        1  toy story (1995)     5.0   \n",
       "5   36833        1  toy story (1995)     4.0   \n",
       "7  101542        1  toy story (1995)     4.0   \n",
       "\n",
       "                                        genres release_year  \\\n",
       "0  adventure animation children comedy fantasy         1995   \n",
       "3  adventure animation children comedy fantasy         1995   \n",
       "4  adventure animation children comedy fantasy         1995   \n",
       "5  adventure animation children comedy fantasy         1995   \n",
       "7  adventure animation children comedy fantasy         1995   \n",
       "\n",
       "                                             keyWord       director  \\\n",
       "0  adventure animation children comedy fantasytoy...  John Lasseter   \n",
       "3  adventure animation children comedy fantasytoy...  John Lasseter   \n",
       "4  adventure animation children comedy fantasytoy...  John Lasseter   \n",
       "5  adventure animation children comedy fantasytoy...  John Lasseter   \n",
       "7  adventure animation children comedy fantasytoy...  John Lasseter   \n",
       "\n",
       "                                          title_cast      budget  runtime  \\\n",
       "0  tom hanks tim allen don rickles jim varney wal...  30,000,000     81.0   \n",
       "3  tom hanks tim allen don rickles jim varney wal...  30,000,000     81.0   \n",
       "4  tom hanks tim allen don rickles jim varney wal...  30,000,000     81.0   \n",
       "5  tom hanks tim allen don rickles jim varney wal...  30,000,000     81.0   \n",
       "7  tom hanks tim allen don rickles jim varney wal...  30,000,000     81.0   \n",
       "\n",
       "    timestamp  \n",
       "0   994716786  \n",
       "3  1442256969  \n",
       "4   849667827  \n",
       "5   976416003  \n",
       "7  1039367241  "
      ]
     },
     "execution_count": 16,
     "metadata": {},
     "output_type": "execute_result"
    }
   ],
   "source": [
    "# Create a movie year column\n",
    "without_outliers[\"release_year\"] = without_outliers['title'].str.extract(r'(\\d{4})').astype(str)\n",
    "\n",
    "# Create a keyWord column for vectorizer\n",
    "without_outliers[\"keyWord\"] = without_outliers[\"genres\"]+without_outliers[\"plot_keywords\"]\n",
    "\n",
    "# Create a final dataframe\n",
    "movies_df = without_outliers[[\"userId\",\"movieId\",\"title\",\"rating\",\n",
    "                              \"genres\",\"release_year\",\"keyWord\",\n",
    "                              \"director\",\"title_cast\",\"budget\",\n",
    "                             \"runtime\",\"timestamp\"]]\n",
    "# View the release_year and keyWords columns\n",
    "movies_df.head()"
   ]
  },
  {
   "cell_type": "markdown",
   "id": "842811bb",
   "metadata": {},
   "source": [
    "<a id=\"six\"></a>\n",
    "## 6. Splitting our data into train and test subsets\n",
    "<a class=\"anchor\" id=\"1.1\"></a>\n",
    "<a href=#cont>Back to Project Pipeline</a>\n",
    "\n",
    "The **Pareto Principle** is also called the 80/20 rule. The general point is that, in most cases, 80% of effects come from 20% of causes. So we'll split our data according to this principle."
   ]
  },
  {
   "cell_type": "code",
   "execution_count": 17,
   "id": "2a4d5c77",
   "metadata": {
    "execution": {
     "iopub.execute_input": "2023-01-31T06:31:40.150169Z",
     "iopub.status.busy": "2023-01-31T06:31:40.149692Z",
     "iopub.status.idle": "2023-01-31T06:32:05.689947Z",
     "shell.execute_reply": "2023-01-31T06:32:05.688429Z",
     "shell.execute_reply.started": "2023-01-31T06:31:40.150129Z"
    }
   },
   "outputs": [],
   "source": [
    "# The columns must correspond to user id, movie id and ratings (in that order).\n",
    "ratings_df = movies_df[['userId','movieId','rating']]\n",
    "\n",
    "# Reader is a class from the surprise library\n",
    "# It is used to specify the format of the data in the DataFrame..\n",
    "reader = Reader(rating_scale=(0.5, 5))\n",
    "\n",
    "# Load the DataFrame into the surprise library's Dataset class.\n",
    "ratings_df = Dataset.load_from_df(ratings_df, reader)\n",
    "\n",
    "# sample random trainset and testset\n",
    "# test set is made of 20% of the ratings.\n",
    "trainset, testset = train_test_split(ratings_df, test_size=0.20, random_state=42)"
   ]
  },
  {
   "cell_type": "markdown",
   "id": "8e7d47af",
   "metadata": {},
   "source": [
    "<a id=\"seven\"></a>\n",
    "## 7. Model Building\n",
    "<a class=\"anchor\" id=\"1.1\"></a>\n",
    "<a href=#cont>Back to Project Pipeline</a>\n",
    "\n",
    "---\n",
    "\n",
    "This is the place where we create the main juice. This is the place for which all data preparation was done. We have hundreds of algorithms. These algorithms are developed by various researchers and most of them are freely available for our implementation.During model creation, we need to develop different models with different sets of hyperparameters. For model development, we need the following steps.\n",
    "\n",
    "* Select an algorithm and create multiple models with their default hyperparameters.\n",
    "* Establish metrics for model performance. Model performance metrics can be RMSE, MSE, f1_score, etc.\n",
    "* create multiple models with a winning algorithm and fine tune hyperparameters.\n",
    "* Check the model performance on the ratings dataset.\n",
    "\n",
    "<img src=\"https://imgs.search.brave.com/kvRbwXzThu7jN1wyZvQAlCG3OZm2LBm3kEqGkrE5Vo/rs:fit:1024:683:1/g:ce/aHR0cHM6Ly93d3cu/aW50YWNzLmNvbS93/cC1jb250ZW50L3Vw/bG9hZHMvMjAyMC8x/MC9idWlsZC1jdXN0/b20tbW9kZWxzLXdp/dGgtYXp1cmUtbWFj/aGluZS1sZWFybmlu/Zy1kZXNpZ25lci0x/MDI0eDY4My5qcGc\" width=\"500\" >\n",
    "\n",
    " We'll make use of the following models to train and test the dataset;\n",
    "\n",
    "* KNNBasic\n",
    "* KNNMeans\n",
    "* KNNWithZScore\n",
    "* SVD\n",
    "* Baseline\n",
    "* NormalPredictor\n",
    "---"
   ]
  },
  {
   "cell_type": "markdown",
   "id": "d0d00094",
   "metadata": {},
   "source": [
    "#### Create Multiple ML Models"
   ]
  },
  {
   "cell_type": "code",
   "execution_count": null,
   "id": "68e88cde",
   "metadata": {},
   "outputs": [],
   "source": [
    "#1 Create an object instance of KNNBasic\n",
    "knn_basic_algo = KNNBasic()\n",
    "\n",
    "# train, and test \n",
    "predictions = knn_basic_algo.fit(trainset).test(testset)"
   ]
  },
  {
   "cell_type": "code",
   "execution_count": 90,
   "id": "dfaeed61",
   "metadata": {},
   "outputs": [
    {
     "name": "stdout",
     "output_type": "stream",
     "text": [
      "Computing the msd similarity matrix...\n",
      "\n",
      "\n",
      "\n",
      "Done computing similarity matrix.\n"
     ]
    }
   ],
   "source": [
    "#2 Create an object instance of KNNMeans\n",
    "knn_means_algo = KNNWithMeans()\n",
    "\n",
    "# train and test algorithm.\n",
    "predictions = knn_means_algo.fit(trainset).test(testset)\n",
    "#predictions = knn_means_algo.fit(trainset)"
   ]
  },
  {
   "cell_type": "code",
   "execution_count": 16,
   "id": "aa753d34",
   "metadata": {},
   "outputs": [
    {
     "name": "stdout",
     "output_type": "stream",
     "text": [
      "Computing the msd similarity matrix...\n",
      "\n",
      "\n",
      "\n",
      "Done computing similarity matrix.\n"
     ]
    }
   ],
   "source": [
    "#3 Create an object instance of KNNWithZScore\n",
    "knn_zscore_algo = KNNWithZScore()\n",
    "\n",
    "# train and test algorithm.\n",
    "predictions = knn_zscore_algo.fit(trainset).test(testset)"
   ]
  },
  {
   "cell_type": "code",
   "execution_count": 18,
   "id": "becbf4a4",
   "metadata": {
    "execution": {
     "iopub.execute_input": "2023-01-31T06:32:18.541062Z",
     "iopub.status.busy": "2023-01-31T06:32:18.540633Z",
     "iopub.status.idle": "2023-01-31T06:39:38.577792Z",
     "shell.execute_reply": "2023-01-31T06:39:38.576579Z",
     "shell.execute_reply.started": "2023-01-31T06:32:18.541024Z"
    }
   },
   "outputs": [],
   "source": [
    "#4. Create an object instance of SVD algo\n",
    "svd_algo = SVD()\n",
    "#svd_algo = SVD(n_factors = 100 , lr_all = 0.005 , reg_all = 0.02 , n_epochs = 10 , init_std_dev = 0.05)\n",
    "\n",
    "# train and test algorithm.\n",
    "predictions = svd_algo.fit(trainset).test(testset)\n",
    "#predictions = svd_algo.fit(trainset)"
   ]
  },
  {
   "cell_type": "code",
   "execution_count": 41,
   "id": "3d03bfb2",
   "metadata": {
    "execution": {
     "iopub.execute_input": "2023-01-29T15:55:13.826861Z",
     "iopub.status.busy": "2023-01-29T15:55:13.826465Z",
     "iopub.status.idle": "2023-01-29T15:55:57.200609Z",
     "shell.execute_reply": "2023-01-29T15:55:57.199458Z",
     "shell.execute_reply.started": "2023-01-29T15:55:13.826831Z"
    }
   },
   "outputs": [
    {
     "name": "stdout",
     "output_type": "stream",
     "text": [
      "Estimating biases using als...\n"
     ]
    }
   ],
   "source": [
    "#5 Create an object instance of baselineOnly\n",
    "baseline_algo = BaselineOnly()\n",
    "\n",
    "# train and test algorithm.\n",
    "predictions = baseline_algo.fit(trainset).test(testset)"
   ]
  },
  {
   "cell_type": "code",
   "execution_count": 22,
   "id": "5848809d",
   "metadata": {},
   "outputs": [],
   "source": [
    "#6 Create an object instance of NormalPredictor\n",
    "norm_pred_algo = NormalPredictor()\n",
    "\n",
    "# train and test algorithm.\n",
    "predictions = norm_pred_algo.fit(trainset).test(testset)"
   ]
  },
  {
   "cell_type": "markdown",
   "id": "a07a73dd",
   "metadata": {},
   "source": [
    "<a id=\"eight\"></a>\n",
    "## 8. Model Performance\n",
    "<a class=\"anchor\" id=\"1.1\"></a>\n",
    "<a href=#cont>Back to Project Pipeline</a>\n",
    "\n",
    "\n",
    "<img src=\"https://imgs.search.brave.com/43umOrkBjx31omvA7djaPP7q95QPROyX4XIcXZreQGM/rs:fit:676:403:1/g:ce/aHR0cHM6Ly9jZG4u/c2hvcGlmeS5jb20v/cy9maWxlcy8xLzA3/MTQvNTA2MS9wcm9k/dWN0cy9UUFRFLTEw/MDMtVFAtTW9kZWxf/em9vbV81ODB4QDJ4/LmpwZz92PTE0MTg2/Mjg3MTM\" width=\"400\">\n",
    "\n",
    "---\n",
    "\n",
    "The metric used to evaluate the performance of the various models is ;\n",
    "\n",
    "* Root Mean Square Error\n",
    "\n",
    "#### Root Mean Squared Error (RMSE)\n",
    "\n",
    "RMSE is commonly used as a performance metric for recommendation systems because it allows for the comparison of predictions to the actual ratings. It is a measure of the difference between the predicted ratings and the actual ratings. In a recommendation system, the goal is to predict the ratings that a user would give to an item, and the RMSE is a way to measure how well the model is doing at making these predictions.\n",
    "\n",
    "While RMSE is commonly used in regression problems, it can also be used in unsupervised learning tasks such as recommendation systems. This is because even though the task is unsupervised, there is still a notion of ground truth or real value, which is the actual rating given by the user. Therefore, using the RMSE allows to evaluate the accuracy of the predicted ratings against the true ratings, regardless of the task being supervised or unsupervised."
   ]
  },
  {
   "cell_type": "markdown",
   "id": "ef3305b2",
   "metadata": {},
   "source": [
    "### 8.1.  Assessing Model Performance using RMSE \n",
    "\n",
    "* Calculate the scores for the 6 models and display on a graph"
   ]
  },
  {
   "cell_type": "code",
   "execution_count": 79,
   "id": "b80bce67",
   "metadata": {
    "execution": {
     "iopub.execute_input": "2023-01-25T05:03:06.447151Z",
     "iopub.status.busy": "2023-01-25T05:03:06.446705Z",
     "iopub.status.idle": "2023-01-25T05:03:08.369286Z",
     "shell.execute_reply": "2023-01-25T05:03:08.368019Z",
     "shell.execute_reply.started": "2023-01-25T05:03:06.447115Z"
    }
   },
   "outputs": [
    {
     "name": "stdout",
     "output_type": "stream",
     "text": [
      "RMSE: 0.9672\n"
     ]
    }
   ],
   "source": [
    "# Calculate KNN RMSE\n",
    "knn_rmse = accuracy.rmse(predictions)"
   ]
  },
  {
   "cell_type": "code",
   "execution_count": 91,
   "id": "b3476dbc",
   "metadata": {},
   "outputs": [
    {
     "name": "stdout",
     "output_type": "stream",
     "text": [
      "RMSE: 0.9227\n"
     ]
    }
   ],
   "source": [
    "# Calculate KNNMeans RMSE\n",
    "kmeans_rmse = accuracy.rmse(predictions)"
   ]
  },
  {
   "cell_type": "code",
   "execution_count": 17,
   "id": "4fb3f92c",
   "metadata": {},
   "outputs": [
    {
     "name": "stdout",
     "output_type": "stream",
     "text": [
      "RMSE: 0.9235\n"
     ]
    }
   ],
   "source": [
    "# Calculate Knn Zscore RMSE\n",
    "knn_zscore_rmse = accuracy.rmse(predictions)"
   ]
  },
  {
   "cell_type": "code",
   "execution_count": 19,
   "id": "2cc37631",
   "metadata": {
    "execution": {
     "iopub.execute_input": "2023-01-31T06:39:38.579708Z",
     "iopub.status.busy": "2023-01-31T06:39:38.579411Z",
     "iopub.status.idle": "2023-01-31T06:39:39.918422Z",
     "shell.execute_reply": "2023-01-31T06:39:39.917347Z",
     "shell.execute_reply.started": "2023-01-31T06:39:38.579681Z"
    }
   },
   "outputs": [
    {
     "name": "stdout",
     "output_type": "stream",
     "text": [
      "RMSE: 0.7078\n"
     ]
    }
   ],
   "source": [
    "# Calculate SVD RMSE\n",
    "svd_rmse = accuracy.rmse(predictions)"
   ]
  },
  {
   "cell_type": "code",
   "execution_count": 42,
   "id": "97c35eb7",
   "metadata": {
    "execution": {
     "iopub.execute_input": "2023-01-29T15:55:57.203374Z",
     "iopub.status.busy": "2023-01-29T15:55:57.202950Z",
     "iopub.status.idle": "2023-01-29T15:55:58.736560Z",
     "shell.execute_reply": "2023-01-29T15:55:58.735619Z",
     "shell.execute_reply.started": "2023-01-29T15:55:57.203332Z"
    }
   },
   "outputs": [
    {
     "name": "stdout",
     "output_type": "stream",
     "text": [
      "RMSE: 0.8472\n"
     ]
    }
   ],
   "source": [
    "# Calculate Baseline RMSE\n",
    "baseline_rmse = accuracy.rmse(predictions)"
   ]
  },
  {
   "cell_type": "code",
   "execution_count": 23,
   "id": "b7fb69b3",
   "metadata": {},
   "outputs": [
    {
     "name": "stdout",
     "output_type": "stream",
     "text": [
      "RMSE: 1.4385\n"
     ]
    }
   ],
   "source": [
    "# Calculate NormalPredictor RMSE\n",
    "norm_rmse = accuracy.rmse(predictions)"
   ]
  },
  {
   "cell_type": "markdown",
   "id": "d3f39d13",
   "metadata": {},
   "source": [
    "### 8.2. Let's visualize the scores on a bar chart\n",
    "\n",
    "* Specifically, one can use the bar() function to create a bar plot, and the colors parameter can be used to specify different colors for each bar"
   ]
  },
  {
   "cell_type": "code",
   "execution_count": 48,
   "id": "95373fa8",
   "metadata": {},
   "outputs": [
    {
     "data": {
      "text/html": [
       "<div>\n",
       "<style scoped>\n",
       "    .dataframe tbody tr th:only-of-type {\n",
       "        vertical-align: middle;\n",
       "    }\n",
       "\n",
       "    .dataframe tbody tr th {\n",
       "        vertical-align: top;\n",
       "    }\n",
       "\n",
       "    .dataframe thead th {\n",
       "        text-align: right;\n",
       "    }\n",
       "</style>\n",
       "<table border=\"1\" class=\"dataframe\">\n",
       "  <thead>\n",
       "    <tr style=\"text-align: right;\">\n",
       "      <th></th>\n",
       "      <th>Model</th>\n",
       "      <th>RMSE</th>\n",
       "    </tr>\n",
       "  </thead>\n",
       "  <tbody>\n",
       "    <tr>\n",
       "      <th>0</th>\n",
       "      <td>KNN</td>\n",
       "      <td>0.967152</td>\n",
       "    </tr>\n",
       "    <tr>\n",
       "      <th>1</th>\n",
       "      <td>Kmeans</td>\n",
       "      <td>0.922746</td>\n",
       "    </tr>\n",
       "    <tr>\n",
       "      <th>2</th>\n",
       "      <td>KZScore</td>\n",
       "      <td>0.923505</td>\n",
       "    </tr>\n",
       "    <tr>\n",
       "      <th>3</th>\n",
       "      <td>SVD</td>\n",
       "      <td>0.902605</td>\n",
       "    </tr>\n",
       "    <tr>\n",
       "      <th>4</th>\n",
       "      <td>Baseline</td>\n",
       "      <td>0.898946</td>\n",
       "    </tr>\n",
       "    <tr>\n",
       "      <th>5</th>\n",
       "      <td>NormalPredictor</td>\n",
       "      <td>1.438525</td>\n",
       "    </tr>\n",
       "  </tbody>\n",
       "</table>\n",
       "</div>"
      ],
      "text/plain": [
       "             Model      RMSE\n",
       "0              KNN  0.967152\n",
       "1           Kmeans  0.922746\n",
       "2          KZScore  0.923505\n",
       "3              SVD  0.902605\n",
       "4         Baseline  0.898946\n",
       "5  NormalPredictor  1.438525"
      ]
     },
     "execution_count": 48,
     "metadata": {},
     "output_type": "execute_result"
    }
   ],
   "source": [
    "# Next, create a pandas DataFrame containing the RMSE scores for each model.    \n",
    "  rmse_dict = {\n",
    "    \"Model\": [\"KNN\", \"Kmeans\", \"KZScore\", \"SVD\", \"Baseline\", \"NormalPredictor\"],\n",
    "    \"RMSE\": [knn_rmse, kmeans_rmse, knn_zscore_rmse, svd_rmse, baseline_rmse, norm_rmse]\n",
    "}\n",
    "\n",
    "# Create a dataframe from dictionary\n",
    "rmse_df = pd.DataFrame(rmse_dict)\n",
    "\n",
    "# Show score\n",
    "rmse_df"
   ]
  },
  {
   "cell_type": "code",
   "execution_count": 51,
   "id": "4afee653",
   "metadata": {},
   "outputs": [
    {
     "data": {
      "image/png": "[encoded data removed]",
      "text/plain": [
       "<Figure size 1000x500 with 1 Axes>"
      ]
     },
     "metadata": {},
     "output_type": "display_data"
    }
   ],
   "source": [
    "# Create a histogram\n",
    "fig = plt.figure(figsize=(10, 5))\n",
    "ax = fig.add_subplot(111)\n",
    "\n",
    "ax.bar(rmse_dict.keys(), rmse_dict.values(), color=['r','g','b','c','m','y'])\n",
    "plt.ylabel('RMSE')\n",
    "plt.xlabel('Algorithm')\n",
    "plt.title('RMSE of different algorithms')\n",
    "plt.show()"
   ]
  },
  {
   "cell_type": "markdown",
   "id": "f7976a5b",
   "metadata": {},
   "source": [
    "<a id=\"nine\"></a>\n",
    "## 9. Model Explanations\n",
    "<a class=\"anchor\" id=\"1.1\"></a>\n",
    "<a href=#cont>Back to Project Pipeline</a>"
   ]
  },
  {
   "cell_type": "markdown",
   "id": "61113645",
   "metadata": {},
   "source": [
    "   **HOW OUR MODEL WORKS!**\n",
    "\n",
    "<img src=\"https://imgs.search.brave.com/ybiWe82h0sdQRbZJEMWV3sNRCvZHHux_rxtkuKNcVLg/rs:fit:900:604:1/g:ce/aHR0cDovL3d3dy5s/aWZlY3ljbGVpbnNp/Z2h0cy5jb20vd3At/Y29udGVudC91cGxv/YWRzLzIwMTYvMDQv/cGFydC1hbmQtZHJh/d2luZy5wbmc\" width=\"400\">\n"
   ]
  },
  {
   "cell_type": "markdown",
   "id": "36d2b426",
   "metadata": {},
   "source": [
    "#### 9.1 KNNBasic \n",
    "\n",
    "KNNMeans stands for k-Nearest Neighbors algorithm. It's a method used to recommend items to users based on their similarity to other users.\n",
    "\n",
    "It works by finding the k-number of users who are most similar to the current user, based on their past ratings of items. These similar users are called \"neighbors\". Once the neighbors are identified, the algorithm will recommend items that the neighbors have rated highly, but the current user has not yet seen.\n",
    "\n",
    "For example, let's say you are a user and you have rated several movies in the past. The algorithm will find users who have rated similar movies as you and use their ratings to recommend new movies that you haven't seen yet.\n",
    "\n",
    "It's important to note that KNNMeans is a memory-based algorithm, which means that it needs to store all the ratings in memory in order to make recommendations. This can be a problem when dealing with large datasets, but it also makes the algorithm very fast at recommending items once the neighbors are identified.\n"
   ]
  },
  {
   "cell_type": "markdown",
   "id": "3e8ffc14",
   "metadata": {},
   "source": [
    "#### 9.2 KNNZScore\n",
    "\n",
    "\n",
    "KNNZScore is a variation of the K-Nearest Neighbors (KNN) algorithm, which is used in recommendation systems. Like the standard KNN algorithm, KNNZScore finds the \"K\" nearest users or items to a given item or user, and uses their ratings to make a prediction. However, in KNNZScore, the ratings are first normalized using the Z-Score normalization method. This means that the ratings are adjusted so that they have a mean of 0 and a standard deviation of 1. This step is done to ensure that the ratings are on the same scale and that outliers do not have a disproportionate effect on the predictions. After normalizing the ratings, the KNNZScore algorithm finds the \"K\" nearest neighbors and uses their ratings to make a prediction for the given item or user. It's a simple but effective approach for making recommendations."
   ]
  },
  {
   "cell_type": "markdown",
   "id": "b0335317",
   "metadata": {},
   "source": [
    "#### 9.3 Singular Value Decomposition (SVD)\n",
    "\n",
    "SVD is a technique that is used to break down a large matrix into smaller, simpler pieces. The idea behind this is to make it easier to understand and work with the data that is contained within that matrix.\n",
    "\n",
    "Imagine you have a big spreadsheet with a lot of information in it. It might be difficult to understand what is going on in that spreadsheet because there is so much data. With SVD, we can break that spreadsheet down into smaller pieces that are easier to understand.\n",
    "\n",
    "For example, we might take the rows of the spreadsheet and group them into smaller groups based on the information they contain. We might also take the columns of the spreadsheet and group them into smaller groups based on the information they contain. This way, instead of looking at one big spreadsheet, we are looking at multiple smaller spreadsheets that are more manageable.\n",
    "\n",
    "SVD is also used to reduce the dimensionality of the data which can help to improve the efficiency of the algorithm and also help to improve the model's generalization capabilities.\n",
    "\n",
    "In summary, SVD is a mathematical technique that helps to simplify and understand large and complex data sets by breaking them down into smaller and more manageable pieces, making it easier to understand and work with the data.\n"
   ]
  },
  {
   "cell_type": "markdown",
   "id": "574fe9ad",
   "metadata": {},
   "source": [
    "#### 9.4 BaseLine\n",
    "\n",
    "The Baseline algorithm is a simple method for making recommendations. It works by first figuring out a baseline prediction for what a user's rating for a certain item might be. This baseline prediction is based on the average ratings of similar users or items. Once the baseline prediction is established, the algorithm then adjusts this prediction based on the user's past behavior and the item's characteristics. The final prediction is then made by taking the baseline prediction and adjusting it with any additional information. This method is simple and easy to understand, and it works well in many cases, but it may not be as accurate as other more advanced algorithms."
   ]
  },
  {
   "cell_type": "markdown",
   "id": "f3bba82c",
   "metadata": {},
   "source": [
    "#### 9.5  NormalPredictor\n",
    "\n",
    "NormalPredictor is a very simple algorithm that makes predictions based on the mean of all ratings in the dataset. It doesn't take into account any other information, such as the user who made the rating or the item that was rated. It simply looks at all the ratings in the dataset, calculates the average rating, and then makes that same prediction for all new ratings. This algorithm is often used as a baseline to compare against more complex algorithms, as it gives an idea of how much improvement can be made by using more information. It is also useful in case of datasets with large amount of missing values."
   ]
  },
  {
   "cell_type": "markdown",
   "id": "b392eff9",
   "metadata": {},
   "source": [
    "<a id=\"ten\"></a>\n",
    "## 10. Movie Recommendation Functions\n",
    "<a class=\"anchor\" id=\"1.1\"></a>\n",
    "<a href=#cont>Back to Project Pipeline</a>\n",
    "\n",
    "\n",
    "This is the part where functions that will aid us make recommendations of movies are implemented. Both the collaborative based and content based filtering functions are developed in this section."
   ]
  },
  {
   "cell_type": "markdown",
   "id": "12d12502",
   "metadata": {},
   "source": [
    "## Collaborative Based Filtering Functions"
   ]
  },
  {
   "cell_type": "code",
   "execution_count": 10,
   "id": "41e79002",
   "metadata": {},
   "outputs": [],
   "source": [
    "def prediction_item(item_id):\n",
    "    \"\"\"Map a given favourite movie to users within the\n",
    "       MovieLens dataset with the same preference.\n",
    "\n",
    "    Parameters\n",
    "    ----------\n",
    "    item_id : int\n",
    "        A MovieLens Movie ID.\n",
    "\n",
    "    Returns\n",
    "    -------\n",
    "    list\n",
    "        User IDs of users with similar high ratings for the given movie.\n",
    "        Predicted high ratings similar for the given movie.\n",
    "\n",
    "    \"\"\"\n",
    "    # Data preprosessing\n",
    "    reader = Reader(rating_scale=(0.5, 5))\n",
    "    load_df = Dataset.load_from_df(ratings_df,reader)\n",
    "    a_train = load_df.build_full_trainset() \n",
    "\n",
    "    predictions = []\n",
    "    for ui in a_train.all_users():\n",
    "        predictions.append(model.predict(iid=item_id,uid=ui, verbose = False))\n",
    "    return predictions\n",
    "\n",
    "\n",
    "\n",
    "\n",
    "\n",
    "def pred_movies(movie_list):\n",
    "    \"\"\"Maps the given favourite movies selected within the app to corresponding\n",
    "    users within the MovieLens dataset.\n",
    "\n",
    "    Parameters\n",
    "    ----------\n",
    "    movie_list : list\n",
    "        Three favourite movies selected by the app user.\n",
    "\n",
    "    Returns\n",
    "    -------\n",
    "    list\n",
    "        User-ID's of users with similar high ratings for each movie.\n",
    "\n",
    "    \"\"\"\n",
    "    # Store the id of users\n",
    "    id_store=[]\n",
    "    \n",
    "    # For each movie selected by a user of the app,\n",
    "    # predict a corresponding user within the dataset with the highest rating\n",
    "    for i in movie_list:\n",
    "        predictions = prediction_item(item_id = i)\n",
    "        predictions.sort(key=lambda x: x.est, reverse=True)\n",
    "        \n",
    "        # Take the top 10 user id's from each movie with highest rankings\n",
    "        for pred in predictions[:10]:\n",
    "            id_store.append(pred.uid)\n",
    "            \n",
    "    # Return a list of user id's\n",
    "    return id_store\n",
    "\n",
    "\n",
    "\n",
    "\n",
    "def collab_model(movie_list,top_n=10):\n",
    "\n",
    "    indices = pd.Series(movies_df['title'])\n",
    "    movie_ids = pred_movies(movie_list)\n",
    "    df_init_users = ratings_df[ratings_df['userId']==movie_ids[0]]\n",
    "    for i in movie_ids :\n",
    "        df_init_users=df_init_users.append(ratings_df[ratings_df['userId']==i])\n",
    "        \n",
    "    # Getting the cosine similarity matrix\n",
    "    cosine_sim = cosine_similarity(np.array(df_init_users), np.array(df_init_users))\n",
    "    \n",
    "    # Getting the index of the movies that match the title\n",
    "    idx_list = [indices[indices == movie].index[0] for movie in movie_list]\n",
    "    \n",
    "    # Creating a Series with the similarity scores in descending order\n",
    "    score_series_list = [pd.Series(cosine_sim[idx]).sort_values(ascending = False) for idx in idx_list]\n",
    "    \n",
    "    # Appending the names of movies\n",
    "    listings = pd.concat(score_series_list).sort_values(ascending = False)\n",
    "    \n",
    "    # Create empty list to store movie names\n",
    "    recommended_movies = []\n",
    "    \n",
    "    # Choose top 50\n",
    "    top_50_indexes = list(listings.iloc[1:50].index)\n",
    "    \n",
    "    # Removing chosen movies\n",
    "    top_indexes = np.setdiff1d(top_50_indexes,[idx_list])  # [idx_1,idx_2,idx_3]\n",
    "    for i in top_indexes[:top_n]:\n",
    "        recommended_movies.append(list(movies_df['title'])[i])\n",
    "    return recommended_movies"
   ]
  },
  {
   "cell_type": "markdown",
   "id": "75c88c6b",
   "metadata": {},
   "source": [
    "## Content Based Filtering Functions"
   ]
  },
  {
   "cell_type": "code",
   "execution_count": 5,
   "id": "5dc00877",
   "metadata": {
    "execution": {
     "iopub.execute_input": "2023-01-31T21:10:40.966653Z",
     "iopub.status.busy": "2023-01-31T21:10:40.966341Z",
     "iopub.status.idle": "2023-01-31T21:10:40.979379Z",
     "shell.execute_reply": "2023-01-31T21:10:40.977959Z",
     "shell.execute_reply.started": "2023-01-31T21:10:40.966630Z"
    }
   },
   "outputs": [],
   "source": [
    "def data_preprocessing(subset_size):\n",
    "    \"\"\"Prepare data for use within Content filtering algorithm.\n",
    "\n",
    "    Parameters\n",
    "    ----------\n",
    "    subset_size : int\n",
    "        Number of movies to use within the algorithm.\n",
    "\n",
    "    Returns\n",
    "    -------\n",
    "    Pandas Dataframe\n",
    "        Subset of movies selected for content-based filtering.\n",
    "\n",
    "    \"\"\"\n",
    "    # Subset of the data\n",
    "    movies_subset = movies_df.loc[:subset_size]\n",
    "    \n",
    "    # Split genre data into individual words.\n",
    "    movies_subset[\"keyWords\"] = movies_subset[\"genres\"].str.replace(\"|\", \" \")\n",
    "    movies_subset[\"keyWords\"] = movies_subset[\"keyWords\"].str.lower()\n",
    "    \n",
    "    return movies_subset\n",
    "\n",
    "\n",
    "\n",
    "def content_model(movie_list,top_n=10):\n",
    "    \"\"\"Performs Content filtering based upon a list of movies supplied\n",
    "       by the app user.\n",
    "\n",
    "    Parameters\n",
    "    ----------\n",
    "    movie_list : list (str)\n",
    "        Favorite movies chosen by the app user.\n",
    "    top_n : type\n",
    "        Number of top recommendations to return to the user.\n",
    "\n",
    "    Returns\n",
    "    -------\n",
    "    list (str)\n",
    "        Titles of the top-n movie recommendations to the user.\n",
    "\n",
    "    \"\"\"\n",
    "    # process a subset of the dataframe\n",
    "    data = data_preprocessing(27000)\n",
    "    \n",
    "    # Instantiating and generating the count matrix\n",
    "    count_vec = CountVectorizer()\n",
    "    count_matrix = count_vec.fit_transform(data['keyWords'])\n",
    "    cosine_sim = cosine_similarity(count_matrix, count_matrix)\n",
    "    indices = pd.Series(data['title'])\n",
    "    \n",
    "\n",
    "    # Getting the index of the movies that match the title\n",
    "    idx_list = [indices[indices == movie].index[0] for movie in movie_list]\n",
    "    \n",
    "    # Creating a Series with the similarity scores in descending order\n",
    "    score_series_list = [pd.Series(cosine_sim[idx]).sort_values(ascending = False) for idx in idx_list]\n",
    "    \n",
    "    # Appending the names of movies\n",
    "    listings = pd.concat(score_series_list).sort_values(ascending = False)\n",
    "\n",
    "    # Create empty list to store movie names\n",
    "    recommended_movies = []\n",
    "    \n",
    "    # Appending the names of movies\n",
    "    top_50_indexes = list(listings.iloc[1:50].index)\n",
    "\n",
    "    # Removing chosen movies\n",
    "    top_indexes = np.setdiff1d(top_50_indexes,idx_list)\n",
    "\n",
    "    for i in top_indexes[:top_n]:\n",
    "        recommended_movies.append(list(movies_df['title'])[i])\n",
    "    return recommended_movies\n"
   ]
  },
  {
   "cell_type": "markdown",
   "id": "2daf7545",
   "metadata": {},
   "source": [
    "## Main Script : Make Recommendations Here"
   ]
  },
  {
   "cell_type": "code",
   "execution_count": 6,
   "id": "3dca1920",
   "metadata": {
    "execution": {
     "iopub.execute_input": "2023-01-31T21:10:45.862810Z",
     "iopub.status.busy": "2023-01-31T21:10:45.862450Z",
     "iopub.status.idle": "2023-01-31T21:10:46.081465Z",
     "shell.execute_reply": "2023-01-31T21:10:46.080286Z",
     "shell.execute_reply.started": "2023-01-31T21:10:45.862785Z"
    }
   },
   "outputs": [
    {
     "ename": "NameError",
     "evalue": "name 'pickle' is not defined",
     "output_type": "error",
     "traceback": [
      "\u001b[0;31m---------------------------------------------------------------------------\u001b[0m",
      "\u001b[0;31mNameError\u001b[0m                                 Traceback (most recent call last)",
      "\u001b[0;32m/tmp/ipykernel_27/578345781.py\u001b[0m in \u001b[0;36m<module>\u001b[0;34m\u001b[0m\n\u001b[1;32m      8\u001b[0m \u001b[0;34m\u001b[0m\u001b[0m\n\u001b[1;32m      9\u001b[0m \u001b[0;31m# Load SVD pickle model trained on a subset of the movies dataset\u001b[0m\u001b[0;34m\u001b[0m\u001b[0;34m\u001b[0m\u001b[0;34m\u001b[0m\u001b[0m\n\u001b[0;32m---> 10\u001b[0;31m \u001b[0mmodel\u001b[0m\u001b[0;34m=\u001b[0m\u001b[0mpickle\u001b[0m\u001b[0;34m.\u001b[0m\u001b[0mload\u001b[0m\u001b[0;34m(\u001b[0m\u001b[0mopen\u001b[0m\u001b[0;34m(\u001b[0m\u001b[0;34m'#/kaggle/input/svd-model/SVD.pkl'\u001b[0m\u001b[0;34m,\u001b[0m \u001b[0;34m'rb'\u001b[0m\u001b[0;34m)\u001b[0m\u001b[0;34m)\u001b[0m\u001b[0;34m\u001b[0m\u001b[0;34m\u001b[0m\u001b[0m\n\u001b[0m\u001b[1;32m     11\u001b[0m \u001b[0;34m\u001b[0m\u001b[0m\n\u001b[1;32m     12\u001b[0m \u001b[0;31m# create movies list\u001b[0m\u001b[0;34m\u001b[0m\u001b[0;34m\u001b[0m\u001b[0;34m\u001b[0m\u001b[0m\n",
      "\u001b[0;31mNameError\u001b[0m: name 'pickle' is not defined"
     ]
    }
   ],
   "source": [
    "# Data Loading\n",
    "ratings_df = pd.read_csv(\"/kaggle/input/ratings-df/ratings_lit.csv\")\n",
    "ratings_df = ratings_df.drop(\"timestamp\", axis=1)\n",
    "movies_df = pd.read_csv('/kaggle/input/edsa-movie-recommendation-predict/movies.csv')\n",
    "movies_df = movies_df.dropna()\n",
    "title_list = movies_df['title'].to_list()\n",
    "\n",
    "# Load SVD pickle model trained on a subset of the movies dataset\n",
    "model=pickle.load(open('/kaggle/input/svd-model/SVD.pkl', 'rb'))\n",
    "\n",
    "# create movies list\n",
    "movie_1 = title_list[20000]  # You can change the numbers up to 27000\n",
    "movie_2 = title_list[10000]  # You can change the numbers up to 27000\n",
    "movie_3 = title_list[8000]  # You can change the numbers up to 27000\n",
    "fav_movies = [movie_1,movie_2,movie_3]\n",
    "\n",
    "option1 = 'Content Based Filtering'\n",
    "option2 = 'Collaborative Based Filtering'  \n",
    "\n",
    "choice = input(\"Select One Options from above : \")\n",
    "\n",
    "#if choice == 'Collaborative Based Filtering':\n",
    "if choice == \"option1\":\n",
    "    top_recommendations = content_model(movie_list=fav_movies, top_n=10)\n",
    "    print(\"We think you'll like:\")\n",
    "    for i,j in enumerate(top_recommendations):\n",
    "        print(str(i+1)+'. '+j)\n",
    "elif choice == \"option2\":\n",
    "    top_recommendations = collab_model(movie_list=fav_movies, top_n=10)\n",
    "    print(\"We think you'll like:\")\n",
    "    for i,j in enumerate(top_recommendations):\n",
    "        print(str(i+1)+'. '+j)\n",
    "else:\n",
    "    print(\"Oops! You've selected an invalid option!\")\n"
   ]
  },
  {
   "cell_type": "markdown",
   "id": "7063124a",
   "metadata": {},
   "source": [
    "## Kaggle Challenge Predictions "
   ]
  },
  {
   "cell_type": "code",
   "execution_count": 20,
   "id": "fcc1e134",
   "metadata": {
    "execution": {
     "iopub.execute_input": "2023-01-31T06:40:41.823151Z",
     "iopub.status.busy": "2023-01-31T06:40:41.822721Z",
     "iopub.status.idle": "2023-01-31T06:42:17.289531Z",
     "shell.execute_reply": "2023-01-31T06:42:17.288049Z",
     "shell.execute_reply.started": "2023-01-31T06:40:41.823117Z"
    }
   },
   "outputs": [],
   "source": [
    "# Load the test dataset \n",
    "test_data = pd.read_csv(\"resources/data/test.csv\")\n",
    "\n",
    "# Fill in a dummy rating of 0\n",
    "test.loc[:, 'ratings'] = 0\n",
    "\n",
    "# use load_from_df to convert the test dataframe to ...\n",
    "# ...the Dataset format required by surprise library\n",
    "test_processed = Dataset.load_from_df(test[['userId','movieId','ratings']], reader)\n",
    "\n",
    "# use train_test_split\n",
    "NA, test_set = train_test_split(test_processed, test_size=1.0, shuffle = False)\n",
    "\n",
    "# Make predictions\n",
    "predictions = svd_algo.test(test_set)\n",
    "\n",
    "# Convert test_processed to a list of tuples and ...\n",
    "# ...retrieve the est from prediction results.\n",
    "est = [round(i.est, 1) for i in predictions]\n",
    "\n",
    "# Create a dataframe for predicted ratings\n",
    "rate = pd.DataFrame(est, columns=['ratings'])\n",
    "\n",
    "# Concatenate the userId and movieId columns with '_'\n",
    "rate['Id'] = test['userId'].astype(str) + '_' + test['movieId'].astype(str)\n",
    "rate['rating'] = rate[['ratings']]\n",
    "final_rate = rate[['Id', 'rating']]\n",
    "\n",
    "# Export as .csv file for Kaggle submission\n",
    "final_rate.to_csv('svd_result.csv', index=False)"
   ]
  },
  {
   "cell_type": "markdown",
   "id": "7018a84b",
   "metadata": {},
   "source": [
    "<a id=\"eleven\"></a>\n",
    "## 11. Logging parameters on Comet\n",
    "<a class=\"anchor\" id=\"1.1\"></a>\n",
    "<a href=#cont>Back to Project Pipeline</a>"
   ]
  },
  {
   "cell_type": "markdown",
   "id": "cbd51692",
   "metadata": {},
   "source": [
    "**Create a dictionary for the data we want to log**"
   ]
  },
  {
   "cell_type": "code",
   "execution_count": 81,
   "id": "f09e2af5",
   "metadata": {
    "execution": {
     "iopub.execute_input": "2023-01-25T05:07:46.437585Z",
     "iopub.status.busy": "2023-01-25T05:07:46.437138Z",
     "iopub.status.idle": "2023-01-25T05:07:46.443954Z",
     "shell.execute_reply": "2023-01-25T05:07:46.442765Z",
     "shell.execute_reply.started": "2023-01-25T05:07:46.437549Z"
    }
   },
   "outputs": [],
   "source": [
    "params = {\"random_state\": 42,\n",
    "         \"model_type\": \"KNNBasic\",\n",
    "          \"stratify\": True\n",
    "         }\n",
    "\n",
    "metrics = {\"RMSE\": knn_rmse,\n",
    "          }"
   ]
  },
  {
   "cell_type": "code",
   "execution_count": 92,
   "id": "9006ed13",
   "metadata": {},
   "outputs": [],
   "source": [
    "params_2 = {\"random_state\": 42,\n",
    "         \"model_type\": \"KNNMeans\",\n",
    "          \"stratify\": True\n",
    "         }\n",
    "\n",
    "metrics_2 = {\"RMSE\": kmeans_rmse,\n",
    "          }"
   ]
  },
  {
   "cell_type": "code",
   "execution_count": 61,
   "id": "1b0963e0",
   "metadata": {},
   "outputs": [],
   "source": [
    "params_3 = {\"random_state\": 42,\n",
    "         \"model_type\": \"KNNZScore\",\n",
    "          \"stratify\": True\n",
    "         }\n",
    "\n",
    "metrics_3 = {\"RMSE\": knn_zscore_rmse,\n",
    "          }"
   ]
  },
  {
   "cell_type": "code",
   "execution_count": 21,
   "id": "7952e5e3",
   "metadata": {
    "execution": {
     "iopub.execute_input": "2023-01-31T06:43:05.122512Z",
     "iopub.status.busy": "2023-01-31T06:43:05.122087Z",
     "iopub.status.idle": "2023-01-31T06:43:05.128593Z",
     "shell.execute_reply": "2023-01-31T06:43:05.127484Z",
     "shell.execute_reply.started": "2023-01-31T06:43:05.122476Z"
    }
   },
   "outputs": [],
   "source": [
    "params_4 = {\"random_state\": 42,\n",
    "         \"model_type\": \"SVD\",\n",
    "          \"stratify\": True\n",
    "         }\n",
    "\n",
    "metrics_4 = {\"RMSE\": svd_rmse,\n",
    "          }"
   ]
  },
  {
   "cell_type": "code",
   "execution_count": 63,
   "id": "eb44c1ea",
   "metadata": {},
   "outputs": [],
   "source": [
    "params_5 = {\"random_state\": 42,\n",
    "         \"model_type\": \"SVD\",\n",
    "          \"stratify\": True\n",
    "         }\n",
    "\n",
    "metrics_5 = {\"RMSE\": baseline_rmse,\n",
    "          }"
   ]
  },
  {
   "cell_type": "code",
   "execution_count": 64,
   "id": "b4a6144b",
   "metadata": {},
   "outputs": [],
   "source": [
    "params_6 = {\"random_state\": 42,\n",
    "         \"model_type\": \"SVD\",\n",
    "          \"stratify\": True\n",
    "         }\n",
    "\n",
    "metrics_6 = {\"RMSE\": norm_rmse,\n",
    "          }"
   ]
  },
  {
   "cell_type": "markdown",
   "id": "e86fa315",
   "metadata": {},
   "source": [
    "**Log the parameters and result**"
   ]
  },
  {
   "cell_type": "code",
   "execution_count": 82,
   "id": "e1c29e3a",
   "metadata": {
    "execution": {
     "iopub.execute_input": "2023-01-25T05:08:25.477578Z",
     "iopub.status.busy": "2023-01-25T05:08:25.477128Z",
     "iopub.status.idle": "2023-01-25T05:08:25.485648Z",
     "shell.execute_reply": "2023-01-25T05:08:25.484291Z",
     "shell.execute_reply.started": "2023-01-25T05:08:25.477542Z"
    }
   },
   "outputs": [],
   "source": [
    "# Log of parameters for KNNBasic model\n",
    "experiment.log_parameters(params)\n",
    "experiment.log_metrics(metrics)"
   ]
  },
  {
   "cell_type": "code",
   "execution_count": 93,
   "id": "0eb3ecab",
   "metadata": {},
   "outputs": [],
   "source": [
    "# Log of parameters for KNNMeans model\n",
    "experiment.log_parameters(params_2)\n",
    "experiment.log_metrics(metrics_2)"
   ]
  },
  {
   "cell_type": "code",
   "execution_count": 67,
   "id": "b11bfe98",
   "metadata": {},
   "outputs": [],
   "source": [
    "# Log of parameters for KNNZScore model\n",
    "experiment.log_parameters(params_3)\n",
    "experiment.log_metrics(metrics_3)"
   ]
  },
  {
   "cell_type": "code",
   "execution_count": 22,
   "id": "f74ca0f0",
   "metadata": {
    "execution": {
     "iopub.execute_input": "2023-01-31T06:43:24.998954Z",
     "iopub.status.busy": "2023-01-31T06:43:24.998495Z",
     "iopub.status.idle": "2023-01-31T06:43:25.006611Z",
     "shell.execute_reply": "2023-01-31T06:43:25.005432Z",
     "shell.execute_reply.started": "2023-01-31T06:43:24.998915Z"
    }
   },
   "outputs": [],
   "source": [
    "# Log of parameters for SVD model\n",
    "experiment.log_parameters(params_4)\n",
    "experiment.log_metrics(metrics_4)"
   ]
  },
  {
   "cell_type": "code",
   "execution_count": 69,
   "id": "4f773033",
   "metadata": {},
   "outputs": [],
   "source": [
    "# Log of parameters for Baseline model\n",
    "experiment.log_parameters(params_5)\n",
    "experiment.log_metrics(metrics_5)"
   ]
  },
  {
   "cell_type": "code",
   "execution_count": 70,
   "id": "f4f2b727",
   "metadata": {},
   "outputs": [],
   "source": [
    "# Log of parameters for NormalPredictor \n",
    "experiment.log_parameters(params_6)\n",
    "experiment.log_metrics(metrics_6)"
   ]
  },
  {
   "cell_type": "markdown",
   "id": "3486d81c",
   "metadata": {},
   "source": [
    "**End experiment**"
   ]
  },
  {
   "cell_type": "code",
   "execution_count": 23,
   "id": "537d806d",
   "metadata": {
    "execution": {
     "iopub.execute_input": "2023-01-31T06:43:42.978942Z",
     "iopub.status.busy": "2023-01-31T06:43:42.978467Z",
     "iopub.status.idle": "2023-01-31T06:43:46.160237Z",
     "shell.execute_reply": "2023-01-31T06:43:46.158889Z",
     "shell.execute_reply.started": "2023-01-31T06:43:42.978905Z"
    }
   },
   "outputs": [
    {
     "name": "stderr",
     "output_type": "stream",
     "text": [
      "COMET INFO: ---------------------------\n",
      "COMET INFO: Comet.ml Experiment Summary\n",
      "COMET INFO: ---------------------------\n",
      "COMET INFO:   Data:\n",
      "COMET INFO:     display_summary_level : 1\n",
      "COMET INFO:     url                   : https://www.comet.com/jasperzeroes/movie-recommendation-system/ae4f2834b2e042338a6d205954c8e348\n",
      "COMET INFO:   Metrics:\n",
      "COMET INFO:     RMSE : 0.7078256687447229\n",
      "COMET INFO:   Parameters:\n",
      "COMET INFO:     model_type   : SVD\n",
      "COMET INFO:     random_state : 42\n",
      "COMET INFO:     stratify     : True\n",
      "COMET INFO:   Uploads:\n",
      "COMET INFO:     conda-environment-definition : 1\n",
      "COMET INFO:     conda-info                   : 1\n",
      "COMET INFO:     conda-specification          : 1\n",
      "COMET INFO:     environment details          : 1\n",
      "COMET INFO:     filename                     : 1\n",
      "COMET INFO:     installed packages           : 1\n",
      "COMET INFO:     notebook                     : 1\n",
      "COMET INFO:     os packages                  : 1\n",
      "COMET INFO:     source_code                  : 1\n",
      "COMET INFO: ---------------------------\n",
      "COMET INFO: Uploading metrics, params, and assets to Comet before program termination (may take several seconds)\n",
      "COMET INFO: The Python SDK has 3600 seconds to finish before aborting...\n"
     ]
    }
   ],
   "source": [
    "# end the expereiment\n",
    "experiment.end()"
   ]
  },
  {
   "cell_type": "markdown",
   "id": "18ebc49a",
   "metadata": {},
   "source": [
    "**Display experiment**\n",
    "\n",
    "Running experiment.display() will show you your experiments comet.ml page inside your notebook"
   ]
  },
  {
   "cell_type": "code",
   "execution_count": 97,
   "id": "f4d9434f",
   "metadata": {},
   "outputs": [],
   "source": [
    "# display the experiment\n",
    "experiment.display()"
   ]
  },
  {
   "cell_type": "markdown",
   "id": "8e36f70f",
   "metadata": {},
   "source": [
    "### Pickle four of the models for use on streamlit"
   ]
  },
  {
   "cell_type": "code",
   "execution_count": null,
   "id": "7ce53b6d",
   "metadata": {},
   "outputs": [],
   "source": [
    "# Pickle for SVD\n",
    "model_save_path = \"svd2.pkl\"\n",
    "with open(model_save_path,'wb') as file:\n",
    "    pickle.dump(svd_algo,file)\n",
    "\n",
    "\n",
    "# Pickle for LogisticRegressor\n",
    "model_save_path = \"knn_means.pkl\"\n",
    "with open(model_save_path,'wb') as file:\n",
    "    pickle.dump(knn_algo,file)\n",
    "    \n",
    "#Pickle for DecisionForest Regressor\n",
    "model_save_path = \"norm_pred.pkl\"\n",
    "with open(model_save_path,'wb') as file:\n",
    "    pickle.dump(norm_pred_algo,file)\n",
    "    \n",
    "#Pickle for DecisionForest Regressor\n",
    "model_save_path = \"baseline.pkl\"\n",
    "with open(model_save_path,'wb') as file:\n",
    "    pickle.dump(baseline_algo,file)"
   ]
  },
  {
   "cell_type": "markdown",
   "id": "cac35ca8",
   "metadata": {},
   "source": [
    "<a id=\"twelve\"></a>\n",
    "## 12. Conclusion\n",
    "<a class=\"anchor\" id=\"1.1\"></a>\n",
    "<a href=#cont>Back to Project Pipeline</a>\n",
    "\n",
    "Based on the results of the evaluation of multiple recommendation models using root mean square error (RMSE) as the performance metric, we have determined that the top-performing model is the Single Value Decomposition (SVD) model. This model demonstrated the lowest RMSE value and therefore was able to make the most accurate recommendations compared to the other models. It can be concluded that the combination of collaborative and content based filtering algorithms provides the best performance in terms of movie recommendations. This is because the algorithms address different weaknesses in the recommendation process.\n",
    "\n",
    "Collaborative filtering algorithms provide recommendations based on the preferences of users similar to the target user, while content-based filtering algorithms provide recommendations based on the characteristics of the movies themselves. By combining both approaches, the recommendations can be further improved to provide the most relevant and personalized movie recommendations for each individual user.\n",
    "\n",
    "In terms of the business value of this project, the ability to provide accurate and personalized movie recommendations can increase customer engagement and satisfaction, leading to increased revenue and customer loyalty. The implementation of a movie recommendation system can also reduce the time and effort required for users to find suitable movies, improving the overall user experience.\n",
    "\n",
    "Additionally, the use of RMSE as the evaluation metric provides a reliable and objective measure of the performance of the models, ensuring that the recommended movies are of high quality and relevant to the users. This further enhances the value of the recommendation system and its ability to contribute to the business.\n",
    "\n",
    "In conclusion, the implementation of a movie recommendation system using both collaborative and content based filtering algorithms provides a valuable tool for businesses in the entertainment industry to improve customer engagement, satisfaction, and revenue"
   ]
  },
  {
   "cell_type": "markdown",
   "id": "78edd344",
   "metadata": {},
   "source": [
    "<a id=\"thirteen\"></a>\n",
    "## 13. References\n",
    "<a class=\"anchor\" id=\"1.1\"></a>\n",
    "<a href=#cont>Back to Project Pipeline</a>\n",
    "\n",
    "1. Wikipedia contributors. (2022, December 5). Exploratory data analysis. In Wikipedia, The Free Encyclopedia. Retrieved 03:31, January 26, 2022, from https://en.wikipedia.org/w/index.php?title=Exploratory_data_analysis&oldid=1125714900\n",
    "\n",
    "2. Label Your Data, (2022, April 14). movie-recommendation-with-machine-learning by Yuliia Kniazieva. https://labelyourdata.com/articles/movie-recommendation-with-machine-learning\n",
    "\n",
    "3. Iteratorshq.com. (2022, August 16). An-introduction-recommender-systems-9-easy-examples https://www.iteratorshq.com/blog/an-introduction-recommender-systems-9-easy-examples/\n",
    "\n",
    "4. George Lawton. (2020, March 27). How to optimize hyperparameter tuning for machine learning models. https://searchenterpriseai.techtarget.com/feature/How-to-optimize-hyperparameter-tuning-for-machine-learning-mo\n",
    "\n",
    "5. RPubs. (2020, June 14). 4MovieLens Rating Prediction Project by Pradeep Kumar. https://rpubs.com/pradeep_kumar/628843\n",
    "\n",
    "6. RPubs (n.d) Regression Modelling Project: Predictions for the IMDB Ratings By Caio H. K.\n",
    "https://rstudio-pubs-static.s3.amazonaws.com/199071_adaee47e94104fb4b00a867cbaf5760b.html\n",
    "\n",
    "7.  Towards Data Science. (2017, October 5) 5 Advantages Recommendation Engines can Offer to Businesses by Maruti Techlabs. \n",
    "https://towardsdatascience.com/ensemble-methods-bagging-boosting-and-stacking-c9214a10a205\n"
   ]
  },
  {
   "cell_type": "code",
   "execution_count": null,
   "id": "caeebb7f",
   "metadata": {},
   "outputs": [],
   "source": []
  }
 ],
 "metadata": {
  "kernelspec": {
   "display_name": "Python 3 (ipykernel)",
   "language": "python",
   "name": "python3"
  },
  "language_info": {
   "codemirror_mode": {
    "name": "ipython",
    "version": 3
   },
   "file_extension": ".py",
   "mimetype": "text/x-python",
   "name": "python",
   "nbconvert_exporter": "python",
   "pygments_lexer": "ipython3",
   "version": "3.8.5"
  },
  "latex_envs": {
   "LaTeX_envs_menu_present": true,
   "autoclose": false,
   "autocomplete": true,
   "bibliofile": "biblio.bib",
   "cite_by": "apalike",
   "current_citInitial": 1,
   "eqLabelWithNumbers": true,
   "eqNumInitial": 1,
   "hotkeys": {
    "equation": "Ctrl-E",
    "itemize": "Ctrl-I"
   },
   "labels_anchors": false,
   "latex_user_defs": false,
   "report_style_numbering": false,
   "user_envs_cfg": false
  },
  "toc": {
   "base_numbering": 1,
   "nav_menu": {},
   "number_sections": true,
   "sideBar": true,
   "skip_h1_title": false,
   "title_cell": "Table of Contents",
   "title_sidebar": "Contents",
   "toc_cell": false,
   "toc_position": {},
   "toc_section_display": true,
   "toc_window_display": false
  },
  "varInspector": {
   "cols": {
    "lenName": 16,
    "lenType": 16,
    "lenVar": 40
   },
   "kernels_config": {
    "python": {
     "delete_cmd_postfix": "",
     "delete_cmd_prefix": "del ",
     "library": "var_list.py",
     "varRefreshCmd": "print(var_dic_list())"
    },
    "r": {
     "delete_cmd_postfix": ") ",
     "delete_cmd_prefix": "rm(",
     "library": "var_list.r",
     "varRefreshCmd": "cat(var_dic_list()) "
    }
   },
   "types_to_exclude": [
    "module",
    "function",
    "builtin_function_or_method",
    "instance",
    "_Feature"
   ],
   "window_display": false
  }
 },
 "nbformat": 4,
 "nbformat_minor": 5
}
